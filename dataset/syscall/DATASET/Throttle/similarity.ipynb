{
 "cells": [
  {
   "cell_type": "code",
   "execution_count": 2,
   "metadata": {},
   "outputs": [
    {
     "data": {
      "text/plain": [
       "0.9697265625"
      ]
     },
     "execution_count": 2,
     "metadata": {},
     "output_type": "execute_result"
    }
   ],
   "source": [
    "import pandas as pd\n",
    "from difflib import SequenceMatcher\n",
    "\n",
    "throttle25 = pd.read_csv('throttle25_1024.csv')\n",
    "throttle100 = pd.read_csv('throttle100_1024.csv')\n",
    "\n",
    "throttle25_list = throttle25['SYSTEM_CALL'].tolist()\n",
    "throttle100_list = throttle100['SYSTEM_CALL'].tolist()\n",
    "\n",
    "sequence_matcher = SequenceMatcher(None, throttle25_list, throttle100_list)\n",
    "similarity_ratio = sequence_matcher.ratio()\n",
    "\n",
    "similarity_ratio"
   ]
  },
  {
   "cell_type": "code",
   "execution_count": 1,
   "metadata": {},
   "outputs": [
    {
     "data": {
      "text/plain": [
       "0.11694769934266934"
      ]
     },
     "execution_count": 1,
     "metadata": {},
     "output_type": "execute_result"
    }
   ],
   "source": [
    "import pandas as pd\n",
    "from difflib import SequenceMatcher\n",
    "\n",
    "throttle25 = pd.read_csv('throttle25.csv')\n",
    "throttle100 = pd.read_csv('throttle100.csv')\n",
    "\n",
    "throttle25_list = throttle25['SYSTEM_CALL'].tolist()\n",
    "throttle100_list = throttle100['SYSTEM_CALL'].tolist()\n",
    "\n",
    "sequence_matcher = SequenceMatcher(None, throttle25_list, throttle100_list)\n",
    "similarity_ratio = sequence_matcher.ratio()\n",
    "\n",
    "similarity_ratio"
   ]
  },
  {
   "cell_type": "markdown",
   "metadata": {},
   "source": []
  }
 ],
 "metadata": {
  "kernelspec": {
   "display_name": "TF",
   "language": "python",
   "name": "python3"
  },
  "language_info": {
   "codemirror_mode": {
    "name": "ipython",
    "version": 3
   },
   "file_extension": ".py",
   "mimetype": "text/x-python",
   "name": "python",
   "nbconvert_exporter": "python",
   "pygments_lexer": "ipython3",
   "version": "3.8.16"
  }
 },
 "nbformat": 4,
 "nbformat_minor": 2
}
