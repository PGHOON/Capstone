{
 "cells": [
  {
   "cell_type": "code",
   "execution_count": 1,
   "metadata": {},
   "outputs": [],
   "source": [
    "import glob\n",
    "import re\n",
    "import pandas as pd\n",
    "\n",
    "file_paths = glob.glob('../../overhead_v2/case1/case*.txt')\n",
    "data = []\n",
    "\n",
    "for file_path in file_paths:\n",
    "    with open(file_path, 'r') as file:\n",
    "        lines = file.readlines()\n",
    "        for line in lines:\n",
    "            match = re.search(r'(\\d+시 \\d+분 \\d+초)\\s+all.*?(\\d+\\.\\d+)$', line)\n",
    "            if match:\n",
    "                time = match.group(1)\n",
    "                idle_cpu_usage = float(match.group(2))\n",
    "                data.append([time, 100 - idle_cpu_usage])\n",
    "\n",
    "df = pd.DataFrame(data, columns=['Time', 'CPU Usage'])\n",
    "csv_file_path = 'baseline.csv'\n",
    "df.to_csv(csv_file_path, index=False)\n"
   ]
  },
  {
   "cell_type": "code",
   "execution_count": 2,
   "metadata": {},
   "outputs": [],
   "source": [
    "file_paths = glob.glob('../../overhead_v2/case2/case*.txt')\n",
    "data = []\n",
    "\n",
    "for file_path in file_paths:\n",
    "    with open(file_path, 'r') as file:\n",
    "        lines = file.readlines()\n",
    "        for line in lines:\n",
    "            match = re.search(r'(\\d+시 \\d+분 \\d+초)\\s+all.*?(\\d+\\.\\d+)$', line)\n",
    "            if match:\n",
    "                time = match.group(1)\n",
    "                idle_cpu_usage = float(match.group(2))\n",
    "                data.append([time, 100 - idle_cpu_usage])\n",
    "\n",
    "df = pd.DataFrame(data, columns=['Time', 'CPU Usage'])\n",
    "csv_file_path = 'cryptoguard.csv'\n",
    "df.to_csv(csv_file_path, index=False)"
   ]
  }
 ],
 "metadata": {
  "kernelspec": {
   "display_name": "TF",
   "language": "python",
   "name": "python3"
  },
  "language_info": {
   "codemirror_mode": {
    "name": "ipython",
    "version": 3
   },
   "file_extension": ".py",
   "mimetype": "text/x-python",
   "name": "python",
   "nbconvert_exporter": "python",
   "pygments_lexer": "ipython3",
   "version": "3.8.16"
  }
 },
 "nbformat": 4,
 "nbformat_minor": 2
}
