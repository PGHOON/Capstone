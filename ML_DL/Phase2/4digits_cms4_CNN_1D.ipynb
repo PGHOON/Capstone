{
 "cells": [
  {
   "cell_type": "code",
   "execution_count": 1,
   "metadata": {},
   "outputs": [
    {
     "name": "stderr",
     "output_type": "stream",
     "text": [
      "2024-07-31 23:08:38.762944: I tensorflow/core/util/port.cc:111] oneDNN custom operations are on. You may see slightly different numerical results due to floating-point round-off errors from different computation orders. To turn them off, set the environment variable `TF_ENABLE_ONEDNN_OPTS=0`.\n",
      "2024-07-31 23:08:38.814071: E tensorflow/compiler/xla/stream_executor/cuda/cuda_dnn.cc:9360] Unable to register cuDNN factory: Attempting to register factory for plugin cuDNN when one has already been registered\n",
      "2024-07-31 23:08:38.814110: E tensorflow/compiler/xla/stream_executor/cuda/cuda_fft.cc:609] Unable to register cuFFT factory: Attempting to register factory for plugin cuFFT when one has already been registered\n",
      "2024-07-31 23:08:38.814142: E tensorflow/compiler/xla/stream_executor/cuda/cuda_blas.cc:1537] Unable to register cuBLAS factory: Attempting to register factory for plugin cuBLAS when one has already been registered\n",
      "2024-07-31 23:08:38.823148: I tensorflow/core/platform/cpu_feature_guard.cc:183] This TensorFlow binary is optimized to use available CPU instructions in performance-critical operations.\n",
      "To enable the following instructions: SSE3 SSE4.1 SSE4.2 AVX, in other operations, rebuild TensorFlow with the appropriate compiler flags.\n"
     ]
    }
   ],
   "source": [
    "from concurrent.futures import ThreadPoolExecutor, as_completed\n",
    "\n",
    "import os\n",
    "import pandas as pd\n",
    "import numpy as np\n",
    "import tensorflow as tf\n",
    "import matplotlib.pyplot as plt\n",
    "\n",
    "from multiprocessing import Pool\n",
    "from sklearn.preprocessing import StandardScaler\n",
    "\n",
    "from keras.models import Model\n",
    "from keras.optimizers import Adam\n",
    "from keras.models import load_model\n",
    "from keras.utils import to_categorical\n",
    "from keras.callbacks import ModelCheckpoint, ReduceLROnPlateau\n",
    "from keras.layers import Input, Conv1D, BatchNormalization, LeakyReLU, MaxPooling1D, GlobalAveragePooling1D, Dense, Dropout, Activation, Add, Flatten\n",
    "\n",
    "from sklearn.preprocessing import LabelEncoder\n",
    "from sklearn.model_selection import train_test_split\n",
    "from sklearn.metrics import classification_report, confusion_matrix\n",
    "\n",
    "from tensorflow.keras.callbacks import ModelCheckpoint"
   ]
  },
  {
   "cell_type": "markdown",
   "metadata": {},
   "source": [
    "# Load csv from Desktop"
   ]
  },
  {
   "cell_type": "code",
   "execution_count": 2,
   "metadata": {},
   "outputs": [],
   "source": [
    "NUM_CLASSES = 2\n",
    "CLASSES = np.array(['Legitimate', 'Suspicious'])\n",
    "DATASET_DIR = \"./\"\n",
    "VECTOR_LENGTH = 1 * 165\n",
    "\n",
    "def csvToVector(file_path):\n",
    "    data = pd.read_csv(file_path, header=None)\n",
    "    vector = data.values.flatten()\n",
    "    return vector\n",
    "\n",
    "def process_file(class_idx, file_path):\n",
    "    vector = csvToVector(file_path)\n",
    "    return (vector, class_idx)\n",
    "\n",
    "def load_data(dataset_dir):\n",
    "    X = []\n",
    "    y = []\n",
    "    subdirs = ['benign_cms4', 'malware_cms4']\n",
    "    futures = []\n",
    "\n",
    "    with ThreadPoolExecutor() as executor:\n",
    "        for class_idx, class_name in enumerate(subdirs):\n",
    "            class_dir = os.path.join(dataset_dir, class_name)\n",
    "            for file_name in os.listdir(class_dir):\n",
    "                if file_name.endswith('.csv'):\n",
    "                    file_path = os.path.join(class_dir, file_name)\n",
    "                    futures.append(executor.submit(process_file, class_idx, file_path))\n",
    "\n",
    "        for future in as_completed(futures):\n",
    "            vector, class_idx = future.result()\n",
    "            X.append(vector)\n",
    "            y.append(class_idx)\n",
    "\n",
    "    X = np.array(X)\n",
    "    y = np.array(y)\n",
    "    return X, y"
   ]
  },
  {
   "cell_type": "code",
   "execution_count": 3,
   "metadata": {},
   "outputs": [],
   "source": [
    "X, y = load_data(DATASET_DIR)"
   ]
  },
  {
   "cell_type": "code",
   "execution_count": 4,
   "metadata": {},
   "outputs": [
    {
     "name": "stdout",
     "output_type": "stream",
     "text": [
      "(4020, 165)\n",
      "(4020,)\n",
      "[[  151 11580   167 ...     4   403    11]\n",
      " [  147 10605   145 ...     0   419     0]\n",
      " [  215 12959   213 ...     4   336    12]\n",
      " ...\n",
      " [   93  9696   127 ...     0   336     0]\n",
      " [  147 11389   145 ...     0   419     0]\n",
      " [  105  9084   148 ...     0   262     0]]\n",
      "[1 0 1 ... 1 1 1]\n"
     ]
    }
   ],
   "source": [
    "print(X.shape)\n",
    "print(y.shape)\n",
    "print(X)\n",
    "print(y)"
   ]
  },
  {
   "cell_type": "markdown",
   "metadata": {},
   "source": [
    "# Train, Validation, Test Split and Nomalize"
   ]
  },
  {
   "cell_type": "code",
   "execution_count": 5,
   "metadata": {},
   "outputs": [],
   "source": [
    "X_train, X_test, y_train, y_test= train_test_split(X, y, test_size=0.3, random_state=41)\n",
    "\n",
    "X_train, X_val, y_train, y_val = train_test_split(X_train, y_train, test_size=0.2, random_state=41)\n",
    "\n",
    "X_train = X_train / 299.0\n",
    "X_val = X_val / 299.0\n",
    "X_test = X_test / 299.0\n",
    "\n",
    "y_train = to_categorical(y_train, 2)\n",
    "y_val = to_categorical(y_val, 2)\n",
    "y_test = to_categorical(y_test, 2)"
   ]
  },
  {
   "cell_type": "code",
   "execution_count": 6,
   "metadata": {},
   "outputs": [
    {
     "name": "stdout",
     "output_type": "stream",
     "text": [
      "(2251, 165)\n",
      "(1206, 165)\n",
      "(2251, 2)\n",
      "(1206, 2)\n"
     ]
    }
   ],
   "source": [
    "print(X_train.shape)\n",
    "print(X_test.shape)\n",
    "#print(X_val.shape)\n",
    "print(y_train.shape)\n",
    "print(y_test.shape)\n",
    "#print(y_val.shape)"
   ]
  },
  {
   "cell_type": "markdown",
   "metadata": {},
   "source": [
    "# 1D CNN Architecture"
   ]
  },
  {
   "cell_type": "code",
   "execution_count": 7,
   "metadata": {},
   "outputs": [
    {
     "name": "stderr",
     "output_type": "stream",
     "text": [
      "2024-07-31 23:08:55.786460: I tensorflow/core/common_runtime/gpu/gpu_device.cc:1883] Created device /job:localhost/replica:0/task:0/device:GPU:0 with 31350 MB memory:  -> device: 0, name: CUDA GPU, pci bus id: 0000:06:00.0, compute capability: 7.0\n",
      "2024-07-31 23:08:55.787007: I tensorflow/core/common_runtime/gpu/gpu_device.cc:1883] Created device /job:localhost/replica:0/task:0/device:GPU:1 with 31350 MB memory:  -> device: 1, name: CUDA GPU, pci bus id: 0000:2f:00.0, compute capability: 7.0\n",
      "2024-07-31 23:08:55.787488: I tensorflow/core/common_runtime/gpu/gpu_device.cc:1883] Created device /job:localhost/replica:0/task:0/device:GPU:2 with 31350 MB memory:  -> device: 2, name: CUDA GPU, pci bus id: 0000:86:00.0, compute capability: 7.0\n"
     ]
    }
   ],
   "source": [
    "input_layer = Input(shape=(VECTOR_LENGTH, 1))\n",
    "\n",
    "x = Conv1D(filters=32, kernel_size=3, padding='same')(input_layer)\n",
    "x = BatchNormalization()(x)\n",
    "x = LeakyReLU()(x)\n",
    "x = MaxPooling1D(pool_size=2)(x)\n",
    "\n",
    "x = Conv1D(filters=64, kernel_size=3, padding='same')(x)\n",
    "x = BatchNormalization()(x)\n",
    "x = LeakyReLU()(x)\n",
    "x = MaxPooling1D(pool_size=2)(x)\n",
    "\n",
    "x = Conv1D(filters=128, kernel_size=3, padding='same')(x)\n",
    "x = BatchNormalization()(x)\n",
    "x = LeakyReLU()(x)\n",
    "x = MaxPooling1D(pool_size=2)(x)\n",
    "\n",
    "x = Flatten()(x)\n",
    "\n",
    "x = Dense(256)(x)\n",
    "x = BatchNormalization()(x)\n",
    "x = LeakyReLU()(x)\n",
    "x = Dropout(rate=0.5)(x)\n",
    "\n",
    "x = Dense(NUM_CLASSES)(x)\n",
    "output_layer = Activation('softmax')(x)\n",
    "\n",
    "model = Model(input_layer, output_layer)\n",
    "\n",
    "opt = Adam(learning_rate=0.001)\n",
    "model.compile(loss='categorical_crossentropy', optimizer=opt, metrics=['accuracy'])"
   ]
  },
  {
   "cell_type": "code",
   "execution_count": 8,
   "metadata": {},
   "outputs": [
    {
     "name": "stdout",
     "output_type": "stream",
     "text": [
      "Model: \"model\"\n",
      "_________________________________________________________________\n",
      " Layer (type)                Output Shape              Param #   \n",
      "=================================================================\n",
      " input_1 (InputLayer)        [(None, 165, 1)]          0         \n",
      "                                                                 \n",
      " conv1d (Conv1D)             (None, 165, 32)           128       \n",
      "                                                                 \n",
      " batch_normalization (Batch  (None, 165, 32)           128       \n",
      " Normalization)                                                  \n",
      "                                                                 \n",
      " leaky_re_lu (LeakyReLU)     (None, 165, 32)           0         \n",
      "                                                                 \n",
      " max_pooling1d (MaxPooling1  (None, 82, 32)            0         \n",
      " D)                                                              \n",
      "                                                                 \n",
      " conv1d_1 (Conv1D)           (None, 82, 64)            6208      \n",
      "                                                                 \n",
      " batch_normalization_1 (Bat  (None, 82, 64)            256       \n",
      " chNormalization)                                                \n",
      "                                                                 \n",
      " leaky_re_lu_1 (LeakyReLU)   (None, 82, 64)            0         \n",
      "                                                                 \n",
      " max_pooling1d_1 (MaxPoolin  (None, 41, 64)            0         \n",
      " g1D)                                                            \n",
      "                                                                 \n",
      " conv1d_2 (Conv1D)           (None, 41, 128)           24704     \n",
      "                                                                 \n",
      " batch_normalization_2 (Bat  (None, 41, 128)           512       \n",
      " chNormalization)                                                \n",
      "                                                                 \n",
      " leaky_re_lu_2 (LeakyReLU)   (None, 41, 128)           0         \n",
      "                                                                 \n",
      " max_pooling1d_2 (MaxPoolin  (None, 20, 128)           0         \n",
      " g1D)                                                            \n",
      "                                                                 \n",
      " flatten (Flatten)           (None, 2560)              0         \n",
      "                                                                 \n",
      " dense (Dense)               (None, 256)               655616    \n",
      "                                                                 \n",
      " batch_normalization_3 (Bat  (None, 256)               1024      \n",
      " chNormalization)                                                \n",
      "                                                                 \n",
      " leaky_re_lu_3 (LeakyReLU)   (None, 256)               0         \n",
      "                                                                 \n",
      " dropout (Dropout)           (None, 256)               0         \n",
      "                                                                 \n",
      " dense_1 (Dense)             (None, 2)                 514       \n",
      "                                                                 \n",
      " activation (Activation)     (None, 2)                 0         \n",
      "                                                                 \n",
      "=================================================================\n",
      "Total params: 689090 (2.63 MB)\n",
      "Trainable params: 688130 (2.63 MB)\n",
      "Non-trainable params: 960 (3.75 KB)\n",
      "_________________________________________________________________\n"
     ]
    }
   ],
   "source": [
    "model.summary()"
   ]
  },
  {
   "cell_type": "markdown",
   "metadata": {},
   "source": [
    "# CheckPoint"
   ]
  },
  {
   "cell_type": "code",
   "execution_count": 27,
   "metadata": {},
   "outputs": [],
   "source": [
    "reduce_lr = ReduceLROnPlateau(monitor='val_loss', factor=0.5, patience=5, min_lr=0.00001)\n",
    "checkpoint = ModelCheckpoint(\n",
    "    filepath='/tmp/CMS4_CNN_1D_CheckPoint2.h5',\n",
    "    save_best_only=True,\n",
    "    monitor='val_accuracy',\n",
    "    mode='max',\n",
    "    verbose=1\n",
    ")"
   ]
  },
  {
   "cell_type": "markdown",
   "metadata": {},
   "source": [
    "# Model Training"
   ]
  },
  {
   "cell_type": "code",
   "execution_count": 28,
   "metadata": {},
   "outputs": [
    {
     "name": "stdout",
     "output_type": "stream",
     "text": [
      "Epoch 1/100\n",
      "64/71 [==========================>...] - ETA: 0s - loss: 0.0420 - accuracy: 0.9800\n",
      "Epoch 1: val_accuracy improved from -inf to 0.96625, saving model to /tmp/CMS4_CNN_1D_CheckPoint2.h5\n",
      "71/71 [==============================] - 1s 8ms/step - loss: 0.0423 - accuracy: 0.9796 - val_loss: 0.1424 - val_accuracy: 0.9663\n",
      "Epoch 2/100\n",
      "19/71 [=======>......................] - ETA: 0s - loss: 0.0385 - accuracy: 0.9836"
     ]
    },
    {
     "name": "stderr",
     "output_type": "stream",
     "text": [
      "/usr/local/lib/python3.10/dist-packages/keras/src/engine/training.py:3079: UserWarning: You are saving your model as an HDF5 file via `model.save()`. This file format is considered legacy. We recommend using instead the native Keras format, e.g. `model.save('my_model.keras')`.\n",
      "  saving_api.save_model(\n"
     ]
    },
    {
     "name": "stdout",
     "output_type": "stream",
     "text": [
      "64/71 [==========================>...] - ETA: 0s - loss: 0.0363 - accuracy: 0.9858\n",
      "Epoch 2: val_accuracy did not improve from 0.96625\n",
      "71/71 [==============================] - 0s 7ms/step - loss: 0.0379 - accuracy: 0.9858 - val_loss: 0.1705 - val_accuracy: 0.9627\n",
      "Epoch 3/100\n",
      "64/71 [==========================>...] - ETA: 0s - loss: 0.0452 - accuracy: 0.9829\n",
      "Epoch 3: val_accuracy did not improve from 0.96625\n",
      "71/71 [==============================] - 0s 7ms/step - loss: 0.0455 - accuracy: 0.9822 - val_loss: 0.1621 - val_accuracy: 0.9556\n",
      "Epoch 4/100\n",
      "64/71 [==========================>...] - ETA: 0s - loss: 0.0412 - accuracy: 0.9805\n",
      "Epoch 4: val_accuracy did not improve from 0.96625\n",
      "71/71 [==============================] - 0s 7ms/step - loss: 0.0431 - accuracy: 0.9796 - val_loss: 0.1522 - val_accuracy: 0.9574\n",
      "Epoch 5/100\n",
      "64/71 [==========================>...] - ETA: 0s - loss: 0.0390 - accuracy: 0.9829\n",
      "Epoch 5: val_accuracy did not improve from 0.96625\n",
      "71/71 [==============================] - 0s 7ms/step - loss: 0.0401 - accuracy: 0.9822 - val_loss: 0.1557 - val_accuracy: 0.9503\n",
      "Epoch 6/100\n",
      "63/71 [=========================>....] - ETA: 0s - loss: 0.0454 - accuracy: 0.9807\n",
      "Epoch 6: val_accuracy did not improve from 0.96625\n",
      "71/71 [==============================] - 0s 7ms/step - loss: 0.0434 - accuracy: 0.9818 - val_loss: 0.2687 - val_accuracy: 0.9307\n",
      "Epoch 7/100\n",
      "64/71 [==========================>...] - ETA: 0s - loss: 0.0479 - accuracy: 0.9814\n",
      "Epoch 7: val_accuracy did not improve from 0.96625\n",
      "71/71 [==============================] - 0s 7ms/step - loss: 0.0468 - accuracy: 0.9818 - val_loss: 0.1645 - val_accuracy: 0.9396\n",
      "Epoch 8/100\n",
      "64/71 [==========================>...] - ETA: 0s - loss: 0.0436 - accuracy: 0.9814\n",
      "Epoch 8: val_accuracy did not improve from 0.96625\n",
      "71/71 [==============================] - 0s 7ms/step - loss: 0.0417 - accuracy: 0.9827 - val_loss: 0.1590 - val_accuracy: 0.9627\n",
      "Epoch 9/100\n",
      "64/71 [==========================>...] - ETA: 0s - loss: 0.0419 - accuracy: 0.9814\n",
      "Epoch 9: val_accuracy did not improve from 0.96625\n",
      "71/71 [==============================] - 0s 7ms/step - loss: 0.0414 - accuracy: 0.9813 - val_loss: 0.1651 - val_accuracy: 0.9663\n",
      "Epoch 10/100\n",
      "64/71 [==========================>...] - ETA: 0s - loss: 0.0442 - accuracy: 0.9800\n",
      "Epoch 10: val_accuracy did not improve from 0.96625\n",
      "71/71 [==============================] - 0s 7ms/step - loss: 0.0454 - accuracy: 0.9787 - val_loss: 0.1469 - val_accuracy: 0.9609\n",
      "Epoch 11/100\n",
      "64/71 [==========================>...] - ETA: 0s - loss: 0.0378 - accuracy: 0.9858\n",
      "Epoch 11: val_accuracy did not improve from 0.96625\n",
      "71/71 [==============================] - 0s 7ms/step - loss: 0.0424 - accuracy: 0.9836 - val_loss: 0.1696 - val_accuracy: 0.9609\n",
      "Epoch 12/100\n",
      "64/71 [==========================>...] - ETA: 0s - loss: 0.0387 - accuracy: 0.9829\n",
      "Epoch 12: val_accuracy did not improve from 0.96625\n",
      "71/71 [==============================] - 0s 7ms/step - loss: 0.0402 - accuracy: 0.9818 - val_loss: 0.1501 - val_accuracy: 0.9609\n",
      "Epoch 13/100\n",
      "64/71 [==========================>...] - ETA: 0s - loss: 0.0439 - accuracy: 0.9790\n",
      "Epoch 13: val_accuracy did not improve from 0.96625\n",
      "71/71 [==============================] - 0s 7ms/step - loss: 0.0440 - accuracy: 0.9796 - val_loss: 0.1612 - val_accuracy: 0.9609\n",
      "Epoch 14/100\n",
      "64/71 [==========================>...] - ETA: 0s - loss: 0.0528 - accuracy: 0.9761\n",
      "Epoch 14: val_accuracy did not improve from 0.96625\n",
      "71/71 [==============================] - 0s 7ms/step - loss: 0.0519 - accuracy: 0.9769 - val_loss: 0.1509 - val_accuracy: 0.9591\n",
      "Epoch 15/100\n",
      "64/71 [==========================>...] - ETA: 0s - loss: 0.0448 - accuracy: 0.9805\n",
      "Epoch 15: val_accuracy did not improve from 0.96625\n",
      "71/71 [==============================] - 0s 7ms/step - loss: 0.0453 - accuracy: 0.9800 - val_loss: 0.1481 - val_accuracy: 0.9556\n",
      "Epoch 16/100\n",
      "64/71 [==========================>...] - ETA: 0s - loss: 0.0495 - accuracy: 0.9766\n",
      "Epoch 16: val_accuracy did not improve from 0.96625\n",
      "71/71 [==============================] - 0s 7ms/step - loss: 0.0482 - accuracy: 0.9778 - val_loss: 0.1418 - val_accuracy: 0.9556\n",
      "Epoch 17/100\n",
      "63/71 [=========================>....] - ETA: 0s - loss: 0.0416 - accuracy: 0.9816\n",
      "Epoch 17: val_accuracy did not improve from 0.96625\n",
      "71/71 [==============================] - 0s 7ms/step - loss: 0.0435 - accuracy: 0.9822 - val_loss: 0.1576 - val_accuracy: 0.9520\n",
      "Epoch 18/100\n",
      "64/71 [==========================>...] - ETA: 0s - loss: 0.0414 - accuracy: 0.9800\n",
      "Epoch 18: val_accuracy did not improve from 0.96625\n",
      "71/71 [==============================] - 0s 7ms/step - loss: 0.0454 - accuracy: 0.9787 - val_loss: 0.1659 - val_accuracy: 0.9414\n",
      "Epoch 19/100\n",
      "64/71 [==========================>...] - ETA: 0s - loss: 0.0443 - accuracy: 0.9814\n",
      "Epoch 19: val_accuracy did not improve from 0.96625\n",
      "71/71 [==============================] - 0s 7ms/step - loss: 0.0449 - accuracy: 0.9809 - val_loss: 0.1532 - val_accuracy: 0.9556\n",
      "Epoch 20/100\n",
      "64/71 [==========================>...] - ETA: 0s - loss: 0.0438 - accuracy: 0.9785\n",
      "Epoch 20: val_accuracy did not improve from 0.96625\n",
      "71/71 [==============================] - 0s 7ms/step - loss: 0.0408 - accuracy: 0.9805 - val_loss: 0.1795 - val_accuracy: 0.9574\n",
      "Epoch 21/100\n",
      "64/71 [==========================>...] - ETA: 0s - loss: 0.0481 - accuracy: 0.9775\n",
      "Epoch 21: val_accuracy did not improve from 0.96625\n",
      "71/71 [==============================] - 0s 7ms/step - loss: 0.0466 - accuracy: 0.9782 - val_loss: 0.2065 - val_accuracy: 0.9378\n",
      "Epoch 22/100\n",
      "64/71 [==========================>...] - ETA: 0s - loss: 0.0419 - accuracy: 0.9814\n",
      "Epoch 22: val_accuracy did not improve from 0.96625\n",
      "71/71 [==============================] - 0s 7ms/step - loss: 0.0415 - accuracy: 0.9818 - val_loss: 0.1420 - val_accuracy: 0.9591\n",
      "Epoch 23/100\n",
      "64/71 [==========================>...] - ETA: 0s - loss: 0.0490 - accuracy: 0.9805\n",
      "Epoch 23: val_accuracy did not improve from 0.96625\n",
      "71/71 [==============================] - 0s 7ms/step - loss: 0.0491 - accuracy: 0.9809 - val_loss: 0.1744 - val_accuracy: 0.9485\n",
      "Epoch 24/100\n",
      "64/71 [==========================>...] - ETA: 0s - loss: 0.0405 - accuracy: 0.9800\n",
      "Epoch 24: val_accuracy did not improve from 0.96625\n",
      "71/71 [==============================] - 0s 7ms/step - loss: 0.0420 - accuracy: 0.9791 - val_loss: 0.1695 - val_accuracy: 0.9520\n",
      "Epoch 25/100\n",
      "64/71 [==========================>...] - ETA: 0s - loss: 0.0462 - accuracy: 0.9790\n",
      "Epoch 25: val_accuracy did not improve from 0.96625\n",
      "71/71 [==============================] - 0s 7ms/step - loss: 0.0455 - accuracy: 0.9796 - val_loss: 0.1658 - val_accuracy: 0.9609\n",
      "Epoch 26/100\n",
      "64/71 [==========================>...] - ETA: 0s - loss: 0.0455 - accuracy: 0.9795\n",
      "Epoch 26: val_accuracy did not improve from 0.96625\n",
      "71/71 [==============================] - 0s 7ms/step - loss: 0.0454 - accuracy: 0.9796 - val_loss: 0.1751 - val_accuracy: 0.9432\n",
      "Epoch 27/100\n",
      "64/71 [==========================>...] - ETA: 0s - loss: 0.0383 - accuracy: 0.9844\n",
      "Epoch 27: val_accuracy did not improve from 0.96625\n",
      "71/71 [==============================] - 0s 7ms/step - loss: 0.0394 - accuracy: 0.9840 - val_loss: 0.1737 - val_accuracy: 0.9627\n",
      "Epoch 28/100\n",
      "64/71 [==========================>...] - ETA: 0s - loss: 0.0391 - accuracy: 0.9819\n",
      "Epoch 28: val_accuracy did not improve from 0.96625\n",
      "71/71 [==============================] - 0s 7ms/step - loss: 0.0439 - accuracy: 0.9796 - val_loss: 0.1833 - val_accuracy: 0.9503\n",
      "Epoch 29/100\n",
      "64/71 [==========================>...] - ETA: 0s - loss: 0.0422 - accuracy: 0.9819\n",
      "Epoch 29: val_accuracy did not improve from 0.96625\n",
      "71/71 [==============================] - 0s 7ms/step - loss: 0.0454 - accuracy: 0.9813 - val_loss: 0.1637 - val_accuracy: 0.9485\n",
      "Epoch 30/100\n",
      "64/71 [==========================>...] - ETA: 0s - loss: 0.0418 - accuracy: 0.9829\n",
      "Epoch 30: val_accuracy did not improve from 0.96625\n",
      "71/71 [==============================] - 0s 7ms/step - loss: 0.0443 - accuracy: 0.9818 - val_loss: 0.1781 - val_accuracy: 0.9396\n",
      "Epoch 31/100\n",
      "64/71 [==========================>...] - ETA: 0s - loss: 0.0427 - accuracy: 0.9800\n",
      "Epoch 31: val_accuracy did not improve from 0.96625\n",
      "71/71 [==============================] - 0s 7ms/step - loss: 0.0421 - accuracy: 0.9805 - val_loss: 0.1596 - val_accuracy: 0.9591\n",
      "Epoch 32/100\n",
      "64/71 [==========================>...] - ETA: 0s - loss: 0.0459 - accuracy: 0.9810\n",
      "Epoch 32: val_accuracy did not improve from 0.96625\n",
      "71/71 [==============================] - 0s 7ms/step - loss: 0.0454 - accuracy: 0.9813 - val_loss: 0.1664 - val_accuracy: 0.9396\n",
      "Epoch 33/100\n",
      "64/71 [==========================>...] - ETA: 0s - loss: 0.0350 - accuracy: 0.9858\n",
      "Epoch 33: val_accuracy did not improve from 0.96625\n",
      "71/71 [==============================] - 0s 7ms/step - loss: 0.0344 - accuracy: 0.9862 - val_loss: 0.1485 - val_accuracy: 0.9574\n",
      "Epoch 34/100\n",
      "64/71 [==========================>...] - ETA: 0s - loss: 0.0476 - accuracy: 0.9805\n",
      "Epoch 34: val_accuracy did not improve from 0.96625\n",
      "71/71 [==============================] - 0s 7ms/step - loss: 0.0466 - accuracy: 0.9805 - val_loss: 0.1653 - val_accuracy: 0.9591\n",
      "Epoch 35/100\n",
      "64/71 [==========================>...] - ETA: 0s - loss: 0.0513 - accuracy: 0.9780\n",
      "Epoch 35: val_accuracy did not improve from 0.96625\n",
      "71/71 [==============================] - 0s 7ms/step - loss: 0.0510 - accuracy: 0.9778 - val_loss: 0.1834 - val_accuracy: 0.9414\n",
      "Epoch 36/100\n",
      "64/71 [==========================>...] - ETA: 0s - loss: 0.0493 - accuracy: 0.9790\n",
      "Epoch 36: val_accuracy did not improve from 0.96625\n",
      "71/71 [==============================] - 0s 7ms/step - loss: 0.0467 - accuracy: 0.9805 - val_loss: 0.1534 - val_accuracy: 0.9467\n",
      "Epoch 37/100\n",
      "64/71 [==========================>...] - ETA: 0s - loss: 0.0436 - accuracy: 0.9834\n",
      "Epoch 37: val_accuracy did not improve from 0.96625\n",
      "71/71 [==============================] - 0s 7ms/step - loss: 0.0438 - accuracy: 0.9831 - val_loss: 0.1608 - val_accuracy: 0.9520\n",
      "Epoch 38/100\n",
      "64/71 [==========================>...] - ETA: 0s - loss: 0.0476 - accuracy: 0.9810\n",
      "Epoch 38: val_accuracy did not improve from 0.96625\n",
      "71/71 [==============================] - 0s 7ms/step - loss: 0.0441 - accuracy: 0.9827 - val_loss: 0.1830 - val_accuracy: 0.9591\n",
      "Epoch 39/100\n",
      "64/71 [==========================>...] - ETA: 0s - loss: 0.0469 - accuracy: 0.9829\n",
      "Epoch 39: val_accuracy did not improve from 0.96625\n",
      "71/71 [==============================] - 0s 7ms/step - loss: 0.0459 - accuracy: 0.9827 - val_loss: 0.1615 - val_accuracy: 0.9609\n",
      "Epoch 40/100\n",
      "64/71 [==========================>...] - ETA: 0s - loss: 0.0374 - accuracy: 0.9844\n",
      "Epoch 40: val_accuracy did not improve from 0.96625\n",
      "71/71 [==============================] - 0s 7ms/step - loss: 0.0405 - accuracy: 0.9831 - val_loss: 0.1810 - val_accuracy: 0.9591\n",
      "Epoch 41/100\n",
      "64/71 [==========================>...] - ETA: 0s - loss: 0.0491 - accuracy: 0.9795\n",
      "Epoch 41: val_accuracy did not improve from 0.96625\n",
      "71/71 [==============================] - 0s 7ms/step - loss: 0.0472 - accuracy: 0.9800 - val_loss: 0.1687 - val_accuracy: 0.9538\n",
      "Epoch 42/100\n",
      "64/71 [==========================>...] - ETA: 0s - loss: 0.0481 - accuracy: 0.9800\n",
      "Epoch 42: val_accuracy did not improve from 0.96625\n",
      "71/71 [==============================] - 0s 7ms/step - loss: 0.0483 - accuracy: 0.9800 - val_loss: 0.1601 - val_accuracy: 0.9574\n",
      "Epoch 43/100\n",
      "64/71 [==========================>...] - ETA: 0s - loss: 0.0395 - accuracy: 0.9824\n",
      "Epoch 43: val_accuracy did not improve from 0.96625\n",
      "71/71 [==============================] - 0s 7ms/step - loss: 0.0396 - accuracy: 0.9822 - val_loss: 0.1682 - val_accuracy: 0.9591\n",
      "Epoch 44/100\n",
      "64/71 [==========================>...] - ETA: 0s - loss: 0.0414 - accuracy: 0.9805\n",
      "Epoch 44: val_accuracy did not improve from 0.96625\n",
      "71/71 [==============================] - 0s 7ms/step - loss: 0.0455 - accuracy: 0.9800 - val_loss: 0.1621 - val_accuracy: 0.9520\n",
      "Epoch 45/100\n",
      "64/71 [==========================>...] - ETA: 0s - loss: 0.0484 - accuracy: 0.9795\n",
      "Epoch 45: val_accuracy did not improve from 0.96625\n",
      "71/71 [==============================] - 0s 7ms/step - loss: 0.0489 - accuracy: 0.9791 - val_loss: 0.1746 - val_accuracy: 0.9432\n",
      "Epoch 46/100\n",
      "64/71 [==========================>...] - ETA: 0s - loss: 0.0369 - accuracy: 0.9858\n",
      "Epoch 46: val_accuracy did not improve from 0.96625\n",
      "71/71 [==============================] - 0s 7ms/step - loss: 0.0366 - accuracy: 0.9867 - val_loss: 0.1728 - val_accuracy: 0.9485\n",
      "Epoch 47/100\n",
      "64/71 [==========================>...] - ETA: 0s - loss: 0.0412 - accuracy: 0.9819\n",
      "Epoch 47: val_accuracy did not improve from 0.96625\n",
      "71/71 [==============================] - 0s 7ms/step - loss: 0.0404 - accuracy: 0.9822 - val_loss: 0.1731 - val_accuracy: 0.9520\n",
      "Epoch 48/100\n",
      "64/71 [==========================>...] - ETA: 0s - loss: 0.0380 - accuracy: 0.9824\n",
      "Epoch 48: val_accuracy did not improve from 0.96625\n",
      "71/71 [==============================] - 0s 7ms/step - loss: 0.0382 - accuracy: 0.9827 - val_loss: 0.1741 - val_accuracy: 0.9574\n",
      "Epoch 49/100\n",
      "64/71 [==========================>...] - ETA: 0s - loss: 0.0391 - accuracy: 0.9858\n",
      "Epoch 49: val_accuracy did not improve from 0.96625\n",
      "71/71 [==============================] - 0s 7ms/step - loss: 0.0375 - accuracy: 0.9862 - val_loss: 0.1811 - val_accuracy: 0.9591\n",
      "Epoch 50/100\n",
      "64/71 [==========================>...] - ETA: 0s - loss: 0.0364 - accuracy: 0.9800\n",
      "Epoch 50: val_accuracy did not improve from 0.96625\n",
      "71/71 [==============================] - 0s 7ms/step - loss: 0.0373 - accuracy: 0.9800 - val_loss: 0.1660 - val_accuracy: 0.9520\n",
      "Epoch 51/100\n",
      "64/71 [==========================>...] - ETA: 0s - loss: 0.0451 - accuracy: 0.9834\n",
      "Epoch 51: val_accuracy did not improve from 0.96625\n",
      "71/71 [==============================] - 0s 7ms/step - loss: 0.0435 - accuracy: 0.9840 - val_loss: 0.1723 - val_accuracy: 0.9538\n",
      "Epoch 52/100\n",
      "64/71 [==========================>...] - ETA: 0s - loss: 0.0404 - accuracy: 0.9824\n",
      "Epoch 52: val_accuracy did not improve from 0.96625\n",
      "71/71 [==============================] - 0s 7ms/step - loss: 0.0398 - accuracy: 0.9822 - val_loss: 0.1859 - val_accuracy: 0.9520\n",
      "Epoch 53/100\n",
      "64/71 [==========================>...] - ETA: 0s - loss: 0.0434 - accuracy: 0.9829\n",
      "Epoch 53: val_accuracy did not improve from 0.96625\n",
      "71/71 [==============================] - 0s 7ms/step - loss: 0.0430 - accuracy: 0.9822 - val_loss: 0.1910 - val_accuracy: 0.9432\n",
      "Epoch 54/100\n",
      "64/71 [==========================>...] - ETA: 0s - loss: 0.0376 - accuracy: 0.9839\n",
      "Epoch 54: val_accuracy did not improve from 0.96625\n",
      "71/71 [==============================] - 0s 7ms/step - loss: 0.0372 - accuracy: 0.9849 - val_loss: 0.2009 - val_accuracy: 0.9485\n",
      "Epoch 55/100\n",
      "64/71 [==========================>...] - ETA: 0s - loss: 0.0361 - accuracy: 0.9819\n",
      "Epoch 55: val_accuracy did not improve from 0.96625\n",
      "71/71 [==============================] - 0s 7ms/step - loss: 0.0405 - accuracy: 0.9805 - val_loss: 0.1818 - val_accuracy: 0.9556\n",
      "Epoch 56/100\n",
      "64/71 [==========================>...] - ETA: 0s - loss: 0.0462 - accuracy: 0.9814\n",
      "Epoch 56: val_accuracy did not improve from 0.96625\n",
      "71/71 [==============================] - 0s 7ms/step - loss: 0.0456 - accuracy: 0.9818 - val_loss: 0.1786 - val_accuracy: 0.9520\n",
      "Epoch 57/100\n",
      "64/71 [==========================>...] - ETA: 0s - loss: 0.0395 - accuracy: 0.9824\n",
      "Epoch 57: val_accuracy did not improve from 0.96625\n",
      "71/71 [==============================] - 0s 7ms/step - loss: 0.0402 - accuracy: 0.9831 - val_loss: 0.1799 - val_accuracy: 0.9520\n",
      "Epoch 58/100\n",
      "63/71 [=========================>....] - ETA: 0s - loss: 0.0358 - accuracy: 0.9826\n",
      "Epoch 58: val_accuracy did not improve from 0.96625\n",
      "71/71 [==============================] - 0s 7ms/step - loss: 0.0354 - accuracy: 0.9827 - val_loss: 0.1786 - val_accuracy: 0.9574\n",
      "Epoch 59/100\n",
      "64/71 [==========================>...] - ETA: 0s - loss: 0.0358 - accuracy: 0.9829\n",
      "Epoch 59: val_accuracy did not improve from 0.96625\n",
      "71/71 [==============================] - 0s 7ms/step - loss: 0.0368 - accuracy: 0.9827 - val_loss: 0.1952 - val_accuracy: 0.9609\n",
      "Epoch 60/100\n",
      "64/71 [==========================>...] - ETA: 0s - loss: 0.0408 - accuracy: 0.9810\n",
      "Epoch 60: val_accuracy did not improve from 0.96625\n",
      "71/71 [==============================] - 0s 7ms/step - loss: 0.0405 - accuracy: 0.9809 - val_loss: 0.1620 - val_accuracy: 0.9574\n",
      "Epoch 61/100\n",
      "64/71 [==========================>...] - ETA: 0s - loss: 0.0399 - accuracy: 0.9814\n",
      "Epoch 61: val_accuracy did not improve from 0.96625\n",
      "71/71 [==============================] - 0s 7ms/step - loss: 0.0424 - accuracy: 0.9805 - val_loss: 0.1667 - val_accuracy: 0.9574\n",
      "Epoch 62/100\n",
      "64/71 [==========================>...] - ETA: 0s - loss: 0.0522 - accuracy: 0.9800\n",
      "Epoch 62: val_accuracy did not improve from 0.96625\n",
      "71/71 [==============================] - 0s 7ms/step - loss: 0.0505 - accuracy: 0.9805 - val_loss: 0.2136 - val_accuracy: 0.9556\n",
      "Epoch 63/100\n",
      "64/71 [==========================>...] - ETA: 0s - loss: 0.0390 - accuracy: 0.9854\n",
      "Epoch 63: val_accuracy did not improve from 0.96625\n",
      "71/71 [==============================] - 0s 7ms/step - loss: 0.0417 - accuracy: 0.9840 - val_loss: 0.1863 - val_accuracy: 0.9591\n",
      "Epoch 64/100\n",
      "64/71 [==========================>...] - ETA: 0s - loss: 0.0492 - accuracy: 0.9780\n",
      "Epoch 64: val_accuracy did not improve from 0.96625\n",
      "71/71 [==============================] - 0s 7ms/step - loss: 0.0473 - accuracy: 0.9787 - val_loss: 0.1850 - val_accuracy: 0.9627\n",
      "Epoch 65/100\n",
      "64/71 [==========================>...] - ETA: 0s - loss: 0.0417 - accuracy: 0.9829\n",
      "Epoch 65: val_accuracy did not improve from 0.96625\n",
      "71/71 [==============================] - 0s 7ms/step - loss: 0.0430 - accuracy: 0.9813 - val_loss: 0.1527 - val_accuracy: 0.9520\n",
      "Epoch 66/100\n",
      "64/71 [==========================>...] - ETA: 0s - loss: 0.0413 - accuracy: 0.9829\n",
      "Epoch 66: val_accuracy did not improve from 0.96625\n",
      "71/71 [==============================] - 0s 7ms/step - loss: 0.0410 - accuracy: 0.9831 - val_loss: 0.1899 - val_accuracy: 0.9609\n",
      "Epoch 67/100\n",
      "64/71 [==========================>...] - ETA: 0s - loss: 0.0452 - accuracy: 0.9790\n",
      "Epoch 67: val_accuracy did not improve from 0.96625\n",
      "71/71 [==============================] - 0s 7ms/step - loss: 0.0467 - accuracy: 0.9787 - val_loss: 0.1681 - val_accuracy: 0.9645\n",
      "Epoch 68/100\n",
      "64/71 [==========================>...] - ETA: 0s - loss: 0.0399 - accuracy: 0.9844\n",
      "Epoch 68: val_accuracy did not improve from 0.96625\n",
      "71/71 [==============================] - 0s 7ms/step - loss: 0.0404 - accuracy: 0.9840 - val_loss: 0.1801 - val_accuracy: 0.9520\n",
      "Epoch 69/100\n",
      "71/71 [==============================] - ETA: 0s - loss: 0.0408 - accuracy: 0.9827\n",
      "Epoch 69: val_accuracy did not improve from 0.96625\n",
      "71/71 [==============================] - 0s 7ms/step - loss: 0.0408 - accuracy: 0.9827 - val_loss: 0.1728 - val_accuracy: 0.9574\n",
      "Epoch 70/100\n",
      "64/71 [==========================>...] - ETA: 0s - loss: 0.0368 - accuracy: 0.9834\n",
      "Epoch 70: val_accuracy did not improve from 0.96625\n",
      "71/71 [==============================] - 0s 7ms/step - loss: 0.0415 - accuracy: 0.9818 - val_loss: 0.1541 - val_accuracy: 0.9574\n",
      "Epoch 71/100\n",
      "64/71 [==========================>...] - ETA: 0s - loss: 0.0348 - accuracy: 0.9863\n",
      "Epoch 71: val_accuracy did not improve from 0.96625\n",
      "71/71 [==============================] - 0s 7ms/step - loss: 0.0375 - accuracy: 0.9840 - val_loss: 0.1633 - val_accuracy: 0.9591\n",
      "Epoch 72/100\n",
      "64/71 [==========================>...] - ETA: 0s - loss: 0.0337 - accuracy: 0.9868\n",
      "Epoch 72: val_accuracy did not improve from 0.96625\n",
      "71/71 [==============================] - 0s 7ms/step - loss: 0.0335 - accuracy: 0.9858 - val_loss: 0.1798 - val_accuracy: 0.9503\n",
      "Epoch 73/100\n",
      "64/71 [==========================>...] - ETA: 0s - loss: 0.0460 - accuracy: 0.9790\n",
      "Epoch 73: val_accuracy did not improve from 0.96625\n",
      "71/71 [==============================] - 0s 7ms/step - loss: 0.0458 - accuracy: 0.9800 - val_loss: 0.1905 - val_accuracy: 0.9520\n",
      "Epoch 74/100\n",
      "64/71 [==========================>...] - ETA: 0s - loss: 0.0451 - accuracy: 0.9805\n",
      "Epoch 74: val_accuracy did not improve from 0.96625\n",
      "71/71 [==============================] - 0s 7ms/step - loss: 0.0436 - accuracy: 0.9809 - val_loss: 0.1917 - val_accuracy: 0.9396\n",
      "Epoch 75/100\n",
      "64/71 [==========================>...] - ETA: 0s - loss: 0.0383 - accuracy: 0.9844\n",
      "Epoch 75: val_accuracy did not improve from 0.96625\n",
      "71/71 [==============================] - 0s 7ms/step - loss: 0.0388 - accuracy: 0.9831 - val_loss: 0.2400 - val_accuracy: 0.9112\n",
      "Epoch 76/100\n",
      "64/71 [==========================>...] - ETA: 0s - loss: 0.0356 - accuracy: 0.9844\n",
      "Epoch 76: val_accuracy did not improve from 0.96625\n",
      "71/71 [==============================] - 0s 7ms/step - loss: 0.0479 - accuracy: 0.9822 - val_loss: 0.1792 - val_accuracy: 0.9449\n",
      "Epoch 77/100\n",
      "64/71 [==========================>...] - ETA: 0s - loss: 0.0636 - accuracy: 0.9722\n",
      "Epoch 77: val_accuracy did not improve from 0.96625\n",
      "71/71 [==============================] - 0s 7ms/step - loss: 0.0627 - accuracy: 0.9720 - val_loss: 0.1472 - val_accuracy: 0.9627\n",
      "Epoch 78/100\n",
      "64/71 [==========================>...] - ETA: 0s - loss: 0.0457 - accuracy: 0.9834\n",
      "Epoch 78: val_accuracy did not improve from 0.96625\n",
      "71/71 [==============================] - 0s 7ms/step - loss: 0.0467 - accuracy: 0.9822 - val_loss: 0.1526 - val_accuracy: 0.9609\n",
      "Epoch 79/100\n",
      "63/71 [=========================>....] - ETA: 0s - loss: 0.0429 - accuracy: 0.9831\n",
      "Epoch 79: val_accuracy did not improve from 0.96625\n",
      "71/71 [==============================] - 0s 7ms/step - loss: 0.0422 - accuracy: 0.9831 - val_loss: 0.1593 - val_accuracy: 0.9574\n",
      "Epoch 80/100\n",
      "64/71 [==========================>...] - ETA: 0s - loss: 0.0421 - accuracy: 0.9839\n",
      "Epoch 80: val_accuracy did not improve from 0.96625\n",
      "71/71 [==============================] - 0s 7ms/step - loss: 0.0424 - accuracy: 0.9831 - val_loss: 0.1512 - val_accuracy: 0.9556\n",
      "Epoch 81/100\n",
      "64/71 [==========================>...] - ETA: 0s - loss: 0.0393 - accuracy: 0.9824\n",
      "Epoch 81: val_accuracy did not improve from 0.96625\n",
      "71/71 [==============================] - 0s 7ms/step - loss: 0.0415 - accuracy: 0.9822 - val_loss: 0.1607 - val_accuracy: 0.9591\n",
      "Epoch 82/100\n",
      "64/71 [==========================>...] - ETA: 0s - loss: 0.0393 - accuracy: 0.9854\n",
      "Epoch 82: val_accuracy did not improve from 0.96625\n",
      "71/71 [==============================] - 0s 7ms/step - loss: 0.0428 - accuracy: 0.9836 - val_loss: 0.1713 - val_accuracy: 0.9591\n",
      "Epoch 83/100\n",
      "63/71 [=========================>....] - ETA: 0s - loss: 0.0410 - accuracy: 0.9816\n",
      "Epoch 83: val_accuracy did not improve from 0.96625\n",
      "71/71 [==============================] - 0s 7ms/step - loss: 0.0404 - accuracy: 0.9813 - val_loss: 0.1700 - val_accuracy: 0.9591\n",
      "Epoch 84/100\n",
      "64/71 [==========================>...] - ETA: 0s - loss: 0.0385 - accuracy: 0.9829\n",
      "Epoch 84: val_accuracy did not improve from 0.96625\n",
      "71/71 [==============================] - 0s 7ms/step - loss: 0.0367 - accuracy: 0.9840 - val_loss: 0.1789 - val_accuracy: 0.9485\n",
      "Epoch 85/100\n",
      "64/71 [==========================>...] - ETA: 0s - loss: 0.0461 - accuracy: 0.9785\n",
      "Epoch 85: val_accuracy did not improve from 0.96625\n",
      "71/71 [==============================] - 0s 7ms/step - loss: 0.0451 - accuracy: 0.9787 - val_loss: 0.1687 - val_accuracy: 0.9591\n",
      "Epoch 86/100\n",
      "64/71 [==========================>...] - ETA: 0s - loss: 0.0374 - accuracy: 0.9844\n",
      "Epoch 86: val_accuracy did not improve from 0.96625\n",
      "71/71 [==============================] - 0s 7ms/step - loss: 0.0364 - accuracy: 0.9849 - val_loss: 0.1720 - val_accuracy: 0.9556\n",
      "Epoch 87/100\n",
      "64/71 [==========================>...] - ETA: 0s - loss: 0.0368 - accuracy: 0.9854\n",
      "Epoch 87: val_accuracy did not improve from 0.96625\n",
      "71/71 [==============================] - 0s 7ms/step - loss: 0.0344 - accuracy: 0.9862 - val_loss: 0.2064 - val_accuracy: 0.9591\n",
      "Epoch 88/100\n",
      "64/71 [==========================>...] - ETA: 0s - loss: 0.0381 - accuracy: 0.9824\n",
      "Epoch 88: val_accuracy did not improve from 0.96625\n",
      "71/71 [==============================] - 0s 7ms/step - loss: 0.0406 - accuracy: 0.9818 - val_loss: 0.1690 - val_accuracy: 0.9520\n",
      "Epoch 89/100\n",
      "63/71 [=========================>....] - ETA: 0s - loss: 0.0386 - accuracy: 0.9846\n",
      "Epoch 89: val_accuracy did not improve from 0.96625\n",
      "71/71 [==============================] - 0s 7ms/step - loss: 0.0405 - accuracy: 0.9840 - val_loss: 0.1915 - val_accuracy: 0.9574\n",
      "Epoch 90/100\n",
      "64/71 [==========================>...] - ETA: 0s - loss: 0.0466 - accuracy: 0.9805\n",
      "Epoch 90: val_accuracy did not improve from 0.96625\n",
      "71/71 [==============================] - 0s 7ms/step - loss: 0.0465 - accuracy: 0.9800 - val_loss: 0.1819 - val_accuracy: 0.9556\n",
      "Epoch 91/100\n",
      "64/71 [==========================>...] - ETA: 0s - loss: 0.0438 - accuracy: 0.9829\n",
      "Epoch 91: val_accuracy did not improve from 0.96625\n",
      "71/71 [==============================] - 0s 7ms/step - loss: 0.0424 - accuracy: 0.9831 - val_loss: 0.1669 - val_accuracy: 0.9503\n",
      "Epoch 92/100\n",
      "64/71 [==========================>...] - ETA: 0s - loss: 0.0458 - accuracy: 0.9795\n",
      "Epoch 92: val_accuracy did not improve from 0.96625\n",
      "71/71 [==============================] - 0s 7ms/step - loss: 0.0450 - accuracy: 0.9800 - val_loss: 0.1926 - val_accuracy: 0.9609\n",
      "Epoch 93/100\n",
      "64/71 [==========================>...] - ETA: 0s - loss: 0.0366 - accuracy: 0.9829\n",
      "Epoch 93: val_accuracy did not improve from 0.96625\n",
      "71/71 [==============================] - 0s 7ms/step - loss: 0.0389 - accuracy: 0.9831 - val_loss: 0.1611 - val_accuracy: 0.9538\n",
      "Epoch 94/100\n",
      "64/71 [==========================>...] - ETA: 0s - loss: 0.0521 - accuracy: 0.9814\n",
      "Epoch 94: val_accuracy did not improve from 0.96625\n",
      "71/71 [==============================] - 0s 7ms/step - loss: 0.0515 - accuracy: 0.9822 - val_loss: 0.1757 - val_accuracy: 0.9520\n",
      "Epoch 95/100\n",
      "64/71 [==========================>...] - ETA: 0s - loss: 0.0451 - accuracy: 0.9805\n",
      "Epoch 95: val_accuracy did not improve from 0.96625\n",
      "71/71 [==============================] - 0s 7ms/step - loss: 0.0426 - accuracy: 0.9818 - val_loss: 0.1649 - val_accuracy: 0.9609\n",
      "Epoch 96/100\n",
      "64/71 [==========================>...] - ETA: 0s - loss: 0.0377 - accuracy: 0.9849\n",
      "Epoch 96: val_accuracy did not improve from 0.96625\n",
      "71/71 [==============================] - 0s 7ms/step - loss: 0.0363 - accuracy: 0.9853 - val_loss: 0.1729 - val_accuracy: 0.9609\n",
      "Epoch 97/100\n",
      "64/71 [==========================>...] - ETA: 0s - loss: 0.0488 - accuracy: 0.9805\n",
      "Epoch 97: val_accuracy did not improve from 0.96625\n",
      "71/71 [==============================] - 0s 7ms/step - loss: 0.0482 - accuracy: 0.9813 - val_loss: 0.1653 - val_accuracy: 0.9645\n",
      "Epoch 98/100\n",
      "64/71 [==========================>...] - ETA: 0s - loss: 0.0416 - accuracy: 0.9814\n",
      "Epoch 98: val_accuracy did not improve from 0.96625\n",
      "71/71 [==============================] - 0s 7ms/step - loss: 0.0423 - accuracy: 0.9818 - val_loss: 0.1729 - val_accuracy: 0.9556\n",
      "Epoch 99/100\n",
      "64/71 [==========================>...] - ETA: 0s - loss: 0.0392 - accuracy: 0.9844\n",
      "Epoch 99: val_accuracy did not improve from 0.96625\n",
      "71/71 [==============================] - 0s 7ms/step - loss: 0.0402 - accuracy: 0.9831 - val_loss: 0.1620 - val_accuracy: 0.9609\n",
      "Epoch 100/100\n",
      "64/71 [==========================>...] - ETA: 0s - loss: 0.0367 - accuracy: 0.9839\n",
      "Epoch 100: val_accuracy did not improve from 0.96625\n",
      "71/71 [==============================] - 0s 7ms/step - loss: 0.0379 - accuracy: 0.9836 - val_loss: 0.1729 - val_accuracy: 0.9574\n"
     ]
    },
    {
     "data": {
      "text/plain": [
       "<keras.src.callbacks.History at 0x7feec47dfa60>"
      ]
     },
     "execution_count": 28,
     "metadata": {},
     "output_type": "execute_result"
    }
   ],
   "source": [
    "model.fit(X_train, y_train, epochs=100, batch_size=32, validation_data=(X_val, y_val), callbacks=[checkpoint])"
   ]
  },
  {
   "cell_type": "markdown",
   "metadata": {},
   "source": [
    "# Load Best CheckPoint"
   ]
  },
  {
   "cell_type": "code",
   "execution_count": 29,
   "metadata": {},
   "outputs": [
    {
     "name": "stdout",
     "output_type": "stream",
     "text": [
      "2/2 [==============================] - 0s 13ms/step - loss: 0.1343 - accuracy: 0.9511\n"
     ]
    },
    {
     "data": {
      "text/plain": [
       "[0.1342962682247162, 0.951077938079834]"
      ]
     },
     "execution_count": 29,
     "metadata": {},
     "output_type": "execute_result"
    }
   ],
   "source": [
    "cp_model = load_model('/tmp/CMS4_CNN_1D_CheckPoint2.h5')\n",
    "cp_model.evaluate(X_test, y_test, batch_size=1000)"
   ]
  },
  {
   "cell_type": "markdown",
   "metadata": {},
   "source": [
    "# Evaluate"
   ]
  },
  {
   "cell_type": "code",
   "execution_count": 30,
   "metadata": {},
   "outputs": [
    {
     "name": "stdout",
     "output_type": "stream",
     "text": [
      "38/38 [==============================] - 0s 2ms/step\n"
     ]
    }
   ],
   "source": [
    "y_pred = cp_model.predict(X_test)"
   ]
  },
  {
   "cell_type": "code",
   "execution_count": 31,
   "metadata": {},
   "outputs": [],
   "source": [
    "preds_single = CLASSES[np.argmax(y_pred, axis = -1)]\n",
    "actual_single = CLASSES[np.argmax(y_test, axis = -1)]"
   ]
  },
  {
   "cell_type": "code",
   "execution_count": 32,
   "metadata": {},
   "outputs": [
    {
     "data": {
      "image/png": "[encoded data removed]",
      "text/plain": [
       "<Figure size 1500x500 with 10 Axes>"
      ]
     },
     "metadata": {},
     "output_type": "display_data"
    }
   ],
   "source": [
    "n_to_show = 10\n",
    "indices = np.random.choice(range(len(X_test)), n_to_show)\n",
    "\n",
    "fig = plt.figure(figsize=(15, 5))\n",
    "fig.subplots_adjust(hspace=0.4, wspace=0.4)\n",
    "\n",
    "for i, idx in enumerate(indices):\n",
    "    data = X_test[idx]\n",
    "    ax = fig.add_subplot(1, n_to_show, i+1)\n",
    "    ax.plot(data)\n",
    "    ax.axis('off')\n",
    "    ax.text(0.5, -0.2, 'pred = ' + str(preds_single[idx]), fontsize=10, ha='center', transform=ax.transAxes) \n",
    "    ax.text(0.5, -0.4, 'act = ' + str(actual_single[idx]), fontsize=10, ha='center', transform=ax.transAxes)\n",
    "\n",
    "plt.show()"
   ]
  },
  {
   "cell_type": "markdown",
   "metadata": {},
   "source": [
    "# Classification Results"
   ]
  },
  {
   "cell_type": "code",
   "execution_count": 33,
   "metadata": {},
   "outputs": [
    {
     "name": "stdout",
     "output_type": "stream",
     "text": [
      "              precision    recall  f1-score   support\n",
      "\n",
      "           0     0.9543    0.9528    0.9536       636\n",
      "           1     0.9475    0.9491    0.9483       570\n",
      "\n",
      "    accuracy                         0.9511      1206\n",
      "   macro avg     0.9509    0.9510    0.9509      1206\n",
      "weighted avg     0.9511    0.9511    0.9511      1206\n",
      "\n"
     ]
    }
   ],
   "source": [
    "y_pred_classes = tf.argmax(y_pred, axis=1)\n",
    "y_test_classes = tf.argmax(y_test, axis=1)\n",
    "\n",
    "print(classification_report(y_test_classes, y_pred_classes, digits=4))"
   ]
  },
  {
   "cell_type": "markdown",
   "metadata": {},
   "source": [
    "# Confusion MatriX"
   ]
  },
  {
   "cell_type": "code",
   "execution_count": 34,
   "metadata": {},
   "outputs": [
    {
     "name": "stdout",
     "output_type": "stream",
     "text": [
      "Confusion Matrix:\n",
      "            Legitimate  Suspicious\n",
      "Legitimate         606          30\n",
      "Suspicious          29         541\n"
     ]
    }
   ],
   "source": [
    "conf_matrix = confusion_matrix(y_test_classes, y_pred_classes)\n",
    "\n",
    "class_labels = ['Legitimate', 'Suspicious']\n",
    "\n",
    "conf_matrix_df = pd.DataFrame(conf_matrix, index=class_labels, columns=class_labels)\n",
    "\n",
    "print(\"Confusion Matrix:\")\n",
    "print(conf_matrix_df)"
   ]
  },
  {
   "cell_type": "code",
   "execution_count": null,
   "metadata": {},
   "outputs": [],
   "source": []
  }
 ],
 "metadata": {
  "kernelspec": {
   "display_name": "Python 3.10 (NGC 24.01 / TensorFlow 2.14) on Backend.AI",
   "language": "python",
   "name": "python3"
  },
  "language_info": {
   "codemirror_mode": {
    "name": "ipython",
    "version": 3
   },
   "file_extension": ".py",
   "mimetype": "text/x-python",
   "name": "python",
   "nbconvert_exporter": "python",
   "pygments_lexer": "ipython3",
   "version": "3.10.12"
  }
 },
 "nbformat": 4,
 "nbformat_minor": 4
}
