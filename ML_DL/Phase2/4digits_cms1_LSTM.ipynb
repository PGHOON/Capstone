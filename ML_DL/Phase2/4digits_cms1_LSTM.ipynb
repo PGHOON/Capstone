{
 "cells": [
  {
   "cell_type": "code",
   "execution_count": 1,
   "metadata": {},
   "outputs": [
    {
     "name": "stderr",
     "output_type": "stream",
     "text": [
      "2024-07-31 23:38:17.414164: I tensorflow/core/util/port.cc:111] oneDNN custom operations are on. You may see slightly different numerical results due to floating-point round-off errors from different computation orders. To turn them off, set the environment variable `TF_ENABLE_ONEDNN_OPTS=0`.\n",
      "2024-07-31 23:38:17.465571: E tensorflow/compiler/xla/stream_executor/cuda/cuda_dnn.cc:9360] Unable to register cuDNN factory: Attempting to register factory for plugin cuDNN when one has already been registered\n",
      "2024-07-31 23:38:17.465614: E tensorflow/compiler/xla/stream_executor/cuda/cuda_fft.cc:609] Unable to register cuFFT factory: Attempting to register factory for plugin cuFFT when one has already been registered\n",
      "2024-07-31 23:38:17.465645: E tensorflow/compiler/xla/stream_executor/cuda/cuda_blas.cc:1537] Unable to register cuBLAS factory: Attempting to register factory for plugin cuBLAS when one has already been registered\n",
      "2024-07-31 23:38:17.474958: I tensorflow/core/platform/cpu_feature_guard.cc:183] This TensorFlow binary is optimized to use available CPU instructions in performance-critical operations.\n",
      "To enable the following instructions: SSE3 SSE4.1 SSE4.2 AVX, in other operations, rebuild TensorFlow with the appropriate compiler flags.\n"
     ]
    }
   ],
   "source": [
    "import os\n",
    "import pandas as pd\n",
    "import numpy as np\n",
    "import tensorflow as tf\n",
    "import matplotlib.pyplot as plt\n",
    "\n",
    "from multiprocessing import Pool\n",
    "from concurrent.futures import ThreadPoolExecutor, as_completed\n",
    "\n",
    "from keras.models import Model\n",
    "from keras.optimizers import Adam\n",
    "from keras.models import load_model\n",
    "from keras.utils import to_categorical\n",
    "from keras.callbacks import ModelCheckpoint, ReduceLROnPlateau\n",
    "from keras.layers import Input, LSTM, BatchNormalization, Dropout, Dense, Add, Flatten\n",
    "\n",
    "from tensorflow.keras.regularizers import l2\n",
    "\n",
    "from sklearn.preprocessing import LabelEncoder\n",
    "from sklearn.metrics import classification_report, confusion_matrix\n",
    "from sklearn.model_selection import train_test_split"
   ]
  },
  {
   "cell_type": "markdown",
   "metadata": {},
   "source": [
    "# Load csv from Desktop"
   ]
  },
  {
   "cell_type": "code",
   "execution_count": 2,
   "metadata": {},
   "outputs": [],
   "source": [
    "NUM_CLASSES = 2\n",
    "CLASSES = np.array(['Legitimate', 'Suspicious'])\n",
    "DATASET_DIR = \"./\"\n",
    "VECTOR_LENGTH = 1 * 816\n",
    "\n",
    "def csvToVector(file_path):\n",
    "    data = pd.read_csv(file_path, header=None)\n",
    "    vector = data.values.flatten()\n",
    "    return vector\n",
    "\n",
    "def process_file(class_idx, file_path):\n",
    "    vector = csvToVector(file_path)\n",
    "    return (vector, class_idx)\n",
    "\n",
    "def load_data(dataset_dir):\n",
    "    X = []\n",
    "    y = []\n",
    "    subdirs = ['benign_cms1', 'malware_cms1']\n",
    "    futures = []\n",
    "\n",
    "    with ThreadPoolExecutor() as executor:\n",
    "        for class_idx, class_name in enumerate(subdirs):\n",
    "            class_dir = os.path.join(dataset_dir, class_name)\n",
    "            for file_name in os.listdir(class_dir):\n",
    "                if file_name.endswith('.csv'):\n",
    "                    file_path = os.path.join(class_dir, file_name)\n",
    "                    futures.append(executor.submit(process_file, class_idx, file_path))\n",
    "\n",
    "        for future in as_completed(futures):\n",
    "            vector, class_idx = future.result()\n",
    "            X.append(vector)\n",
    "            y.append(class_idx)\n",
    "\n",
    "    X = np.array(X)\n",
    "    y = np.array(y)\n",
    "    return X, y"
   ]
  },
  {
   "cell_type": "code",
   "execution_count": 3,
   "metadata": {},
   "outputs": [],
   "source": [
    "X, y = load_data(DATASET_DIR)"
   ]
  },
  {
   "cell_type": "code",
   "execution_count": 4,
   "metadata": {},
   "outputs": [
    {
     "name": "stdout",
     "output_type": "stream",
     "text": [
      "(4020, 816)\n",
      "(4020,)\n",
      "[[  103     0     0 ...  8838     0    29]\n",
      " [  223     0     0 ... 40174     0   274]\n",
      " [  298     0     0 ...  8843     0    12]\n",
      " ...\n",
      " [  145     0     0 ... 34875     0    53]\n",
      " [  186     0     0 ...  2669     0    57]\n",
      " [  148     0     0 ...  2669     0    54]]\n",
      "[0 0 0 ... 1 1 1]\n"
     ]
    }
   ],
   "source": [
    "print(X.shape)\n",
    "print(y.shape)\n",
    "print(X)\n",
    "print(y)"
   ]
  },
  {
   "cell_type": "markdown",
   "metadata": {},
   "source": [
    "# Train, Validation, Test Split and Nomalize"
   ]
  },
  {
   "cell_type": "code",
   "execution_count": 34,
   "metadata": {},
   "outputs": [],
   "source": [
    "X_train, X_test, y_train, y_test= train_test_split(X, y, test_size=0.3, random_state=42)\n",
    "\n",
    "#X_train, X_val, y_train, y_val = train_test_split(X_train, y_train, test_size=0.2, random_state=42)\n",
    "\n",
    "X_train = X_train / 299.0\n",
    "#X_val = X_val / 299.0\n",
    "X_test = X_test / 299.0\n",
    "\n",
    "y_train = to_categorical(y_train, 2)\n",
    "#y_val = to_categorical(y_val, 2)\n",
    "y_test = to_categorical(y_test, 2)"
   ]
  },
  {
   "cell_type": "code",
   "execution_count": 35,
   "metadata": {},
   "outputs": [
    {
     "name": "stdout",
     "output_type": "stream",
     "text": [
      "(2814, 816)\n",
      "(1206, 816)\n",
      "(2814, 2)\n",
      "(1206, 2)\n"
     ]
    }
   ],
   "source": [
    "print(X_train.shape)\n",
    "print(X_test.shape)\n",
    "#print(X_val.shape)\n",
    "print(y_train.shape)\n",
    "print(y_test.shape)\n",
    "#print(y_val.shape)"
   ]
  },
  {
   "cell_type": "markdown",
   "metadata": {},
   "source": [
    "# 1D CNN Architecture"
   ]
  },
  {
   "cell_type": "code",
   "execution_count": 36,
   "metadata": {},
   "outputs": [],
   "source": [
    "input_layer = Input(shape=(VECTOR_LENGTH, 1))\n",
    "\n",
    "x = LSTM(32, return_sequences=True)(input_layer)\n",
    "x = BatchNormalization()(x)\n",
    "x = Dropout(0.2)(x)\n",
    "\n",
    "x = LSTM(64, return_sequences=True)(x)\n",
    "x = BatchNormalization()(x)\n",
    "x = Dropout(0.2)(x)\n",
    "\n",
    "x = LSTM(128, return_sequences=False)(x)\n",
    "x = BatchNormalization()(x)\n",
    "x = Dropout(0.5)(x)\n",
    "\n",
    "x = Flatten()(x)\n",
    "\n",
    "x = Dense(256, activation='relu', kernel_regularizer=l2(0.01))(x)\n",
    "x = BatchNormalization()(x)\n",
    "x = Dropout(0.5)(x)\n",
    "\n",
    "output_layer = Dense(NUM_CLASSES, activation='softmax')(x)\n",
    "\n",
    "model = Model(inputs=input_layer, outputs=output_layer)\n",
    "\n",
    "opt = Adam(learning_rate=0.001)\n",
    "model.compile(optimizer=opt, loss='categorical_crossentropy', metrics=['accuracy'])"
   ]
  },
  {
   "cell_type": "code",
   "execution_count": 37,
   "metadata": {},
   "outputs": [
    {
     "name": "stdout",
     "output_type": "stream",
     "text": [
      "Model: \"model_3\"\n",
      "_________________________________________________________________\n",
      " Layer (type)                Output Shape              Param #   \n",
      "=================================================================\n",
      " input_4 (InputLayer)        [(None, 816, 1)]          0         \n",
      "                                                                 \n",
      " lstm_9 (LSTM)               (None, 816, 32)           4352      \n",
      "                                                                 \n",
      " batch_normalization_12 (Ba  (None, 816, 32)           128       \n",
      " tchNormalization)                                               \n",
      "                                                                 \n",
      " dropout_12 (Dropout)        (None, 816, 32)           0         \n",
      "                                                                 \n",
      " lstm_10 (LSTM)              (None, 816, 64)           24832     \n",
      "                                                                 \n",
      " batch_normalization_13 (Ba  (None, 816, 64)           256       \n",
      " tchNormalization)                                               \n",
      "                                                                 \n",
      " dropout_13 (Dropout)        (None, 816, 64)           0         \n",
      "                                                                 \n",
      " lstm_11 (LSTM)              (None, 128)               98816     \n",
      "                                                                 \n",
      " batch_normalization_14 (Ba  (None, 128)               512       \n",
      " tchNormalization)                                               \n",
      "                                                                 \n",
      " dropout_14 (Dropout)        (None, 128)               0         \n",
      "                                                                 \n",
      " flatten_3 (Flatten)         (None, 128)               0         \n",
      "                                                                 \n",
      " dense_6 (Dense)             (None, 256)               33024     \n",
      "                                                                 \n",
      " batch_normalization_15 (Ba  (None, 256)               1024      \n",
      " tchNormalization)                                               \n",
      "                                                                 \n",
      " dropout_15 (Dropout)        (None, 256)               0         \n",
      "                                                                 \n",
      " dense_7 (Dense)             (None, 2)                 514       \n",
      "                                                                 \n",
      "=================================================================\n",
      "Total params: 163458 (638.51 KB)\n",
      "Trainable params: 162498 (634.76 KB)\n",
      "Non-trainable params: 960 (3.75 KB)\n",
      "_________________________________________________________________\n"
     ]
    }
   ],
   "source": [
    "model.summary()"
   ]
  },
  {
   "cell_type": "markdown",
   "metadata": {},
   "source": [
    "# CheckPoint"
   ]
  },
  {
   "cell_type": "code",
   "execution_count": 61,
   "metadata": {},
   "outputs": [],
   "source": [
    "reduce_lr = ReduceLROnPlateau(monitor='loss', factor=0.5, patience=5, min_lr=0.00001)\n",
    "checkpoint = ModelCheckpoint(\n",
    "    filepath='/tmp/CMS1_LSTM_CheckPoint.h5',\n",
    "    save_best_only=True,\n",
    "    monitor='accuracy',\n",
    "    mode='max',\n",
    "    verbose=1\n",
    ")"
   ]
  },
  {
   "cell_type": "markdown",
   "metadata": {},
   "source": [
    "# Model Training"
   ]
  },
  {
   "cell_type": "code",
   "execution_count": 86,
   "metadata": {},
   "outputs": [
    {
     "name": "stdout",
     "output_type": "stream",
     "text": [
      "Epoch 1/30\n",
      "88/88 [==============================] - ETA: 0s - loss: 0.1199 - accuracy: 0.9684\n",
      "Epoch 1: accuracy did not improve from 0.96979\n",
      "88/88 [==============================] - 7s 77ms/step - loss: 0.1199 - accuracy: 0.9684 - lr: 2.5000e-04\n",
      "Epoch 2/30\n",
      "88/88 [==============================] - ETA: 0s - loss: 0.1127 - accuracy: 0.9680\n",
      "Epoch 2: accuracy did not improve from 0.96979\n",
      "88/88 [==============================] - 7s 77ms/step - loss: 0.1127 - accuracy: 0.9680 - lr: 2.5000e-04\n",
      "Epoch 3/30\n",
      "88/88 [==============================] - ETA: 0s - loss: 0.1210 - accuracy: 0.9705\n",
      "Epoch 3: accuracy improved from 0.96979 to 0.97050, saving model to /tmp/CMS1_LSTM_CheckPoint.h5\n",
      "88/88 [==============================] - 7s 78ms/step - loss: 0.1210 - accuracy: 0.9705 - lr: 2.5000e-04\n",
      "Epoch 4/30\n",
      " 1/88 [..............................] - ETA: 6s - loss: 0.1937 - accuracy: 0.9375"
     ]
    },
    {
     "name": "stderr",
     "output_type": "stream",
     "text": [
      "/usr/local/lib/python3.10/dist-packages/keras/src/engine/training.py:3079: UserWarning: You are saving your model as an HDF5 file via `model.save()`. This file format is considered legacy. We recommend using instead the native Keras format, e.g. `model.save('my_model.keras')`.\n",
      "  saving_api.save_model(\n"
     ]
    },
    {
     "name": "stdout",
     "output_type": "stream",
     "text": [
      "88/88 [==============================] - ETA: 0s - loss: 0.1103 - accuracy: 0.9698\n",
      "Epoch 4: accuracy did not improve from 0.97050\n",
      "88/88 [==============================] - 7s 77ms/step - loss: 0.1103 - accuracy: 0.9698 - lr: 2.5000e-04\n",
      "Epoch 5/30\n",
      "88/88 [==============================] - ETA: 0s - loss: 0.1078 - accuracy: 0.9701\n",
      "Epoch 5: accuracy did not improve from 0.97050\n",
      "88/88 [==============================] - 7s 77ms/step - loss: 0.1078 - accuracy: 0.9701 - lr: 2.5000e-04\n",
      "Epoch 6/30\n",
      "88/88 [==============================] - ETA: 0s - loss: 0.1070 - accuracy: 0.9705\n",
      "Epoch 6: accuracy did not improve from 0.97050\n",
      "88/88 [==============================] - 7s 77ms/step - loss: 0.1070 - accuracy: 0.9705 - lr: 2.5000e-04\n",
      "Epoch 7/30\n",
      "88/88 [==============================] - ETA: 0s - loss: 0.1160 - accuracy: 0.9680\n",
      "Epoch 7: accuracy did not improve from 0.97050\n",
      "88/88 [==============================] - 7s 78ms/step - loss: 0.1160 - accuracy: 0.9680 - lr: 2.5000e-04\n",
      "Epoch 8/30\n",
      "88/88 [==============================] - ETA: 0s - loss: 0.1123 - accuracy: 0.9694\n",
      "Epoch 8: accuracy did not improve from 0.97050\n",
      "88/88 [==============================] - 7s 77ms/step - loss: 0.1123 - accuracy: 0.9694 - lr: 2.5000e-04\n",
      "Epoch 9/30\n",
      "88/88 [==============================] - ETA: 0s - loss: 0.1185 - accuracy: 0.9680\n",
      "Epoch 9: accuracy did not improve from 0.97050\n",
      "88/88 [==============================] - 7s 77ms/step - loss: 0.1185 - accuracy: 0.9680 - lr: 2.5000e-04\n",
      "Epoch 10/30\n",
      "88/88 [==============================] - ETA: 0s - loss: 0.1134 - accuracy: 0.9687\n",
      "Epoch 10: accuracy did not improve from 0.97050\n",
      "88/88 [==============================] - 7s 78ms/step - loss: 0.1134 - accuracy: 0.9687 - lr: 2.5000e-04\n",
      "Epoch 11/30\n",
      "88/88 [==============================] - ETA: 0s - loss: 0.1127 - accuracy: 0.9712\n",
      "Epoch 11: accuracy improved from 0.97050 to 0.97122, saving model to /tmp/CMS1_LSTM_CheckPoint.h5\n",
      "88/88 [==============================] - 7s 78ms/step - loss: 0.1127 - accuracy: 0.9712 - lr: 2.5000e-04\n",
      "Epoch 12/30\n",
      "88/88 [==============================] - ETA: 0s - loss: 0.1160 - accuracy: 0.9680\n",
      "Epoch 12: accuracy did not improve from 0.97122\n",
      "88/88 [==============================] - 7s 77ms/step - loss: 0.1160 - accuracy: 0.9680 - lr: 1.2500e-04\n",
      "Epoch 13/30\n",
      "88/88 [==============================] - ETA: 0s - loss: 0.1112 - accuracy: 0.9691\n",
      "Epoch 13: accuracy did not improve from 0.97122\n",
      "88/88 [==============================] - 7s 77ms/step - loss: 0.1112 - accuracy: 0.9691 - lr: 1.2500e-04\n",
      "Epoch 14/30\n",
      "88/88 [==============================] - ETA: 0s - loss: 0.1108 - accuracy: 0.9719\n",
      "Epoch 14: accuracy improved from 0.97122 to 0.97193, saving model to /tmp/CMS1_LSTM_CheckPoint.h5\n",
      "88/88 [==============================] - 7s 78ms/step - loss: 0.1108 - accuracy: 0.9719 - lr: 1.2500e-04\n",
      "Epoch 15/30\n",
      "88/88 [==============================] - ETA: 0s - loss: 0.1126 - accuracy: 0.9716\n",
      "Epoch 15: accuracy did not improve from 0.97193\n",
      "88/88 [==============================] - 7s 77ms/step - loss: 0.1126 - accuracy: 0.9716 - lr: 1.2500e-04\n",
      "Epoch 16/30\n",
      "88/88 [==============================] - ETA: 0s - loss: 0.1099 - accuracy: 0.9716\n",
      "Epoch 16: accuracy did not improve from 0.97193\n",
      "88/88 [==============================] - 7s 77ms/step - loss: 0.1099 - accuracy: 0.9716 - lr: 1.2500e-04\n",
      "Epoch 17/30\n",
      "88/88 [==============================] - ETA: 0s - loss: 0.1049 - accuracy: 0.9726\n",
      "Epoch 17: accuracy improved from 0.97193 to 0.97264, saving model to /tmp/CMS1_LSTM_CheckPoint.h5\n",
      "88/88 [==============================] - 7s 78ms/step - loss: 0.1049 - accuracy: 0.9726 - lr: 6.2500e-05\n",
      "Epoch 18/30\n",
      "88/88 [==============================] - ETA: 0s - loss: 0.1087 - accuracy: 0.9730\n",
      "Epoch 18: accuracy improved from 0.97264 to 0.97299, saving model to /tmp/CMS1_LSTM_CheckPoint.h5\n",
      "88/88 [==============================] - 7s 78ms/step - loss: 0.1087 - accuracy: 0.9730 - lr: 6.2500e-05\n",
      "Epoch 19/30\n",
      "88/88 [==============================] - ETA: 0s - loss: 0.1049 - accuracy: 0.9730\n",
      "Epoch 19: accuracy did not improve from 0.97299\n",
      "88/88 [==============================] - 7s 77ms/step - loss: 0.1049 - accuracy: 0.9730 - lr: 6.2500e-05\n",
      "Epoch 20/30\n",
      "88/88 [==============================] - ETA: 0s - loss: 0.1111 - accuracy: 0.9701\n",
      "Epoch 20: accuracy did not improve from 0.97299\n",
      "88/88 [==============================] - 7s 77ms/step - loss: 0.1111 - accuracy: 0.9701 - lr: 6.2500e-05\n",
      "Epoch 21/30\n",
      "88/88 [==============================] - ETA: 0s - loss: 0.0991 - accuracy: 0.9733\n",
      "Epoch 21: accuracy improved from 0.97299 to 0.97335, saving model to /tmp/CMS1_LSTM_CheckPoint.h5\n",
      "88/88 [==============================] - 7s 78ms/step - loss: 0.0991 - accuracy: 0.9733 - lr: 6.2500e-05\n",
      "Epoch 22/30\n",
      "88/88 [==============================] - ETA: 0s - loss: 0.1088 - accuracy: 0.9716\n",
      "Epoch 22: accuracy did not improve from 0.97335\n",
      "88/88 [==============================] - 7s 77ms/step - loss: 0.1088 - accuracy: 0.9716 - lr: 6.2500e-05\n",
      "Epoch 23/30\n",
      "88/88 [==============================] - ETA: 0s - loss: 0.1069 - accuracy: 0.9716\n",
      "Epoch 23: accuracy did not improve from 0.97335\n",
      "88/88 [==============================] - 7s 77ms/step - loss: 0.1069 - accuracy: 0.9716 - lr: 6.2500e-05\n",
      "Epoch 24/30\n",
      "88/88 [==============================] - ETA: 0s - loss: 0.1014 - accuracy: 0.9716\n",
      "Epoch 24: accuracy did not improve from 0.97335\n",
      "88/88 [==============================] - 7s 78ms/step - loss: 0.1014 - accuracy: 0.9716 - lr: 6.2500e-05\n",
      "Epoch 25/30\n",
      "88/88 [==============================] - ETA: 0s - loss: 0.1004 - accuracy: 0.9744\n",
      "Epoch 25: accuracy improved from 0.97335 to 0.97441, saving model to /tmp/CMS1_LSTM_CheckPoint.h5\n",
      "88/88 [==============================] - 7s 78ms/step - loss: 0.1004 - accuracy: 0.9744 - lr: 6.2500e-05\n",
      "Epoch 26/30\n",
      "88/88 [==============================] - ETA: 0s - loss: 0.1045 - accuracy: 0.9723\n",
      "Epoch 26: accuracy did not improve from 0.97441\n",
      "88/88 [==============================] - 7s 78ms/step - loss: 0.1045 - accuracy: 0.9723 - lr: 6.2500e-05\n",
      "Epoch 27/30\n",
      "88/88 [==============================] - ETA: 0s - loss: 0.1039 - accuracy: 0.9726\n",
      "Epoch 27: accuracy did not improve from 0.97441\n",
      "88/88 [==============================] - 7s 77ms/step - loss: 0.1039 - accuracy: 0.9726 - lr: 3.1250e-05\n",
      "Epoch 28/30\n",
      "88/88 [==============================] - ETA: 0s - loss: 0.0946 - accuracy: 0.9744\n",
      "Epoch 28: accuracy did not improve from 0.97441\n",
      "88/88 [==============================] - 7s 78ms/step - loss: 0.0946 - accuracy: 0.9744 - lr: 3.1250e-05\n",
      "Epoch 29/30\n",
      "88/88 [==============================] - ETA: 0s - loss: 0.0954 - accuracy: 0.9737\n",
      "Epoch 29: accuracy did not improve from 0.97441\n",
      "88/88 [==============================] - 7s 77ms/step - loss: 0.0954 - accuracy: 0.9737 - lr: 3.1250e-05\n",
      "Epoch 30/30\n",
      "88/88 [==============================] - ETA: 0s - loss: 0.1022 - accuracy: 0.9723\n",
      "Epoch 30: accuracy did not improve from 0.97441\n",
      "88/88 [==============================] - 7s 77ms/step - loss: 0.1022 - accuracy: 0.9723 - lr: 3.1250e-05\n"
     ]
    },
    {
     "data": {
      "text/plain": [
       "<keras.src.callbacks.History at 0x7faaaebc91b0>"
      ]
     },
     "execution_count": 86,
     "metadata": {},
     "output_type": "execute_result"
    }
   ],
   "source": [
    "model.fit(X_train, y_train, epochs=30, batch_size=32, callbacks=[reduce_lr, checkpoint])"
   ]
  },
  {
   "cell_type": "markdown",
   "metadata": {},
   "source": [
    "# Load Best CheckPoint"
   ]
  },
  {
   "cell_type": "code",
   "execution_count": 123,
   "metadata": {},
   "outputs": [
    {
     "name": "stdout",
     "output_type": "stream",
     "text": [
      "2/2 [==============================] - 1s 41ms/step - loss: 0.1195 - accuracy: 0.9652\n"
     ]
    },
    {
     "data": {
      "text/plain": [
       "[0.11954624950885773, 0.96517413854599]"
      ]
     },
     "execution_count": 123,
     "metadata": {},
     "output_type": "execute_result"
    }
   ],
   "source": [
    "cp_model = load_model('/tmp/re10.h5')\n",
    "cp_model.evaluate(X_test, y_test, batch_size=1000)"
   ]
  },
  {
   "cell_type": "markdown",
   "metadata": {},
   "source": [
    "# Evaluate"
   ]
  },
  {
   "cell_type": "code",
   "execution_count": 124,
   "metadata": {},
   "outputs": [
    {
     "name": "stdout",
     "output_type": "stream",
     "text": [
      "38/38 [==============================] - 2s 30ms/step\n"
     ]
    }
   ],
   "source": [
    "y_pred = cp_model.predict(X_test)"
   ]
  },
  {
   "cell_type": "code",
   "execution_count": 125,
   "metadata": {},
   "outputs": [],
   "source": [
    "preds_single = CLASSES[np.argmax(y_pred, axis = -1)]\n",
    "actual_single = CLASSES[np.argmax(y_test, axis = -1)]"
   ]
  },
  {
   "cell_type": "markdown",
   "metadata": {},
   "source": [
    "# Classification Results"
   ]
  },
  {
   "cell_type": "code",
   "execution_count": 126,
   "metadata": {},
   "outputs": [
    {
     "name": "stdout",
     "output_type": "stream",
     "text": [
      "              precision    recall  f1-score   support\n",
      "\n",
      "           0     0.9462    0.9888    0.9670       623\n",
      "           1     0.9874    0.9400    0.9631       583\n",
      "\n",
      "    accuracy                         0.9652      1206\n",
      "   macro avg     0.9668    0.9644    0.9651      1206\n",
      "weighted avg     0.9661    0.9652    0.9651      1206\n",
      "\n"
     ]
    }
   ],
   "source": [
    "y_pred_classes = tf.argmax(y_pred, axis=1)\n",
    "y_test_classes = tf.argmax(y_test, axis=1)\n",
    "\n",
    "print(classification_report(y_test_classes, y_pred_classes, digits=4))"
   ]
  },
  {
   "cell_type": "markdown",
   "metadata": {},
   "source": [
    "# Confusion MatriX"
   ]
  },
  {
   "cell_type": "code",
   "execution_count": 81,
   "metadata": {},
   "outputs": [
    {
     "name": "stdout",
     "output_type": "stream",
     "text": [
      "Confusion Matrix:\n",
      "            Legitimate  Suspicious\n",
      "Legitimate         615           8\n",
      "Suspicious          41         542\n"
     ]
    }
   ],
   "source": [
    "conf_matrix = confusion_matrix(y_test_classes, y_pred_classes)\n",
    "\n",
    "class_labels = ['Legitimate', 'Suspicious']\n",
    "\n",
    "conf_matrix_df = pd.DataFrame(conf_matrix, index=class_labels, columns=class_labels)\n",
    "\n",
    "print(\"Confusion Matrix:\")\n",
    "print(conf_matrix_df)"
   ]
  },
  {
   "cell_type": "markdown",
   "metadata": {},
   "source": [
    "### "
   ]
  },
  {
   "cell_type": "code",
   "execution_count": null,
   "metadata": {},
   "outputs": [],
   "source": []
  }
 ],
 "metadata": {
  "kernelspec": {
   "display_name": "Python 3.10 (NGC 24.01 / TensorFlow 2.14) on Backend.AI",
   "language": "python",
   "name": "python3"
  },
  "language_info": {
   "codemirror_mode": {
    "name": "ipython",
    "version": 3
   },
   "file_extension": ".py",
   "mimetype": "text/x-python",
   "name": "python",
   "nbconvert_exporter": "python",
   "pygments_lexer": "ipython3",
   "version": "3.10.12"
  }
 },
 "nbformat": 4,
 "nbformat_minor": 4
}
