{
 "cells": [
  {
   "cell_type": "code",
   "execution_count": 1,
   "metadata": {},
   "outputs": [
    {
     "name": "stderr",
     "output_type": "stream",
     "text": [
      "2024-07-31 04:24:11.311941: I tensorflow/core/util/port.cc:111] oneDNN custom operations are on. You may see slightly different numerical results due to floating-point round-off errors from different computation orders. To turn them off, set the environment variable `TF_ENABLE_ONEDNN_OPTS=0`.\n",
      "2024-07-31 04:24:11.366648: E tensorflow/compiler/xla/stream_executor/cuda/cuda_dnn.cc:9360] Unable to register cuDNN factory: Attempting to register factory for plugin cuDNN when one has already been registered\n",
      "2024-07-31 04:24:11.366687: E tensorflow/compiler/xla/stream_executor/cuda/cuda_fft.cc:609] Unable to register cuFFT factory: Attempting to register factory for plugin cuFFT when one has already been registered\n",
      "2024-07-31 04:24:11.366715: E tensorflow/compiler/xla/stream_executor/cuda/cuda_blas.cc:1537] Unable to register cuBLAS factory: Attempting to register factory for plugin cuBLAS when one has already been registered\n",
      "2024-07-31 04:24:11.376174: I tensorflow/core/platform/cpu_feature_guard.cc:183] This TensorFlow binary is optimized to use available CPU instructions in performance-critical operations.\n",
      "To enable the following instructions: SSE3 SSE4.1 SSE4.2 AVX, in other operations, rebuild TensorFlow with the appropriate compiler flags.\n"
     ]
    }
   ],
   "source": [
    "from concurrent.futures import ThreadPoolExecutor, as_completed\n",
    "\n",
    "import os\n",
    "import pandas as pd\n",
    "import numpy as np\n",
    "import tensorflow as tf\n",
    "import matplotlib.pyplot as plt\n",
    "\n",
    "from multiprocessing import Pool\n",
    "from sklearn.preprocessing import StandardScaler\n",
    "\n",
    "from keras.models import Model\n",
    "from keras.optimizers import Adam\n",
    "from keras.models import load_model\n",
    "from keras.utils import to_categorical\n",
    "from keras.callbacks import ModelCheckpoint, ReduceLROnPlateau\n",
    "from keras.layers import Input, Conv1D, BatchNormalization, LeakyReLU, MaxPooling1D, GlobalAveragePooling1D, Dense, Dropout, Activation, Add, Flatten\n",
    "\n",
    "from sklearn.preprocessing import LabelEncoder\n",
    "from sklearn.model_selection import train_test_split\n",
    "from sklearn.metrics import classification_report, confusion_matrix\n",
    "\n",
    "from tensorflow.keras.callbacks import ModelCheckpoint"
   ]
  },
  {
   "cell_type": "markdown",
   "metadata": {},
   "source": [
    "# Load csv from Desktop"
   ]
  },
  {
   "cell_type": "code",
   "execution_count": 2,
   "metadata": {},
   "outputs": [],
   "source": [
    "NUM_CLASSES = 2\n",
    "CLASSES = np.array(['Legitimate', 'Suspicious'])\n",
    "DATASET_DIR = \"./\"\n",
    "VECTOR_LENGTH = 1 * 1360\n",
    "\n",
    "def csvToVector(file_path):\n",
    "    data = pd.read_csv(file_path, header=None)\n",
    "    vector = data.values.flatten()\n",
    "    return vector\n",
    "\n",
    "def process_file(class_idx, file_path):\n",
    "    vector = csvToVector(file_path)\n",
    "    return (vector, class_idx)\n",
    "\n",
    "def load_data(dataset_dir):\n",
    "    X = []\n",
    "    y = []\n",
    "    subdirs = ['benign_cms2', 'malware_cms2']\n",
    "    futures = []\n",
    "\n",
    "    with ThreadPoolExecutor() as executor:\n",
    "        for class_idx, class_name in enumerate(subdirs):\n",
    "            class_dir = os.path.join(dataset_dir, class_name)\n",
    "            for file_name in os.listdir(class_dir):\n",
    "                if file_name.endswith('.csv'):\n",
    "                    file_path = os.path.join(class_dir, file_name)\n",
    "                    futures.append(executor.submit(process_file, class_idx, file_path))\n",
    "\n",
    "        for future in as_completed(futures):\n",
    "            vector, class_idx = future.result()\n",
    "            X.append(vector)\n",
    "            y.append(class_idx)\n",
    "\n",
    "    X = np.array(X)\n",
    "    y = np.array(y)\n",
    "    return X, y"
   ]
  },
  {
   "cell_type": "code",
   "execution_count": 3,
   "metadata": {},
   "outputs": [],
   "source": [
    "X, y = load_data(DATASET_DIR)"
   ]
  },
  {
   "cell_type": "code",
   "execution_count": 4,
   "metadata": {},
   "outputs": [
    {
     "name": "stdout",
     "output_type": "stream",
     "text": [
      "(4020, 1360)\n",
      "(4020,)\n",
      "[[  146     0     0 ...     0   792   265]\n",
      " [  284     0     0 ...    13  1243   438]\n",
      " [  201     0     0 ...     0   274    26]\n",
      " ...\n",
      " [  153     0     0 ...     0  4061   118]\n",
      " [  189     0     0 ...     0  4077    98]\n",
      " [  127     0     0 ...     3 56578   240]]\n",
      "[0 0 0 ... 1 1 1]\n"
     ]
    }
   ],
   "source": [
    "print(X.shape)\n",
    "print(y.shape)\n",
    "print(X)\n",
    "print(y)"
   ]
  },
  {
   "cell_type": "markdown",
   "metadata": {},
   "source": [
    "# Train, Validation, Test Split and Nomalize"
   ]
  },
  {
   "cell_type": "code",
   "execution_count": 5,
   "metadata": {},
   "outputs": [],
   "source": [
    "X_train, X_test, y_train, y_test= train_test_split(X, y, test_size=0.3, random_state=42)\n",
    "\n",
    "X_train, X_val, y_train, y_val = train_test_split(X_train, y_train, test_size=0.2, random_state=42)\n",
    "\n",
    "X_train = X_train / 299.0\n",
    "X_val = X_val / 299.0\n",
    "X_test = X_test / 299.0\n",
    "\n",
    "y_train = to_categorical(y_train, 2)\n",
    "y_val = to_categorical(y_val, 2)\n",
    "y_test = to_categorical(y_test, 2)"
   ]
  },
  {
   "cell_type": "code",
   "execution_count": 6,
   "metadata": {},
   "outputs": [
    {
     "name": "stdout",
     "output_type": "stream",
     "text": [
      "(2251, 1360)\n",
      "(1206, 1360)\n",
      "(2251, 2)\n",
      "(1206, 2)\n"
     ]
    }
   ],
   "source": [
    "print(X_train.shape)\n",
    "print(X_test.shape)\n",
    "#print(X_val.shape)\n",
    "print(y_train.shape)\n",
    "print(y_test.shape)\n",
    "#print(y_val.shape)"
   ]
  },
  {
   "cell_type": "markdown",
   "metadata": {},
   "source": [
    "# 1D CNN Architecture"
   ]
  },
  {
   "cell_type": "code",
   "execution_count": 7,
   "metadata": {},
   "outputs": [
    {
     "name": "stderr",
     "output_type": "stream",
     "text": [
      "2024-07-30 12:23:19.118492: I tensorflow/core/common_runtime/gpu/gpu_device.cc:1883] Created device /job:localhost/replica:0/task:0/device:GPU:0 with 31350 MB memory:  -> device: 0, name: CUDA GPU, pci bus id: 0000:06:00.0, compute capability: 7.0\n",
      "2024-07-30 12:23:19.119032: I tensorflow/core/common_runtime/gpu/gpu_device.cc:1883] Created device /job:localhost/replica:0/task:0/device:GPU:1 with 31350 MB memory:  -> device: 1, name: CUDA GPU, pci bus id: 0000:2f:00.0, compute capability: 7.0\n",
      "2024-07-30 12:23:19.119513: I tensorflow/core/common_runtime/gpu/gpu_device.cc:1883] Created device /job:localhost/replica:0/task:0/device:GPU:2 with 31350 MB memory:  -> device: 2, name: CUDA GPU, pci bus id: 0000:86:00.0, compute capability: 7.0\n"
     ]
    }
   ],
   "source": [
    "input_layer = Input(shape=(VECTOR_LENGTH, 1))\n",
    "\n",
    "x = Conv1D(filters=32, kernel_size=3, padding='same')(input_layer)\n",
    "x = BatchNormalization()(x)\n",
    "x = LeakyReLU()(x)\n",
    "x = MaxPooling1D(pool_size=2)(x)\n",
    "\n",
    "x = Conv1D(filters=64, kernel_size=3, padding='same')(x)\n",
    "x = BatchNormalization()(x)\n",
    "x = LeakyReLU()(x)\n",
    "x = MaxPooling1D(pool_size=2)(x)\n",
    "\n",
    "x = Conv1D(filters=128, kernel_size=3, padding='same')(x)\n",
    "x = BatchNormalization()(x)\n",
    "x = LeakyReLU()(x)\n",
    "x = MaxPooling1D(pool_size=2)(x)\n",
    "\n",
    "x = Flatten()(x)\n",
    "\n",
    "x = Dense(256)(x)\n",
    "x = BatchNormalization()(x)\n",
    "x = LeakyReLU()(x)\n",
    "x = Dropout(rate=0.5)(x)\n",
    "\n",
    "x = Dense(NUM_CLASSES)(x)\n",
    "output_layer = Activation('softmax')(x)\n",
    "\n",
    "model = Model(input_layer, output_layer)\n",
    "\n",
    "opt = Adam(learning_rate=0.001)\n",
    "model.compile(loss='categorical_crossentropy', optimizer=opt, metrics=['accuracy'])"
   ]
  },
  {
   "cell_type": "code",
   "execution_count": 8,
   "metadata": {},
   "outputs": [
    {
     "name": "stdout",
     "output_type": "stream",
     "text": [
      "Model: \"model\"\n",
      "_________________________________________________________________\n",
      " Layer (type)                Output Shape              Param #   \n",
      "=================================================================\n",
      " input_1 (InputLayer)        [(None, 1360, 1)]         0         \n",
      "                                                                 \n",
      " conv1d (Conv1D)             (None, 1360, 32)          128       \n",
      "                                                                 \n",
      " batch_normalization (Batch  (None, 1360, 32)          128       \n",
      " Normalization)                                                  \n",
      "                                                                 \n",
      " leaky_re_lu (LeakyReLU)     (None, 1360, 32)          0         \n",
      "                                                                 \n",
      " max_pooling1d (MaxPooling1  (None, 680, 32)           0         \n",
      " D)                                                              \n",
      "                                                                 \n",
      " conv1d_1 (Conv1D)           (None, 680, 64)           6208      \n",
      "                                                                 \n",
      " batch_normalization_1 (Bat  (None, 680, 64)           256       \n",
      " chNormalization)                                                \n",
      "                                                                 \n",
      " leaky_re_lu_1 (LeakyReLU)   (None, 680, 64)           0         \n",
      "                                                                 \n",
      " max_pooling1d_1 (MaxPoolin  (None, 340, 64)           0         \n",
      " g1D)                                                            \n",
      "                                                                 \n",
      " conv1d_2 (Conv1D)           (None, 340, 128)          24704     \n",
      "                                                                 \n",
      " batch_normalization_2 (Bat  (None, 340, 128)          512       \n",
      " chNormalization)                                                \n",
      "                                                                 \n",
      " leaky_re_lu_2 (LeakyReLU)   (None, 340, 128)          0         \n",
      "                                                                 \n",
      " max_pooling1d_2 (MaxPoolin  (None, 170, 128)          0         \n",
      " g1D)                                                            \n",
      "                                                                 \n",
      " flatten (Flatten)           (None, 21760)             0         \n",
      "                                                                 \n",
      " dense (Dense)               (None, 256)               5570816   \n",
      "                                                                 \n",
      " batch_normalization_3 (Bat  (None, 256)               1024      \n",
      " chNormalization)                                                \n",
      "                                                                 \n",
      " leaky_re_lu_3 (LeakyReLU)   (None, 256)               0         \n",
      "                                                                 \n",
      " dropout (Dropout)           (None, 256)               0         \n",
      "                                                                 \n",
      " dense_1 (Dense)             (None, 2)                 514       \n",
      "                                                                 \n",
      " activation (Activation)     (None, 2)                 0         \n",
      "                                                                 \n",
      "=================================================================\n",
      "Total params: 5604290 (21.38 MB)\n",
      "Trainable params: 5603330 (21.38 MB)\n",
      "Non-trainable params: 960 (3.75 KB)\n",
      "_________________________________________________________________\n"
     ]
    }
   ],
   "source": [
    "model.summary()"
   ]
  },
  {
   "cell_type": "markdown",
   "metadata": {},
   "source": [
    "# CheckPoint"
   ]
  },
  {
   "cell_type": "code",
   "execution_count": 9,
   "metadata": {},
   "outputs": [],
   "source": [
    "reduce_lr = ReduceLROnPlateau(monitor='val_loss', factor=0.5, patience=5, min_lr=0.00001)\n",
    "checkpoint = ModelCheckpoint(\n",
    "    filepath='/tmp/CMS2_CNN_1D_CheckPoint.h5',\n",
    "    save_best_only=True,\n",
    "    monitor='val_accuracy',\n",
    "    mode='max',\n",
    "    verbose=1\n",
    ")"
   ]
  },
  {
   "cell_type": "markdown",
   "metadata": {},
   "source": [
    "# Model Training"
   ]
  },
  {
   "cell_type": "code",
   "execution_count": 10,
   "metadata": {},
   "outputs": [
    {
     "name": "stdout",
     "output_type": "stream",
     "text": [
      "Epoch 1/100\n"
     ]
    },
    {
     "name": "stderr",
     "output_type": "stream",
     "text": [
      "2024-07-30 12:23:21.840928: I tensorflow/compiler/xla/stream_executor/cuda/cuda_dnn.cc:442] Loaded cuDNN version 8907\n",
      "2024-07-30 12:23:23.254975: I tensorflow/compiler/xla/service/service.cc:168] XLA service 0x7f8b4830bf20 initialized for platform CUDA (this does not guarantee that XLA will be used). Devices:\n",
      "2024-07-30 12:23:23.255015: I tensorflow/compiler/xla/service/service.cc:176]   StreamExecutor device (0): CUDA GPU, Compute Capability 7.0\n",
      "2024-07-30 12:23:23.255022: I tensorflow/compiler/xla/service/service.cc:176]   StreamExecutor device (1): CUDA GPU, Compute Capability 7.0\n",
      "2024-07-30 12:23:23.255026: I tensorflow/compiler/xla/service/service.cc:176]   StreamExecutor device (2): CUDA GPU, Compute Capability 7.0\n",
      "2024-07-30 12:23:23.261055: I tensorflow/compiler/mlir/tensorflow/utils/dump_mlir_util.cc:269] disabling MLIR crash reproducer, set env var `MLIR_CRASH_REPRODUCER_DIRECTORY` to enable.\n",
      "2024-07-30 12:23:23.354303: I ./tensorflow/compiler/jit/device_compiler.h:186] Compiled cluster using XLA!  This line is logged at most once for the lifetime of the process.\n"
     ]
    },
    {
     "name": "stdout",
     "output_type": "stream",
     "text": [
      "71/71 [==============================] - ETA: 0s - loss: 0.5161 - accuracy: 0.7970\n",
      "Epoch 1: val_accuracy improved from -inf to 0.87567, saving model to /tmp/CMS2_CNN_1D_CheckPoint.h5\n"
     ]
    },
    {
     "name": "stderr",
     "output_type": "stream",
     "text": [
      "/usr/local/lib/python3.10/dist-packages/keras/src/engine/training.py:3079: UserWarning: You are saving your model as an HDF5 file via `model.save()`. This file format is considered legacy. We recommend using instead the native Keras format, e.g. `model.save('my_model.keras')`.\n",
      "  saving_api.save_model(\n"
     ]
    },
    {
     "name": "stdout",
     "output_type": "stream",
     "text": [
      "71/71 [==============================] - 6s 17ms/step - loss: 0.5161 - accuracy: 0.7970 - val_loss: 0.3255 - val_accuracy: 0.8757 - lr: 0.0010\n",
      "Epoch 2/100\n",
      "71/71 [==============================] - ETA: 0s - loss: 0.2806 - accuracy: 0.8801\n",
      "Epoch 2: val_accuracy did not improve from 0.87567\n",
      "71/71 [==============================] - 1s 7ms/step - loss: 0.2806 - accuracy: 0.8801 - val_loss: 0.4355 - val_accuracy: 0.7744 - lr: 0.0010\n",
      "Epoch 3/100\n",
      "71/71 [==============================] - ETA: 0s - loss: 0.2106 - accuracy: 0.9183\n",
      "Epoch 3: val_accuracy did not improve from 0.87567\n",
      "71/71 [==============================] - 1s 7ms/step - loss: 0.2106 - accuracy: 0.9183 - val_loss: 0.3999 - val_accuracy: 0.8224 - lr: 0.0010\n",
      "Epoch 4/100\n",
      "71/71 [==============================] - ETA: 0s - loss: 0.1729 - accuracy: 0.9387\n",
      "Epoch 4: val_accuracy did not improve from 0.87567\n",
      "71/71 [==============================] - 1s 7ms/step - loss: 0.1729 - accuracy: 0.9387 - val_loss: 0.4658 - val_accuracy: 0.8011 - lr: 0.0010\n",
      "Epoch 5/100\n",
      "64/71 [==========================>...] - ETA: 0s - loss: 0.1612 - accuracy: 0.9404\n",
      "Epoch 5: val_accuracy improved from 0.87567 to 0.95382, saving model to /tmp/CMS2_CNN_1D_CheckPoint.h5\n",
      "71/71 [==============================] - 1s 11ms/step - loss: 0.1625 - accuracy: 0.9409 - val_loss: 0.1333 - val_accuracy: 0.9538 - lr: 0.0010\n",
      "Epoch 6/100\n",
      "64/71 [==========================>...] - ETA: 0s - loss: 0.1421 - accuracy: 0.9492\n",
      "Epoch 6: val_accuracy did not improve from 0.95382\n",
      "71/71 [==============================] - 0s 7ms/step - loss: 0.1451 - accuracy: 0.9489 - val_loss: 0.1285 - val_accuracy: 0.9503 - lr: 0.0010\n",
      "Epoch 7/100\n",
      "64/71 [==========================>...] - ETA: 0s - loss: 0.1346 - accuracy: 0.9521\n",
      "Epoch 7: val_accuracy improved from 0.95382 to 0.96270, saving model to /tmp/CMS2_CNN_1D_CheckPoint.h5\n",
      "71/71 [==============================] - 1s 11ms/step - loss: 0.1343 - accuracy: 0.9516 - val_loss: 0.1067 - val_accuracy: 0.9627 - lr: 0.0010\n",
      "Epoch 8/100\n",
      "64/71 [==========================>...] - ETA: 0s - loss: 0.1430 - accuracy: 0.9497\n",
      "Epoch 8: val_accuracy improved from 0.96270 to 0.97158, saving model to /tmp/CMS2_CNN_1D_CheckPoint.h5\n",
      "71/71 [==============================] - 1s 11ms/step - loss: 0.1457 - accuracy: 0.9494 - val_loss: 0.0948 - val_accuracy: 0.9716 - lr: 0.0010\n",
      "Epoch 9/100\n",
      "64/71 [==========================>...] - ETA: 0s - loss: 0.1521 - accuracy: 0.9360\n",
      "Epoch 9: val_accuracy did not improve from 0.97158\n",
      "71/71 [==============================] - 0s 7ms/step - loss: 0.1475 - accuracy: 0.9387 - val_loss: 0.1124 - val_accuracy: 0.9609 - lr: 0.0010\n",
      "Epoch 10/100\n",
      "64/71 [==========================>...] - ETA: 0s - loss: 0.1413 - accuracy: 0.9502\n",
      "Epoch 10: val_accuracy did not improve from 0.97158\n",
      "71/71 [==============================] - 0s 7ms/step - loss: 0.1423 - accuracy: 0.9507 - val_loss: 0.1061 - val_accuracy: 0.9680 - lr: 0.0010\n",
      "Epoch 11/100\n",
      "64/71 [==========================>...] - ETA: 0s - loss: 0.1255 - accuracy: 0.9551\n",
      "Epoch 11: val_accuracy did not improve from 0.97158\n",
      "71/71 [==============================] - 0s 7ms/step - loss: 0.1277 - accuracy: 0.9542 - val_loss: 0.1114 - val_accuracy: 0.9609 - lr: 0.0010\n",
      "Epoch 12/100\n",
      "64/71 [==========================>...] - ETA: 0s - loss: 0.1302 - accuracy: 0.9521\n",
      "Epoch 12: val_accuracy did not improve from 0.97158\n",
      "71/71 [==============================] - 0s 7ms/step - loss: 0.1338 - accuracy: 0.9489 - val_loss: 0.0948 - val_accuracy: 0.9716 - lr: 0.0010\n",
      "Epoch 13/100\n",
      "63/71 [=========================>....] - ETA: 0s - loss: 0.1269 - accuracy: 0.9519\n",
      "Epoch 13: val_accuracy did not improve from 0.97158\n",
      "71/71 [==============================] - 0s 7ms/step - loss: 0.1320 - accuracy: 0.9494 - val_loss: 0.1289 - val_accuracy: 0.9520 - lr: 0.0010\n",
      "Epoch 14/100\n",
      "64/71 [==========================>...] - ETA: 0s - loss: 0.1119 - accuracy: 0.9570\n",
      "Epoch 14: val_accuracy improved from 0.97158 to 0.97336, saving model to /tmp/CMS2_CNN_1D_CheckPoint.h5\n",
      "71/71 [==============================] - 1s 11ms/step - loss: 0.1153 - accuracy: 0.9556 - val_loss: 0.0975 - val_accuracy: 0.9734 - lr: 5.0000e-04\n",
      "Epoch 15/100\n",
      "64/71 [==========================>...] - ETA: 0s - loss: 0.1200 - accuracy: 0.9556\n",
      "Epoch 15: val_accuracy did not improve from 0.97336\n",
      "71/71 [==============================] - 0s 7ms/step - loss: 0.1173 - accuracy: 0.9565 - val_loss: 0.1098 - val_accuracy: 0.9645 - lr: 5.0000e-04\n",
      "Epoch 16/100\n",
      "64/71 [==========================>...] - ETA: 0s - loss: 0.1151 - accuracy: 0.9580\n",
      "Epoch 16: val_accuracy did not improve from 0.97336\n",
      "71/71 [==============================] - 0s 7ms/step - loss: 0.1185 - accuracy: 0.9565 - val_loss: 0.0896 - val_accuracy: 0.9734 - lr: 5.0000e-04\n",
      "Epoch 17/100\n",
      "64/71 [==========================>...] - ETA: 0s - loss: 0.1099 - accuracy: 0.9565\n",
      "Epoch 17: val_accuracy did not improve from 0.97336\n",
      "71/71 [==============================] - 0s 7ms/step - loss: 0.1131 - accuracy: 0.9569 - val_loss: 0.0904 - val_accuracy: 0.9734 - lr: 5.0000e-04\n",
      "Epoch 18/100\n",
      "64/71 [==========================>...] - ETA: 0s - loss: 0.1144 - accuracy: 0.9585\n",
      "Epoch 18: val_accuracy did not improve from 0.97336\n",
      "71/71 [==============================] - 0s 7ms/step - loss: 0.1164 - accuracy: 0.9574 - val_loss: 0.0885 - val_accuracy: 0.9734 - lr: 5.0000e-04\n",
      "Epoch 19/100\n",
      "64/71 [==========================>...] - ETA: 0s - loss: 0.1130 - accuracy: 0.9619\n",
      "Epoch 19: val_accuracy did not improve from 0.97336\n",
      "71/71 [==============================] - 0s 7ms/step - loss: 0.1118 - accuracy: 0.9631 - val_loss: 0.0853 - val_accuracy: 0.9734 - lr: 5.0000e-04\n",
      "Epoch 20/100\n",
      "64/71 [==========================>...] - ETA: 0s - loss: 0.1204 - accuracy: 0.9570\n",
      "Epoch 20: val_accuracy did not improve from 0.97336\n",
      "71/71 [==============================] - 0s 7ms/step - loss: 0.1175 - accuracy: 0.9574 - val_loss: 0.0946 - val_accuracy: 0.9716 - lr: 5.0000e-04\n",
      "Epoch 21/100\n",
      "64/71 [==========================>...] - ETA: 0s - loss: 0.1019 - accuracy: 0.9624\n",
      "Epoch 21: val_accuracy did not improve from 0.97336\n",
      "71/71 [==============================] - 0s 7ms/step - loss: 0.1008 - accuracy: 0.9631 - val_loss: 0.0903 - val_accuracy: 0.9663 - lr: 5.0000e-04\n",
      "Epoch 22/100\n",
      "64/71 [==========================>...] - ETA: 0s - loss: 0.1057 - accuracy: 0.9600\n",
      "Epoch 22: val_accuracy did not improve from 0.97336\n",
      "71/71 [==============================] - 0s 7ms/step - loss: 0.1041 - accuracy: 0.9596 - val_loss: 0.0919 - val_accuracy: 0.9680 - lr: 5.0000e-04\n",
      "Epoch 23/100\n",
      "64/71 [==========================>...] - ETA: 0s - loss: 0.1130 - accuracy: 0.9536\n",
      "Epoch 23: val_accuracy did not improve from 0.97336\n",
      "71/71 [==============================] - 0s 7ms/step - loss: 0.1150 - accuracy: 0.9534 - val_loss: 0.0863 - val_accuracy: 0.9734 - lr: 5.0000e-04\n",
      "Epoch 24/100\n",
      "64/71 [==========================>...] - ETA: 0s - loss: 0.1067 - accuracy: 0.9575\n",
      "Epoch 24: val_accuracy did not improve from 0.97336\n",
      "71/71 [==============================] - 0s 7ms/step - loss: 0.1096 - accuracy: 0.9560 - val_loss: 0.0981 - val_accuracy: 0.9645 - lr: 5.0000e-04\n",
      "Epoch 25/100\n",
      "64/71 [==========================>...] - ETA: 0s - loss: 0.1105 - accuracy: 0.9561\n",
      "Epoch 25: val_accuracy did not improve from 0.97336\n",
      "71/71 [==============================] - 0s 7ms/step - loss: 0.1106 - accuracy: 0.9565 - val_loss: 0.0870 - val_accuracy: 0.9680 - lr: 2.5000e-04\n",
      "Epoch 26/100\n",
      "64/71 [==========================>...] - ETA: 0s - loss: 0.0989 - accuracy: 0.9624\n",
      "Epoch 26: val_accuracy did not improve from 0.97336\n",
      "71/71 [==============================] - 0s 7ms/step - loss: 0.0985 - accuracy: 0.9614 - val_loss: 0.0845 - val_accuracy: 0.9698 - lr: 2.5000e-04\n",
      "Epoch 27/100\n",
      "64/71 [==========================>...] - ETA: 0s - loss: 0.1026 - accuracy: 0.9590\n",
      "Epoch 27: val_accuracy did not improve from 0.97336\n",
      "71/71 [==============================] - 0s 7ms/step - loss: 0.1020 - accuracy: 0.9596 - val_loss: 0.0970 - val_accuracy: 0.9698 - lr: 2.5000e-04\n",
      "Epoch 28/100\n",
      "64/71 [==========================>...] - ETA: 0s - loss: 0.0947 - accuracy: 0.9663\n",
      "Epoch 28: val_accuracy did not improve from 0.97336\n",
      "71/71 [==============================] - 0s 7ms/step - loss: 0.0969 - accuracy: 0.9653 - val_loss: 0.1055 - val_accuracy: 0.9627 - lr: 2.5000e-04\n",
      "Epoch 29/100\n",
      "64/71 [==========================>...] - ETA: 0s - loss: 0.0955 - accuracy: 0.9648\n",
      "Epoch 29: val_accuracy did not improve from 0.97336\n",
      "71/71 [==============================] - 0s 7ms/step - loss: 0.0997 - accuracy: 0.9645 - val_loss: 0.1076 - val_accuracy: 0.9609 - lr: 2.5000e-04\n",
      "Epoch 30/100\n",
      "64/71 [==========================>...] - ETA: 0s - loss: 0.0993 - accuracy: 0.9629\n",
      "Epoch 30: val_accuracy did not improve from 0.97336\n",
      "71/71 [==============================] - 0s 7ms/step - loss: 0.1022 - accuracy: 0.9609 - val_loss: 0.1300 - val_accuracy: 0.9609 - lr: 2.5000e-04\n",
      "Epoch 31/100\n",
      "64/71 [==========================>...] - ETA: 0s - loss: 0.1022 - accuracy: 0.9604\n",
      "Epoch 31: val_accuracy improved from 0.97336 to 0.97513, saving model to /tmp/CMS2_CNN_1D_CheckPoint.h5\n",
      "71/71 [==============================] - 1s 11ms/step - loss: 0.0980 - accuracy: 0.9614 - val_loss: 0.0870 - val_accuracy: 0.9751 - lr: 2.5000e-04\n",
      "Epoch 32/100\n",
      "70/71 [============================>.] - ETA: 0s - loss: 0.0978 - accuracy: 0.9683\n",
      "Epoch 32: val_accuracy did not improve from 0.97513\n",
      "71/71 [==============================] - 1s 7ms/step - loss: 0.0975 - accuracy: 0.9685 - val_loss: 0.0840 - val_accuracy: 0.9680 - lr: 1.2500e-04\n",
      "Epoch 33/100\n",
      "63/71 [=========================>....] - ETA: 0s - loss: 0.0919 - accuracy: 0.9658\n",
      "Epoch 33: val_accuracy did not improve from 0.97513\n",
      "71/71 [==============================] - 0s 7ms/step - loss: 0.0970 - accuracy: 0.9667 - val_loss: 0.0866 - val_accuracy: 0.9698 - lr: 1.2500e-04\n",
      "Epoch 34/100\n",
      "64/71 [==========================>...] - ETA: 0s - loss: 0.0993 - accuracy: 0.9648\n",
      "Epoch 34: val_accuracy did not improve from 0.97513\n",
      "71/71 [==============================] - 0s 7ms/step - loss: 0.0994 - accuracy: 0.9653 - val_loss: 0.0899 - val_accuracy: 0.9663 - lr: 1.2500e-04\n",
      "Epoch 35/100\n",
      "64/71 [==========================>...] - ETA: 0s - loss: 0.0998 - accuracy: 0.9609\n",
      "Epoch 35: val_accuracy did not improve from 0.97513\n",
      "71/71 [==============================] - 0s 7ms/step - loss: 0.0980 - accuracy: 0.9622 - val_loss: 0.0857 - val_accuracy: 0.9645 - lr: 1.2500e-04\n",
      "Epoch 36/100\n",
      "64/71 [==========================>...] - ETA: 0s - loss: 0.0977 - accuracy: 0.9658\n",
      "Epoch 36: val_accuracy did not improve from 0.97513\n",
      "71/71 [==============================] - 0s 7ms/step - loss: 0.0962 - accuracy: 0.9667 - val_loss: 0.0865 - val_accuracy: 0.9734 - lr: 1.2500e-04\n",
      "Epoch 37/100\n",
      "64/71 [==========================>...] - ETA: 0s - loss: 0.0932 - accuracy: 0.9688\n",
      "Epoch 37: val_accuracy did not improve from 0.97513\n",
      "71/71 [==============================] - 0s 7ms/step - loss: 0.0946 - accuracy: 0.9671 - val_loss: 0.0970 - val_accuracy: 0.9645 - lr: 1.2500e-04\n",
      "Epoch 38/100\n",
      "64/71 [==========================>...] - ETA: 0s - loss: 0.0903 - accuracy: 0.9668\n",
      "Epoch 38: val_accuracy did not improve from 0.97513\n",
      "71/71 [==============================] - 0s 7ms/step - loss: 0.0906 - accuracy: 0.9658 - val_loss: 0.0898 - val_accuracy: 0.9680 - lr: 6.2500e-05\n",
      "Epoch 39/100\n",
      "64/71 [==========================>...] - ETA: 0s - loss: 0.0870 - accuracy: 0.9653\n",
      "Epoch 39: val_accuracy did not improve from 0.97513\n",
      "71/71 [==============================] - 0s 7ms/step - loss: 0.0874 - accuracy: 0.9653 - val_loss: 0.0918 - val_accuracy: 0.9609 - lr: 6.2500e-05\n",
      "Epoch 40/100\n",
      "64/71 [==========================>...] - ETA: 0s - loss: 0.0945 - accuracy: 0.9634\n",
      "Epoch 40: val_accuracy did not improve from 0.97513\n",
      "71/71 [==============================] - 0s 7ms/step - loss: 0.0901 - accuracy: 0.9653 - val_loss: 0.0994 - val_accuracy: 0.9627 - lr: 6.2500e-05\n",
      "Epoch 41/100\n",
      "64/71 [==========================>...] - ETA: 0s - loss: 0.0878 - accuracy: 0.9658\n",
      "Epoch 41: val_accuracy did not improve from 0.97513\n",
      "71/71 [==============================] - 0s 7ms/step - loss: 0.0897 - accuracy: 0.9636 - val_loss: 0.0878 - val_accuracy: 0.9680 - lr: 6.2500e-05\n",
      "Epoch 42/100\n",
      "64/71 [==========================>...] - ETA: 0s - loss: 0.0944 - accuracy: 0.9585\n",
      "Epoch 42: val_accuracy did not improve from 0.97513\n",
      "71/71 [==============================] - 0s 7ms/step - loss: 0.0907 - accuracy: 0.9605 - val_loss: 0.0912 - val_accuracy: 0.9627 - lr: 6.2500e-05\n",
      "Epoch 43/100\n",
      "63/71 [=========================>....] - ETA: 0s - loss: 0.0976 - accuracy: 0.9618\n",
      "Epoch 43: val_accuracy did not improve from 0.97513\n",
      "71/71 [==============================] - 0s 7ms/step - loss: 0.0970 - accuracy: 0.9622 - val_loss: 0.0884 - val_accuracy: 0.9663 - lr: 3.1250e-05\n",
      "Epoch 44/100\n",
      "64/71 [==========================>...] - ETA: 0s - loss: 0.0913 - accuracy: 0.9629\n",
      "Epoch 44: val_accuracy did not improve from 0.97513\n",
      "71/71 [==============================] - 0s 7ms/step - loss: 0.0925 - accuracy: 0.9636 - val_loss: 0.0900 - val_accuracy: 0.9645 - lr: 3.1250e-05\n",
      "Epoch 45/100\n",
      "64/71 [==========================>...] - ETA: 0s - loss: 0.0934 - accuracy: 0.9668\n",
      "Epoch 45: val_accuracy did not improve from 0.97513\n",
      "71/71 [==============================] - 0s 7ms/step - loss: 0.0914 - accuracy: 0.9680 - val_loss: 0.0936 - val_accuracy: 0.9609 - lr: 3.1250e-05\n",
      "Epoch 46/100\n",
      "64/71 [==========================>...] - ETA: 0s - loss: 0.0943 - accuracy: 0.9653\n",
      "Epoch 46: val_accuracy did not improve from 0.97513\n",
      "71/71 [==============================] - 0s 7ms/step - loss: 0.0936 - accuracy: 0.9649 - val_loss: 0.0912 - val_accuracy: 0.9645 - lr: 3.1250e-05\n",
      "Epoch 47/100\n",
      "64/71 [==========================>...] - ETA: 0s - loss: 0.0893 - accuracy: 0.9639\n",
      "Epoch 47: val_accuracy did not improve from 0.97513\n",
      "71/71 [==============================] - 0s 7ms/step - loss: 0.0875 - accuracy: 0.9645 - val_loss: 0.0897 - val_accuracy: 0.9663 - lr: 3.1250e-05\n",
      "Epoch 48/100\n",
      "64/71 [==========================>...] - ETA: 0s - loss: 0.0879 - accuracy: 0.9644\n",
      "Epoch 48: val_accuracy did not improve from 0.97513\n",
      "71/71 [==============================] - 0s 7ms/step - loss: 0.0875 - accuracy: 0.9645 - val_loss: 0.0912 - val_accuracy: 0.9645 - lr: 1.5625e-05\n",
      "Epoch 49/100\n",
      "64/71 [==========================>...] - ETA: 0s - loss: 0.0865 - accuracy: 0.9688\n",
      "Epoch 49: val_accuracy did not improve from 0.97513\n",
      "71/71 [==============================] - 0s 7ms/step - loss: 0.0884 - accuracy: 0.9671 - val_loss: 0.0899 - val_accuracy: 0.9645 - lr: 1.5625e-05\n",
      "Epoch 50/100\n",
      "64/71 [==========================>...] - ETA: 0s - loss: 0.0885 - accuracy: 0.9678\n",
      "Epoch 50: val_accuracy did not improve from 0.97513\n",
      "71/71 [==============================] - 0s 7ms/step - loss: 0.0891 - accuracy: 0.9676 - val_loss: 0.0879 - val_accuracy: 0.9680 - lr: 1.5625e-05\n",
      "Epoch 51/100\n",
      "64/71 [==========================>...] - ETA: 0s - loss: 0.0872 - accuracy: 0.9663\n",
      "Epoch 51: val_accuracy did not improve from 0.97513\n",
      "71/71 [==============================] - 0s 7ms/step - loss: 0.0886 - accuracy: 0.9658 - val_loss: 0.0924 - val_accuracy: 0.9609 - lr: 1.5625e-05\n",
      "Epoch 52/100\n",
      "64/71 [==========================>...] - ETA: 0s - loss: 0.0903 - accuracy: 0.9658\n",
      "Epoch 52: val_accuracy did not improve from 0.97513\n",
      "71/71 [==============================] - 0s 7ms/step - loss: 0.0878 - accuracy: 0.9671 - val_loss: 0.0909 - val_accuracy: 0.9645 - lr: 1.5625e-05\n",
      "Epoch 53/100\n",
      "64/71 [==========================>...] - ETA: 0s - loss: 0.0847 - accuracy: 0.9653\n",
      "Epoch 53: val_accuracy did not improve from 0.97513\n",
      "71/71 [==============================] - 0s 7ms/step - loss: 0.0872 - accuracy: 0.9636 - val_loss: 0.0909 - val_accuracy: 0.9645 - lr: 1.0000e-05\n",
      "Epoch 54/100\n",
      "63/71 [=========================>....] - ETA: 0s - loss: 0.0858 - accuracy: 0.9678\n",
      "Epoch 54: val_accuracy did not improve from 0.97513\n",
      "71/71 [==============================] - 0s 7ms/step - loss: 0.0908 - accuracy: 0.9667 - val_loss: 0.0880 - val_accuracy: 0.9663 - lr: 1.0000e-05\n",
      "Epoch 55/100\n",
      "64/71 [==========================>...] - ETA: 0s - loss: 0.0989 - accuracy: 0.9639\n",
      "Epoch 55: val_accuracy did not improve from 0.97513\n",
      "71/71 [==============================] - 0s 7ms/step - loss: 0.0957 - accuracy: 0.9649 - val_loss: 0.0964 - val_accuracy: 0.9609 - lr: 1.0000e-05\n",
      "Epoch 56/100\n",
      "64/71 [==========================>...] - ETA: 0s - loss: 0.0909 - accuracy: 0.9673\n",
      "Epoch 56: val_accuracy did not improve from 0.97513\n",
      "71/71 [==============================] - 0s 7ms/step - loss: 0.0907 - accuracy: 0.9680 - val_loss: 0.0990 - val_accuracy: 0.9627 - lr: 1.0000e-05\n",
      "Epoch 57/100\n",
      "64/71 [==========================>...] - ETA: 0s - loss: 0.0849 - accuracy: 0.9702\n",
      "Epoch 57: val_accuracy did not improve from 0.97513\n",
      "71/71 [==============================] - 0s 7ms/step - loss: 0.0836 - accuracy: 0.9702 - val_loss: 0.0928 - val_accuracy: 0.9609 - lr: 1.0000e-05\n",
      "Epoch 58/100\n",
      "64/71 [==========================>...] - ETA: 0s - loss: 0.0862 - accuracy: 0.9653\n",
      "Epoch 58: val_accuracy did not improve from 0.97513\n",
      "71/71 [==============================] - 0s 7ms/step - loss: 0.0865 - accuracy: 0.9658 - val_loss: 0.0904 - val_accuracy: 0.9645 - lr: 1.0000e-05\n",
      "Epoch 59/100\n",
      "64/71 [==========================>...] - ETA: 0s - loss: 0.0842 - accuracy: 0.9668\n",
      "Epoch 59: val_accuracy did not improve from 0.97513\n",
      "71/71 [==============================] - 0s 7ms/step - loss: 0.0846 - accuracy: 0.9676 - val_loss: 0.0897 - val_accuracy: 0.9645 - lr: 1.0000e-05\n",
      "Epoch 60/100\n",
      "64/71 [==========================>...] - ETA: 0s - loss: 0.1002 - accuracy: 0.9590\n",
      "Epoch 60: val_accuracy did not improve from 0.97513\n",
      "71/71 [==============================] - 0s 7ms/step - loss: 0.0972 - accuracy: 0.9609 - val_loss: 0.0885 - val_accuracy: 0.9663 - lr: 1.0000e-05\n",
      "Epoch 61/100\n",
      "64/71 [==========================>...] - ETA: 0s - loss: 0.0866 - accuracy: 0.9673\n",
      "Epoch 61: val_accuracy did not improve from 0.97513\n",
      "71/71 [==============================] - 0s 7ms/step - loss: 0.0848 - accuracy: 0.9685 - val_loss: 0.0880 - val_accuracy: 0.9663 - lr: 1.0000e-05\n",
      "Epoch 62/100\n",
      "64/71 [==========================>...] - ETA: 0s - loss: 0.0923 - accuracy: 0.9614\n",
      "Epoch 62: val_accuracy did not improve from 0.97513\n",
      "71/71 [==============================] - 0s 7ms/step - loss: 0.0906 - accuracy: 0.9622 - val_loss: 0.0885 - val_accuracy: 0.9663 - lr: 1.0000e-05\n",
      "Epoch 63/100\n",
      "64/71 [==========================>...] - ETA: 0s - loss: 0.0875 - accuracy: 0.9678\n",
      "Epoch 63: val_accuracy did not improve from 0.97513\n",
      "71/71 [==============================] - 0s 7ms/step - loss: 0.0913 - accuracy: 0.9680 - val_loss: 0.0873 - val_accuracy: 0.9680 - lr: 1.0000e-05\n",
      "Epoch 64/100\n",
      "64/71 [==========================>...] - ETA: 0s - loss: 0.0908 - accuracy: 0.9678\n",
      "Epoch 64: val_accuracy did not improve from 0.97513\n",
      "71/71 [==============================] - 0s 7ms/step - loss: 0.0885 - accuracy: 0.9685 - val_loss: 0.0875 - val_accuracy: 0.9663 - lr: 1.0000e-05\n",
      "Epoch 65/100\n",
      "64/71 [==========================>...] - ETA: 0s - loss: 0.0799 - accuracy: 0.9697\n",
      "Epoch 65: val_accuracy did not improve from 0.97513\n",
      "71/71 [==============================] - 0s 7ms/step - loss: 0.0836 - accuracy: 0.9676 - val_loss: 0.0883 - val_accuracy: 0.9680 - lr: 1.0000e-05\n",
      "Epoch 66/100\n",
      "64/71 [==========================>...] - ETA: 0s - loss: 0.0862 - accuracy: 0.9702\n",
      "Epoch 66: val_accuracy did not improve from 0.97513\n",
      "71/71 [==============================] - 0s 7ms/step - loss: 0.0888 - accuracy: 0.9680 - val_loss: 0.0930 - val_accuracy: 0.9609 - lr: 1.0000e-05\n",
      "Epoch 67/100\n",
      "64/71 [==========================>...] - ETA: 0s - loss: 0.0940 - accuracy: 0.9634\n",
      "Epoch 67: val_accuracy did not improve from 0.97513\n",
      "71/71 [==============================] - 0s 7ms/step - loss: 0.0908 - accuracy: 0.9645 - val_loss: 0.0972 - val_accuracy: 0.9627 - lr: 1.0000e-05\n",
      "Epoch 68/100\n",
      "63/71 [=========================>....] - ETA: 0s - loss: 0.0861 - accuracy: 0.9638\n",
      "Epoch 68: val_accuracy did not improve from 0.97513\n",
      "71/71 [==============================] - 0s 7ms/step - loss: 0.0871 - accuracy: 0.9653 - val_loss: 0.0935 - val_accuracy: 0.9609 - lr: 1.0000e-05\n",
      "Epoch 69/100\n",
      "64/71 [==========================>...] - ETA: 0s - loss: 0.0828 - accuracy: 0.9648\n",
      "Epoch 69: val_accuracy did not improve from 0.97513\n",
      "71/71 [==============================] - 0s 7ms/step - loss: 0.0874 - accuracy: 0.9645 - val_loss: 0.0900 - val_accuracy: 0.9645 - lr: 1.0000e-05\n",
      "Epoch 70/100\n",
      "64/71 [==========================>...] - ETA: 0s - loss: 0.0871 - accuracy: 0.9653\n",
      "Epoch 70: val_accuracy did not improve from 0.97513\n",
      "71/71 [==============================] - 0s 7ms/step - loss: 0.0864 - accuracy: 0.9658 - val_loss: 0.0968 - val_accuracy: 0.9627 - lr: 1.0000e-05\n",
      "Epoch 71/100\n",
      "64/71 [==========================>...] - ETA: 0s - loss: 0.0914 - accuracy: 0.9658\n",
      "Epoch 71: val_accuracy did not improve from 0.97513\n",
      "71/71 [==============================] - 0s 7ms/step - loss: 0.0903 - accuracy: 0.9653 - val_loss: 0.0968 - val_accuracy: 0.9627 - lr: 1.0000e-05\n",
      "Epoch 72/100\n",
      "64/71 [==========================>...] - ETA: 0s - loss: 0.0852 - accuracy: 0.9707\n",
      "Epoch 72: val_accuracy did not improve from 0.97513\n",
      "71/71 [==============================] - 0s 7ms/step - loss: 0.0831 - accuracy: 0.9716 - val_loss: 0.0953 - val_accuracy: 0.9609 - lr: 1.0000e-05\n",
      "Epoch 73/100\n",
      "64/71 [==========================>...] - ETA: 0s - loss: 0.0829 - accuracy: 0.9702\n",
      "Epoch 73: val_accuracy did not improve from 0.97513\n",
      "71/71 [==============================] - 0s 7ms/step - loss: 0.0859 - accuracy: 0.9685 - val_loss: 0.0907 - val_accuracy: 0.9627 - lr: 1.0000e-05\n",
      "Epoch 74/100\n",
      "64/71 [==========================>...] - ETA: 0s - loss: 0.0863 - accuracy: 0.9678\n",
      "Epoch 74: val_accuracy did not improve from 0.97513\n",
      "71/71 [==============================] - 0s 7ms/step - loss: 0.0830 - accuracy: 0.9680 - val_loss: 0.0885 - val_accuracy: 0.9645 - lr: 1.0000e-05\n",
      "Epoch 75/100\n",
      "64/71 [==========================>...] - ETA: 0s - loss: 0.0828 - accuracy: 0.9702\n",
      "Epoch 75: val_accuracy did not improve from 0.97513\n",
      "71/71 [==============================] - 0s 7ms/step - loss: 0.0842 - accuracy: 0.9698 - val_loss: 0.0852 - val_accuracy: 0.9680 - lr: 1.0000e-05\n",
      "Epoch 76/100\n",
      "64/71 [==========================>...] - ETA: 0s - loss: 0.0890 - accuracy: 0.9663\n",
      "Epoch 76: val_accuracy did not improve from 0.97513\n",
      "71/71 [==============================] - 0s 7ms/step - loss: 0.0918 - accuracy: 0.9667 - val_loss: 0.0831 - val_accuracy: 0.9680 - lr: 1.0000e-05\n",
      "Epoch 77/100\n",
      "64/71 [==========================>...] - ETA: 0s - loss: 0.0794 - accuracy: 0.9707\n",
      "Epoch 77: val_accuracy did not improve from 0.97513\n",
      "71/71 [==============================] - 0s 7ms/step - loss: 0.0848 - accuracy: 0.9693 - val_loss: 0.0873 - val_accuracy: 0.9645 - lr: 1.0000e-05\n",
      "Epoch 78/100\n",
      "64/71 [==========================>...] - ETA: 0s - loss: 0.0905 - accuracy: 0.9692\n",
      "Epoch 78: val_accuracy did not improve from 0.97513\n",
      "71/71 [==============================] - 0s 7ms/step - loss: 0.0891 - accuracy: 0.9693 - val_loss: 0.0868 - val_accuracy: 0.9663 - lr: 1.0000e-05\n",
      "Epoch 79/100\n",
      "64/71 [==========================>...] - ETA: 0s - loss: 0.0860 - accuracy: 0.9722\n",
      "Epoch 79: val_accuracy did not improve from 0.97513\n",
      "71/71 [==============================] - 0s 7ms/step - loss: 0.0873 - accuracy: 0.9716 - val_loss: 0.0881 - val_accuracy: 0.9663 - lr: 1.0000e-05\n",
      "Epoch 80/100\n",
      "64/71 [==========================>...] - ETA: 0s - loss: 0.0800 - accuracy: 0.9697\n",
      "Epoch 80: val_accuracy did not improve from 0.97513\n",
      "71/71 [==============================] - 0s 7ms/step - loss: 0.0864 - accuracy: 0.9662 - val_loss: 0.0904 - val_accuracy: 0.9627 - lr: 1.0000e-05\n",
      "Epoch 81/100\n",
      "64/71 [==========================>...] - ETA: 0s - loss: 0.0913 - accuracy: 0.9658\n",
      "Epoch 81: val_accuracy did not improve from 0.97513\n",
      "71/71 [==============================] - 0s 7ms/step - loss: 0.0907 - accuracy: 0.9653 - val_loss: 0.0887 - val_accuracy: 0.9645 - lr: 1.0000e-05\n",
      "Epoch 82/100\n",
      "64/71 [==========================>...] - ETA: 0s - loss: 0.0852 - accuracy: 0.9673\n",
      "Epoch 82: val_accuracy did not improve from 0.97513\n",
      "71/71 [==============================] - 0s 7ms/step - loss: 0.0862 - accuracy: 0.9667 - val_loss: 0.0910 - val_accuracy: 0.9627 - lr: 1.0000e-05\n",
      "Epoch 83/100\n",
      "64/71 [==========================>...] - ETA: 0s - loss: 0.0849 - accuracy: 0.9663\n",
      "Epoch 83: val_accuracy did not improve from 0.97513\n",
      "71/71 [==============================] - 0s 7ms/step - loss: 0.0874 - accuracy: 0.9662 - val_loss: 0.0909 - val_accuracy: 0.9609 - lr: 1.0000e-05\n",
      "Epoch 84/100\n",
      "64/71 [==========================>...] - ETA: 0s - loss: 0.0878 - accuracy: 0.9673\n",
      "Epoch 84: val_accuracy did not improve from 0.97513\n",
      "71/71 [==============================] - 0s 7ms/step - loss: 0.0899 - accuracy: 0.9653 - val_loss: 0.0928 - val_accuracy: 0.9609 - lr: 1.0000e-05\n",
      "Epoch 85/100\n",
      "64/71 [==========================>...] - ETA: 0s - loss: 0.0851 - accuracy: 0.9663\n",
      "Epoch 85: val_accuracy did not improve from 0.97513\n",
      "71/71 [==============================] - 0s 7ms/step - loss: 0.0842 - accuracy: 0.9676 - val_loss: 0.0913 - val_accuracy: 0.9645 - lr: 1.0000e-05\n",
      "Epoch 86/100\n",
      "64/71 [==========================>...] - ETA: 0s - loss: 0.0869 - accuracy: 0.9692\n",
      "Epoch 86: val_accuracy did not improve from 0.97513\n",
      "71/71 [==============================] - 0s 7ms/step - loss: 0.0877 - accuracy: 0.9693 - val_loss: 0.0886 - val_accuracy: 0.9627 - lr: 1.0000e-05\n",
      "Epoch 87/100\n",
      "64/71 [==========================>...] - ETA: 0s - loss: 0.0819 - accuracy: 0.9692\n",
      "Epoch 87: val_accuracy did not improve from 0.97513\n",
      "71/71 [==============================] - 0s 7ms/step - loss: 0.0833 - accuracy: 0.9685 - val_loss: 0.0941 - val_accuracy: 0.9627 - lr: 1.0000e-05\n",
      "Epoch 88/100\n",
      "71/71 [==============================] - ETA: 0s - loss: 0.0886 - accuracy: 0.9627\n",
      "Epoch 88: val_accuracy did not improve from 0.97513\n",
      "71/71 [==============================] - 0s 7ms/step - loss: 0.0886 - accuracy: 0.9627 - val_loss: 0.0955 - val_accuracy: 0.9609 - lr: 1.0000e-05\n",
      "Epoch 89/100\n",
      "64/71 [==========================>...] - ETA: 0s - loss: 0.0889 - accuracy: 0.9644\n",
      "Epoch 89: val_accuracy did not improve from 0.97513\n",
      "71/71 [==============================] - 0s 7ms/step - loss: 0.0877 - accuracy: 0.9645 - val_loss: 0.0975 - val_accuracy: 0.9645 - lr: 1.0000e-05\n",
      "Epoch 90/100\n",
      "64/71 [==========================>...] - ETA: 0s - loss: 0.0833 - accuracy: 0.9678\n",
      "Epoch 90: val_accuracy did not improve from 0.97513\n",
      "71/71 [==============================] - 0s 7ms/step - loss: 0.0821 - accuracy: 0.9671 - val_loss: 0.0989 - val_accuracy: 0.9645 - lr: 1.0000e-05\n",
      "Epoch 91/100\n",
      "64/71 [==========================>...] - ETA: 0s - loss: 0.0860 - accuracy: 0.9653\n",
      "Epoch 91: val_accuracy did not improve from 0.97513\n",
      "71/71 [==============================] - 0s 7ms/step - loss: 0.0851 - accuracy: 0.9667 - val_loss: 0.0926 - val_accuracy: 0.9609 - lr: 1.0000e-05\n",
      "Epoch 92/100\n",
      "64/71 [==========================>...] - ETA: 0s - loss: 0.0977 - accuracy: 0.9629\n",
      "Epoch 92: val_accuracy did not improve from 0.97513\n",
      "71/71 [==============================] - 0s 7ms/step - loss: 0.0929 - accuracy: 0.9653 - val_loss: 0.0932 - val_accuracy: 0.9609 - lr: 1.0000e-05\n",
      "Epoch 93/100\n",
      "64/71 [==========================>...] - ETA: 0s - loss: 0.0846 - accuracy: 0.9683\n",
      "Epoch 93: val_accuracy did not improve from 0.97513\n",
      "71/71 [==============================] - 0s 7ms/step - loss: 0.0853 - accuracy: 0.9676 - val_loss: 0.0880 - val_accuracy: 0.9663 - lr: 1.0000e-05\n",
      "Epoch 94/100\n",
      "64/71 [==========================>...] - ETA: 0s - loss: 0.0803 - accuracy: 0.9673\n",
      "Epoch 94: val_accuracy did not improve from 0.97513\n",
      "71/71 [==============================] - 0s 7ms/step - loss: 0.0843 - accuracy: 0.9662 - val_loss: 0.0895 - val_accuracy: 0.9627 - lr: 1.0000e-05\n",
      "Epoch 95/100\n",
      "64/71 [==========================>...] - ETA: 0s - loss: 0.0819 - accuracy: 0.9688\n",
      "Epoch 95: val_accuracy did not improve from 0.97513\n",
      "71/71 [==============================] - 0s 7ms/step - loss: 0.0867 - accuracy: 0.9667 - val_loss: 0.0887 - val_accuracy: 0.9627 - lr: 1.0000e-05\n",
      "Epoch 96/100\n",
      "64/71 [==========================>...] - ETA: 0s - loss: 0.0794 - accuracy: 0.9707\n",
      "Epoch 96: val_accuracy did not improve from 0.97513\n",
      "71/71 [==============================] - 0s 7ms/step - loss: 0.0836 - accuracy: 0.9685 - val_loss: 0.0888 - val_accuracy: 0.9627 - lr: 1.0000e-05\n",
      "Epoch 97/100\n",
      "64/71 [==========================>...] - ETA: 0s - loss: 0.0893 - accuracy: 0.9653\n",
      "Epoch 97: val_accuracy did not improve from 0.97513\n",
      "71/71 [==============================] - 0s 7ms/step - loss: 0.0874 - accuracy: 0.9653 - val_loss: 0.0946 - val_accuracy: 0.9609 - lr: 1.0000e-05\n",
      "Epoch 98/100\n",
      "64/71 [==========================>...] - ETA: 0s - loss: 0.0841 - accuracy: 0.9673\n",
      "Epoch 98: val_accuracy did not improve from 0.97513\n",
      "71/71 [==============================] - 0s 7ms/step - loss: 0.0871 - accuracy: 0.9662 - val_loss: 0.0955 - val_accuracy: 0.9609 - lr: 1.0000e-05\n",
      "Epoch 99/100\n",
      "64/71 [==========================>...] - ETA: 0s - loss: 0.0897 - accuracy: 0.9678\n",
      "Epoch 99: val_accuracy did not improve from 0.97513\n",
      "71/71 [==============================] - 0s 7ms/step - loss: 0.0893 - accuracy: 0.9680 - val_loss: 0.0972 - val_accuracy: 0.9645 - lr: 1.0000e-05\n",
      "Epoch 100/100\n",
      "64/71 [==========================>...] - ETA: 0s - loss: 0.0871 - accuracy: 0.9653\n",
      "Epoch 100: val_accuracy did not improve from 0.97513\n",
      "71/71 [==============================] - 0s 7ms/step - loss: 0.0839 - accuracy: 0.9671 - val_loss: 0.0883 - val_accuracy: 0.9645 - lr: 1.0000e-05\n"
     ]
    },
    {
     "data": {
      "text/plain": [
       "<keras.src.callbacks.History at 0x7f8d445ae560>"
      ]
     },
     "execution_count": 10,
     "metadata": {},
     "output_type": "execute_result"
    }
   ],
   "source": [
    "model.fit(X_train, y_train, epochs=100, batch_size=32, validation_data=(X_val, y_val), callbacks=[reduce_lr, checkpoint])"
   ]
  },
  {
   "cell_type": "markdown",
   "metadata": {},
   "source": [
    "# Load Best CheckPoint"
   ]
  },
  {
   "cell_type": "code",
   "execution_count": 11,
   "metadata": {},
   "outputs": [
    {
     "name": "stdout",
     "output_type": "stream",
     "text": [
      "2/2 [==============================] - 0s 29ms/step - loss: 0.0858 - accuracy: 0.9710\n"
     ]
    },
    {
     "data": {
      "text/plain": [
       "[0.0857851579785347, 0.9709784388542175]"
      ]
     },
     "execution_count": 11,
     "metadata": {},
     "output_type": "execute_result"
    }
   ],
   "source": [
    "cp_model = load_model('/tmp/CMS2_CNN_1D_CheckPoint.h5')\n",
    "cp_model.evaluate(X_test, y_test, batch_size=1000)"
   ]
  },
  {
   "cell_type": "markdown",
   "metadata": {},
   "source": [
    "# Evaluate"
   ]
  },
  {
   "cell_type": "code",
   "execution_count": 12,
   "metadata": {},
   "outputs": [
    {
     "name": "stdout",
     "output_type": "stream",
     "text": [
      "38/38 [==============================] - 0s 2ms/step\n"
     ]
    }
   ],
   "source": [
    "y_pred = cp_model.predict(X_test)"
   ]
  },
  {
   "cell_type": "code",
   "execution_count": 13,
   "metadata": {},
   "outputs": [],
   "source": [
    "preds_single = CLASSES[np.argmax(y_pred, axis = -1)]\n",
    "actual_single = CLASSES[np.argmax(y_test, axis = -1)]"
   ]
  },
  {
   "cell_type": "code",
   "execution_count": 14,
   "metadata": {},
   "outputs": [
    {
     "data": {
      "image/png": "[encoded data removed]",
      "text/plain": [
       "<Figure size 1500x500 with 10 Axes>"
      ]
     },
     "metadata": {},
     "output_type": "display_data"
    }
   ],
   "source": [
    "n_to_show = 10\n",
    "indices = np.random.choice(range(len(X_test)), n_to_show)\n",
    "\n",
    "fig = plt.figure(figsize=(15, 5))\n",
    "fig.subplots_adjust(hspace=0.4, wspace=0.4)\n",
    "\n",
    "for i, idx in enumerate(indices):\n",
    "    data = X_test[idx]\n",
    "    ax = fig.add_subplot(1, n_to_show, i+1)\n",
    "    ax.plot(data)\n",
    "    ax.axis('off')\n",
    "    ax.text(0.5, -0.2, 'pred = ' + str(preds_single[idx]), fontsize=10, ha='center', transform=ax.transAxes) \n",
    "    ax.text(0.5, -0.4, 'act = ' + str(actual_single[idx]), fontsize=10, ha='center', transform=ax.transAxes)\n",
    "\n",
    "plt.show()"
   ]
  },
  {
   "cell_type": "markdown",
   "metadata": {},
   "source": [
    "# Classification Results"
   ]
  },
  {
   "cell_type": "code",
   "execution_count": 15,
   "metadata": {},
   "outputs": [
    {
     "name": "stdout",
     "output_type": "stream",
     "text": [
      "              precision    recall  f1-score   support\n",
      "\n",
      "           0       0.97      0.98      0.97       624\n",
      "           1       0.98      0.96      0.97       582\n",
      "\n",
      "    accuracy                           0.97      1206\n",
      "   macro avg       0.97      0.97      0.97      1206\n",
      "weighted avg       0.97      0.97      0.97      1206\n",
      "\n"
     ]
    }
   ],
   "source": [
    "y_pred_classes = tf.argmax(y_pred, axis=1)\n",
    "y_test_classes = tf.argmax(y_test, axis=1)\n",
    "\n",
    "print(classification_report(y_test_classes, y_pred_classes))"
   ]
  },
  {
   "cell_type": "markdown",
   "metadata": {},
   "source": [
    "# Confusion MatriX"
   ]
  },
  {
   "cell_type": "code",
   "execution_count": 16,
   "metadata": {},
   "outputs": [
    {
     "name": "stdout",
     "output_type": "stream",
     "text": [
      "Confusion Matrix:\n",
      "            Legitimate  Suspicious\n",
      "Legitimate         611          13\n",
      "Suspicious          22         560\n"
     ]
    }
   ],
   "source": [
    "conf_matrix = confusion_matrix(y_test_classes, y_pred_classes)\n",
    "\n",
    "class_labels = ['Legitimate', 'Suspicious']\n",
    "\n",
    "conf_matrix_df = pd.DataFrame(conf_matrix, index=class_labels, columns=class_labels)\n",
    "\n",
    "print(\"Confusion Matrix:\")\n",
    "print(conf_matrix_df)"
   ]
  },
  {
   "cell_type": "code",
   "execution_count": null,
   "metadata": {},
   "outputs": [],
   "source": []
  }
 ],
 "metadata": {
  "kernelspec": {
   "display_name": "Python 3.10 (NGC 24.01 / TensorFlow 2.14) on Backend.AI",
   "language": "python",
   "name": "python3"
  },
  "language_info": {
   "codemirror_mode": {
    "name": "ipython",
    "version": 3
   },
   "file_extension": ".py",
   "mimetype": "text/x-python",
   "name": "python",
   "nbconvert_exporter": "python",
   "pygments_lexer": "ipython3",
   "version": "3.10.12"
  }
 },
 "nbformat": 4,
 "nbformat_minor": 4
}
