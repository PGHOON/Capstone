{
 "cells": [
  {
   "cell_type": "code",
   "execution_count": 1,
   "metadata": {},
   "outputs": [
    {
     "name": "stderr",
     "output_type": "stream",
     "text": [
      "2024-07-30 21:57:20.606855: I tensorflow/core/util/port.cc:111] oneDNN custom operations are on. You may see slightly different numerical results due to floating-point round-off errors from different computation orders. To turn them off, set the environment variable `TF_ENABLE_ONEDNN_OPTS=0`.\n",
      "2024-07-30 21:57:20.657940: E tensorflow/compiler/xla/stream_executor/cuda/cuda_dnn.cc:9360] Unable to register cuDNN factory: Attempting to register factory for plugin cuDNN when one has already been registered\n",
      "2024-07-30 21:57:20.657981: E tensorflow/compiler/xla/stream_executor/cuda/cuda_fft.cc:609] Unable to register cuFFT factory: Attempting to register factory for plugin cuFFT when one has already been registered\n",
      "2024-07-30 21:57:20.658011: E tensorflow/compiler/xla/stream_executor/cuda/cuda_blas.cc:1537] Unable to register cuBLAS factory: Attempting to register factory for plugin cuBLAS when one has already been registered\n",
      "2024-07-30 21:57:20.666985: I tensorflow/core/platform/cpu_feature_guard.cc:183] This TensorFlow binary is optimized to use available CPU instructions in performance-critical operations.\n",
      "To enable the following instructions: SSE3 SSE4.1 SSE4.2 AVX, in other operations, rebuild TensorFlow with the appropriate compiler flags.\n"
     ]
    }
   ],
   "source": [
    "from concurrent.futures import ThreadPoolExecutor, as_completed\n",
    "\n",
    "import os\n",
    "import pandas as pd\n",
    "import numpy as np\n",
    "import tensorflow as tf\n",
    "import matplotlib.pyplot as plt\n",
    "\n",
    "from multiprocessing import Pool\n",
    "from sklearn.preprocessing import StandardScaler\n",
    "\n",
    "from keras.models import Model\n",
    "from keras.optimizers import Adam\n",
    "from keras.models import load_model\n",
    "from keras.utils import to_categorical\n",
    "from keras.callbacks import ModelCheckpoint, ReduceLROnPlateau\n",
    "from keras.layers import Input, Conv1D, BatchNormalization, LeakyReLU, MaxPooling1D, GlobalAveragePooling1D, Dense, Dropout, Activation, Add, Flatten\n",
    "\n",
    "from sklearn.preprocessing import LabelEncoder\n",
    "from sklearn.model_selection import train_test_split\n",
    "from sklearn.metrics import classification_report, confusion_matrix\n",
    "\n",
    "from tensorflow.keras.callbacks import ModelCheckpoint"
   ]
  },
  {
   "cell_type": "markdown",
   "metadata": {},
   "source": [
    "# Load csv from Desktop"
   ]
  },
  {
   "cell_type": "code",
   "execution_count": 2,
   "metadata": {},
   "outputs": [],
   "source": [
    "NUM_CLASSES = 2\n",
    "CLASSES = np.array(['Legitimate', 'Suspicious'])\n",
    "DATASET_DIR = \"./\"\n",
    "VECTOR_LENGTH = 1 * 165\n",
    "\n",
    "def csvToVector(file_path):\n",
    "    data = pd.read_csv(file_path, header=None)\n",
    "    vector = data.values.flatten()\n",
    "    return vector\n",
    "\n",
    "def process_file(class_idx, file_path):\n",
    "    vector = csvToVector(file_path)\n",
    "    return (vector, class_idx)\n",
    "\n",
    "def load_data(dataset_dir):\n",
    "    X = []\n",
    "    y = []\n",
    "    subdirs = ['benign_cms4', 'malware_cms4']\n",
    "    futures = []\n",
    "\n",
    "    with ThreadPoolExecutor() as executor:\n",
    "        for class_idx, class_name in enumerate(subdirs):\n",
    "            class_dir = os.path.join(dataset_dir, class_name)\n",
    "            for file_name in os.listdir(class_dir):\n",
    "                if file_name.endswith('.csv'):\n",
    "                    file_path = os.path.join(class_dir, file_name)\n",
    "                    futures.append(executor.submit(process_file, class_idx, file_path))\n",
    "\n",
    "        for future in as_completed(futures):\n",
    "            vector, class_idx = future.result()\n",
    "            X.append(vector)\n",
    "            y.append(class_idx)\n",
    "\n",
    "    X = np.array(X)\n",
    "    y = np.array(y)\n",
    "    return X, y"
   ]
  },
  {
   "cell_type": "code",
   "execution_count": 3,
   "metadata": {},
   "outputs": [],
   "source": [
    "X, y = load_data(DATASET_DIR)"
   ]
  },
  {
   "cell_type": "code",
   "execution_count": 4,
   "metadata": {},
   "outputs": [
    {
     "name": "stdout",
     "output_type": "stream",
     "text": [
      "(4020, 165)\n",
      "(4020,)\n",
      "[[  102 12223   205 ...     0   382     7]\n",
      " [  135 10892   171 ...     0   250     7]\n",
      " [  114  9870   163 ...     0   336     0]\n",
      " ...\n",
      " [  105  9084   148 ...     0   262     0]\n",
      " [  106 10458   154 ...     0   304     0]\n",
      " [  147 11389   145 ...     0   419     0]]\n",
      "[0 0 0 ... 1 1 1]\n"
     ]
    }
   ],
   "source": [
    "print(X.shape)\n",
    "print(y.shape)\n",
    "print(X)\n",
    "print(y)"
   ]
  },
  {
   "cell_type": "markdown",
   "metadata": {},
   "source": [
    "# Train, Validation, Test Split and Nomalize"
   ]
  },
  {
   "cell_type": "code",
   "execution_count": 17,
   "metadata": {},
   "outputs": [],
   "source": [
    "X_train, X_test, y_train, y_test= train_test_split(X, y, test_size=0.3, random_state=41)\n",
    "\n",
    "X_train, X_val, y_train, y_val = train_test_split(X_train, y_train, test_size=0.2, random_state=41)\n",
    "\n",
    "X_train = X_train / 299.0\n",
    "X_val = X_val / 299.0\n",
    "X_test = X_test / 299.0\n",
    "\n",
    "y_train = to_categorical(y_train, 2)\n",
    "y_val = to_categorical(y_val, 2)\n",
    "y_test = to_categorical(y_test, 2)"
   ]
  },
  {
   "cell_type": "code",
   "execution_count": 18,
   "metadata": {},
   "outputs": [
    {
     "name": "stdout",
     "output_type": "stream",
     "text": [
      "(2251, 165)\n",
      "(1206, 165)\n",
      "(2251, 2)\n",
      "(1206, 2)\n"
     ]
    }
   ],
   "source": [
    "print(X_train.shape)\n",
    "print(X_test.shape)\n",
    "#print(X_val.shape)\n",
    "print(y_train.shape)\n",
    "print(y_test.shape)\n",
    "#print(y_val.shape)"
   ]
  },
  {
   "cell_type": "markdown",
   "metadata": {},
   "source": [
    "# 1D CNN Architecture"
   ]
  },
  {
   "cell_type": "code",
   "execution_count": 19,
   "metadata": {},
   "outputs": [],
   "source": [
    "input_layer = Input(shape=(VECTOR_LENGTH, 1))\n",
    "\n",
    "x = Conv1D(filters=32, kernel_size=3, padding='same')(input_layer)\n",
    "x = BatchNormalization()(x)\n",
    "x = LeakyReLU()(x)\n",
    "x = MaxPooling1D(pool_size=2)(x)\n",
    "\n",
    "x = Conv1D(filters=64, kernel_size=3, padding='same')(x)\n",
    "x = BatchNormalization()(x)\n",
    "x = LeakyReLU()(x)\n",
    "x = MaxPooling1D(pool_size=2)(x)\n",
    "\n",
    "x = Conv1D(filters=128, kernel_size=3, padding='same')(x)\n",
    "x = BatchNormalization()(x)\n",
    "x = LeakyReLU()(x)\n",
    "x = MaxPooling1D(pool_size=2)(x)\n",
    "\n",
    "x = Flatten()(x)\n",
    "\n",
    "x = Dense(256)(x)\n",
    "x = BatchNormalization()(x)\n",
    "x = LeakyReLU()(x)\n",
    "x = Dropout(rate=0.5)(x)\n",
    "\n",
    "x = Dense(NUM_CLASSES)(x)\n",
    "output_layer = Activation('softmax')(x)\n",
    "\n",
    "model = Model(input_layer, output_layer)\n",
    "\n",
    "opt = Adam(learning_rate=0.001)\n",
    "model.compile(loss='categorical_crossentropy', optimizer=opt, metrics=['accuracy'])"
   ]
  },
  {
   "cell_type": "code",
   "execution_count": 20,
   "metadata": {},
   "outputs": [
    {
     "name": "stdout",
     "output_type": "stream",
     "text": [
      "Model: \"model_1\"\n",
      "_________________________________________________________________\n",
      " Layer (type)                Output Shape              Param #   \n",
      "=================================================================\n",
      " input_2 (InputLayer)        [(None, 165, 1)]          0         \n",
      "                                                                 \n",
      " conv1d_3 (Conv1D)           (None, 165, 32)           128       \n",
      "                                                                 \n",
      " batch_normalization_4 (Bat  (None, 165, 32)           128       \n",
      " chNormalization)                                                \n",
      "                                                                 \n",
      " leaky_re_lu_4 (LeakyReLU)   (None, 165, 32)           0         \n",
      "                                                                 \n",
      " max_pooling1d_3 (MaxPoolin  (None, 82, 32)            0         \n",
      " g1D)                                                            \n",
      "                                                                 \n",
      " conv1d_4 (Conv1D)           (None, 82, 64)            6208      \n",
      "                                                                 \n",
      " batch_normalization_5 (Bat  (None, 82, 64)            256       \n",
      " chNormalization)                                                \n",
      "                                                                 \n",
      " leaky_re_lu_5 (LeakyReLU)   (None, 82, 64)            0         \n",
      "                                                                 \n",
      " max_pooling1d_4 (MaxPoolin  (None, 41, 64)            0         \n",
      " g1D)                                                            \n",
      "                                                                 \n",
      " conv1d_5 (Conv1D)           (None, 41, 128)           24704     \n",
      "                                                                 \n",
      " batch_normalization_6 (Bat  (None, 41, 128)           512       \n",
      " chNormalization)                                                \n",
      "                                                                 \n",
      " leaky_re_lu_6 (LeakyReLU)   (None, 41, 128)           0         \n",
      "                                                                 \n",
      " max_pooling1d_5 (MaxPoolin  (None, 20, 128)           0         \n",
      " g1D)                                                            \n",
      "                                                                 \n",
      " flatten_1 (Flatten)         (None, 2560)              0         \n",
      "                                                                 \n",
      " dense_2 (Dense)             (None, 256)               655616    \n",
      "                                                                 \n",
      " batch_normalization_7 (Bat  (None, 256)               1024      \n",
      " chNormalization)                                                \n",
      "                                                                 \n",
      " leaky_re_lu_7 (LeakyReLU)   (None, 256)               0         \n",
      "                                                                 \n",
      " dropout_1 (Dropout)         (None, 256)               0         \n",
      "                                                                 \n",
      " dense_3 (Dense)             (None, 2)                 514       \n",
      "                                                                 \n",
      " activation_1 (Activation)   (None, 2)                 0         \n",
      "                                                                 \n",
      "=================================================================\n",
      "Total params: 689090 (2.63 MB)\n",
      "Trainable params: 688130 (2.63 MB)\n",
      "Non-trainable params: 960 (3.75 KB)\n",
      "_________________________________________________________________\n"
     ]
    }
   ],
   "source": [
    "model.summary()"
   ]
  },
  {
   "cell_type": "markdown",
   "metadata": {},
   "source": [
    "# CheckPoint"
   ]
  },
  {
   "cell_type": "code",
   "execution_count": 29,
   "metadata": {},
   "outputs": [],
   "source": [
    "reduce_lr = ReduceLROnPlateau(monitor='val_loss', factor=0.5, patience=5, min_lr=0.00001)\n",
    "checkpoint = ModelCheckpoint(\n",
    "    filepath='/tmp/CMS4_CNN_1D_CheckPoint.h5',\n",
    "    save_best_only=True,\n",
    "    monitor='val_accuracy',\n",
    "    mode='max',\n",
    "    verbose=1\n",
    ")"
   ]
  },
  {
   "cell_type": "markdown",
   "metadata": {},
   "source": [
    "# Model Training"
   ]
  },
  {
   "cell_type": "code",
   "execution_count": 30,
   "metadata": {},
   "outputs": [
    {
     "name": "stdout",
     "output_type": "stream",
     "text": [
      "Epoch 1/100\n",
      "64/71 [==========================>...] - ETA: 0s - loss: 0.0735 - accuracy: 0.9727\n",
      "Epoch 1: val_accuracy improved from -inf to 0.94139, saving model to /tmp/CMS4_CNN_1D_CheckPoint.h5\n",
      "71/71 [==============================] - 1s 8ms/step - loss: 0.0725 - accuracy: 0.9729 - val_loss: 0.1227 - val_accuracy: 0.9414\n",
      "Epoch 2/100\n",
      "19/71 [=======>......................] - ETA: 0s - loss: 0.0710 - accuracy: 0.9770"
     ]
    },
    {
     "name": "stderr",
     "output_type": "stream",
     "text": [
      "/usr/local/lib/python3.10/dist-packages/keras/src/engine/training.py:3079: UserWarning: You are saving your model as an HDF5 file via `model.save()`. This file format is considered legacy. We recommend using instead the native Keras format, e.g. `model.save('my_model.keras')`.\n",
      "  saving_api.save_model(\n"
     ]
    },
    {
     "name": "stdout",
     "output_type": "stream",
     "text": [
      "64/71 [==========================>...] - ETA: 0s - loss: 0.0692 - accuracy: 0.9741\n",
      "Epoch 2: val_accuracy improved from 0.94139 to 0.94316, saving model to /tmp/CMS4_CNN_1D_CheckPoint.h5\n",
      "71/71 [==============================] - 1s 8ms/step - loss: 0.0705 - accuracy: 0.9747 - val_loss: 0.1158 - val_accuracy: 0.9432\n",
      "Epoch 3/100\n",
      "71/71 [==============================] - ETA: 0s - loss: 0.0766 - accuracy: 0.9725\n",
      "Epoch 3: val_accuracy did not improve from 0.94316\n",
      "71/71 [==============================] - 0s 7ms/step - loss: 0.0766 - accuracy: 0.9725 - val_loss: 0.1183 - val_accuracy: 0.9414\n",
      "Epoch 4/100\n",
      "64/71 [==========================>...] - ETA: 0s - loss: 0.0683 - accuracy: 0.9741\n",
      "Epoch 4: val_accuracy did not improve from 0.94316\n",
      "71/71 [==============================] - 0s 7ms/step - loss: 0.0706 - accuracy: 0.9738 - val_loss: 0.1199 - val_accuracy: 0.9396\n",
      "Epoch 5/100\n",
      "64/71 [==========================>...] - ETA: 0s - loss: 0.0705 - accuracy: 0.9741\n",
      "Epoch 5: val_accuracy did not improve from 0.94316\n",
      "71/71 [==============================] - 0s 7ms/step - loss: 0.0723 - accuracy: 0.9729 - val_loss: 0.1232 - val_accuracy: 0.9396\n",
      "Epoch 6/100\n",
      "64/71 [==========================>...] - ETA: 0s - loss: 0.0753 - accuracy: 0.9751\n",
      "Epoch 6: val_accuracy did not improve from 0.94316\n",
      "71/71 [==============================] - 0s 7ms/step - loss: 0.0743 - accuracy: 0.9742 - val_loss: 0.1209 - val_accuracy: 0.9414\n",
      "Epoch 7/100\n",
      "64/71 [==========================>...] - ETA: 0s - loss: 0.0637 - accuracy: 0.9746\n",
      "Epoch 7: val_accuracy did not improve from 0.94316\n",
      "71/71 [==============================] - 0s 7ms/step - loss: 0.0638 - accuracy: 0.9742 - val_loss: 0.1248 - val_accuracy: 0.9414\n",
      "Epoch 8/100\n",
      "64/71 [==========================>...] - ETA: 0s - loss: 0.0727 - accuracy: 0.9756\n",
      "Epoch 8: val_accuracy did not improve from 0.94316\n",
      "71/71 [==============================] - 0s 7ms/step - loss: 0.0706 - accuracy: 0.9756 - val_loss: 0.1182 - val_accuracy: 0.9414\n",
      "Epoch 9/100\n",
      "64/71 [==========================>...] - ETA: 0s - loss: 0.0691 - accuracy: 0.9756\n",
      "Epoch 9: val_accuracy did not improve from 0.94316\n",
      "71/71 [==============================] - 0s 7ms/step - loss: 0.0680 - accuracy: 0.9769 - val_loss: 0.1153 - val_accuracy: 0.9414\n",
      "Epoch 10/100\n",
      "64/71 [==========================>...] - ETA: 0s - loss: 0.0722 - accuracy: 0.9727\n",
      "Epoch 10: val_accuracy improved from 0.94316 to 0.94494, saving model to /tmp/CMS4_CNN_1D_CheckPoint.h5\n",
      "71/71 [==============================] - 1s 8ms/step - loss: 0.0690 - accuracy: 0.9738 - val_loss: 0.1142 - val_accuracy: 0.9449\n",
      "Epoch 11/100\n",
      "64/71 [==========================>...] - ETA: 0s - loss: 0.0791 - accuracy: 0.9722\n",
      "Epoch 11: val_accuracy did not improve from 0.94494\n",
      "71/71 [==============================] - 0s 7ms/step - loss: 0.0736 - accuracy: 0.9742 - val_loss: 0.1150 - val_accuracy: 0.9449\n",
      "Epoch 12/100\n",
      "64/71 [==========================>...] - ETA: 0s - loss: 0.0720 - accuracy: 0.9756\n",
      "Epoch 12: val_accuracy did not improve from 0.94494\n",
      "71/71 [==============================] - 0s 7ms/step - loss: 0.0713 - accuracy: 0.9751 - val_loss: 0.1190 - val_accuracy: 0.9432\n",
      "Epoch 13/100\n",
      "64/71 [==========================>...] - ETA: 0s - loss: 0.0637 - accuracy: 0.9766\n",
      "Epoch 13: val_accuracy improved from 0.94494 to 0.95204, saving model to /tmp/CMS4_CNN_1D_CheckPoint.h5\n",
      "71/71 [==============================] - 1s 8ms/step - loss: 0.0658 - accuracy: 0.9760 - val_loss: 0.1100 - val_accuracy: 0.9520\n",
      "Epoch 14/100\n",
      "64/71 [==========================>...] - ETA: 0s - loss: 0.0674 - accuracy: 0.9785\n",
      "Epoch 14: val_accuracy did not improve from 0.95204\n",
      "71/71 [==============================] - 0s 7ms/step - loss: 0.0683 - accuracy: 0.9782 - val_loss: 0.1112 - val_accuracy: 0.9520\n",
      "Epoch 15/100\n",
      "64/71 [==========================>...] - ETA: 0s - loss: 0.0671 - accuracy: 0.9731\n",
      "Epoch 15: val_accuracy did not improve from 0.95204\n",
      "71/71 [==============================] - 0s 7ms/step - loss: 0.0689 - accuracy: 0.9725 - val_loss: 0.1147 - val_accuracy: 0.9432\n",
      "Epoch 16/100\n",
      "64/71 [==========================>...] - ETA: 0s - loss: 0.0702 - accuracy: 0.9751\n",
      "Epoch 16: val_accuracy did not improve from 0.95204\n",
      "71/71 [==============================] - 0s 7ms/step - loss: 0.0725 - accuracy: 0.9733 - val_loss: 0.1184 - val_accuracy: 0.9432\n",
      "Epoch 17/100\n",
      "64/71 [==========================>...] - ETA: 0s - loss: 0.0681 - accuracy: 0.9751\n",
      "Epoch 17: val_accuracy did not improve from 0.95204\n",
      "71/71 [==============================] - 0s 7ms/step - loss: 0.0682 - accuracy: 0.9756 - val_loss: 0.1166 - val_accuracy: 0.9449\n",
      "Epoch 18/100\n",
      "64/71 [==========================>...] - ETA: 0s - loss: 0.0701 - accuracy: 0.9766\n",
      "Epoch 18: val_accuracy did not improve from 0.95204\n",
      "71/71 [==============================] - 0s 7ms/step - loss: 0.0728 - accuracy: 0.9751 - val_loss: 0.1213 - val_accuracy: 0.9396\n",
      "Epoch 19/100\n",
      "64/71 [==========================>...] - ETA: 0s - loss: 0.0703 - accuracy: 0.9717\n",
      "Epoch 19: val_accuracy did not improve from 0.95204\n",
      "71/71 [==============================] - 0s 7ms/step - loss: 0.0724 - accuracy: 0.9716 - val_loss: 0.1259 - val_accuracy: 0.9396\n",
      "Epoch 20/100\n",
      "64/71 [==========================>...] - ETA: 0s - loss: 0.0693 - accuracy: 0.9766\n",
      "Epoch 20: val_accuracy did not improve from 0.95204\n",
      "71/71 [==============================] - 0s 7ms/step - loss: 0.0691 - accuracy: 0.9765 - val_loss: 0.1140 - val_accuracy: 0.9467\n",
      "Epoch 21/100\n",
      "64/71 [==========================>...] - ETA: 0s - loss: 0.0663 - accuracy: 0.9780\n",
      "Epoch 21: val_accuracy did not improve from 0.95204\n",
      "71/71 [==============================] - 0s 7ms/step - loss: 0.0667 - accuracy: 0.9778 - val_loss: 0.1158 - val_accuracy: 0.9414\n",
      "Epoch 22/100\n",
      "64/71 [==========================>...] - ETA: 0s - loss: 0.0737 - accuracy: 0.9722\n",
      "Epoch 22: val_accuracy did not improve from 0.95204\n",
      "71/71 [==============================] - 0s 7ms/step - loss: 0.0715 - accuracy: 0.9733 - val_loss: 0.1195 - val_accuracy: 0.9414\n",
      "Epoch 23/100\n",
      "64/71 [==========================>...] - ETA: 0s - loss: 0.0728 - accuracy: 0.9741\n",
      "Epoch 23: val_accuracy did not improve from 0.95204\n",
      "71/71 [==============================] - 0s 7ms/step - loss: 0.0733 - accuracy: 0.9742 - val_loss: 0.1137 - val_accuracy: 0.9432\n",
      "Epoch 24/100\n",
      "64/71 [==========================>...] - ETA: 0s - loss: 0.0696 - accuracy: 0.9727\n",
      "Epoch 24: val_accuracy did not improve from 0.95204\n",
      "71/71 [==============================] - 0s 7ms/step - loss: 0.0687 - accuracy: 0.9729 - val_loss: 0.1287 - val_accuracy: 0.9396\n",
      "Epoch 25/100\n",
      "64/71 [==========================>...] - ETA: 0s - loss: 0.0718 - accuracy: 0.9761\n",
      "Epoch 25: val_accuracy did not improve from 0.95204\n",
      "71/71 [==============================] - 0s 7ms/step - loss: 0.0716 - accuracy: 0.9760 - val_loss: 0.1153 - val_accuracy: 0.9432\n",
      "Epoch 26/100\n",
      "64/71 [==========================>...] - ETA: 0s - loss: 0.0715 - accuracy: 0.9731\n",
      "Epoch 26: val_accuracy did not improve from 0.95204\n",
      "71/71 [==============================] - 0s 7ms/step - loss: 0.0700 - accuracy: 0.9738 - val_loss: 0.1183 - val_accuracy: 0.9414\n",
      "Epoch 27/100\n",
      "64/71 [==========================>...] - ETA: 0s - loss: 0.0689 - accuracy: 0.9746\n",
      "Epoch 27: val_accuracy did not improve from 0.95204\n",
      "71/71 [==============================] - 0s 7ms/step - loss: 0.0677 - accuracy: 0.9751 - val_loss: 0.1227 - val_accuracy: 0.9414\n",
      "Epoch 28/100\n",
      "64/71 [==========================>...] - ETA: 0s - loss: 0.0733 - accuracy: 0.9741\n",
      "Epoch 28: val_accuracy did not improve from 0.95204\n",
      "71/71 [==============================] - 0s 7ms/step - loss: 0.0695 - accuracy: 0.9760 - val_loss: 0.1173 - val_accuracy: 0.9432\n",
      "Epoch 29/100\n",
      "64/71 [==========================>...] - ETA: 0s - loss: 0.0607 - accuracy: 0.9795\n",
      "Epoch 29: val_accuracy did not improve from 0.95204\n",
      "71/71 [==============================] - 0s 7ms/step - loss: 0.0642 - accuracy: 0.9782 - val_loss: 0.1203 - val_accuracy: 0.9414\n",
      "Epoch 30/100\n",
      "64/71 [==========================>...] - ETA: 0s - loss: 0.0634 - accuracy: 0.9800\n",
      "Epoch 30: val_accuracy did not improve from 0.95204\n",
      "71/71 [==============================] - 0s 7ms/step - loss: 0.0661 - accuracy: 0.9791 - val_loss: 0.1241 - val_accuracy: 0.9414\n",
      "Epoch 31/100\n",
      "64/71 [==========================>...] - ETA: 0s - loss: 0.0702 - accuracy: 0.9731\n",
      "Epoch 31: val_accuracy did not improve from 0.95204\n",
      "71/71 [==============================] - 0s 7ms/step - loss: 0.0678 - accuracy: 0.9742 - val_loss: 0.1188 - val_accuracy: 0.9432\n",
      "Epoch 32/100\n",
      "64/71 [==========================>...] - ETA: 0s - loss: 0.0728 - accuracy: 0.9731\n",
      "Epoch 32: val_accuracy did not improve from 0.95204\n",
      "71/71 [==============================] - 0s 7ms/step - loss: 0.0702 - accuracy: 0.9742 - val_loss: 0.1188 - val_accuracy: 0.9414\n",
      "Epoch 33/100\n",
      "64/71 [==========================>...] - ETA: 0s - loss: 0.0721 - accuracy: 0.9722\n",
      "Epoch 33: val_accuracy did not improve from 0.95204\n",
      "71/71 [==============================] - 0s 7ms/step - loss: 0.0723 - accuracy: 0.9725 - val_loss: 0.1150 - val_accuracy: 0.9449\n",
      "Epoch 34/100\n",
      "64/71 [==========================>...] - ETA: 0s - loss: 0.0684 - accuracy: 0.9756\n",
      "Epoch 34: val_accuracy did not improve from 0.95204\n",
      "71/71 [==============================] - 0s 7ms/step - loss: 0.0678 - accuracy: 0.9769 - val_loss: 0.1186 - val_accuracy: 0.9414\n",
      "Epoch 35/100\n",
      "64/71 [==========================>...] - ETA: 0s - loss: 0.0676 - accuracy: 0.9771\n",
      "Epoch 35: val_accuracy did not improve from 0.95204\n",
      "71/71 [==============================] - 0s 7ms/step - loss: 0.0678 - accuracy: 0.9760 - val_loss: 0.1179 - val_accuracy: 0.9414\n",
      "Epoch 36/100\n",
      "64/71 [==========================>...] - ETA: 0s - loss: 0.0702 - accuracy: 0.9746\n",
      "Epoch 36: val_accuracy did not improve from 0.95204\n",
      "71/71 [==============================] - 0s 7ms/step - loss: 0.0682 - accuracy: 0.9751 - val_loss: 0.1140 - val_accuracy: 0.9449\n",
      "Epoch 37/100\n",
      "70/71 [============================>.] - ETA: 0s - loss: 0.0737 - accuracy: 0.9728\n",
      "Epoch 37: val_accuracy did not improve from 0.95204\n",
      "71/71 [==============================] - 0s 7ms/step - loss: 0.0734 - accuracy: 0.9729 - val_loss: 0.1254 - val_accuracy: 0.9414\n",
      "Epoch 38/100\n",
      "64/71 [==========================>...] - ETA: 0s - loss: 0.0641 - accuracy: 0.9771\n",
      "Epoch 38: val_accuracy did not improve from 0.95204\n",
      "71/71 [==============================] - 0s 7ms/step - loss: 0.0629 - accuracy: 0.9773 - val_loss: 0.1233 - val_accuracy: 0.9414\n",
      "Epoch 39/100\n",
      "64/71 [==========================>...] - ETA: 0s - loss: 0.0714 - accuracy: 0.9731\n",
      "Epoch 39: val_accuracy did not improve from 0.95204\n",
      "71/71 [==============================] - 0s 7ms/step - loss: 0.0729 - accuracy: 0.9729 - val_loss: 0.1297 - val_accuracy: 0.9414\n",
      "Epoch 40/100\n",
      "64/71 [==========================>...] - ETA: 0s - loss: 0.0691 - accuracy: 0.9727\n",
      "Epoch 40: val_accuracy did not improve from 0.95204\n",
      "71/71 [==============================] - 0s 7ms/step - loss: 0.0685 - accuracy: 0.9742 - val_loss: 0.1189 - val_accuracy: 0.9414\n",
      "Epoch 41/100\n",
      "64/71 [==========================>...] - ETA: 0s - loss: 0.0696 - accuracy: 0.9785\n",
      "Epoch 41: val_accuracy did not improve from 0.95204\n",
      "71/71 [==============================] - 0s 7ms/step - loss: 0.0702 - accuracy: 0.9778 - val_loss: 0.1248 - val_accuracy: 0.9414\n",
      "Epoch 42/100\n",
      "64/71 [==========================>...] - ETA: 0s - loss: 0.0771 - accuracy: 0.9722\n",
      "Epoch 42: val_accuracy did not improve from 0.95204\n",
      "71/71 [==============================] - 0s 7ms/step - loss: 0.0733 - accuracy: 0.9738 - val_loss: 0.1213 - val_accuracy: 0.9414\n",
      "Epoch 43/100\n",
      "64/71 [==========================>...] - ETA: 0s - loss: 0.0712 - accuracy: 0.9741\n",
      "Epoch 43: val_accuracy did not improve from 0.95204\n",
      "71/71 [==============================] - 0s 7ms/step - loss: 0.0750 - accuracy: 0.9716 - val_loss: 0.1141 - val_accuracy: 0.9432\n",
      "Epoch 44/100\n",
      "64/71 [==========================>...] - ETA: 0s - loss: 0.0637 - accuracy: 0.9766\n",
      "Epoch 44: val_accuracy did not improve from 0.95204\n",
      "71/71 [==============================] - 0s 7ms/step - loss: 0.0664 - accuracy: 0.9756 - val_loss: 0.1172 - val_accuracy: 0.9432\n",
      "Epoch 45/100\n",
      "64/71 [==========================>...] - ETA: 0s - loss: 0.0714 - accuracy: 0.9741\n",
      "Epoch 45: val_accuracy did not improve from 0.95204\n",
      "71/71 [==============================] - 0s 7ms/step - loss: 0.0671 - accuracy: 0.9756 - val_loss: 0.1135 - val_accuracy: 0.9432\n",
      "Epoch 46/100\n",
      "63/71 [=========================>....] - ETA: 0s - loss: 0.0753 - accuracy: 0.9722\n",
      "Epoch 46: val_accuracy did not improve from 0.95204\n",
      "71/71 [==============================] - 0s 7ms/step - loss: 0.0752 - accuracy: 0.9725 - val_loss: 0.1238 - val_accuracy: 0.9414\n",
      "Epoch 47/100\n",
      "64/71 [==========================>...] - ETA: 0s - loss: 0.0685 - accuracy: 0.9731\n",
      "Epoch 47: val_accuracy did not improve from 0.95204\n",
      "71/71 [==============================] - 0s 7ms/step - loss: 0.0711 - accuracy: 0.9729 - val_loss: 0.1170 - val_accuracy: 0.9432\n",
      "Epoch 48/100\n",
      "64/71 [==========================>...] - ETA: 0s - loss: 0.0684 - accuracy: 0.9731\n",
      "Epoch 48: val_accuracy did not improve from 0.95204\n",
      "71/71 [==============================] - 0s 7ms/step - loss: 0.0668 - accuracy: 0.9742 - val_loss: 0.1137 - val_accuracy: 0.9449\n",
      "Epoch 49/100\n",
      "64/71 [==========================>...] - ETA: 0s - loss: 0.0706 - accuracy: 0.9746\n",
      "Epoch 49: val_accuracy did not improve from 0.95204\n",
      "71/71 [==============================] - 0s 7ms/step - loss: 0.0707 - accuracy: 0.9747 - val_loss: 0.1256 - val_accuracy: 0.9378\n",
      "Epoch 50/100\n",
      "64/71 [==========================>...] - ETA: 0s - loss: 0.0678 - accuracy: 0.9756\n",
      "Epoch 50: val_accuracy did not improve from 0.95204\n",
      "71/71 [==============================] - 0s 7ms/step - loss: 0.0685 - accuracy: 0.9751 - val_loss: 0.1212 - val_accuracy: 0.9414\n",
      "Epoch 51/100\n",
      "64/71 [==========================>...] - ETA: 0s - loss: 0.0635 - accuracy: 0.9805\n",
      "Epoch 51: val_accuracy did not improve from 0.95204\n",
      "71/71 [==============================] - 0s 7ms/step - loss: 0.0671 - accuracy: 0.9796 - val_loss: 0.1195 - val_accuracy: 0.9432\n",
      "Epoch 52/100\n",
      "64/71 [==========================>...] - ETA: 0s - loss: 0.0714 - accuracy: 0.9761\n",
      "Epoch 52: val_accuracy did not improve from 0.95204\n",
      "71/71 [==============================] - 0s 7ms/step - loss: 0.0684 - accuracy: 0.9769 - val_loss: 0.1188 - val_accuracy: 0.9432\n",
      "Epoch 53/100\n",
      "64/71 [==========================>...] - ETA: 0s - loss: 0.0724 - accuracy: 0.9722\n",
      "Epoch 53: val_accuracy did not improve from 0.95204\n",
      "71/71 [==============================] - 0s 7ms/step - loss: 0.0701 - accuracy: 0.9733 - val_loss: 0.1206 - val_accuracy: 0.9414\n",
      "Epoch 54/100\n",
      "64/71 [==========================>...] - ETA: 0s - loss: 0.0718 - accuracy: 0.9761\n",
      "Epoch 54: val_accuracy did not improve from 0.95204\n",
      "71/71 [==============================] - 0s 7ms/step - loss: 0.0722 - accuracy: 0.9760 - val_loss: 0.1251 - val_accuracy: 0.9396\n",
      "Epoch 55/100\n",
      "64/71 [==========================>...] - ETA: 0s - loss: 0.0696 - accuracy: 0.9775\n",
      "Epoch 55: val_accuracy did not improve from 0.95204\n",
      "71/71 [==============================] - 0s 7ms/step - loss: 0.0679 - accuracy: 0.9782 - val_loss: 0.1218 - val_accuracy: 0.9414\n",
      "Epoch 56/100\n",
      "64/71 [==========================>...] - ETA: 0s - loss: 0.0715 - accuracy: 0.9727\n",
      "Epoch 56: val_accuracy did not improve from 0.95204\n",
      "71/71 [==============================] - 0s 7ms/step - loss: 0.0718 - accuracy: 0.9725 - val_loss: 0.1258 - val_accuracy: 0.9414\n",
      "Epoch 57/100\n",
      "64/71 [==========================>...] - ETA: 0s - loss: 0.0753 - accuracy: 0.9731\n",
      "Epoch 57: val_accuracy did not improve from 0.95204\n",
      "71/71 [==============================] - 0s 7ms/step - loss: 0.0711 - accuracy: 0.9747 - val_loss: 0.1236 - val_accuracy: 0.9432\n",
      "Epoch 58/100\n",
      "64/71 [==========================>...] - ETA: 0s - loss: 0.0692 - accuracy: 0.9751\n",
      "Epoch 58: val_accuracy did not improve from 0.95204\n",
      "71/71 [==============================] - 0s 7ms/step - loss: 0.0683 - accuracy: 0.9751 - val_loss: 0.1247 - val_accuracy: 0.9432\n",
      "Epoch 59/100\n",
      "64/71 [==========================>...] - ETA: 0s - loss: 0.0721 - accuracy: 0.9731\n",
      "Epoch 59: val_accuracy did not improve from 0.95204\n",
      "71/71 [==============================] - 0s 7ms/step - loss: 0.0698 - accuracy: 0.9742 - val_loss: 0.1319 - val_accuracy: 0.9414\n",
      "Epoch 60/100\n",
      "64/71 [==========================>...] - ETA: 0s - loss: 0.0669 - accuracy: 0.9741\n",
      "Epoch 60: val_accuracy did not improve from 0.95204\n",
      "71/71 [==============================] - 0s 7ms/step - loss: 0.0655 - accuracy: 0.9747 - val_loss: 0.1223 - val_accuracy: 0.9414\n",
      "Epoch 61/100\n",
      "64/71 [==========================>...] - ETA: 0s - loss: 0.0701 - accuracy: 0.9736\n",
      "Epoch 61: val_accuracy did not improve from 0.95204\n",
      "71/71 [==============================] - 0s 7ms/step - loss: 0.0705 - accuracy: 0.9733 - val_loss: 0.1199 - val_accuracy: 0.9414\n",
      "Epoch 62/100\n",
      "64/71 [==========================>...] - ETA: 0s - loss: 0.0700 - accuracy: 0.9741\n",
      "Epoch 62: val_accuracy did not improve from 0.95204\n",
      "71/71 [==============================] - 0s 7ms/step - loss: 0.0705 - accuracy: 0.9738 - val_loss: 0.1197 - val_accuracy: 0.9432\n",
      "Epoch 63/100\n",
      "64/71 [==========================>...] - ETA: 0s - loss: 0.0617 - accuracy: 0.9805\n",
      "Epoch 63: val_accuracy did not improve from 0.95204\n",
      "71/71 [==============================] - 0s 7ms/step - loss: 0.0662 - accuracy: 0.9796 - val_loss: 0.1202 - val_accuracy: 0.9414\n",
      "Epoch 64/100\n",
      "63/71 [=========================>....] - ETA: 0s - loss: 0.0607 - accuracy: 0.9812\n",
      "Epoch 64: val_accuracy did not improve from 0.95204\n",
      "71/71 [==============================] - 0s 7ms/step - loss: 0.0636 - accuracy: 0.9796 - val_loss: 0.1147 - val_accuracy: 0.9449\n",
      "Epoch 65/100\n",
      "64/71 [==========================>...] - ETA: 0s - loss: 0.0698 - accuracy: 0.9731\n",
      "Epoch 65: val_accuracy did not improve from 0.95204\n",
      "71/71 [==============================] - 0s 7ms/step - loss: 0.0696 - accuracy: 0.9725 - val_loss: 0.1163 - val_accuracy: 0.9467\n",
      "Epoch 66/100\n",
      "64/71 [==========================>...] - ETA: 0s - loss: 0.0695 - accuracy: 0.9756\n",
      "Epoch 66: val_accuracy improved from 0.95204 to 0.95382, saving model to /tmp/CMS4_CNN_1D_CheckPoint.h5\n",
      "71/71 [==============================] - 1s 8ms/step - loss: 0.0677 - accuracy: 0.9765 - val_loss: 0.1094 - val_accuracy: 0.9538\n",
      "Epoch 67/100\n",
      "64/71 [==========================>...] - ETA: 0s - loss: 0.0708 - accuracy: 0.9741\n",
      "Epoch 67: val_accuracy did not improve from 0.95382\n",
      "71/71 [==============================] - 0s 7ms/step - loss: 0.0758 - accuracy: 0.9738 - val_loss: 0.1190 - val_accuracy: 0.9449\n",
      "Epoch 68/100\n",
      "64/71 [==========================>...] - ETA: 0s - loss: 0.0669 - accuracy: 0.9731\n",
      "Epoch 68: val_accuracy did not improve from 0.95382\n",
      "71/71 [==============================] - 0s 7ms/step - loss: 0.0677 - accuracy: 0.9733 - val_loss: 0.1242 - val_accuracy: 0.9414\n",
      "Epoch 69/100\n",
      "64/71 [==========================>...] - ETA: 0s - loss: 0.0748 - accuracy: 0.9697\n",
      "Epoch 69: val_accuracy did not improve from 0.95382\n",
      "71/71 [==============================] - 0s 7ms/step - loss: 0.0724 - accuracy: 0.9716 - val_loss: 0.1290 - val_accuracy: 0.9414\n",
      "Epoch 70/100\n",
      "64/71 [==========================>...] - ETA: 0s - loss: 0.0666 - accuracy: 0.9766\n",
      "Epoch 70: val_accuracy did not improve from 0.95382\n",
      "71/71 [==============================] - 0s 7ms/step - loss: 0.0679 - accuracy: 0.9756 - val_loss: 0.1214 - val_accuracy: 0.9414\n",
      "Epoch 71/100\n",
      "64/71 [==========================>...] - ETA: 0s - loss: 0.0642 - accuracy: 0.9766\n",
      "Epoch 71: val_accuracy did not improve from 0.95382\n",
      "71/71 [==============================] - 0s 7ms/step - loss: 0.0657 - accuracy: 0.9756 - val_loss: 0.1233 - val_accuracy: 0.9414\n",
      "Epoch 72/100\n",
      "64/71 [==========================>...] - ETA: 0s - loss: 0.0702 - accuracy: 0.9741\n",
      "Epoch 72: val_accuracy did not improve from 0.95382\n",
      "71/71 [==============================] - 0s 7ms/step - loss: 0.0690 - accuracy: 0.9742 - val_loss: 0.1160 - val_accuracy: 0.9485\n",
      "Epoch 73/100\n",
      "64/71 [==========================>...] - ETA: 0s - loss: 0.0684 - accuracy: 0.9736\n",
      "Epoch 73: val_accuracy did not improve from 0.95382\n",
      "71/71 [==============================] - 0s 7ms/step - loss: 0.0691 - accuracy: 0.9733 - val_loss: 0.1259 - val_accuracy: 0.9414\n",
      "Epoch 74/100\n",
      "64/71 [==========================>...] - ETA: 0s - loss: 0.0684 - accuracy: 0.9771\n",
      "Epoch 74: val_accuracy did not improve from 0.95382\n",
      "71/71 [==============================] - 0s 7ms/step - loss: 0.0679 - accuracy: 0.9765 - val_loss: 0.1199 - val_accuracy: 0.9467\n",
      "Epoch 75/100\n",
      "63/71 [=========================>....] - ETA: 0s - loss: 0.0584 - accuracy: 0.9792\n",
      "Epoch 75: val_accuracy did not improve from 0.95382\n",
      "71/71 [==============================] - 0s 7ms/step - loss: 0.0671 - accuracy: 0.9756 - val_loss: 0.1131 - val_accuracy: 0.9485\n",
      "Epoch 76/100\n",
      "64/71 [==========================>...] - ETA: 0s - loss: 0.0699 - accuracy: 0.9756\n",
      "Epoch 76: val_accuracy did not improve from 0.95382\n",
      "71/71 [==============================] - 0s 7ms/step - loss: 0.0684 - accuracy: 0.9751 - val_loss: 0.1133 - val_accuracy: 0.9467\n",
      "Epoch 77/100\n",
      "64/71 [==========================>...] - ETA: 0s - loss: 0.0642 - accuracy: 0.9722\n",
      "Epoch 77: val_accuracy did not improve from 0.95382\n",
      "71/71 [==============================] - 0s 7ms/step - loss: 0.0655 - accuracy: 0.9725 - val_loss: 0.1186 - val_accuracy: 0.9467\n",
      "Epoch 78/100\n",
      "64/71 [==========================>...] - ETA: 0s - loss: 0.0698 - accuracy: 0.9727\n",
      "Epoch 78: val_accuracy did not improve from 0.95382\n",
      "71/71 [==============================] - 0s 7ms/step - loss: 0.0688 - accuracy: 0.9729 - val_loss: 0.1218 - val_accuracy: 0.9414\n",
      "Epoch 79/100\n",
      "64/71 [==========================>...] - ETA: 0s - loss: 0.0658 - accuracy: 0.9766\n",
      "Epoch 79: val_accuracy did not improve from 0.95382\n",
      "71/71 [==============================] - 0s 7ms/step - loss: 0.0688 - accuracy: 0.9747 - val_loss: 0.1213 - val_accuracy: 0.9449\n",
      "Epoch 80/100\n",
      "64/71 [==========================>...] - ETA: 0s - loss: 0.0666 - accuracy: 0.9756\n",
      "Epoch 80: val_accuracy did not improve from 0.95382\n",
      "71/71 [==============================] - 0s 7ms/step - loss: 0.0652 - accuracy: 0.9760 - val_loss: 0.1283 - val_accuracy: 0.9396\n",
      "Epoch 81/100\n",
      "64/71 [==========================>...] - ETA: 0s - loss: 0.0664 - accuracy: 0.9751\n",
      "Epoch 81: val_accuracy did not improve from 0.95382\n",
      "71/71 [==============================] - 0s 7ms/step - loss: 0.0657 - accuracy: 0.9747 - val_loss: 0.1182 - val_accuracy: 0.9449\n",
      "Epoch 82/100\n",
      "64/71 [==========================>...] - ETA: 0s - loss: 0.0701 - accuracy: 0.9751\n",
      "Epoch 82: val_accuracy did not improve from 0.95382\n",
      "71/71 [==============================] - 0s 7ms/step - loss: 0.0704 - accuracy: 0.9742 - val_loss: 0.1187 - val_accuracy: 0.9449\n",
      "Epoch 83/100\n",
      "64/71 [==========================>...] - ETA: 0s - loss: 0.0692 - accuracy: 0.9736\n",
      "Epoch 83: val_accuracy did not improve from 0.95382\n",
      "71/71 [==============================] - 0s 7ms/step - loss: 0.0710 - accuracy: 0.9733 - val_loss: 0.1158 - val_accuracy: 0.9467\n",
      "Epoch 84/100\n",
      "64/71 [==========================>...] - ETA: 0s - loss: 0.0692 - accuracy: 0.9717\n",
      "Epoch 84: val_accuracy did not improve from 0.95382\n",
      "71/71 [==============================] - 0s 7ms/step - loss: 0.0666 - accuracy: 0.9733 - val_loss: 0.1168 - val_accuracy: 0.9467\n",
      "Epoch 85/100\n",
      "64/71 [==========================>...] - ETA: 0s - loss: 0.0731 - accuracy: 0.9741\n",
      "Epoch 85: val_accuracy did not improve from 0.95382\n",
      "71/71 [==============================] - 0s 7ms/step - loss: 0.0698 - accuracy: 0.9751 - val_loss: 0.1274 - val_accuracy: 0.9432\n",
      "Epoch 86/100\n",
      "64/71 [==========================>...] - ETA: 0s - loss: 0.0664 - accuracy: 0.9766\n",
      "Epoch 86: val_accuracy did not improve from 0.95382\n",
      "71/71 [==============================] - 0s 7ms/step - loss: 0.0660 - accuracy: 0.9765 - val_loss: 0.1338 - val_accuracy: 0.9396\n",
      "Epoch 87/100\n",
      "64/71 [==========================>...] - ETA: 0s - loss: 0.0613 - accuracy: 0.9766\n",
      "Epoch 87: val_accuracy did not improve from 0.95382\n",
      "71/71 [==============================] - 0s 7ms/step - loss: 0.0642 - accuracy: 0.9760 - val_loss: 0.1189 - val_accuracy: 0.9449\n",
      "Epoch 88/100\n",
      "64/71 [==========================>...] - ETA: 0s - loss: 0.0626 - accuracy: 0.9785\n",
      "Epoch 88: val_accuracy did not improve from 0.95382\n",
      "71/71 [==============================] - 0s 7ms/step - loss: 0.0639 - accuracy: 0.9782 - val_loss: 0.1108 - val_accuracy: 0.9503\n",
      "Epoch 89/100\n",
      "64/71 [==========================>...] - ETA: 0s - loss: 0.0621 - accuracy: 0.9771\n",
      "Epoch 89: val_accuracy did not improve from 0.95382\n",
      "71/71 [==============================] - 0s 7ms/step - loss: 0.0631 - accuracy: 0.9765 - val_loss: 0.1170 - val_accuracy: 0.9467\n",
      "Epoch 90/100\n",
      "64/71 [==========================>...] - ETA: 0s - loss: 0.0639 - accuracy: 0.9771\n",
      "Epoch 90: val_accuracy did not improve from 0.95382\n",
      "71/71 [==============================] - 0s 7ms/step - loss: 0.0656 - accuracy: 0.9765 - val_loss: 0.1155 - val_accuracy: 0.9449\n",
      "Epoch 91/100\n",
      "64/71 [==========================>...] - ETA: 0s - loss: 0.0739 - accuracy: 0.9751\n",
      "Epoch 91: val_accuracy did not improve from 0.95382\n",
      "71/71 [==============================] - 0s 7ms/step - loss: 0.0710 - accuracy: 0.9760 - val_loss: 0.1159 - val_accuracy: 0.9467\n",
      "Epoch 92/100\n",
      "64/71 [==========================>...] - ETA: 0s - loss: 0.0688 - accuracy: 0.9741\n",
      "Epoch 92: val_accuracy did not improve from 0.95382\n",
      "71/71 [==============================] - 0s 7ms/step - loss: 0.0674 - accuracy: 0.9747 - val_loss: 0.1230 - val_accuracy: 0.9414\n",
      "Epoch 93/100\n",
      "64/71 [==========================>...] - ETA: 0s - loss: 0.0658 - accuracy: 0.9741\n",
      "Epoch 93: val_accuracy did not improve from 0.95382\n",
      "71/71 [==============================] - 0s 7ms/step - loss: 0.0685 - accuracy: 0.9742 - val_loss: 0.1259 - val_accuracy: 0.9396\n",
      "Epoch 94/100\n",
      "64/71 [==========================>...] - ETA: 0s - loss: 0.0660 - accuracy: 0.9766\n",
      "Epoch 94: val_accuracy did not improve from 0.95382\n",
      "71/71 [==============================] - 0s 7ms/step - loss: 0.0680 - accuracy: 0.9756 - val_loss: 0.1281 - val_accuracy: 0.9396\n",
      "Epoch 95/100\n",
      "64/71 [==========================>...] - ETA: 0s - loss: 0.0642 - accuracy: 0.9736\n",
      "Epoch 95: val_accuracy did not improve from 0.95382\n",
      "71/71 [==============================] - 0s 7ms/step - loss: 0.0629 - accuracy: 0.9742 - val_loss: 0.1260 - val_accuracy: 0.9414\n",
      "Epoch 96/100\n",
      "64/71 [==========================>...] - ETA: 0s - loss: 0.0740 - accuracy: 0.9756\n",
      "Epoch 96: val_accuracy did not improve from 0.95382\n",
      "71/71 [==============================] - 0s 7ms/step - loss: 0.0744 - accuracy: 0.9742 - val_loss: 0.1166 - val_accuracy: 0.9467\n",
      "Epoch 97/100\n",
      "64/71 [==========================>...] - ETA: 0s - loss: 0.0714 - accuracy: 0.9727\n",
      "Epoch 97: val_accuracy did not improve from 0.95382\n",
      "71/71 [==============================] - 0s 7ms/step - loss: 0.0703 - accuracy: 0.9729 - val_loss: 0.1249 - val_accuracy: 0.9414\n",
      "Epoch 98/100\n",
      "64/71 [==========================>...] - ETA: 0s - loss: 0.0626 - accuracy: 0.9771\n",
      "Epoch 98: val_accuracy did not improve from 0.95382\n",
      "71/71 [==============================] - 0s 7ms/step - loss: 0.0650 - accuracy: 0.9760 - val_loss: 0.1202 - val_accuracy: 0.9432\n",
      "Epoch 99/100\n",
      "64/71 [==========================>...] - ETA: 0s - loss: 0.0640 - accuracy: 0.9771\n",
      "Epoch 99: val_accuracy did not improve from 0.95382\n",
      "71/71 [==============================] - 0s 7ms/step - loss: 0.0667 - accuracy: 0.9760 - val_loss: 0.1180 - val_accuracy: 0.9449\n",
      "Epoch 100/100\n",
      "70/71 [============================>.] - ETA: 0s - loss: 0.0650 - accuracy: 0.9763\n",
      "Epoch 100: val_accuracy did not improve from 0.95382\n",
      "71/71 [==============================] - 0s 7ms/step - loss: 0.0647 - accuracy: 0.9765 - val_loss: 0.1187 - val_accuracy: 0.9467\n"
     ]
    },
    {
     "data": {
      "text/plain": [
       "<keras.src.callbacks.History at 0x7f4a1df8da80>"
      ]
     },
     "execution_count": 30,
     "metadata": {},
     "output_type": "execute_result"
    }
   ],
   "source": [
    "model.fit(X_train, y_train, epochs=100, batch_size=32, validation_data=(X_val, y_val), callbacks=[checkpoint])"
   ]
  },
  {
   "cell_type": "markdown",
   "metadata": {},
   "source": [
    "# Load Best CheckPoint"
   ]
  },
  {
   "cell_type": "code",
   "execution_count": 31,
   "metadata": {},
   "outputs": [
    {
     "name": "stdout",
     "output_type": "stream",
     "text": [
      "2/2 [==============================] - 0s 5ms/step - loss: 0.1203 - accuracy: 0.9469\n"
     ]
    },
    {
     "data": {
      "text/plain": [
       "[0.12031301110982895, 0.9469320178031921]"
      ]
     },
     "execution_count": 31,
     "metadata": {},
     "output_type": "execute_result"
    }
   ],
   "source": [
    "cp_model = load_model('/tmp/CMS4_CNN_1D_CheckPoint.h5')\n",
    "cp_model.evaluate(X_test, y_test, batch_size=1000)"
   ]
  },
  {
   "cell_type": "markdown",
   "metadata": {},
   "source": [
    "# Evaluate"
   ]
  },
  {
   "cell_type": "code",
   "execution_count": 32,
   "metadata": {},
   "outputs": [
    {
     "name": "stdout",
     "output_type": "stream",
     "text": [
      "38/38 [==============================] - 0s 2ms/step\n"
     ]
    }
   ],
   "source": [
    "y_pred = cp_model.predict(X_test)"
   ]
  },
  {
   "cell_type": "code",
   "execution_count": 33,
   "metadata": {},
   "outputs": [],
   "source": [
    "preds_single = CLASSES[np.argmax(y_pred, axis = -1)]\n",
    "actual_single = CLASSES[np.argmax(y_test, axis = -1)]"
   ]
  },
  {
   "cell_type": "code",
   "execution_count": 34,
   "metadata": {},
   "outputs": [
    {
     "data": {
      "image/png": "[encoded data removed]",
      "text/plain": [
       "<Figure size 1500x500 with 10 Axes>"
      ]
     },
     "metadata": {},
     "output_type": "display_data"
    }
   ],
   "source": [
    "n_to_show = 10\n",
    "indices = np.random.choice(range(len(X_test)), n_to_show)\n",
    "\n",
    "fig = plt.figure(figsize=(15, 5))\n",
    "fig.subplots_adjust(hspace=0.4, wspace=0.4)\n",
    "\n",
    "for i, idx in enumerate(indices):\n",
    "    data = X_test[idx]\n",
    "    ax = fig.add_subplot(1, n_to_show, i+1)\n",
    "    ax.plot(data)\n",
    "    ax.axis('off')\n",
    "    ax.text(0.5, -0.2, 'pred = ' + str(preds_single[idx]), fontsize=10, ha='center', transform=ax.transAxes) \n",
    "    ax.text(0.5, -0.4, 'act = ' + str(actual_single[idx]), fontsize=10, ha='center', transform=ax.transAxes)\n",
    "\n",
    "plt.show()"
   ]
  },
  {
   "cell_type": "markdown",
   "metadata": {},
   "source": [
    "# Classification Results"
   ]
  },
  {
   "cell_type": "code",
   "execution_count": 35,
   "metadata": {},
   "outputs": [
    {
     "name": "stdout",
     "output_type": "stream",
     "text": [
      "              precision    recall  f1-score   support\n",
      "\n",
      "           0       0.95      0.95      0.95       631\n",
      "           1       0.94      0.95      0.94       575\n",
      "\n",
      "    accuracy                           0.95      1206\n",
      "   macro avg       0.95      0.95      0.95      1206\n",
      "weighted avg       0.95      0.95      0.95      1206\n",
      "\n"
     ]
    }
   ],
   "source": [
    "y_pred_classes = tf.argmax(y_pred, axis=1)\n",
    "y_test_classes = tf.argmax(y_test, axis=1)\n",
    "\n",
    "print(classification_report(y_test_classes, y_pred_classes))"
   ]
  },
  {
   "cell_type": "markdown",
   "metadata": {},
   "source": [
    "# Confusion MatriX"
   ]
  },
  {
   "cell_type": "code",
   "execution_count": 36,
   "metadata": {},
   "outputs": [
    {
     "name": "stdout",
     "output_type": "stream",
     "text": [
      "Confusion Matrix:\n",
      "            Legitimate  Suspicious\n",
      "Legitimate         598          33\n",
      "Suspicious          31         544\n"
     ]
    }
   ],
   "source": [
    "conf_matrix = confusion_matrix(y_test_classes, y_pred_classes)\n",
    "\n",
    "class_labels = ['Legitimate', 'Suspicious']\n",
    "\n",
    "conf_matrix_df = pd.DataFrame(conf_matrix, index=class_labels, columns=class_labels)\n",
    "\n",
    "print(\"Confusion Matrix:\")\n",
    "print(conf_matrix_df)"
   ]
  },
  {
   "cell_type": "code",
   "execution_count": null,
   "metadata": {},
   "outputs": [],
   "source": []
  }
 ],
 "metadata": {
  "kernelspec": {
   "display_name": "Python 3.10 (NGC 24.01 / TensorFlow 2.14) on Backend.AI",
   "language": "python",
   "name": "python3"
  },
  "language_info": {
   "codemirror_mode": {
    "name": "ipython",
    "version": 3
   },
   "file_extension": ".py",
   "mimetype": "text/x-python",
   "name": "python",
   "nbconvert_exporter": "python",
   "pygments_lexer": "ipython3",
   "version": "3.10.12"
  }
 },
 "nbformat": 4,
 "nbformat_minor": 4
}
