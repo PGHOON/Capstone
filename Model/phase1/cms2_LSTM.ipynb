{
 "cells": [
  {
   "cell_type": "code",
   "execution_count": 1,
   "metadata": {},
   "outputs": [
    {
     "name": "stderr",
     "output_type": "stream",
     "text": [
      "2024-07-30 21:11:41.367538: I tensorflow/core/util/port.cc:111] oneDNN custom operations are on. You may see slightly different numerical results due to floating-point round-off errors from different computation orders. To turn them off, set the environment variable `TF_ENABLE_ONEDNN_OPTS=0`.\n",
      "2024-07-30 21:11:41.418960: E tensorflow/compiler/xla/stream_executor/cuda/cuda_dnn.cc:9360] Unable to register cuDNN factory: Attempting to register factory for plugin cuDNN when one has already been registered\n",
      "2024-07-30 21:11:41.418998: E tensorflow/compiler/xla/stream_executor/cuda/cuda_fft.cc:609] Unable to register cuFFT factory: Attempting to register factory for plugin cuFFT when one has already been registered\n",
      "2024-07-30 21:11:41.419031: E tensorflow/compiler/xla/stream_executor/cuda/cuda_blas.cc:1537] Unable to register cuBLAS factory: Attempting to register factory for plugin cuBLAS when one has already been registered\n",
      "2024-07-30 21:11:41.428254: I tensorflow/core/platform/cpu_feature_guard.cc:183] This TensorFlow binary is optimized to use available CPU instructions in performance-critical operations.\n",
      "To enable the following instructions: SSE3 SSE4.1 SSE4.2 AVX, in other operations, rebuild TensorFlow with the appropriate compiler flags.\n"
     ]
    }
   ],
   "source": [
    "import os\n",
    "import pandas as pd\n",
    "import numpy as np\n",
    "import tensorflow as tf\n",
    "import matplotlib.pyplot as plt\n",
    "\n",
    "from multiprocessing import Pool\n",
    "from concurrent.futures import ThreadPoolExecutor, as_completed\n",
    "\n",
    "from keras.models import Model\n",
    "from keras.optimizers import Adam\n",
    "from keras.models import load_model\n",
    "from keras.utils import to_categorical\n",
    "from keras.callbacks import ModelCheckpoint, ReduceLROnPlateau\n",
    "from keras.layers import Input, LSTM, BatchNormalization, Dropout, Dense, Add, Flatten\n",
    "\n",
    "from tensorflow.keras.regularizers import l2\n",
    "\n",
    "from sklearn.preprocessing import LabelEncoder\n",
    "from sklearn.metrics import classification_report, confusion_matrix\n",
    "from sklearn.model_selection import train_test_split"
   ]
  },
  {
   "cell_type": "markdown",
   "metadata": {},
   "source": [
    "# Load csv from Desktop"
   ]
  },
  {
   "cell_type": "code",
   "execution_count": 2,
   "metadata": {},
   "outputs": [],
   "source": [
    "NUM_CLASSES = 2\n",
    "CLASSES = np.array(['Legitimate', 'Suspicious'])\n",
    "DATASET_DIR = \"./\"\n",
    "VECTOR_LENGTH = 1 * 1360\n",
    "\n",
    "def csvToVector(file_path):\n",
    "    data = pd.read_csv(file_path, header=None)\n",
    "    vector = data.values.flatten()\n",
    "    return vector\n",
    "\n",
    "def process_file(class_idx, file_path):\n",
    "    vector = csvToVector(file_path)\n",
    "    return (vector, class_idx)\n",
    "\n",
    "def load_data(dataset_dir):\n",
    "    X = []\n",
    "    y = []\n",
    "    subdirs = ['benign_cms2', 'malware_cms2']\n",
    "    futures = []\n",
    "\n",
    "    with ThreadPoolExecutor() as executor:\n",
    "        for class_idx, class_name in enumerate(subdirs):\n",
    "            class_dir = os.path.join(dataset_dir, class_name)\n",
    "            for file_name in os.listdir(class_dir):\n",
    "                if file_name.endswith('.csv'):\n",
    "                    file_path = os.path.join(class_dir, file_name)\n",
    "                    futures.append(executor.submit(process_file, class_idx, file_path))\n",
    "\n",
    "        for future in as_completed(futures):\n",
    "            vector, class_idx = future.result()\n",
    "            X.append(vector)\n",
    "            y.append(class_idx)\n",
    "\n",
    "    X = np.array(X)\n",
    "    y = np.array(y)\n",
    "    return X, y"
   ]
  },
  {
   "cell_type": "code",
   "execution_count": 3,
   "metadata": {},
   "outputs": [],
   "source": [
    "X, y = load_data(DATASET_DIR)"
   ]
  },
  {
   "cell_type": "code",
   "execution_count": 4,
   "metadata": {},
   "outputs": [
    {
     "name": "stdout",
     "output_type": "stream",
     "text": [
      "(4020, 1360)\n",
      "(4020,)\n",
      "[[  284     0     0 ...     1   372   228]\n",
      " [  121     0     0 ...     1   210   256]\n",
      " [  172     0     0 ...     1   369   225]\n",
      " ...\n",
      " [  153     0     0 ...     0  4061   118]\n",
      " [  127     0     0 ...     3 56578   240]\n",
      " [  148     0     0 ...     0 57580   217]]\n",
      "[0 0 0 ... 1 1 1]\n"
     ]
    }
   ],
   "source": [
    "print(X.shape)\n",
    "print(y.shape)\n",
    "print(X)\n",
    "print(y)"
   ]
  },
  {
   "cell_type": "markdown",
   "metadata": {},
   "source": [
    "# Train, Validation, Test Split and Nomalize"
   ]
  },
  {
   "cell_type": "code",
   "execution_count": 5,
   "metadata": {},
   "outputs": [],
   "source": [
    "X_train, X_test, y_train, y_test= train_test_split(X, y, test_size=0.3, random_state=25)\n",
    "\n",
    "#X_train, X_val, y_train, y_val = train_test_split(X_train, y_train, test_size=0.2, random_state=42)\n",
    "\n",
    "X_train = X_train / 299.0\n",
    "#X_val = X_val / 299.0\n",
    "X_test = X_test / 299.0\n",
    "\n",
    "y_train = to_categorical(y_train, 2)\n",
    "#y_val = to_categorical(y_val, 2)\n",
    "y_test = to_categorical(y_test, 2)"
   ]
  },
  {
   "cell_type": "code",
   "execution_count": 6,
   "metadata": {},
   "outputs": [
    {
     "name": "stdout",
     "output_type": "stream",
     "text": [
      "(2814, 1360)\n",
      "(1206, 1360)\n",
      "(2814, 2)\n",
      "(1206, 2)\n"
     ]
    }
   ],
   "source": [
    "print(X_train.shape)\n",
    "print(X_test.shape)\n",
    "#print(X_val.shape)\n",
    "print(y_train.shape)\n",
    "print(y_test.shape)\n",
    "#print(y_val.shape)"
   ]
  },
  {
   "cell_type": "markdown",
   "metadata": {},
   "source": [
    "# 1D CNN Architecture"
   ]
  },
  {
   "cell_type": "code",
   "execution_count": 7,
   "metadata": {},
   "outputs": [
    {
     "name": "stderr",
     "output_type": "stream",
     "text": [
      "2024-07-30 21:12:27.753695: I tensorflow/core/common_runtime/gpu/gpu_device.cc:1883] Created device /job:localhost/replica:0/task:0/device:GPU:0 with 31350 MB memory:  -> device: 0, name: CUDA GPU, pci bus id: 0000:06:00.0, compute capability: 7.0\n",
      "2024-07-30 21:12:27.754254: I tensorflow/core/common_runtime/gpu/gpu_device.cc:1883] Created device /job:localhost/replica:0/task:0/device:GPU:1 with 31350 MB memory:  -> device: 1, name: CUDA GPU, pci bus id: 0000:2f:00.0, compute capability: 7.0\n",
      "2024-07-30 21:12:27.754767: I tensorflow/core/common_runtime/gpu/gpu_device.cc:1883] Created device /job:localhost/replica:0/task:0/device:GPU:2 with 31350 MB memory:  -> device: 2, name: CUDA GPU, pci bus id: 0000:86:00.0, compute capability: 7.0\n"
     ]
    }
   ],
   "source": [
    "input_layer = Input(shape=(VECTOR_LENGTH, 1))\n",
    "\n",
    "x = LSTM(32, return_sequences=True)(input_layer)\n",
    "x = BatchNormalization()(x)\n",
    "x = Dropout(0.2)(x)\n",
    "\n",
    "x = LSTM(64, return_sequences=True)(x)\n",
    "x = BatchNormalization()(x)\n",
    "x = Dropout(0.2)(x)\n",
    "\n",
    "x = LSTM(128, return_sequences=False)(x)\n",
    "x = BatchNormalization()(x)\n",
    "x = Dropout(0.5)(x)\n",
    "\n",
    "x = Flatten()(x)\n",
    "\n",
    "x = Dense(256, activation='relu', kernel_regularizer=l2(0.01))(x)\n",
    "x = BatchNormalization()(x)\n",
    "x = Dropout(0.5)(x)\n",
    "\n",
    "output_layer = Dense(NUM_CLASSES, activation='softmax')(x)\n",
    "\n",
    "model = Model(inputs=input_layer, outputs=output_layer)\n",
    "\n",
    "opt = Adam(learning_rate=0.001)\n",
    "model.compile(optimizer=opt, loss='categorical_crossentropy', metrics=['accuracy'])"
   ]
  },
  {
   "cell_type": "code",
   "execution_count": 8,
   "metadata": {},
   "outputs": [
    {
     "name": "stdout",
     "output_type": "stream",
     "text": [
      "Model: \"model\"\n",
      "_________________________________________________________________\n",
      " Layer (type)                Output Shape              Param #   \n",
      "=================================================================\n",
      " input_1 (InputLayer)        [(None, 1360, 1)]         0         \n",
      "                                                                 \n",
      " lstm (LSTM)                 (None, 1360, 32)          4352      \n",
      "                                                                 \n",
      " batch_normalization (Batch  (None, 1360, 32)          128       \n",
      " Normalization)                                                  \n",
      "                                                                 \n",
      " dropout (Dropout)           (None, 1360, 32)          0         \n",
      "                                                                 \n",
      " lstm_1 (LSTM)               (None, 1360, 64)          24832     \n",
      "                                                                 \n",
      " batch_normalization_1 (Bat  (None, 1360, 64)          256       \n",
      " chNormalization)                                                \n",
      "                                                                 \n",
      " dropout_1 (Dropout)         (None, 1360, 64)          0         \n",
      "                                                                 \n",
      " lstm_2 (LSTM)               (None, 128)               98816     \n",
      "                                                                 \n",
      " batch_normalization_2 (Bat  (None, 128)               512       \n",
      " chNormalization)                                                \n",
      "                                                                 \n",
      " dropout_2 (Dropout)         (None, 128)               0         \n",
      "                                                                 \n",
      " flatten (Flatten)           (None, 128)               0         \n",
      "                                                                 \n",
      " dense (Dense)               (None, 256)               33024     \n",
      "                                                                 \n",
      " batch_normalization_3 (Bat  (None, 256)               1024      \n",
      " chNormalization)                                                \n",
      "                                                                 \n",
      " dropout_3 (Dropout)         (None, 256)               0         \n",
      "                                                                 \n",
      " dense_1 (Dense)             (None, 2)                 514       \n",
      "                                                                 \n",
      "=================================================================\n",
      "Total params: 163458 (638.51 KB)\n",
      "Trainable params: 162498 (634.76 KB)\n",
      "Non-trainable params: 960 (3.75 KB)\n",
      "_________________________________________________________________\n"
     ]
    }
   ],
   "source": [
    "model.summary()"
   ]
  },
  {
   "cell_type": "markdown",
   "metadata": {},
   "source": [
    "# CheckPoint"
   ]
  },
  {
   "cell_type": "code",
   "execution_count": 22,
   "metadata": {},
   "outputs": [],
   "source": [
    "reduce_lr = ReduceLROnPlateau(monitor='loss', factor=0.5, patience=5, min_lr=0.00001)\n",
    "checkpoint = ModelCheckpoint(\n",
    "    filepath='/tmp/CMS2_LSTM_CheckPoint.h5',\n",
    "    save_best_only=True,\n",
    "    monitor='accuracy',\n",
    "    mode='max',\n",
    "    verbose=1\n",
    ")"
   ]
  },
  {
   "cell_type": "markdown",
   "metadata": {},
   "source": [
    "# Model Training"
   ]
  },
  {
   "cell_type": "code",
   "execution_count": 23,
   "metadata": {},
   "outputs": [
    {
     "name": "stdout",
     "output_type": "stream",
     "text": [
      "Epoch 1/100\n",
      "88/88 [==============================] - ETA: 0s - loss: 0.3340 - accuracy: 0.8842\n",
      "Epoch 1: accuracy improved from -inf to 0.88415, saving model to /tmp/CMS2_LSTM_CheckPoint.h5\n",
      "88/88 [==============================] - 11s 124ms/step - loss: 0.3340 - accuracy: 0.8842\n",
      "Epoch 2/100\n",
      " 1/88 [..............................] - ETA: 10s - loss: 0.3062 - accuracy: 0.9062"
     ]
    },
    {
     "name": "stderr",
     "output_type": "stream",
     "text": [
      "/usr/local/lib/python3.10/dist-packages/keras/src/engine/training.py:3079: UserWarning: You are saving your model as an HDF5 file via `model.save()`. This file format is considered legacy. We recommend using instead the native Keras format, e.g. `model.save('my_model.keras')`.\n",
      "  saving_api.save_model(\n"
     ]
    },
    {
     "name": "stdout",
     "output_type": "stream",
     "text": [
      "88/88 [==============================] - ETA: 0s - loss: 0.3284 - accuracy: 0.8870\n",
      "Epoch 2: accuracy improved from 0.88415 to 0.88699, saving model to /tmp/CMS2_LSTM_CheckPoint.h5\n",
      "88/88 [==============================] - 11s 124ms/step - loss: 0.3284 - accuracy: 0.8870\n",
      "Epoch 3/100\n",
      "88/88 [==============================] - ETA: 0s - loss: 0.3325 - accuracy: 0.8863\n",
      "Epoch 3: accuracy did not improve from 0.88699\n",
      "88/88 [==============================] - 11s 123ms/step - loss: 0.3325 - accuracy: 0.8863\n",
      "Epoch 4/100\n",
      "88/88 [==============================] - ETA: 0s - loss: 0.3359 - accuracy: 0.8859\n",
      "Epoch 4: accuracy did not improve from 0.88699\n",
      "88/88 [==============================] - 11s 123ms/step - loss: 0.3359 - accuracy: 0.8859\n",
      "Epoch 5/100\n",
      "88/88 [==============================] - ETA: 0s - loss: 0.3411 - accuracy: 0.8852\n",
      "Epoch 5: accuracy did not improve from 0.88699\n",
      "88/88 [==============================] - 11s 123ms/step - loss: 0.3411 - accuracy: 0.8852\n",
      "Epoch 6/100\n",
      "88/88 [==============================] - ETA: 0s - loss: 0.3473 - accuracy: 0.8781\n",
      "Epoch 6: accuracy did not improve from 0.88699\n",
      "88/88 [==============================] - 11s 123ms/step - loss: 0.3473 - accuracy: 0.8781\n",
      "Epoch 7/100\n",
      "88/88 [==============================] - ETA: 0s - loss: 0.3426 - accuracy: 0.8831\n",
      "Epoch 7: accuracy did not improve from 0.88699\n",
      "88/88 [==============================] - 11s 123ms/step - loss: 0.3426 - accuracy: 0.8831\n",
      "Epoch 8/100\n",
      "88/88 [==============================] - ETA: 0s - loss: 0.3449 - accuracy: 0.8817\n",
      "Epoch 8: accuracy did not improve from 0.88699\n",
      "88/88 [==============================] - 11s 123ms/step - loss: 0.3449 - accuracy: 0.8817\n",
      "Epoch 9/100\n",
      "88/88 [==============================] - ETA: 0s - loss: 0.3412 - accuracy: 0.8845\n",
      "Epoch 9: accuracy did not improve from 0.88699\n",
      "88/88 [==============================] - 11s 123ms/step - loss: 0.3412 - accuracy: 0.8845\n",
      "Epoch 10/100\n",
      "88/88 [==============================] - ETA: 0s - loss: 0.3457 - accuracy: 0.8838\n",
      "Epoch 10: accuracy did not improve from 0.88699\n",
      "88/88 [==============================] - 11s 123ms/step - loss: 0.3457 - accuracy: 0.8838\n",
      "Epoch 11/100\n",
      "88/88 [==============================] - ETA: 0s - loss: 0.3418 - accuracy: 0.8831\n",
      "Epoch 11: accuracy did not improve from 0.88699\n",
      "88/88 [==============================] - 11s 123ms/step - loss: 0.3418 - accuracy: 0.8831\n",
      "Epoch 12/100\n",
      "88/88 [==============================] - ETA: 0s - loss: 0.3401 - accuracy: 0.8827\n",
      "Epoch 12: accuracy did not improve from 0.88699\n",
      "88/88 [==============================] - 11s 123ms/step - loss: 0.3401 - accuracy: 0.8827\n",
      "Epoch 13/100\n",
      "88/88 [==============================] - ETA: 0s - loss: 0.3381 - accuracy: 0.8852\n",
      "Epoch 13: accuracy did not improve from 0.88699\n",
      "88/88 [==============================] - 11s 123ms/step - loss: 0.3381 - accuracy: 0.8852\n",
      "Epoch 14/100\n",
      "88/88 [==============================] - ETA: 0s - loss: 0.3407 - accuracy: 0.8792\n",
      "Epoch 14: accuracy did not improve from 0.88699\n",
      "88/88 [==============================] - 11s 123ms/step - loss: 0.3407 - accuracy: 0.8792\n",
      "Epoch 15/100\n",
      "88/88 [==============================] - ETA: 0s - loss: 0.3316 - accuracy: 0.8873\n",
      "Epoch 15: accuracy improved from 0.88699 to 0.88735, saving model to /tmp/CMS2_LSTM_CheckPoint.h5\n",
      "88/88 [==============================] - 11s 124ms/step - loss: 0.3316 - accuracy: 0.8873\n",
      "Epoch 16/100\n",
      "88/88 [==============================] - ETA: 0s - loss: 0.3369 - accuracy: 0.8849\n",
      "Epoch 16: accuracy did not improve from 0.88735\n",
      "88/88 [==============================] - 11s 123ms/step - loss: 0.3369 - accuracy: 0.8849\n",
      "Epoch 17/100\n",
      "88/88 [==============================] - ETA: 0s - loss: 0.3371 - accuracy: 0.8845\n",
      "Epoch 17: accuracy did not improve from 0.88735\n",
      "88/88 [==============================] - 11s 123ms/step - loss: 0.3371 - accuracy: 0.8845\n",
      "Epoch 18/100\n",
      "88/88 [==============================] - ETA: 0s - loss: 0.3342 - accuracy: 0.8863\n",
      "Epoch 18: accuracy did not improve from 0.88735\n",
      "88/88 [==============================] - 11s 123ms/step - loss: 0.3342 - accuracy: 0.8863\n",
      "Epoch 19/100\n",
      "88/88 [==============================] - ETA: 0s - loss: 0.3395 - accuracy: 0.8863\n",
      "Epoch 19: accuracy did not improve from 0.88735\n",
      "88/88 [==============================] - 11s 123ms/step - loss: 0.3395 - accuracy: 0.8863\n",
      "Epoch 20/100\n",
      "88/88 [==============================] - ETA: 0s - loss: 0.3393 - accuracy: 0.8852\n",
      "Epoch 20: accuracy did not improve from 0.88735\n",
      "88/88 [==============================] - 11s 123ms/step - loss: 0.3393 - accuracy: 0.8852\n",
      "Epoch 21/100\n",
      "88/88 [==============================] - ETA: 0s - loss: 0.3310 - accuracy: 0.8852\n",
      "Epoch 21: accuracy did not improve from 0.88735\n",
      "88/88 [==============================] - 11s 123ms/step - loss: 0.3310 - accuracy: 0.8852\n",
      "Epoch 22/100\n",
      "88/88 [==============================] - ETA: 0s - loss: 0.3476 - accuracy: 0.8842\n",
      "Epoch 22: accuracy did not improve from 0.88735\n",
      "88/88 [==============================] - 11s 123ms/step - loss: 0.3476 - accuracy: 0.8842\n",
      "Epoch 23/100\n",
      "88/88 [==============================] - ETA: 0s - loss: 0.3433 - accuracy: 0.8863\n",
      "Epoch 23: accuracy did not improve from 0.88735\n",
      "88/88 [==============================] - 11s 123ms/step - loss: 0.3433 - accuracy: 0.8863\n",
      "Epoch 24/100\n",
      "88/88 [==============================] - ETA: 0s - loss: 0.3315 - accuracy: 0.8859\n",
      "Epoch 24: accuracy did not improve from 0.88735\n",
      "88/88 [==============================] - 11s 123ms/step - loss: 0.3315 - accuracy: 0.8859\n",
      "Epoch 25/100\n",
      "88/88 [==============================] - ETA: 0s - loss: 0.3355 - accuracy: 0.8859\n",
      "Epoch 25: accuracy did not improve from 0.88735\n",
      "88/88 [==============================] - 11s 123ms/step - loss: 0.3355 - accuracy: 0.8859\n",
      "Epoch 26/100\n",
      "88/88 [==============================] - ETA: 0s - loss: 0.3299 - accuracy: 0.8856\n",
      "Epoch 26: accuracy did not improve from 0.88735\n",
      "88/88 [==============================] - 11s 123ms/step - loss: 0.3299 - accuracy: 0.8856\n",
      "Epoch 27/100\n",
      "88/88 [==============================] - ETA: 0s - loss: 0.3334 - accuracy: 0.8842\n",
      "Epoch 27: accuracy did not improve from 0.88735\n",
      "88/88 [==============================] - 11s 123ms/step - loss: 0.3334 - accuracy: 0.8842\n",
      "Epoch 28/100\n",
      "88/88 [==============================] - ETA: 0s - loss: 0.3336 - accuracy: 0.8863\n",
      "Epoch 28: accuracy did not improve from 0.88735\n",
      "88/88 [==============================] - 11s 123ms/step - loss: 0.3336 - accuracy: 0.8863\n",
      "Epoch 29/100\n",
      "88/88 [==============================] - ETA: 0s - loss: 0.3369 - accuracy: 0.8870\n",
      "Epoch 29: accuracy did not improve from 0.88735\n",
      "88/88 [==============================] - 11s 123ms/step - loss: 0.3369 - accuracy: 0.8870\n",
      "Epoch 30/100\n",
      "88/88 [==============================] - ETA: 0s - loss: 0.3303 - accuracy: 0.8856\n",
      "Epoch 30: accuracy did not improve from 0.88735\n",
      "88/88 [==============================] - 11s 123ms/step - loss: 0.3303 - accuracy: 0.8856\n",
      "Epoch 31/100\n",
      "88/88 [==============================] - ETA: 0s - loss: 0.3382 - accuracy: 0.8852\n",
      "Epoch 31: accuracy did not improve from 0.88735\n",
      "88/88 [==============================] - 11s 123ms/step - loss: 0.3382 - accuracy: 0.8852\n",
      "Epoch 32/100\n",
      "88/88 [==============================] - ETA: 0s - loss: 0.3422 - accuracy: 0.8842\n",
      "Epoch 32: accuracy did not improve from 0.88735\n",
      "88/88 [==============================] - 11s 123ms/step - loss: 0.3422 - accuracy: 0.8842\n",
      "Epoch 33/100\n",
      "88/88 [==============================] - ETA: 0s - loss: 0.3380 - accuracy: 0.8877\n",
      "Epoch 33: accuracy improved from 0.88735 to 0.88770, saving model to /tmp/CMS2_LSTM_CheckPoint.h5\n",
      "88/88 [==============================] - 11s 124ms/step - loss: 0.3380 - accuracy: 0.8877\n",
      "Epoch 34/100\n",
      "88/88 [==============================] - ETA: 0s - loss: 0.3359 - accuracy: 0.8870\n",
      "Epoch 34: accuracy did not improve from 0.88770\n",
      "88/88 [==============================] - 11s 124ms/step - loss: 0.3359 - accuracy: 0.8870\n",
      "Epoch 35/100\n",
      "88/88 [==============================] - ETA: 0s - loss: 0.3283 - accuracy: 0.8873\n",
      "Epoch 35: accuracy did not improve from 0.88770\n",
      "88/88 [==============================] - 11s 123ms/step - loss: 0.3283 - accuracy: 0.8873\n",
      "Epoch 36/100\n",
      "88/88 [==============================] - ETA: 0s - loss: 0.3344 - accuracy: 0.8824\n",
      "Epoch 36: accuracy did not improve from 0.88770\n",
      "88/88 [==============================] - 11s 123ms/step - loss: 0.3344 - accuracy: 0.8824\n",
      "Epoch 37/100\n",
      "88/88 [==============================] - ETA: 0s - loss: 0.3308 - accuracy: 0.8856\n",
      "Epoch 37: accuracy did not improve from 0.88770\n",
      "88/88 [==============================] - 11s 123ms/step - loss: 0.3308 - accuracy: 0.8856\n",
      "Epoch 38/100\n",
      "88/88 [==============================] - ETA: 0s - loss: 0.3304 - accuracy: 0.8863\n",
      "Epoch 38: accuracy did not improve from 0.88770\n",
      "88/88 [==============================] - 11s 123ms/step - loss: 0.3304 - accuracy: 0.8863\n",
      "Epoch 39/100\n",
      "88/88 [==============================] - ETA: 0s - loss: 0.3376 - accuracy: 0.8838\n",
      "Epoch 39: accuracy did not improve from 0.88770\n",
      "88/88 [==============================] - 11s 123ms/step - loss: 0.3376 - accuracy: 0.8838\n",
      "Epoch 40/100\n",
      "88/88 [==============================] - ETA: 0s - loss: 0.3323 - accuracy: 0.8845\n",
      "Epoch 40: accuracy did not improve from 0.88770\n",
      "88/88 [==============================] - 11s 123ms/step - loss: 0.3323 - accuracy: 0.8845\n",
      "Epoch 41/100\n",
      "88/88 [==============================] - ETA: 0s - loss: 0.3338 - accuracy: 0.8849\n",
      "Epoch 41: accuracy did not improve from 0.88770\n",
      "88/88 [==============================] - 11s 123ms/step - loss: 0.3338 - accuracy: 0.8849\n",
      "Epoch 42/100\n",
      "88/88 [==============================] - ETA: 0s - loss: 0.3284 - accuracy: 0.8873\n",
      "Epoch 42: accuracy did not improve from 0.88770\n",
      "88/88 [==============================] - 11s 123ms/step - loss: 0.3284 - accuracy: 0.8873\n",
      "Epoch 43/100\n",
      "88/88 [==============================] - ETA: 0s - loss: 0.3281 - accuracy: 0.8863\n",
      "Epoch 43: accuracy did not improve from 0.88770\n",
      "88/88 [==============================] - 11s 123ms/step - loss: 0.3281 - accuracy: 0.8863\n",
      "Epoch 44/100\n",
      "88/88 [==============================] - ETA: 0s - loss: 0.3300 - accuracy: 0.8842\n",
      "Epoch 44: accuracy did not improve from 0.88770\n",
      "88/88 [==============================] - 11s 123ms/step - loss: 0.3300 - accuracy: 0.8842\n",
      "Epoch 45/100\n",
      "88/88 [==============================] - ETA: 0s - loss: 0.3322 - accuracy: 0.8877\n",
      "Epoch 45: accuracy did not improve from 0.88770\n",
      "88/88 [==============================] - 11s 123ms/step - loss: 0.3322 - accuracy: 0.8877\n",
      "Epoch 46/100\n",
      "88/88 [==============================] - ETA: 0s - loss: 0.3324 - accuracy: 0.8845\n",
      "Epoch 46: accuracy did not improve from 0.88770\n",
      "88/88 [==============================] - 11s 123ms/step - loss: 0.3324 - accuracy: 0.8845\n",
      "Epoch 47/100\n",
      "88/88 [==============================] - ETA: 0s - loss: 0.3313 - accuracy: 0.8813\n",
      "Epoch 47: accuracy did not improve from 0.88770\n",
      "88/88 [==============================] - 11s 123ms/step - loss: 0.3313 - accuracy: 0.8813\n",
      "Epoch 48/100\n",
      "88/88 [==============================] - ETA: 0s - loss: 0.3356 - accuracy: 0.8810\n",
      "Epoch 48: accuracy did not improve from 0.88770\n",
      "88/88 [==============================] - 11s 123ms/step - loss: 0.3356 - accuracy: 0.8810\n",
      "Epoch 49/100\n",
      "88/88 [==============================] - ETA: 0s - loss: 0.3391 - accuracy: 0.8873\n",
      "Epoch 49: accuracy did not improve from 0.88770\n",
      "88/88 [==============================] - 11s 123ms/step - loss: 0.3391 - accuracy: 0.8873\n",
      "Epoch 50/100\n",
      "88/88 [==============================] - ETA: 0s - loss: 0.3250 - accuracy: 0.8891\n",
      "Epoch 50: accuracy improved from 0.88770 to 0.88913, saving model to /tmp/CMS2_LSTM_CheckPoint.h5\n",
      "88/88 [==============================] - 11s 124ms/step - loss: 0.3250 - accuracy: 0.8891\n",
      "Epoch 51/100\n",
      "88/88 [==============================] - ETA: 0s - loss: 0.3392 - accuracy: 0.8856\n",
      "Epoch 51: accuracy did not improve from 0.88913\n",
      "88/88 [==============================] - 11s 123ms/step - loss: 0.3392 - accuracy: 0.8856\n",
      "Epoch 52/100\n",
      "88/88 [==============================] - ETA: 0s - loss: 0.3415 - accuracy: 0.8870\n",
      "Epoch 52: accuracy did not improve from 0.88913\n",
      "88/88 [==============================] - 11s 123ms/step - loss: 0.3415 - accuracy: 0.8870\n",
      "Epoch 53/100\n",
      "88/88 [==============================] - ETA: 0s - loss: 0.3413 - accuracy: 0.8849\n",
      "Epoch 53: accuracy did not improve from 0.88913\n",
      "88/88 [==============================] - 11s 123ms/step - loss: 0.3413 - accuracy: 0.8849\n",
      "Epoch 54/100\n",
      "88/88 [==============================] - ETA: 0s - loss: 0.3342 - accuracy: 0.8852\n",
      "Epoch 54: accuracy did not improve from 0.88913\n",
      "88/88 [==============================] - 11s 123ms/step - loss: 0.3342 - accuracy: 0.8852\n",
      "Epoch 55/100\n",
      "88/88 [==============================] - ETA: 0s - loss: 0.3235 - accuracy: 0.8881\n",
      "Epoch 55: accuracy did not improve from 0.88913\n",
      "88/88 [==============================] - 11s 123ms/step - loss: 0.3235 - accuracy: 0.8881\n",
      "Epoch 56/100\n",
      "88/88 [==============================] - ETA: 0s - loss: 0.3274 - accuracy: 0.8877\n",
      "Epoch 56: accuracy did not improve from 0.88913\n",
      "88/88 [==============================] - 11s 123ms/step - loss: 0.3274 - accuracy: 0.8877\n",
      "Epoch 57/100\n",
      "88/88 [==============================] - ETA: 0s - loss: 0.3480 - accuracy: 0.8799\n",
      "Epoch 57: accuracy did not improve from 0.88913\n",
      "88/88 [==============================] - 11s 123ms/step - loss: 0.3480 - accuracy: 0.8799\n",
      "Epoch 58/100\n",
      "88/88 [==============================] - ETA: 0s - loss: 0.3345 - accuracy: 0.8870\n",
      "Epoch 58: accuracy did not improve from 0.88913\n",
      "88/88 [==============================] - 11s 123ms/step - loss: 0.3345 - accuracy: 0.8870\n",
      "Epoch 59/100\n",
      "88/88 [==============================] - ETA: 0s - loss: 0.3303 - accuracy: 0.8856\n",
      "Epoch 59: accuracy did not improve from 0.88913\n",
      "88/88 [==============================] - 11s 123ms/step - loss: 0.3303 - accuracy: 0.8856\n",
      "Epoch 60/100\n",
      "88/88 [==============================] - ETA: 0s - loss: 0.3277 - accuracy: 0.8863\n",
      "Epoch 60: accuracy did not improve from 0.88913\n",
      "88/88 [==============================] - 11s 123ms/step - loss: 0.3277 - accuracy: 0.8863\n",
      "Epoch 61/100\n",
      "88/88 [==============================] - ETA: 0s - loss: 0.3268 - accuracy: 0.8859\n",
      "Epoch 61: accuracy did not improve from 0.88913\n",
      "88/88 [==============================] - 11s 123ms/step - loss: 0.3268 - accuracy: 0.8859\n",
      "Epoch 62/100\n",
      "88/88 [==============================] - ETA: 0s - loss: 0.3406 - accuracy: 0.8810\n",
      "Epoch 62: accuracy did not improve from 0.88913\n",
      "88/88 [==============================] - 11s 123ms/step - loss: 0.3406 - accuracy: 0.8810\n",
      "Epoch 63/100\n",
      "88/88 [==============================] - ETA: 0s - loss: 0.3270 - accuracy: 0.8852\n",
      "Epoch 63: accuracy did not improve from 0.88913\n",
      "88/88 [==============================] - 11s 123ms/step - loss: 0.3270 - accuracy: 0.8852\n",
      "Epoch 64/100\n",
      "88/88 [==============================] - ETA: 0s - loss: 0.3352 - accuracy: 0.8856\n",
      "Epoch 64: accuracy did not improve from 0.88913\n",
      "88/88 [==============================] - 11s 123ms/step - loss: 0.3352 - accuracy: 0.8856\n",
      "Epoch 65/100\n",
      "88/88 [==============================] - ETA: 0s - loss: 0.3262 - accuracy: 0.8856\n",
      "Epoch 65: accuracy did not improve from 0.88913\n",
      "88/88 [==============================] - 11s 123ms/step - loss: 0.3262 - accuracy: 0.8856\n",
      "Epoch 66/100\n",
      "88/88 [==============================] - ETA: 0s - loss: 0.3318 - accuracy: 0.8877\n",
      "Epoch 66: accuracy did not improve from 0.88913\n",
      "88/88 [==============================] - 11s 123ms/step - loss: 0.3318 - accuracy: 0.8877\n",
      "Epoch 67/100\n",
      "88/88 [==============================] - ETA: 0s - loss: 0.3307 - accuracy: 0.8881\n",
      "Epoch 67: accuracy did not improve from 0.88913\n",
      "88/88 [==============================] - 11s 123ms/step - loss: 0.3307 - accuracy: 0.8881\n",
      "Epoch 68/100\n",
      "88/88 [==============================] - ETA: 0s - loss: 0.3294 - accuracy: 0.8863\n",
      "Epoch 68: accuracy did not improve from 0.88913\n",
      "88/88 [==============================] - 11s 124ms/step - loss: 0.3294 - accuracy: 0.8863\n",
      "Epoch 69/100\n",
      "88/88 [==============================] - ETA: 0s - loss: 0.3478 - accuracy: 0.8834\n",
      "Epoch 69: accuracy did not improve from 0.88913\n",
      "88/88 [==============================] - 11s 123ms/step - loss: 0.3478 - accuracy: 0.8834\n",
      "Epoch 70/100\n",
      "88/88 [==============================] - ETA: 0s - loss: 0.3420 - accuracy: 0.8799\n",
      "Epoch 70: accuracy did not improve from 0.88913\n",
      "88/88 [==============================] - 11s 123ms/step - loss: 0.3420 - accuracy: 0.8799\n",
      "Epoch 71/100\n",
      "88/88 [==============================] - ETA: 0s - loss: 0.3392 - accuracy: 0.8838\n",
      "Epoch 71: accuracy did not improve from 0.88913\n",
      "88/88 [==============================] - 11s 123ms/step - loss: 0.3392 - accuracy: 0.8838\n",
      "Epoch 72/100\n",
      "88/88 [==============================] - ETA: 0s - loss: 0.3250 - accuracy: 0.8870\n",
      "Epoch 72: accuracy did not improve from 0.88913\n",
      "88/88 [==============================] - 11s 123ms/step - loss: 0.3250 - accuracy: 0.8870\n",
      "Epoch 73/100\n",
      "88/88 [==============================] - ETA: 0s - loss: 0.3277 - accuracy: 0.8884\n",
      "Epoch 73: accuracy did not improve from 0.88913\n",
      "88/88 [==============================] - 11s 123ms/step - loss: 0.3277 - accuracy: 0.8884\n",
      "Epoch 74/100\n",
      "88/88 [==============================] - ETA: 0s - loss: 0.3323 - accuracy: 0.8859\n",
      "Epoch 74: accuracy did not improve from 0.88913\n",
      "88/88 [==============================] - 11s 123ms/step - loss: 0.3323 - accuracy: 0.8859\n",
      "Epoch 75/100\n",
      "88/88 [==============================] - ETA: 0s - loss: 0.3322 - accuracy: 0.8849\n",
      "Epoch 75: accuracy did not improve from 0.88913\n",
      "88/88 [==============================] - 11s 123ms/step - loss: 0.3322 - accuracy: 0.8849\n",
      "Epoch 76/100\n",
      "88/88 [==============================] - ETA: 0s - loss: 0.3257 - accuracy: 0.8870\n",
      "Epoch 76: accuracy did not improve from 0.88913\n",
      "88/88 [==============================] - 11s 123ms/step - loss: 0.3257 - accuracy: 0.8870\n",
      "Epoch 77/100\n",
      "88/88 [==============================] - ETA: 0s - loss: 0.3201 - accuracy: 0.8884\n",
      "Epoch 77: accuracy did not improve from 0.88913\n",
      "88/88 [==============================] - 11s 123ms/step - loss: 0.3201 - accuracy: 0.8884\n",
      "Epoch 78/100\n",
      "88/88 [==============================] - ETA: 0s - loss: 0.3277 - accuracy: 0.8856\n",
      "Epoch 78: accuracy did not improve from 0.88913\n",
      "88/88 [==============================] - 11s 123ms/step - loss: 0.3277 - accuracy: 0.8856\n",
      "Epoch 79/100\n",
      "88/88 [==============================] - ETA: 0s - loss: 0.3300 - accuracy: 0.8845\n",
      "Epoch 79: accuracy did not improve from 0.88913\n",
      "88/88 [==============================] - 11s 124ms/step - loss: 0.3300 - accuracy: 0.8845\n",
      "Epoch 80/100\n",
      "88/88 [==============================] - ETA: 0s - loss: 0.3236 - accuracy: 0.8866\n",
      "Epoch 80: accuracy did not improve from 0.88913\n",
      "88/88 [==============================] - 11s 125ms/step - loss: 0.3236 - accuracy: 0.8866\n",
      "Epoch 81/100\n",
      "88/88 [==============================] - ETA: 0s - loss: 0.3292 - accuracy: 0.8842\n",
      "Epoch 81: accuracy did not improve from 0.88913\n",
      "88/88 [==============================] - 11s 128ms/step - loss: 0.3292 - accuracy: 0.8842\n",
      "Epoch 82/100\n",
      "88/88 [==============================] - ETA: 0s - loss: 0.3280 - accuracy: 0.8859\n",
      "Epoch 82: accuracy did not improve from 0.88913\n",
      "88/88 [==============================] - 11s 126ms/step - loss: 0.3280 - accuracy: 0.8859\n",
      "Epoch 83/100\n",
      "88/88 [==============================] - ETA: 0s - loss: 0.3228 - accuracy: 0.8859\n",
      "Epoch 83: accuracy did not improve from 0.88913\n",
      "88/88 [==============================] - 11s 126ms/step - loss: 0.3228 - accuracy: 0.8859\n",
      "Epoch 84/100\n",
      "88/88 [==============================] - ETA: 0s - loss: 0.3141 - accuracy: 0.8884\n",
      "Epoch 84: accuracy did not improve from 0.88913\n",
      "88/88 [==============================] - 11s 124ms/step - loss: 0.3141 - accuracy: 0.8884\n",
      "Epoch 85/100\n",
      "88/88 [==============================] - ETA: 0s - loss: 0.3299 - accuracy: 0.8831\n",
      "Epoch 85: accuracy did not improve from 0.88913\n",
      "88/88 [==============================] - 11s 124ms/step - loss: 0.3299 - accuracy: 0.8831\n",
      "Epoch 86/100\n",
      "88/88 [==============================] - ETA: 0s - loss: 0.3345 - accuracy: 0.8842\n",
      "Epoch 86: accuracy did not improve from 0.88913\n",
      "88/88 [==============================] - 11s 124ms/step - loss: 0.3345 - accuracy: 0.8842\n",
      "Epoch 87/100\n",
      "88/88 [==============================] - ETA: 0s - loss: 0.3186 - accuracy: 0.8884\n",
      "Epoch 87: accuracy did not improve from 0.88913\n",
      "88/88 [==============================] - 11s 123ms/step - loss: 0.3186 - accuracy: 0.8884\n",
      "Epoch 88/100\n",
      "88/88 [==============================] - ETA: 0s - loss: 0.3279 - accuracy: 0.8891\n",
      "Epoch 88: accuracy did not improve from 0.88913\n",
      "88/88 [==============================] - 11s 123ms/step - loss: 0.3279 - accuracy: 0.8891\n",
      "Epoch 89/100\n",
      "88/88 [==============================] - ETA: 0s - loss: 0.3224 - accuracy: 0.8884\n",
      "Epoch 89: accuracy did not improve from 0.88913\n",
      "88/88 [==============================] - 11s 123ms/step - loss: 0.3224 - accuracy: 0.8884\n",
      "Epoch 90/100\n",
      "88/88 [==============================] - ETA: 0s - loss: 0.3230 - accuracy: 0.8873\n",
      "Epoch 90: accuracy did not improve from 0.88913\n",
      "88/88 [==============================] - 11s 123ms/step - loss: 0.3230 - accuracy: 0.8873\n",
      "Epoch 91/100\n",
      "88/88 [==============================] - ETA: 0s - loss: 0.3263 - accuracy: 0.8824\n",
      "Epoch 91: accuracy did not improve from 0.88913\n",
      "88/88 [==============================] - 11s 123ms/step - loss: 0.3263 - accuracy: 0.8824\n",
      "Epoch 92/100\n",
      "88/88 [==============================] - ETA: 0s - loss: 0.3257 - accuracy: 0.8873\n",
      "Epoch 92: accuracy did not improve from 0.88913\n",
      "88/88 [==============================] - 11s 123ms/step - loss: 0.3257 - accuracy: 0.8873\n",
      "Epoch 93/100\n",
      "88/88 [==============================] - ETA: 0s - loss: 0.3308 - accuracy: 0.8866\n",
      "Epoch 93: accuracy did not improve from 0.88913\n",
      "88/88 [==============================] - 11s 123ms/step - loss: 0.3308 - accuracy: 0.8866\n",
      "Epoch 94/100\n",
      "88/88 [==============================] - ETA: 0s - loss: 0.3258 - accuracy: 0.8870\n",
      "Epoch 94: accuracy did not improve from 0.88913\n",
      "88/88 [==============================] - 11s 123ms/step - loss: 0.3258 - accuracy: 0.8870\n",
      "Epoch 95/100\n",
      "88/88 [==============================] - ETA: 0s - loss: 0.3287 - accuracy: 0.8863\n",
      "Epoch 95: accuracy did not improve from 0.88913\n",
      "88/88 [==============================] - 11s 123ms/step - loss: 0.3287 - accuracy: 0.8863\n",
      "Epoch 96/100\n",
      "88/88 [==============================] - ETA: 0s - loss: 0.3393 - accuracy: 0.8770\n",
      "Epoch 96: accuracy did not improve from 0.88913\n",
      "88/88 [==============================] - 11s 123ms/step - loss: 0.3393 - accuracy: 0.8770\n",
      "Epoch 97/100\n",
      "88/88 [==============================] - ETA: 0s - loss: 0.3308 - accuracy: 0.8870\n",
      "Epoch 97: accuracy did not improve from 0.88913\n",
      "88/88 [==============================] - 11s 123ms/step - loss: 0.3308 - accuracy: 0.8870\n",
      "Epoch 98/100\n",
      "88/88 [==============================] - ETA: 0s - loss: 0.3282 - accuracy: 0.8891\n",
      "Epoch 98: accuracy did not improve from 0.88913\n",
      "88/88 [==============================] - 11s 123ms/step - loss: 0.3282 - accuracy: 0.8891\n",
      "Epoch 99/100\n",
      "88/88 [==============================] - ETA: 0s - loss: 0.3236 - accuracy: 0.8852\n",
      "Epoch 99: accuracy did not improve from 0.88913\n",
      "88/88 [==============================] - 11s 123ms/step - loss: 0.3236 - accuracy: 0.8852\n",
      "Epoch 100/100\n",
      "88/88 [==============================] - ETA: 0s - loss: 0.3208 - accuracy: 0.8849\n",
      "Epoch 100: accuracy did not improve from 0.88913\n",
      "88/88 [==============================] - 11s 123ms/step - loss: 0.3208 - accuracy: 0.8849\n"
     ]
    },
    {
     "data": {
      "text/plain": [
       "<keras.src.callbacks.History at 0x7fa1d05ed210>"
      ]
     },
     "execution_count": 23,
     "metadata": {},
     "output_type": "execute_result"
    }
   ],
   "source": [
    "model.fit(X_train, y_train, epochs=100, batch_size=32, callbacks=[checkpoint])"
   ]
  },
  {
   "cell_type": "markdown",
   "metadata": {},
   "source": [
    "# Load Best CheckPoint"
   ]
  },
  {
   "cell_type": "code",
   "execution_count": 18,
   "metadata": {},
   "outputs": [
    {
     "name": "stdout",
     "output_type": "stream",
     "text": [
      "2/2 [==============================] - 1s 70ms/step - loss: 0.3115 - accuracy: 0.8897\n"
     ]
    },
    {
     "data": {
      "text/plain": [
       "[0.3114548921585083, 0.8897180557250977]"
      ]
     },
     "execution_count": 18,
     "metadata": {},
     "output_type": "execute_result"
    }
   ],
   "source": [
    "cp_model = load_model('/tmp/CMS2_LSTM_CheckPoint.h5')\n",
    "cp_model.evaluate(X_test, y_test, batch_size=1000)"
   ]
  },
  {
   "cell_type": "markdown",
   "metadata": {},
   "source": [
    "# Evaluate"
   ]
  },
  {
   "cell_type": "code",
   "execution_count": 19,
   "metadata": {},
   "outputs": [
    {
     "name": "stdout",
     "output_type": "stream",
     "text": [
      "38/38 [==============================] - 3s 50ms/step\n"
     ]
    }
   ],
   "source": [
    "y_pred = cp_model.predict(X_test)"
   ]
  },
  {
   "cell_type": "code",
   "execution_count": 20,
   "metadata": {},
   "outputs": [],
   "source": [
    "preds_single = CLASSES[np.argmax(y_pred, axis = -1)]\n",
    "actual_single = CLASSES[np.argmax(y_test, axis = -1)]"
   ]
  },
  {
   "cell_type": "markdown",
   "metadata": {},
   "source": [
    "# Classification Results"
   ]
  },
  {
   "cell_type": "code",
   "execution_count": 21,
   "metadata": {},
   "outputs": [
    {
     "name": "stdout",
     "output_type": "stream",
     "text": [
      "              precision    recall  f1-score   support\n",
      "\n",
      "           0       0.82      1.00      0.90       597\n",
      "           1       1.00      0.78      0.88       609\n",
      "\n",
      "    accuracy                           0.89      1206\n",
      "   macro avg       0.91      0.89      0.89      1206\n",
      "weighted avg       0.91      0.89      0.89      1206\n",
      "\n"
     ]
    }
   ],
   "source": [
    "y_pred_classes = tf.argmax(y_pred, axis=1)\n",
    "y_test_classes = tf.argmax(y_test, axis=1)\n",
    "\n",
    "print(classification_report(y_test_classes, y_pred_classes))"
   ]
  },
  {
   "cell_type": "markdown",
   "metadata": {},
   "source": [
    "# Confusion MatriX"
   ]
  },
  {
   "cell_type": "code",
   "execution_count": 16,
   "metadata": {},
   "outputs": [
    {
     "name": "stdout",
     "output_type": "stream",
     "text": [
      "Confusion Matrix:\n",
      "            Legitimate  Suspicious\n",
      "Legitimate         597           0\n",
      "Suspicious         124         485\n"
     ]
    }
   ],
   "source": [
    "conf_matrix = confusion_matrix(y_test_classes, y_pred_classes)\n",
    "\n",
    "class_labels = ['Legitimate', 'Suspicious']\n",
    "\n",
    "conf_matrix_df = pd.DataFrame(conf_matrix, index=class_labels, columns=class_labels)\n",
    "\n",
    "print(\"Confusion Matrix:\")\n",
    "print(conf_matrix_df)"
   ]
  },
  {
   "cell_type": "code",
   "execution_count": null,
   "metadata": {},
   "outputs": [],
   "source": []
  },
  {
   "cell_type": "code",
   "execution_count": null,
   "metadata": {},
   "outputs": [],
   "source": []
  }
 ],
 "metadata": {
  "kernelspec": {
   "display_name": "Python 3.10 (NGC 24.01 / TensorFlow 2.14) on Backend.AI",
   "language": "python",
   "name": "python3"
  },
  "language_info": {
   "codemirror_mode": {
    "name": "ipython",
    "version": 3
   },
   "file_extension": ".py",
   "mimetype": "text/x-python",
   "name": "python",
   "nbconvert_exporter": "python",
   "pygments_lexer": "ipython3",
   "version": "3.10.12"
  }
 },
 "nbformat": 4,
 "nbformat_minor": 4
}
