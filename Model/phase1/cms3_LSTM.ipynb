{
 "cells": [
  {
   "cell_type": "code",
   "execution_count": 1,
   "metadata": {},
   "outputs": [
    {
     "name": "stderr",
     "output_type": "stream",
     "text": [
      "2024-07-30 12:58:39.607220: I tensorflow/core/util/port.cc:111] oneDNN custom operations are on. You may see slightly different numerical results due to floating-point round-off errors from different computation orders. To turn them off, set the environment variable `TF_ENABLE_ONEDNN_OPTS=0`.\n",
      "2024-07-30 12:58:39.658090: E tensorflow/compiler/xla/stream_executor/cuda/cuda_dnn.cc:9360] Unable to register cuDNN factory: Attempting to register factory for plugin cuDNN when one has already been registered\n",
      "2024-07-30 12:58:39.658125: E tensorflow/compiler/xla/stream_executor/cuda/cuda_fft.cc:609] Unable to register cuFFT factory: Attempting to register factory for plugin cuFFT when one has already been registered\n",
      "2024-07-30 12:58:39.658158: E tensorflow/compiler/xla/stream_executor/cuda/cuda_blas.cc:1537] Unable to register cuBLAS factory: Attempting to register factory for plugin cuBLAS when one has already been registered\n",
      "2024-07-30 12:58:39.667122: I tensorflow/core/platform/cpu_feature_guard.cc:183] This TensorFlow binary is optimized to use available CPU instructions in performance-critical operations.\n",
      "To enable the following instructions: SSE3 SSE4.1 SSE4.2 AVX, in other operations, rebuild TensorFlow with the appropriate compiler flags.\n"
     ]
    }
   ],
   "source": [
    "import os\n",
    "import pandas as pd\n",
    "import numpy as np\n",
    "import tensorflow as tf\n",
    "import matplotlib.pyplot as plt\n",
    "\n",
    "from multiprocessing import Pool\n",
    "from concurrent.futures import ThreadPoolExecutor, as_completed\n",
    "\n",
    "from keras.models import Model\n",
    "from keras.optimizers import Adam\n",
    "from keras.models import load_model\n",
    "from keras.utils import to_categorical\n",
    "from keras.callbacks import ModelCheckpoint, ReduceLROnPlateau\n",
    "from keras.layers import Input, LSTM, BatchNormalization, Dropout, Dense, Add, Flatten\n",
    "\n",
    "from tensorflow.keras.regularizers import l2\n",
    "\n",
    "from sklearn.preprocessing import LabelEncoder\n",
    "from sklearn.metrics import classification_report, confusion_matrix\n",
    "from sklearn.model_selection import train_test_split"
   ]
  },
  {
   "cell_type": "markdown",
   "metadata": {},
   "source": [
    "# Load csv from Desktop"
   ]
  },
  {
   "cell_type": "code",
   "execution_count": 2,
   "metadata": {},
   "outputs": [],
   "source": [
    "NUM_CLASSES = 2\n",
    "CLASSES = np.array(['Legitimate', 'Suspicious'])\n",
    "DATASET_DIR = \"./\"\n",
    "VECTOR_LENGTH = 1 * 275\n",
    "\n",
    "def csvToVector(file_path):\n",
    "    data = pd.read_csv(file_path, header=None)\n",
    "    vector = data.values.flatten()\n",
    "    return vector\n",
    "\n",
    "def process_file(class_idx, file_path):\n",
    "    vector = csvToVector(file_path)\n",
    "    return (vector, class_idx)\n",
    "\n",
    "def load_data(dataset_dir):\n",
    "    X = []\n",
    "    y = []\n",
    "    subdirs = ['benign_cms3', 'malware_cms3']\n",
    "    futures = []\n",
    "\n",
    "    with ThreadPoolExecutor() as executor:\n",
    "        for class_idx, class_name in enumerate(subdirs):\n",
    "            class_dir = os.path.join(dataset_dir, class_name)\n",
    "            for file_name in os.listdir(class_dir):\n",
    "                if file_name.endswith('.csv'):\n",
    "                    file_path = os.path.join(class_dir, file_name)\n",
    "                    futures.append(executor.submit(process_file, class_idx, file_path))\n",
    "\n",
    "        for future in as_completed(futures):\n",
    "            vector, class_idx = future.result()\n",
    "            X.append(vector)\n",
    "            y.append(class_idx)\n",
    "\n",
    "    X = np.array(X)\n",
    "    y = np.array(y)\n",
    "    return X, y"
   ]
  },
  {
   "cell_type": "code",
   "execution_count": 3,
   "metadata": {},
   "outputs": [],
   "source": [
    "X, y = load_data(DATASET_DIR)"
   ]
  },
  {
   "cell_type": "code",
   "execution_count": 4,
   "metadata": {},
   "outputs": [
    {
     "name": "stdout",
     "output_type": "stream",
     "text": [
      "(4020, 275)\n",
      "(4020,)\n",
      "[[  146  9849   196 ... 17728  8577 16917]\n",
      " [  104  9651   191 ... 10045   418  9846]\n",
      " [   66  9577   144 ... 10014   593  9764]\n",
      " ...\n",
      " [  103  9382   148 ... 15659  6834 14347]\n",
      " [  118 10815   189 ... 10788   842 14653]\n",
      " [  147 11389   145 ...  4170   851  1572]]\n",
      "[1 1 1 ... 1 1 1]\n"
     ]
    }
   ],
   "source": [
    "print(X.shape)\n",
    "print(y.shape)\n",
    "print(X)\n",
    "print(y)"
   ]
  },
  {
   "cell_type": "markdown",
   "metadata": {},
   "source": [
    "# Train, Validation, Test Split and Nomalize"
   ]
  },
  {
   "cell_type": "code",
   "execution_count": 5,
   "metadata": {},
   "outputs": [],
   "source": [
    "X_train, X_test, y_train, y_test= train_test_split(X, y, test_size=0.3, random_state=41)\n",
    "\n",
    "#X_train, X_val, y_train, y_val = train_test_split(X_train, y_train, test_size=0.2, random_state=42)\n",
    "\n",
    "X_train = X_train / 299.0\n",
    "#X_val = X_val / 299.0\n",
    "X_test = X_test / 299.0\n",
    "\n",
    "y_train = to_categorical(y_train, 2)\n",
    "#y_val = to_categorical(y_val, 2)\n",
    "y_test = to_categorical(y_test, 2)"
   ]
  },
  {
   "cell_type": "code",
   "execution_count": 6,
   "metadata": {},
   "outputs": [
    {
     "name": "stdout",
     "output_type": "stream",
     "text": [
      "(2814, 275)\n",
      "(1206, 275)\n",
      "(2814, 2)\n",
      "(1206, 2)\n"
     ]
    }
   ],
   "source": [
    "print(X_train.shape)\n",
    "print(X_test.shape)\n",
    "#print(X_val.shape)\n",
    "print(y_train.shape)\n",
    "print(y_test.shape)\n",
    "#print(y_val.shape)"
   ]
  },
  {
   "cell_type": "markdown",
   "metadata": {},
   "source": [
    "# 1D CNN Architecture"
   ]
  },
  {
   "cell_type": "code",
   "execution_count": 7,
   "metadata": {},
   "outputs": [
    {
     "name": "stderr",
     "output_type": "stream",
     "text": [
      "2024-07-30 12:58:55.794301: I tensorflow/core/common_runtime/gpu/gpu_device.cc:1883] Created device /job:localhost/replica:0/task:0/device:GPU:0 with 31350 MB memory:  -> device: 0, name: CUDA GPU, pci bus id: 0000:06:00.0, compute capability: 7.0\n",
      "2024-07-30 12:58:55.794851: I tensorflow/core/common_runtime/gpu/gpu_device.cc:1883] Created device /job:localhost/replica:0/task:0/device:GPU:1 with 31350 MB memory:  -> device: 1, name: CUDA GPU, pci bus id: 0000:2f:00.0, compute capability: 7.0\n",
      "2024-07-30 12:58:55.795357: I tensorflow/core/common_runtime/gpu/gpu_device.cc:1883] Created device /job:localhost/replica:0/task:0/device:GPU:2 with 31350 MB memory:  -> device: 2, name: CUDA GPU, pci bus id: 0000:86:00.0, compute capability: 7.0\n"
     ]
    }
   ],
   "source": [
    "input_layer = Input(shape=(VECTOR_LENGTH, 1))\n",
    "\n",
    "x = LSTM(32, return_sequences=True)(input_layer)\n",
    "x = BatchNormalization()(x)\n",
    "x = Dropout(0.2)(x)\n",
    "\n",
    "x = LSTM(64, return_sequences=True)(x)\n",
    "x = BatchNormalization()(x)\n",
    "x = Dropout(0.2)(x)\n",
    "\n",
    "x = LSTM(128, return_sequences=False)(x)\n",
    "x = BatchNormalization()(x)\n",
    "x = Dropout(0.5)(x)\n",
    "\n",
    "x = Flatten()(x)\n",
    "\n",
    "x = Dense(256, activation='relu', kernel_regularizer=l2(0.01))(x)\n",
    "x = BatchNormalization()(x)\n",
    "x = Dropout(0.5)(x)\n",
    "\n",
    "output_layer = Dense(NUM_CLASSES, activation='softmax')(x)\n",
    "\n",
    "model = Model(inputs=input_layer, outputs=output_layer)\n",
    "\n",
    "opt = Adam(learning_rate=0.001)\n",
    "model.compile(optimizer=opt, loss='categorical_crossentropy', metrics=['accuracy'])"
   ]
  },
  {
   "cell_type": "code",
   "execution_count": 8,
   "metadata": {},
   "outputs": [
    {
     "name": "stdout",
     "output_type": "stream",
     "text": [
      "Model: \"model\"\n",
      "_________________________________________________________________\n",
      " Layer (type)                Output Shape              Param #   \n",
      "=================================================================\n",
      " input_1 (InputLayer)        [(None, 275, 1)]          0         \n",
      "                                                                 \n",
      " lstm (LSTM)                 (None, 275, 32)           4352      \n",
      "                                                                 \n",
      " batch_normalization (Batch  (None, 275, 32)           128       \n",
      " Normalization)                                                  \n",
      "                                                                 \n",
      " dropout (Dropout)           (None, 275, 32)           0         \n",
      "                                                                 \n",
      " lstm_1 (LSTM)               (None, 275, 64)           24832     \n",
      "                                                                 \n",
      " batch_normalization_1 (Bat  (None, 275, 64)           256       \n",
      " chNormalization)                                                \n",
      "                                                                 \n",
      " dropout_1 (Dropout)         (None, 275, 64)           0         \n",
      "                                                                 \n",
      " lstm_2 (LSTM)               (None, 128)               98816     \n",
      "                                                                 \n",
      " batch_normalization_2 (Bat  (None, 128)               512       \n",
      " chNormalization)                                                \n",
      "                                                                 \n",
      " dropout_2 (Dropout)         (None, 128)               0         \n",
      "                                                                 \n",
      " flatten (Flatten)           (None, 128)               0         \n",
      "                                                                 \n",
      " dense (Dense)               (None, 256)               33024     \n",
      "                                                                 \n",
      " batch_normalization_3 (Bat  (None, 256)               1024      \n",
      " chNormalization)                                                \n",
      "                                                                 \n",
      " dropout_3 (Dropout)         (None, 256)               0         \n",
      "                                                                 \n",
      " dense_1 (Dense)             (None, 2)                 514       \n",
      "                                                                 \n",
      "=================================================================\n",
      "Total params: 163458 (638.51 KB)\n",
      "Trainable params: 162498 (634.76 KB)\n",
      "Non-trainable params: 960 (3.75 KB)\n",
      "_________________________________________________________________\n"
     ]
    }
   ],
   "source": [
    "model.summary()"
   ]
  },
  {
   "cell_type": "markdown",
   "metadata": {},
   "source": [
    "# CheckPoint"
   ]
  },
  {
   "cell_type": "code",
   "execution_count": 9,
   "metadata": {},
   "outputs": [],
   "source": [
    "reduce_lr = ReduceLROnPlateau(monitor='loss', factor=0.5, patience=5, min_lr=0.00001)\n",
    "checkpoint = ModelCheckpoint(\n",
    "    filepath='/tmp/CMS3_LSTM_CheckPoint.h5',\n",
    "    save_best_only=True,\n",
    "    monitor='accuracy',\n",
    "    mode='max',\n",
    "    verbose=1\n",
    ")"
   ]
  },
  {
   "cell_type": "markdown",
   "metadata": {},
   "source": [
    "# Model Training"
   ]
  },
  {
   "cell_type": "code",
   "execution_count": 10,
   "metadata": {},
   "outputs": [
    {
     "name": "stdout",
     "output_type": "stream",
     "text": [
      "Epoch 1/30\n"
     ]
    },
    {
     "name": "stderr",
     "output_type": "stream",
     "text": [
      "2024-07-30 12:59:02.313779: I tensorflow/compiler/xla/stream_executor/cuda/cuda_dnn.cc:442] Loaded cuDNN version 8907\n",
      "2024-07-30 12:59:03.665727: I tensorflow/compiler/xla/service/service.cc:168] XLA service 0x7ff1d4c05d40 initialized for platform CUDA (this does not guarantee that XLA will be used). Devices:\n",
      "2024-07-30 12:59:03.665759: I tensorflow/compiler/xla/service/service.cc:176]   StreamExecutor device (0): CUDA GPU, Compute Capability 7.0\n",
      "2024-07-30 12:59:03.665765: I tensorflow/compiler/xla/service/service.cc:176]   StreamExecutor device (1): CUDA GPU, Compute Capability 7.0\n",
      "2024-07-30 12:59:03.665770: I tensorflow/compiler/xla/service/service.cc:176]   StreamExecutor device (2): CUDA GPU, Compute Capability 7.0\n",
      "2024-07-30 12:59:03.671532: I tensorflow/compiler/mlir/tensorflow/utils/dump_mlir_util.cc:269] disabling MLIR crash reproducer, set env var `MLIR_CRASH_REPRODUCER_DIRECTORY` to enable.\n",
      "2024-07-30 12:59:03.762405: I ./tensorflow/compiler/jit/device_compiler.h:186] Compiled cluster using XLA!  This line is logged at most once for the lifetime of the process.\n"
     ]
    },
    {
     "name": "stdout",
     "output_type": "stream",
     "text": [
      "87/88 [============================>.] - ETA: 0s - loss: 2.0269 - accuracy: 0.7762\n",
      "Epoch 1: accuracy improved from -inf to 0.77790, saving model to /tmp/CMS3_LSTM_CheckPoint.h5\n",
      "88/88 [==============================] - 10s 32ms/step - loss: 2.0195 - accuracy: 0.7779 - lr: 0.0010\n",
      "Epoch 2/30\n",
      " 3/88 [>.............................] - ETA: 2s - loss: 1.4356 - accuracy: 0.9062"
     ]
    },
    {
     "name": "stderr",
     "output_type": "stream",
     "text": [
      "/usr/local/lib/python3.10/dist-packages/keras/src/engine/training.py:3079: UserWarning: You are saving your model as an HDF5 file via `model.save()`. This file format is considered legacy. We recommend using instead the native Keras format, e.g. `model.save('my_model.keras')`.\n",
      "  saving_api.save_model(\n"
     ]
    },
    {
     "name": "stdout",
     "output_type": "stream",
     "text": [
      "87/88 [============================>.] - ETA: 0s - loss: 1.3430 - accuracy: 0.8811\n",
      "Epoch 2: accuracy improved from 0.77790 to 0.88095, saving model to /tmp/CMS3_LSTM_CheckPoint.h5\n",
      "88/88 [==============================] - 3s 32ms/step - loss: 1.3410 - accuracy: 0.8810 - lr: 0.0010\n",
      "Epoch 3/30\n",
      "87/88 [============================>.] - ETA: 0s - loss: 0.9991 - accuracy: 0.9174\n",
      "Epoch 3: accuracy improved from 0.88095 to 0.91720, saving model to /tmp/CMS3_LSTM_CheckPoint.h5\n",
      "88/88 [==============================] - 3s 32ms/step - loss: 0.9995 - accuracy: 0.9172 - lr: 0.0010\n",
      "Epoch 4/30\n",
      "87/88 [============================>.] - ETA: 0s - loss: 0.8055 - accuracy: 0.9167\n",
      "Epoch 4: accuracy did not improve from 0.91720\n",
      "88/88 [==============================] - 3s 31ms/step - loss: 0.8061 - accuracy: 0.9165 - lr: 0.0010\n",
      "Epoch 5/30\n",
      "87/88 [============================>.] - ETA: 0s - loss: 0.6257 - accuracy: 0.9303\n",
      "Epoch 5: accuracy improved from 0.91720 to 0.93035, saving model to /tmp/CMS3_LSTM_CheckPoint.h5\n",
      "88/88 [==============================] - 3s 32ms/step - loss: 0.6247 - accuracy: 0.9303 - lr: 0.0010\n",
      "Epoch 6/30\n",
      "87/88 [============================>.] - ETA: 0s - loss: 0.5175 - accuracy: 0.9371\n",
      "Epoch 6: accuracy improved from 0.93035 to 0.93710, saving model to /tmp/CMS3_LSTM_CheckPoint.h5\n",
      "88/88 [==============================] - 3s 32ms/step - loss: 0.5167 - accuracy: 0.9371 - lr: 0.0010\n",
      "Epoch 7/30\n",
      "87/88 [============================>.] - ETA: 0s - loss: 0.4288 - accuracy: 0.9386\n",
      "Epoch 7: accuracy improved from 0.93710 to 0.93852, saving model to /tmp/CMS3_LSTM_CheckPoint.h5\n",
      "88/88 [==============================] - 3s 32ms/step - loss: 0.4291 - accuracy: 0.9385 - lr: 0.0010\n",
      "Epoch 8/30\n",
      "87/88 [============================>.] - ETA: 0s - loss: 0.3702 - accuracy: 0.9422\n",
      "Epoch 8: accuracy improved from 0.93852 to 0.94136, saving model to /tmp/CMS3_LSTM_CheckPoint.h5\n",
      "88/88 [==============================] - 3s 32ms/step - loss: 0.3731 - accuracy: 0.9414 - lr: 0.0010\n",
      "Epoch 9/30\n",
      "87/88 [============================>.] - ETA: 0s - loss: 0.3231 - accuracy: 0.9371\n",
      "Epoch 9: accuracy did not improve from 0.94136\n",
      "88/88 [==============================] - 3s 31ms/step - loss: 0.3216 - accuracy: 0.9375 - lr: 0.0010\n",
      "Epoch 10/30\n",
      "87/88 [============================>.] - ETA: 0s - loss: 0.2804 - accuracy: 0.9447\n",
      "Epoch 10: accuracy improved from 0.94136 to 0.94527, saving model to /tmp/CMS3_LSTM_CheckPoint.h5\n",
      "88/88 [==============================] - 3s 32ms/step - loss: 0.2785 - accuracy: 0.9453 - lr: 0.0010\n",
      "Epoch 11/30\n",
      "87/88 [============================>.] - ETA: 0s - loss: 0.2602 - accuracy: 0.9407\n",
      "Epoch 11: accuracy did not improve from 0.94527\n",
      "88/88 [==============================] - 3s 31ms/step - loss: 0.2587 - accuracy: 0.9414 - lr: 0.0010\n",
      "Epoch 12/30\n",
      "87/88 [============================>.] - ETA: 0s - loss: 0.2295 - accuracy: 0.9443\n",
      "Epoch 12: accuracy did not improve from 0.94527\n",
      "88/88 [==============================] - 3s 31ms/step - loss: 0.2292 - accuracy: 0.9446 - lr: 0.0010\n",
      "Epoch 13/30\n",
      "87/88 [============================>.] - ETA: 0s - loss: 0.2079 - accuracy: 0.9458\n",
      "Epoch 13: accuracy improved from 0.94527 to 0.94634, saving model to /tmp/CMS3_LSTM_CheckPoint.h5\n",
      "88/88 [==============================] - 3s 32ms/step - loss: 0.2067 - accuracy: 0.9463 - lr: 0.0010\n",
      "Epoch 14/30\n",
      "87/88 [============================>.] - ETA: 0s - loss: 0.1883 - accuracy: 0.9533\n",
      "Epoch 14: accuracy improved from 0.94634 to 0.95345, saving model to /tmp/CMS3_LSTM_CheckPoint.h5\n",
      "88/88 [==============================] - 3s 32ms/step - loss: 0.1881 - accuracy: 0.9534 - lr: 0.0010\n",
      "Epoch 15/30\n",
      "87/88 [============================>.] - ETA: 0s - loss: 0.1759 - accuracy: 0.9533\n",
      "Epoch 15: accuracy did not improve from 0.95345\n",
      "88/88 [==============================] - 3s 31ms/step - loss: 0.1755 - accuracy: 0.9534 - lr: 0.0010\n",
      "Epoch 16/30\n",
      "87/88 [============================>.] - ETA: 0s - loss: 0.1760 - accuracy: 0.9537\n",
      "Epoch 16: accuracy did not improve from 0.95345\n",
      "88/88 [==============================] - 3s 31ms/step - loss: 0.1760 - accuracy: 0.9534 - lr: 0.0010\n",
      "Epoch 17/30\n",
      "87/88 [============================>.] - ETA: 0s - loss: 0.1771 - accuracy: 0.9486\n",
      "Epoch 17: accuracy did not improve from 0.95345\n",
      "88/88 [==============================] - 3s 31ms/step - loss: 0.1783 - accuracy: 0.9481 - lr: 0.0010\n",
      "Epoch 18/30\n",
      "87/88 [============================>.] - ETA: 0s - loss: 0.1668 - accuracy: 0.9533\n",
      "Epoch 18: accuracy did not improve from 0.95345\n",
      "88/88 [==============================] - 3s 31ms/step - loss: 0.1668 - accuracy: 0.9527 - lr: 0.0010\n",
      "Epoch 19/30\n",
      "87/88 [============================>.] - ETA: 0s - loss: 0.1700 - accuracy: 0.9490\n",
      "Epoch 19: accuracy did not improve from 0.95345\n",
      "88/88 [==============================] - 3s 31ms/step - loss: 0.1695 - accuracy: 0.9488 - lr: 0.0010\n",
      "Epoch 20/30\n",
      "87/88 [============================>.] - ETA: 0s - loss: 0.1555 - accuracy: 0.9583\n",
      "Epoch 20: accuracy improved from 0.95345 to 0.95878, saving model to /tmp/CMS3_LSTM_CheckPoint.h5\n",
      "88/88 [==============================] - 3s 32ms/step - loss: 0.1542 - accuracy: 0.9588 - lr: 0.0010\n",
      "Epoch 21/30\n",
      "87/88 [============================>.] - ETA: 0s - loss: 0.1970 - accuracy: 0.9368\n",
      "Epoch 21: accuracy did not improve from 0.95878\n",
      "88/88 [==============================] - 3s 31ms/step - loss: 0.1990 - accuracy: 0.9360 - lr: 0.0010\n",
      "Epoch 22/30\n",
      "87/88 [============================>.] - ETA: 0s - loss: 0.1731 - accuracy: 0.9494\n",
      "Epoch 22: accuracy did not improve from 0.95878\n",
      "88/88 [==============================] - 3s 31ms/step - loss: 0.1732 - accuracy: 0.9495 - lr: 0.0010\n",
      "Epoch 23/30\n",
      "87/88 [============================>.] - ETA: 0s - loss: 0.1727 - accuracy: 0.9476\n",
      "Epoch 23: accuracy did not improve from 0.95878\n",
      "88/88 [==============================] - 3s 31ms/step - loss: 0.1732 - accuracy: 0.9478 - lr: 0.0010\n",
      "Epoch 24/30\n",
      "87/88 [============================>.] - ETA: 0s - loss: 0.1677 - accuracy: 0.9558\n",
      "Epoch 24: accuracy did not improve from 0.95878\n",
      "88/88 [==============================] - 3s 31ms/step - loss: 0.1674 - accuracy: 0.9556 - lr: 0.0010\n",
      "Epoch 25/30\n",
      "87/88 [============================>.] - ETA: 0s - loss: 0.1487 - accuracy: 0.9608\n",
      "Epoch 25: accuracy improved from 0.95878 to 0.96020, saving model to /tmp/CMS3_LSTM_CheckPoint.h5\n",
      "88/88 [==============================] - 3s 32ms/step - loss: 0.1497 - accuracy: 0.9602 - lr: 0.0010\n",
      "Epoch 26/30\n",
      "87/88 [============================>.] - ETA: 0s - loss: 0.1496 - accuracy: 0.9558\n",
      "Epoch 26: accuracy did not improve from 0.96020\n",
      "88/88 [==============================] - 3s 31ms/step - loss: 0.1503 - accuracy: 0.9559 - lr: 0.0010\n",
      "Epoch 27/30\n",
      "87/88 [============================>.] - ETA: 0s - loss: 0.1624 - accuracy: 0.9504\n",
      "Epoch 27: accuracy did not improve from 0.96020\n",
      "88/88 [==============================] - 3s 31ms/step - loss: 0.1621 - accuracy: 0.9506 - lr: 0.0010\n",
      "Epoch 28/30\n",
      "87/88 [============================>.] - ETA: 0s - loss: 0.1519 - accuracy: 0.9576\n",
      "Epoch 28: accuracy did not improve from 0.96020\n",
      "88/88 [==============================] - 3s 31ms/step - loss: 0.1533 - accuracy: 0.9574 - lr: 0.0010\n",
      "Epoch 29/30\n",
      "87/88 [============================>.] - ETA: 0s - loss: 0.1612 - accuracy: 0.9569\n",
      "Epoch 29: accuracy did not improve from 0.96020\n",
      "88/88 [==============================] - 3s 31ms/step - loss: 0.1620 - accuracy: 0.9563 - lr: 0.0010\n",
      "Epoch 30/30\n",
      "87/88 [============================>.] - ETA: 0s - loss: 0.1707 - accuracy: 0.9483\n",
      "Epoch 30: accuracy did not improve from 0.96020\n",
      "88/88 [==============================] - 3s 31ms/step - loss: 0.1704 - accuracy: 0.9485 - lr: 0.0010\n"
     ]
    },
    {
     "data": {
      "text/plain": [
       "<keras.src.callbacks.History at 0x7ff3dce87580>"
      ]
     },
     "execution_count": 10,
     "metadata": {},
     "output_type": "execute_result"
    }
   ],
   "source": [
    "model.fit(X_train, y_train, epochs=30, batch_size=32, callbacks=[reduce_lr, checkpoint])"
   ]
  },
  {
   "cell_type": "markdown",
   "metadata": {},
   "source": [
    "# Load Best CheckPoint"
   ]
  },
  {
   "cell_type": "code",
   "execution_count": 11,
   "metadata": {},
   "outputs": [
    {
     "name": "stdout",
     "output_type": "stream",
     "text": [
      "2/2 [==============================] - 1s 17ms/step - loss: 0.1513 - accuracy: 0.9677\n"
     ]
    },
    {
     "data": {
      "text/plain": [
       "[0.15131427347660065, 0.9676616787910461]"
      ]
     },
     "execution_count": 11,
     "metadata": {},
     "output_type": "execute_result"
    }
   ],
   "source": [
    "cp_model = load_model('/tmp/CMS3_LSTM_CheckPoint.h5')\n",
    "cp_model.evaluate(X_test, y_test, batch_size=1000)"
   ]
  },
  {
   "cell_type": "markdown",
   "metadata": {},
   "source": [
    "# Evaluate"
   ]
  },
  {
   "cell_type": "code",
   "execution_count": 12,
   "metadata": {},
   "outputs": [
    {
     "name": "stdout",
     "output_type": "stream",
     "text": [
      "38/38 [==============================] - 1s 12ms/step\n"
     ]
    }
   ],
   "source": [
    "y_pred = cp_model.predict(X_test)"
   ]
  },
  {
   "cell_type": "code",
   "execution_count": 13,
   "metadata": {},
   "outputs": [],
   "source": [
    "preds_single = CLASSES[np.argmax(y_pred, axis = -1)]\n",
    "actual_single = CLASSES[np.argmax(y_test, axis = -1)]"
   ]
  },
  {
   "cell_type": "markdown",
   "metadata": {},
   "source": [
    "# Classification Results"
   ]
  },
  {
   "cell_type": "code",
   "execution_count": 14,
   "metadata": {},
   "outputs": [
    {
     "name": "stdout",
     "output_type": "stream",
     "text": [
      "              precision    recall  f1-score   support\n",
      "\n",
      "           0       0.96      0.98      0.97       631\n",
      "           1       0.97      0.96      0.97       575\n",
      "\n",
      "    accuracy                           0.97      1206\n",
      "   macro avg       0.97      0.97      0.97      1206\n",
      "weighted avg       0.97      0.97      0.97      1206\n",
      "\n"
     ]
    }
   ],
   "source": [
    "y_pred_classes = tf.argmax(y_pred, axis=1)\n",
    "y_test_classes = tf.argmax(y_test, axis=1)\n",
    "\n",
    "print(classification_report(y_test_classes, y_pred_classes))"
   ]
  },
  {
   "cell_type": "markdown",
   "metadata": {},
   "source": [
    "# Confusion MatriX"
   ]
  },
  {
   "cell_type": "code",
   "execution_count": 15,
   "metadata": {},
   "outputs": [
    {
     "name": "stdout",
     "output_type": "stream",
     "text": [
      "Confusion Matrix:\n",
      "            Legitimate  Suspicious\n",
      "Legitimate         616          15\n",
      "Suspicious          24         551\n"
     ]
    }
   ],
   "source": [
    "conf_matrix = confusion_matrix(y_test_classes, y_pred_classes)\n",
    "\n",
    "class_labels = ['Legitimate', 'Suspicious']\n",
    "\n",
    "conf_matrix_df = pd.DataFrame(conf_matrix, index=class_labels, columns=class_labels)\n",
    "\n",
    "print(\"Confusion Matrix:\")\n",
    "print(conf_matrix_df)"
   ]
  },
  {
   "cell_type": "code",
   "execution_count": null,
   "metadata": {},
   "outputs": [],
   "source": []
  }
 ],
 "metadata": {
  "kernelspec": {
   "display_name": "Python 3.10 (NGC 24.01 / TensorFlow 2.14) on Backend.AI",
   "language": "python",
   "name": "python3"
  },
  "language_info": {
   "codemirror_mode": {
    "name": "ipython",
    "version": 3
   },
   "file_extension": ".py",
   "mimetype": "text/x-python",
   "name": "python",
   "nbconvert_exporter": "python",
   "pygments_lexer": "ipython3",
   "version": "3.10.12"
  }
 },
 "nbformat": 4,
 "nbformat_minor": 4
}
