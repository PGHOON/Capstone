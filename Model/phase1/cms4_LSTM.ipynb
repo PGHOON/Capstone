{
 "cells": [
  {
   "cell_type": "code",
   "execution_count": 1,
   "metadata": {},
   "outputs": [
    {
     "name": "stderr",
     "output_type": "stream",
     "text": [
      "2024-07-30 22:11:26.431798: I tensorflow/core/util/port.cc:111] oneDNN custom operations are on. You may see slightly different numerical results due to floating-point round-off errors from different computation orders. To turn them off, set the environment variable `TF_ENABLE_ONEDNN_OPTS=0`.\n",
      "2024-07-30 22:11:26.483882: E tensorflow/compiler/xla/stream_executor/cuda/cuda_dnn.cc:9360] Unable to register cuDNN factory: Attempting to register factory for plugin cuDNN when one has already been registered\n",
      "2024-07-30 22:11:26.483923: E tensorflow/compiler/xla/stream_executor/cuda/cuda_fft.cc:609] Unable to register cuFFT factory: Attempting to register factory for plugin cuFFT when one has already been registered\n",
      "2024-07-30 22:11:26.483955: E tensorflow/compiler/xla/stream_executor/cuda/cuda_blas.cc:1537] Unable to register cuBLAS factory: Attempting to register factory for plugin cuBLAS when one has already been registered\n",
      "2024-07-30 22:11:26.493153: I tensorflow/core/platform/cpu_feature_guard.cc:183] This TensorFlow binary is optimized to use available CPU instructions in performance-critical operations.\n",
      "To enable the following instructions: SSE3 SSE4.1 SSE4.2 AVX, in other operations, rebuild TensorFlow with the appropriate compiler flags.\n"
     ]
    }
   ],
   "source": [
    "import os\n",
    "import pandas as pd\n",
    "import numpy as np\n",
    "import tensorflow as tf\n",
    "import matplotlib.pyplot as plt\n",
    "\n",
    "from multiprocessing import Pool\n",
    "from concurrent.futures import ThreadPoolExecutor, as_completed\n",
    "\n",
    "from keras.models import Model\n",
    "from keras.optimizers import Adam\n",
    "from keras.models import load_model\n",
    "from keras.utils import to_categorical\n",
    "from keras.callbacks import ModelCheckpoint, ReduceLROnPlateau\n",
    "from keras.layers import Input, LSTM, BatchNormalization, Dropout, Dense, Add, Flatten\n",
    "\n",
    "from tensorflow.keras.regularizers import l2\n",
    "\n",
    "from sklearn.preprocessing import LabelEncoder\n",
    "from sklearn.metrics import classification_report, confusion_matrix\n",
    "from sklearn.model_selection import train_test_split"
   ]
  },
  {
   "cell_type": "markdown",
   "metadata": {},
   "source": [
    "# Load csv from Desktop"
   ]
  },
  {
   "cell_type": "code",
   "execution_count": 11,
   "metadata": {},
   "outputs": [],
   "source": [
    "NUM_CLASSES = 2\n",
    "CLASSES = np.array(['Legitimate', 'Suspicious'])\n",
    "DATASET_DIR = \"./\"\n",
    "VECTOR_LENGTH = 1 * 165\n",
    "\n",
    "def csvToVector(file_path):\n",
    "    data = pd.read_csv(file_path, header=None)\n",
    "    vector = data.values.flatten()\n",
    "    return vector\n",
    "\n",
    "def process_file(class_idx, file_path):\n",
    "    vector = csvToVector(file_path)\n",
    "    return (vector, class_idx)\n",
    "\n",
    "def load_data(dataset_dir):\n",
    "    X = []\n",
    "    y = []\n",
    "    subdirs = ['benign_cms4', 'malware_cms4']\n",
    "    futures = []\n",
    "\n",
    "    with ThreadPoolExecutor() as executor:\n",
    "        for class_idx, class_name in enumerate(subdirs):\n",
    "            class_dir = os.path.join(dataset_dir, class_name)\n",
    "            for file_name in os.listdir(class_dir):\n",
    "                if file_name.endswith('.csv'):\n",
    "                    file_path = os.path.join(class_dir, file_name)\n",
    "                    futures.append(executor.submit(process_file, class_idx, file_path))\n",
    "\n",
    "        for future in as_completed(futures):\n",
    "            vector, class_idx = future.result()\n",
    "            X.append(vector)\n",
    "            y.append(class_idx)\n",
    "\n",
    "    X = np.array(X)\n",
    "    y = np.array(y)\n",
    "    return X, y"
   ]
  },
  {
   "cell_type": "code",
   "execution_count": 12,
   "metadata": {},
   "outputs": [],
   "source": [
    "X, y = load_data(DATASET_DIR)"
   ]
  },
  {
   "cell_type": "code",
   "execution_count": 13,
   "metadata": {},
   "outputs": [
    {
     "name": "stdout",
     "output_type": "stream",
     "text": [
      "(4020, 165)\n",
      "(4020,)\n",
      "[[   69 11048   106 ...     0   211     0]\n",
      " [   93 10187   137 ...     0   219     0]\n",
      " [   71 10281   160 ...     0   219     0]\n",
      " ...\n",
      " [  123 10134   186 ...     0   360     1]\n",
      " [   93  9696   127 ...     0   336     0]\n",
      " [  147 11389   145 ...     0   419     0]]\n",
      "[0 0 0 ... 1 1 1]\n"
     ]
    }
   ],
   "source": [
    "print(X.shape)\n",
    "print(y.shape)\n",
    "print(X)\n",
    "print(y)"
   ]
  },
  {
   "cell_type": "markdown",
   "metadata": {},
   "source": [
    "# Train, Validation, Test Split and Nomalize"
   ]
  },
  {
   "cell_type": "code",
   "execution_count": 14,
   "metadata": {},
   "outputs": [],
   "source": [
    "X_train, X_test, y_train, y_test= train_test_split(X, y, test_size=0.3, random_state=41)\n",
    "\n",
    "#X_train, X_val, y_train, y_val = train_test_split(X_train, y_train, test_size=0.2, random_state=42)\n",
    "\n",
    "X_train = X_train / 299.0\n",
    "#X_val = X_val / 299.0\n",
    "X_test = X_test / 299.0\n",
    "\n",
    "y_train = to_categorical(y_train, 2)\n",
    "#y_val = to_categorical(y_val, 2)\n",
    "y_test = to_categorical(y_test, 2)"
   ]
  },
  {
   "cell_type": "code",
   "execution_count": 15,
   "metadata": {},
   "outputs": [
    {
     "name": "stdout",
     "output_type": "stream",
     "text": [
      "(2814, 165)\n",
      "(1206, 165)\n",
      "(2814, 2)\n",
      "(1206, 2)\n"
     ]
    }
   ],
   "source": [
    "print(X_train.shape)\n",
    "print(X_test.shape)\n",
    "#print(X_val.shape)\n",
    "print(y_train.shape)\n",
    "print(y_test.shape)\n",
    "#print(y_val.shape)"
   ]
  },
  {
   "cell_type": "markdown",
   "metadata": {},
   "source": [
    "# 1D CNN Architecture"
   ]
  },
  {
   "cell_type": "code",
   "execution_count": 16,
   "metadata": {},
   "outputs": [],
   "source": [
    "input_layer = Input(shape=(VECTOR_LENGTH, 1))\n",
    "\n",
    "x = LSTM(32, return_sequences=True)(input_layer)\n",
    "x = BatchNormalization()(x)\n",
    "x = Dropout(0.2)(x)\n",
    "\n",
    "x = LSTM(64, return_sequences=True)(x)\n",
    "x = BatchNormalization()(x)\n",
    "x = Dropout(0.2)(x)\n",
    "\n",
    "x = LSTM(128, return_sequences=False)(x)\n",
    "x = BatchNormalization()(x)\n",
    "x = Dropout(0.5)(x)\n",
    "\n",
    "x = Flatten()(x)\n",
    "\n",
    "x = Dense(256, activation='relu', kernel_regularizer=l2(0.01))(x)\n",
    "x = BatchNormalization()(x)\n",
    "x = Dropout(0.5)(x)\n",
    "\n",
    "output_layer = Dense(NUM_CLASSES, activation='softmax')(x)\n",
    "\n",
    "model = Model(inputs=input_layer, outputs=output_layer)\n",
    "\n",
    "opt = Adam(learning_rate=0.001)\n",
    "model.compile(optimizer=opt, loss='categorical_crossentropy', metrics=['accuracy'])"
   ]
  },
  {
   "cell_type": "code",
   "execution_count": 17,
   "metadata": {},
   "outputs": [
    {
     "name": "stdout",
     "output_type": "stream",
     "text": [
      "Model: \"model_1\"\n",
      "_________________________________________________________________\n",
      " Layer (type)                Output Shape              Param #   \n",
      "=================================================================\n",
      " input_2 (InputLayer)        [(None, 165, 1)]          0         \n",
      "                                                                 \n",
      " lstm_3 (LSTM)               (None, 165, 32)           4352      \n",
      "                                                                 \n",
      " batch_normalization_4 (Bat  (None, 165, 32)           128       \n",
      " chNormalization)                                                \n",
      "                                                                 \n",
      " dropout_4 (Dropout)         (None, 165, 32)           0         \n",
      "                                                                 \n",
      " lstm_4 (LSTM)               (None, 165, 64)           24832     \n",
      "                                                                 \n",
      " batch_normalization_5 (Bat  (None, 165, 64)           256       \n",
      " chNormalization)                                                \n",
      "                                                                 \n",
      " dropout_5 (Dropout)         (None, 165, 64)           0         \n",
      "                                                                 \n",
      " lstm_5 (LSTM)               (None, 128)               98816     \n",
      "                                                                 \n",
      " batch_normalization_6 (Bat  (None, 128)               512       \n",
      " chNormalization)                                                \n",
      "                                                                 \n",
      " dropout_6 (Dropout)         (None, 128)               0         \n",
      "                                                                 \n",
      " flatten_1 (Flatten)         (None, 128)               0         \n",
      "                                                                 \n",
      " dense_2 (Dense)             (None, 256)               33024     \n",
      "                                                                 \n",
      " batch_normalization_7 (Bat  (None, 256)               1024      \n",
      " chNormalization)                                                \n",
      "                                                                 \n",
      " dropout_7 (Dropout)         (None, 256)               0         \n",
      "                                                                 \n",
      " dense_3 (Dense)             (None, 2)                 514       \n",
      "                                                                 \n",
      "=================================================================\n",
      "Total params: 163458 (638.51 KB)\n",
      "Trainable params: 162498 (634.76 KB)\n",
      "Non-trainable params: 960 (3.75 KB)\n",
      "_________________________________________________________________\n"
     ]
    }
   ],
   "source": [
    "model.summary()"
   ]
  },
  {
   "cell_type": "markdown",
   "metadata": {},
   "source": [
    "# CheckPoint"
   ]
  },
  {
   "cell_type": "code",
   "execution_count": 32,
   "metadata": {},
   "outputs": [],
   "source": [
    "reduce_lr = ReduceLROnPlateau(monitor='loss', factor=0.5, patience=5, min_lr=0.00001)\n",
    "checkpoint = ModelCheckpoint(\n",
    "    filepath='/tmp/CMS4_LSTM_CheckPoint.h5',\n",
    "    save_best_only=True,\n",
    "    monitor='accuracy',\n",
    "    mode='max',\n",
    "    verbose=1\n",
    ")"
   ]
  },
  {
   "cell_type": "markdown",
   "metadata": {},
   "source": [
    "# Model Training"
   ]
  },
  {
   "cell_type": "code",
   "execution_count": 33,
   "metadata": {},
   "outputs": [
    {
     "name": "stdout",
     "output_type": "stream",
     "text": [
      "Epoch 1/30\n",
      "88/88 [==============================] - ETA: 0s - loss: 0.1470 - accuracy: 0.9556\n",
      "Epoch 1: accuracy improved from -inf to 0.95558, saving model to /tmp/CMS4_LSTM_CheckPoint.h5\n",
      "88/88 [==============================] - 2s 22ms/step - loss: 0.1470 - accuracy: 0.9556\n",
      "Epoch 2/30\n",
      " 4/88 [>.............................] - ETA: 1s - loss: 0.1222 - accuracy: 0.9453"
     ]
    },
    {
     "name": "stderr",
     "output_type": "stream",
     "text": [
      "/usr/local/lib/python3.10/dist-packages/keras/src/engine/training.py:3079: UserWarning: You are saving your model as an HDF5 file via `model.save()`. This file format is considered legacy. We recommend using instead the native Keras format, e.g. `model.save('my_model.keras')`.\n",
      "  saving_api.save_model(\n"
     ]
    },
    {
     "name": "stdout",
     "output_type": "stream",
     "text": [
      "88/88 [==============================] - ETA: 0s - loss: 0.1379 - accuracy: 0.9552\n",
      "Epoch 2: accuracy did not improve from 0.95558\n",
      "88/88 [==============================] - 2s 22ms/step - loss: 0.1379 - accuracy: 0.9552\n",
      "Epoch 3/30\n",
      "88/88 [==============================] - ETA: 0s - loss: 0.1511 - accuracy: 0.9542\n",
      "Epoch 3: accuracy did not improve from 0.95558\n",
      "88/88 [==============================] - 2s 22ms/step - loss: 0.1511 - accuracy: 0.9542\n",
      "Epoch 4/30\n",
      "88/88 [==============================] - ETA: 0s - loss: 0.1606 - accuracy: 0.9460\n",
      "Epoch 4: accuracy did not improve from 0.95558\n",
      "88/88 [==============================] - 2s 22ms/step - loss: 0.1606 - accuracy: 0.9460\n",
      "Epoch 5/30\n",
      "88/88 [==============================] - ETA: 0s - loss: 0.1616 - accuracy: 0.9517\n",
      "Epoch 5: accuracy did not improve from 0.95558\n",
      "88/88 [==============================] - 2s 22ms/step - loss: 0.1616 - accuracy: 0.9517\n",
      "Epoch 6/30\n",
      "88/88 [==============================] - ETA: 0s - loss: 0.1561 - accuracy: 0.9549\n",
      "Epoch 6: accuracy did not improve from 0.95558\n",
      "88/88 [==============================] - 2s 22ms/step - loss: 0.1561 - accuracy: 0.9549\n",
      "Epoch 7/30\n",
      "88/88 [==============================] - ETA: 0s - loss: 0.1519 - accuracy: 0.9542\n",
      "Epoch 7: accuracy did not improve from 0.95558\n",
      "88/88 [==============================] - 2s 22ms/step - loss: 0.1519 - accuracy: 0.9542\n",
      "Epoch 8/30\n",
      "88/88 [==============================] - ETA: 0s - loss: 0.1394 - accuracy: 0.9531\n",
      "Epoch 8: accuracy did not improve from 0.95558\n",
      "88/88 [==============================] - 2s 22ms/step - loss: 0.1394 - accuracy: 0.9531\n",
      "Epoch 9/30\n",
      "87/88 [============================>.] - ETA: 0s - loss: 0.1361 - accuracy: 0.9569\n",
      "Epoch 9: accuracy improved from 0.95558 to 0.95665, saving model to /tmp/CMS4_LSTM_CheckPoint.h5\n",
      "88/88 [==============================] - 2s 23ms/step - loss: 0.1358 - accuracy: 0.9566\n",
      "Epoch 10/30\n",
      "88/88 [==============================] - ETA: 0s - loss: 0.1478 - accuracy: 0.9531\n",
      "Epoch 10: accuracy did not improve from 0.95665\n",
      "88/88 [==============================] - 2s 22ms/step - loss: 0.1478 - accuracy: 0.9531\n",
      "Epoch 11/30\n",
      "88/88 [==============================] - ETA: 0s - loss: 0.1493 - accuracy: 0.9545\n",
      "Epoch 11: accuracy did not improve from 0.95665\n",
      "88/88 [==============================] - 2s 21ms/step - loss: 0.1493 - accuracy: 0.9545\n",
      "Epoch 12/30\n",
      "88/88 [==============================] - ETA: 0s - loss: 0.1534 - accuracy: 0.9513\n",
      "Epoch 12: accuracy did not improve from 0.95665\n",
      "88/88 [==============================] - 2s 22ms/step - loss: 0.1534 - accuracy: 0.9513\n",
      "Epoch 13/30\n",
      "88/88 [==============================] - ETA: 0s - loss: 0.1592 - accuracy: 0.9510\n",
      "Epoch 13: accuracy did not improve from 0.95665\n",
      "88/88 [==============================] - 2s 22ms/step - loss: 0.1592 - accuracy: 0.9510\n",
      "Epoch 14/30\n",
      "88/88 [==============================] - ETA: 0s - loss: 0.1490 - accuracy: 0.9520\n",
      "Epoch 14: accuracy did not improve from 0.95665\n",
      "88/88 [==============================] - 2s 22ms/step - loss: 0.1490 - accuracy: 0.9520\n",
      "Epoch 15/30\n",
      "88/88 [==============================] - ETA: 0s - loss: 0.1482 - accuracy: 0.9513\n",
      "Epoch 15: accuracy did not improve from 0.95665\n",
      "88/88 [==============================] - 2s 22ms/step - loss: 0.1482 - accuracy: 0.9513\n",
      "Epoch 16/30\n",
      "88/88 [==============================] - ETA: 0s - loss: 0.1490 - accuracy: 0.9488\n",
      "Epoch 16: accuracy did not improve from 0.95665\n",
      "88/88 [==============================] - 2s 22ms/step - loss: 0.1490 - accuracy: 0.9488\n",
      "Epoch 17/30\n",
      "88/88 [==============================] - ETA: 0s - loss: 0.1430 - accuracy: 0.9549\n",
      "Epoch 17: accuracy did not improve from 0.95665\n",
      "88/88 [==============================] - 2s 22ms/step - loss: 0.1430 - accuracy: 0.9549\n",
      "Epoch 18/30\n",
      "88/88 [==============================] - ETA: 0s - loss: 0.1461 - accuracy: 0.9502\n",
      "Epoch 18: accuracy did not improve from 0.95665\n",
      "88/88 [==============================] - 2s 22ms/step - loss: 0.1461 - accuracy: 0.9502\n",
      "Epoch 19/30\n",
      "88/88 [==============================] - ETA: 0s - loss: 0.1374 - accuracy: 0.9510\n",
      "Epoch 19: accuracy did not improve from 0.95665\n",
      "88/88 [==============================] - 2s 22ms/step - loss: 0.1374 - accuracy: 0.9510\n",
      "Epoch 20/30\n",
      "88/88 [==============================] - ETA: 0s - loss: 0.1349 - accuracy: 0.9520\n",
      "Epoch 20: accuracy did not improve from 0.95665\n",
      "88/88 [==============================] - 2s 22ms/step - loss: 0.1349 - accuracy: 0.9520\n",
      "Epoch 21/30\n",
      "88/88 [==============================] - ETA: 0s - loss: 0.1422 - accuracy: 0.9527\n",
      "Epoch 21: accuracy did not improve from 0.95665\n",
      "88/88 [==============================] - 2s 22ms/step - loss: 0.1422 - accuracy: 0.9527\n",
      "Epoch 22/30\n",
      "88/88 [==============================] - ETA: 0s - loss: 0.1317 - accuracy: 0.9542\n",
      "Epoch 22: accuracy did not improve from 0.95665\n",
      "88/88 [==============================] - 2s 22ms/step - loss: 0.1317 - accuracy: 0.9542\n",
      "Epoch 23/30\n",
      "88/88 [==============================] - ETA: 0s - loss: 0.1295 - accuracy: 0.9556\n",
      "Epoch 23: accuracy did not improve from 0.95665\n",
      "88/88 [==============================] - 2s 22ms/step - loss: 0.1295 - accuracy: 0.9556\n",
      "Epoch 24/30\n",
      "88/88 [==============================] - ETA: 0s - loss: 0.1603 - accuracy: 0.9474\n",
      "Epoch 24: accuracy did not improve from 0.95665\n",
      "88/88 [==============================] - 2s 22ms/step - loss: 0.1603 - accuracy: 0.9474\n",
      "Epoch 25/30\n",
      "88/88 [==============================] - ETA: 0s - loss: 0.1607 - accuracy: 0.9471\n",
      "Epoch 25: accuracy did not improve from 0.95665\n",
      "88/88 [==============================] - 2s 22ms/step - loss: 0.1607 - accuracy: 0.9471\n",
      "Epoch 26/30\n",
      "88/88 [==============================] - ETA: 0s - loss: 0.1512 - accuracy: 0.9474\n",
      "Epoch 26: accuracy did not improve from 0.95665\n",
      "88/88 [==============================] - 2s 21ms/step - loss: 0.1512 - accuracy: 0.9474\n",
      "Epoch 27/30\n",
      "88/88 [==============================] - ETA: 0s - loss: 0.1420 - accuracy: 0.9499\n",
      "Epoch 27: accuracy did not improve from 0.95665\n",
      "88/88 [==============================] - 2s 21ms/step - loss: 0.1420 - accuracy: 0.9499\n",
      "Epoch 28/30\n",
      "88/88 [==============================] - ETA: 0s - loss: 0.1449 - accuracy: 0.9570\n",
      "Epoch 28: accuracy improved from 0.95665 to 0.95700, saving model to /tmp/CMS4_LSTM_CheckPoint.h5\n",
      "88/88 [==============================] - 2s 22ms/step - loss: 0.1449 - accuracy: 0.9570\n",
      "Epoch 29/30\n",
      "88/88 [==============================] - ETA: 0s - loss: 0.1360 - accuracy: 0.9488\n",
      "Epoch 29: accuracy did not improve from 0.95700\n",
      "88/88 [==============================] - 2s 21ms/step - loss: 0.1360 - accuracy: 0.9488\n",
      "Epoch 30/30\n",
      "88/88 [==============================] - ETA: 0s - loss: 0.1277 - accuracy: 0.9609\n",
      "Epoch 30: accuracy improved from 0.95700 to 0.96091, saving model to /tmp/CMS4_LSTM_CheckPoint.h5\n",
      "88/88 [==============================] - 2s 22ms/step - loss: 0.1277 - accuracy: 0.9609\n"
     ]
    },
    {
     "data": {
      "text/plain": [
       "<keras.src.callbacks.History at 0x7f89ec43a950>"
      ]
     },
     "execution_count": 33,
     "metadata": {},
     "output_type": "execute_result"
    }
   ],
   "source": [
    "model.fit(X_train, y_train, epochs=30, batch_size=32, callbacks=[checkpoint])"
   ]
  },
  {
   "cell_type": "markdown",
   "metadata": {},
   "source": [
    "# Load Best CheckPoint"
   ]
  },
  {
   "cell_type": "code",
   "execution_count": 34,
   "metadata": {},
   "outputs": [
    {
     "name": "stdout",
     "output_type": "stream",
     "text": [
      "2/2 [==============================] - 1s 14ms/step - loss: 0.1619 - accuracy: 0.9519\n"
     ]
    },
    {
     "data": {
      "text/plain": [
       "[0.16192427277565002, 0.9519071578979492]"
      ]
     },
     "execution_count": 34,
     "metadata": {},
     "output_type": "execute_result"
    }
   ],
   "source": [
    "cp_model = load_model('/tmp/CMS4_LSTM_CheckPoint.h5')\n",
    "cp_model.evaluate(X_test, y_test, batch_size=1000)"
   ]
  },
  {
   "cell_type": "markdown",
   "metadata": {},
   "source": [
    "# Evaluate"
   ]
  },
  {
   "cell_type": "code",
   "execution_count": 35,
   "metadata": {},
   "outputs": [
    {
     "name": "stdout",
     "output_type": "stream",
     "text": [
      "38/38 [==============================] - 1s 8ms/step\n"
     ]
    }
   ],
   "source": [
    "y_pred = cp_model.predict(X_test)"
   ]
  },
  {
   "cell_type": "code",
   "execution_count": 36,
   "metadata": {},
   "outputs": [],
   "source": [
    "preds_single = CLASSES[np.argmax(y_pred, axis = -1)]\n",
    "actual_single = CLASSES[np.argmax(y_test, axis = -1)]"
   ]
  },
  {
   "cell_type": "markdown",
   "metadata": {},
   "source": [
    "# Classification Results"
   ]
  },
  {
   "cell_type": "code",
   "execution_count": 37,
   "metadata": {},
   "outputs": [
    {
     "name": "stdout",
     "output_type": "stream",
     "text": [
      "              precision    recall  f1-score   support\n",
      "\n",
      "           0       0.93      0.98      0.96       633\n",
      "           1       0.98      0.92      0.95       573\n",
      "\n",
      "    accuracy                           0.95      1206\n",
      "   macro avg       0.95      0.95      0.95      1206\n",
      "weighted avg       0.95      0.95      0.95      1206\n",
      "\n"
     ]
    }
   ],
   "source": [
    "y_pred_classes = tf.argmax(y_pred, axis=1)\n",
    "y_test_classes = tf.argmax(y_test, axis=1)\n",
    "\n",
    "print(classification_report(y_test_classes, y_pred_classes))"
   ]
  },
  {
   "cell_type": "markdown",
   "metadata": {},
   "source": [
    "# Confusion MatriX"
   ]
  },
  {
   "cell_type": "code",
   "execution_count": 38,
   "metadata": {},
   "outputs": [
    {
     "name": "stdout",
     "output_type": "stream",
     "text": [
      "Confusion Matrix:\n",
      "            Legitimate  Suspicious\n",
      "Legitimate         621          12\n",
      "Suspicious          46         527\n"
     ]
    }
   ],
   "source": [
    "conf_matrix = confusion_matrix(y_test_classes, y_pred_classes)\n",
    "\n",
    "class_labels = ['Legitimate', 'Suspicious']\n",
    "\n",
    "conf_matrix_df = pd.DataFrame(conf_matrix, index=class_labels, columns=class_labels)\n",
    "\n",
    "print(\"Confusion Matrix:\")\n",
    "print(conf_matrix_df)"
   ]
  },
  {
   "cell_type": "code",
   "execution_count": null,
   "metadata": {},
   "outputs": [],
   "source": []
  },
  {
   "cell_type": "code",
   "execution_count": null,
   "metadata": {},
   "outputs": [],
   "source": []
  }
 ],
 "metadata": {
  "kernelspec": {
   "display_name": "Python 3.10 (NGC 24.01 / TensorFlow 2.14) on Backend.AI",
   "language": "python",
   "name": "python3"
  },
  "language_info": {
   "codemirror_mode": {
    "name": "ipython",
    "version": 3
   },
   "file_extension": ".py",
   "mimetype": "text/x-python",
   "name": "python",
   "nbconvert_exporter": "python",
   "pygments_lexer": "ipython3",
   "version": "3.10.12"
  }
 },
 "nbformat": 4,
 "nbformat_minor": 4
}
