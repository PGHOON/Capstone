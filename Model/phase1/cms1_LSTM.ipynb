{
 "cells": [
  {
   "cell_type": "code",
   "execution_count": 1,
   "metadata": {},
   "outputs": [
    {
     "name": "stderr",
     "output_type": "stream",
     "text": [
      "2024-07-30 12:02:24.058992: I tensorflow/core/util/port.cc:111] oneDNN custom operations are on. You may see slightly different numerical results due to floating-point round-off errors from different computation orders. To turn them off, set the environment variable `TF_ENABLE_ONEDNN_OPTS=0`.\n",
      "2024-07-30 12:02:24.110740: E tensorflow/compiler/xla/stream_executor/cuda/cuda_dnn.cc:9360] Unable to register cuDNN factory: Attempting to register factory for plugin cuDNN when one has already been registered\n",
      "2024-07-30 12:02:24.110775: E tensorflow/compiler/xla/stream_executor/cuda/cuda_fft.cc:609] Unable to register cuFFT factory: Attempting to register factory for plugin cuFFT when one has already been registered\n",
      "2024-07-30 12:02:24.110808: E tensorflow/compiler/xla/stream_executor/cuda/cuda_blas.cc:1537] Unable to register cuBLAS factory: Attempting to register factory for plugin cuBLAS when one has already been registered\n",
      "2024-07-30 12:02:24.119853: I tensorflow/core/platform/cpu_feature_guard.cc:183] This TensorFlow binary is optimized to use available CPU instructions in performance-critical operations.\n",
      "To enable the following instructions: SSE3 SSE4.1 SSE4.2 AVX, in other operations, rebuild TensorFlow with the appropriate compiler flags.\n"
     ]
    }
   ],
   "source": [
    "import os\n",
    "import pandas as pd\n",
    "import numpy as np\n",
    "import tensorflow as tf\n",
    "import matplotlib.pyplot as plt\n",
    "\n",
    "from multiprocessing import Pool\n",
    "from concurrent.futures import ThreadPoolExecutor, as_completed\n",
    "\n",
    "from keras.models import Model\n",
    "from keras.optimizers import Adam\n",
    "from keras.models import load_model\n",
    "from keras.utils import to_categorical\n",
    "from keras.callbacks import ModelCheckpoint, ReduceLROnPlateau\n",
    "from keras.layers import Input, LSTM, BatchNormalization, Dropout, Dense, Add, Flatten\n",
    "\n",
    "from tensorflow.keras.regularizers import l2\n",
    "\n",
    "from sklearn.preprocessing import LabelEncoder\n",
    "from sklearn.metrics import classification_report, confusion_matrix\n",
    "from sklearn.model_selection import train_test_split"
   ]
  },
  {
   "cell_type": "markdown",
   "metadata": {},
   "source": [
    "# Load csv from Desktop"
   ]
  },
  {
   "cell_type": "code",
   "execution_count": 2,
   "metadata": {},
   "outputs": [],
   "source": [
    "NUM_CLASSES = 2\n",
    "CLASSES = np.array(['Legitimate', 'Suspicious'])\n",
    "DATASET_DIR = \"./\"\n",
    "VECTOR_LENGTH = 1 * 816\n",
    "\n",
    "def csvToVector(file_path):\n",
    "    data = pd.read_csv(file_path, header=None)\n",
    "    vector = data.values.flatten()\n",
    "    return vector\n",
    "\n",
    "def process_file(class_idx, file_path):\n",
    "    vector = csvToVector(file_path)\n",
    "    return (vector, class_idx)\n",
    "\n",
    "def load_data(dataset_dir):\n",
    "    X = []\n",
    "    y = []\n",
    "    subdirs = ['benign_cms1', 'malware_cms1']\n",
    "    futures = []\n",
    "\n",
    "    with ThreadPoolExecutor() as executor:\n",
    "        for class_idx, class_name in enumerate(subdirs):\n",
    "            class_dir = os.path.join(dataset_dir, class_name)\n",
    "            for file_name in os.listdir(class_dir):\n",
    "                if file_name.endswith('.csv'):\n",
    "                    file_path = os.path.join(class_dir, file_name)\n",
    "                    futures.append(executor.submit(process_file, class_idx, file_path))\n",
    "\n",
    "        for future in as_completed(futures):\n",
    "            vector, class_idx = future.result()\n",
    "            X.append(vector)\n",
    "            y.append(class_idx)\n",
    "\n",
    "    X = np.array(X)\n",
    "    y = np.array(y)\n",
    "    return X, y"
   ]
  },
  {
   "cell_type": "code",
   "execution_count": 3,
   "metadata": {},
   "outputs": [],
   "source": [
    "X, y = load_data(DATASET_DIR)"
   ]
  },
  {
   "cell_type": "code",
   "execution_count": 4,
   "metadata": {},
   "outputs": [
    {
     "name": "stdout",
     "output_type": "stream",
     "text": [
      "(4020, 816)\n",
      "(4020,)\n",
      "[[  192     0     0 ...  9783     0    27]\n",
      " [  201     0     0 ...  8877     0   239]\n",
      " [  226     0     0 ... 29687     0    37]\n",
      " ...\n",
      " [  148     0     0 ...  3457     0    56]\n",
      " [  127     0     0 ...  2675     0    59]\n",
      " [  186     0     0 ...  2669     0    57]]\n",
      "[0 0 0 ... 1 1 1]\n"
     ]
    }
   ],
   "source": [
    "print(X.shape)\n",
    "print(y.shape)\n",
    "print(X)\n",
    "print(y)"
   ]
  },
  {
   "cell_type": "markdown",
   "metadata": {},
   "source": [
    "# Train, Validation, Test Split and Nomalize"
   ]
  },
  {
   "cell_type": "code",
   "execution_count": 5,
   "metadata": {},
   "outputs": [],
   "source": [
    "X_train, X_test, y_train, y_test= train_test_split(X, y, test_size=0.3, random_state=42)\n",
    "\n",
    "#X_train, X_val, y_train, y_val = train_test_split(X_train, y_train, test_size=0.2, random_state=42)\n",
    "\n",
    "X_train = X_train / 299.0\n",
    "#X_val = X_val / 299.0\n",
    "X_test = X_test / 299.0\n",
    "\n",
    "y_train = to_categorical(y_train, 2)\n",
    "#y_val = to_categorical(y_val, 2)\n",
    "y_test = to_categorical(y_test, 2)"
   ]
  },
  {
   "cell_type": "code",
   "execution_count": 6,
   "metadata": {},
   "outputs": [
    {
     "name": "stdout",
     "output_type": "stream",
     "text": [
      "(2814, 816)\n",
      "(1206, 816)\n",
      "(2814, 2)\n",
      "(1206, 2)\n"
     ]
    }
   ],
   "source": [
    "print(X_train.shape)\n",
    "print(X_test.shape)\n",
    "#print(X_val.shape)\n",
    "print(y_train.shape)\n",
    "print(y_test.shape)\n",
    "#print(y_val.shape)"
   ]
  },
  {
   "cell_type": "markdown",
   "metadata": {},
   "source": [
    "# 1D CNN Architecture"
   ]
  },
  {
   "cell_type": "code",
   "execution_count": 7,
   "metadata": {},
   "outputs": [
    {
     "name": "stderr",
     "output_type": "stream",
     "text": [
      "2024-07-30 12:03:11.623199: I tensorflow/core/common_runtime/gpu/gpu_device.cc:1883] Created device /job:localhost/replica:0/task:0/device:GPU:0 with 31350 MB memory:  -> device: 0, name: CUDA GPU, pci bus id: 0000:06:00.0, compute capability: 7.0\n",
      "2024-07-30 12:03:11.623744: I tensorflow/core/common_runtime/gpu/gpu_device.cc:1883] Created device /job:localhost/replica:0/task:0/device:GPU:1 with 31350 MB memory:  -> device: 1, name: CUDA GPU, pci bus id: 0000:2f:00.0, compute capability: 7.0\n",
      "2024-07-30 12:03:11.624224: I tensorflow/core/common_runtime/gpu/gpu_device.cc:1883] Created device /job:localhost/replica:0/task:0/device:GPU:2 with 31350 MB memory:  -> device: 2, name: CUDA GPU, pci bus id: 0000:86:00.0, compute capability: 7.0\n"
     ]
    }
   ],
   "source": [
    "input_layer = Input(shape=(VECTOR_LENGTH, 1))\n",
    "\n",
    "x = LSTM(32, return_sequences=True)(input_layer)\n",
    "x = BatchNormalization()(x)\n",
    "x = Dropout(0.2)(x)\n",
    "\n",
    "x = LSTM(64, return_sequences=True)(x)\n",
    "x = BatchNormalization()(x)\n",
    "x = Dropout(0.2)(x)\n",
    "\n",
    "x = LSTM(128, return_sequences=False)(x)\n",
    "x = BatchNormalization()(x)\n",
    "x = Dropout(0.5)(x)\n",
    "\n",
    "x = Flatten()(x)\n",
    "\n",
    "x = Dense(256, activation='relu', kernel_regularizer=l2(0.01))(x)\n",
    "x = BatchNormalization()(x)\n",
    "x = Dropout(0.5)(x)\n",
    "\n",
    "output_layer = Dense(NUM_CLASSES, activation='softmax')(x)\n",
    "\n",
    "model = Model(inputs=input_layer, outputs=output_layer)\n",
    "\n",
    "opt = Adam(learning_rate=0.001)\n",
    "model.compile(optimizer=opt, loss='categorical_crossentropy', metrics=['accuracy'])"
   ]
  },
  {
   "cell_type": "code",
   "execution_count": 8,
   "metadata": {},
   "outputs": [
    {
     "name": "stdout",
     "output_type": "stream",
     "text": [
      "Model: \"model\"\n",
      "_________________________________________________________________\n",
      " Layer (type)                Output Shape              Param #   \n",
      "=================================================================\n",
      " input_1 (InputLayer)        [(None, 816, 1)]          0         \n",
      "                                                                 \n",
      " lstm (LSTM)                 (None, 816, 32)           4352      \n",
      "                                                                 \n",
      " batch_normalization (Batch  (None, 816, 32)           128       \n",
      " Normalization)                                                  \n",
      "                                                                 \n",
      " dropout (Dropout)           (None, 816, 32)           0         \n",
      "                                                                 \n",
      " lstm_1 (LSTM)               (None, 816, 64)           24832     \n",
      "                                                                 \n",
      " batch_normalization_1 (Bat  (None, 816, 64)           256       \n",
      " chNormalization)                                                \n",
      "                                                                 \n",
      " dropout_1 (Dropout)         (None, 816, 64)           0         \n",
      "                                                                 \n",
      " lstm_2 (LSTM)               (None, 128)               98816     \n",
      "                                                                 \n",
      " batch_normalization_2 (Bat  (None, 128)               512       \n",
      " chNormalization)                                                \n",
      "                                                                 \n",
      " dropout_2 (Dropout)         (None, 128)               0         \n",
      "                                                                 \n",
      " flatten (Flatten)           (None, 128)               0         \n",
      "                                                                 \n",
      " dense (Dense)               (None, 256)               33024     \n",
      "                                                                 \n",
      " batch_normalization_3 (Bat  (None, 256)               1024      \n",
      " chNormalization)                                                \n",
      "                                                                 \n",
      " dropout_3 (Dropout)         (None, 256)               0         \n",
      "                                                                 \n",
      " dense_1 (Dense)             (None, 2)                 514       \n",
      "                                                                 \n",
      "=================================================================\n",
      "Total params: 163458 (638.51 KB)\n",
      "Trainable params: 162498 (634.76 KB)\n",
      "Non-trainable params: 960 (3.75 KB)\n",
      "_________________________________________________________________\n"
     ]
    }
   ],
   "source": [
    "model.summary()"
   ]
  },
  {
   "cell_type": "markdown",
   "metadata": {},
   "source": [
    "# CheckPoint"
   ]
  },
  {
   "cell_type": "code",
   "execution_count": 9,
   "metadata": {},
   "outputs": [],
   "source": [
    "reduce_lr = ReduceLROnPlateau(monitor='loss', factor=0.5, patience=5, min_lr=0.00001)\n",
    "checkpoint = ModelCheckpoint(\n",
    "    filepath='/tmp/CMS1_LSTM_CheckPoint.h5',\n",
    "    save_best_only=True,\n",
    "    monitor='accuracy',\n",
    "    mode='max',\n",
    "    verbose=1\n",
    ")"
   ]
  },
  {
   "cell_type": "markdown",
   "metadata": {},
   "source": [
    "# Model Training"
   ]
  },
  {
   "cell_type": "code",
   "execution_count": 10,
   "metadata": {},
   "outputs": [
    {
     "name": "stdout",
     "output_type": "stream",
     "text": [
      "Epoch 1/30\n"
     ]
    },
    {
     "name": "stderr",
     "output_type": "stream",
     "text": [
      "2024-07-30 12:03:18.266952: I tensorflow/compiler/xla/stream_executor/cuda/cuda_dnn.cc:442] Loaded cuDNN version 8907\n",
      "2024-07-30 12:03:19.620797: I tensorflow/compiler/xla/service/service.cc:168] XLA service 0x7fcde86e4330 initialized for platform CUDA (this does not guarantee that XLA will be used). Devices:\n",
      "2024-07-30 12:03:19.620833: I tensorflow/compiler/xla/service/service.cc:176]   StreamExecutor device (0): CUDA GPU, Compute Capability 7.0\n",
      "2024-07-30 12:03:19.620839: I tensorflow/compiler/xla/service/service.cc:176]   StreamExecutor device (1): CUDA GPU, Compute Capability 7.0\n",
      "2024-07-30 12:03:19.620845: I tensorflow/compiler/xla/service/service.cc:176]   StreamExecutor device (2): CUDA GPU, Compute Capability 7.0\n",
      "2024-07-30 12:03:19.626223: I tensorflow/compiler/mlir/tensorflow/utils/dump_mlir_util.cc:269] disabling MLIR crash reproducer, set env var `MLIR_CRASH_REPRODUCER_DIRECTORY` to enable.\n",
      "2024-07-30 12:03:19.716255: I ./tensorflow/compiler/jit/device_compiler.h:186] Compiled cluster using XLA!  This line is logged at most once for the lifetime of the process.\n"
     ]
    },
    {
     "name": "stdout",
     "output_type": "stream",
     "text": [
      "88/88 [==============================] - ETA: 0s - loss: 2.1094 - accuracy: 0.7221\n",
      "Epoch 1: accuracy improved from -inf to 0.72210, saving model to /tmp/CMS1_LSTM_CheckPoint.h5\n",
      "88/88 [==============================] - 15s 78ms/step - loss: 2.1094 - accuracy: 0.7221 - lr: 0.0010\n",
      "Epoch 2/30\n",
      " 1/88 [..............................] - ETA: 6s - loss: 1.6431 - accuracy: 0.8750"
     ]
    },
    {
     "name": "stderr",
     "output_type": "stream",
     "text": [
      "/usr/local/lib/python3.10/dist-packages/keras/src/engine/training.py:3079: UserWarning: You are saving your model as an HDF5 file via `model.save()`. This file format is considered legacy. We recommend using instead the native Keras format, e.g. `model.save('my_model.keras')`.\n",
      "  saving_api.save_model(\n"
     ]
    },
    {
     "name": "stdout",
     "output_type": "stream",
     "text": [
      "88/88 [==============================] - ETA: 0s - loss: 1.5046 - accuracy: 0.7971\n",
      "Epoch 2: accuracy improved from 0.72210 to 0.79709, saving model to /tmp/CMS1_LSTM_CheckPoint.h5\n",
      "88/88 [==============================] - 7s 78ms/step - loss: 1.5046 - accuracy: 0.7971 - lr: 0.0010\n",
      "Epoch 3/30\n",
      "88/88 [==============================] - ETA: 0s - loss: 1.1831 - accuracy: 0.8131\n",
      "Epoch 3: accuracy improved from 0.79709 to 0.81308, saving model to /tmp/CMS1_LSTM_CheckPoint.h5\n",
      "88/88 [==============================] - 7s 78ms/step - loss: 1.1831 - accuracy: 0.8131 - lr: 0.0010\n",
      "Epoch 4/30\n",
      "88/88 [==============================] - ETA: 0s - loss: 0.9474 - accuracy: 0.8401\n",
      "Epoch 4: accuracy improved from 0.81308 to 0.84009, saving model to /tmp/CMS1_LSTM_CheckPoint.h5\n",
      "88/88 [==============================] - 7s 78ms/step - loss: 0.9474 - accuracy: 0.8401 - lr: 0.0010\n",
      "Epoch 5/30\n",
      "88/88 [==============================] - ETA: 0s - loss: 0.8085 - accuracy: 0.8372\n",
      "Epoch 5: accuracy did not improve from 0.84009\n",
      "88/88 [==============================] - 7s 77ms/step - loss: 0.8085 - accuracy: 0.8372 - lr: 0.0010\n",
      "Epoch 6/30\n",
      "88/88 [==============================] - ETA: 0s - loss: 0.6819 - accuracy: 0.8522\n",
      "Epoch 6: accuracy improved from 0.84009 to 0.85217, saving model to /tmp/CMS1_LSTM_CheckPoint.h5\n",
      "88/88 [==============================] - 7s 78ms/step - loss: 0.6819 - accuracy: 0.8522 - lr: 0.0010\n",
      "Epoch 7/30\n",
      "88/88 [==============================] - ETA: 0s - loss: 0.5919 - accuracy: 0.8571\n",
      "Epoch 7: accuracy improved from 0.85217 to 0.85714, saving model to /tmp/CMS1_LSTM_CheckPoint.h5\n",
      "88/88 [==============================] - 7s 78ms/step - loss: 0.5919 - accuracy: 0.8571 - lr: 0.0010\n",
      "Epoch 8/30\n",
      "88/88 [==============================] - ETA: 0s - loss: 0.5303 - accuracy: 0.8571\n",
      "Epoch 8: accuracy did not improve from 0.85714\n",
      "88/88 [==============================] - 7s 77ms/step - loss: 0.5303 - accuracy: 0.8571 - lr: 0.0010\n",
      "Epoch 9/30\n",
      "88/88 [==============================] - ETA: 0s - loss: 0.4906 - accuracy: 0.8618\n",
      "Epoch 9: accuracy improved from 0.85714 to 0.86176, saving model to /tmp/CMS1_LSTM_CheckPoint.h5\n",
      "88/88 [==============================] - 7s 78ms/step - loss: 0.4906 - accuracy: 0.8618 - lr: 0.0010\n",
      "Epoch 10/30\n",
      "88/88 [==============================] - ETA: 0s - loss: 0.4546 - accuracy: 0.8625\n",
      "Epoch 10: accuracy improved from 0.86176 to 0.86247, saving model to /tmp/CMS1_LSTM_CheckPoint.h5\n",
      "88/88 [==============================] - 7s 78ms/step - loss: 0.4546 - accuracy: 0.8625 - lr: 0.0010\n",
      "Epoch 11/30\n",
      "88/88 [==============================] - ETA: 0s - loss: 0.4210 - accuracy: 0.8635\n",
      "Epoch 11: accuracy improved from 0.86247 to 0.86354, saving model to /tmp/CMS1_LSTM_CheckPoint.h5\n",
      "88/88 [==============================] - 7s 78ms/step - loss: 0.4210 - accuracy: 0.8635 - lr: 0.0010\n",
      "Epoch 12/30\n",
      "88/88 [==============================] - ETA: 0s - loss: 0.4053 - accuracy: 0.8699\n",
      "Epoch 12: accuracy improved from 0.86354 to 0.86994, saving model to /tmp/CMS1_LSTM_CheckPoint.h5\n",
      "88/88 [==============================] - 7s 78ms/step - loss: 0.4053 - accuracy: 0.8699 - lr: 0.0010\n",
      "Epoch 13/30\n",
      "88/88 [==============================] - ETA: 0s - loss: 0.4244 - accuracy: 0.8507\n",
      "Epoch 13: accuracy did not improve from 0.86994\n",
      "88/88 [==============================] - 7s 77ms/step - loss: 0.4244 - accuracy: 0.8507 - lr: 0.0010\n",
      "Epoch 14/30\n",
      "88/88 [==============================] - ETA: 0s - loss: 0.3886 - accuracy: 0.8714\n",
      "Epoch 14: accuracy improved from 0.86994 to 0.87136, saving model to /tmp/CMS1_LSTM_CheckPoint.h5\n",
      "88/88 [==============================] - 7s 78ms/step - loss: 0.3886 - accuracy: 0.8714 - lr: 0.0010\n",
      "Epoch 15/30\n",
      "88/88 [==============================] - ETA: 0s - loss: 0.3544 - accuracy: 0.8799\n",
      "Epoch 15: accuracy improved from 0.87136 to 0.87989, saving model to /tmp/CMS1_LSTM_CheckPoint.h5\n",
      "88/88 [==============================] - 7s 78ms/step - loss: 0.3544 - accuracy: 0.8799 - lr: 0.0010\n",
      "Epoch 16/30\n",
      "88/88 [==============================] - ETA: 0s - loss: 0.3565 - accuracy: 0.8753\n",
      "Epoch 16: accuracy did not improve from 0.87989\n",
      "88/88 [==============================] - 7s 77ms/step - loss: 0.3565 - accuracy: 0.8753 - lr: 0.0010\n",
      "Epoch 17/30\n",
      "88/88 [==============================] - ETA: 0s - loss: 0.3640 - accuracy: 0.8795\n",
      "Epoch 17: accuracy did not improve from 0.87989\n",
      "88/88 [==============================] - 7s 77ms/step - loss: 0.3640 - accuracy: 0.8795 - lr: 0.0010\n",
      "Epoch 18/30\n",
      "88/88 [==============================] - ETA: 0s - loss: 0.3519 - accuracy: 0.8756\n",
      "Epoch 18: accuracy did not improve from 0.87989\n",
      "88/88 [==============================] - 7s 77ms/step - loss: 0.3519 - accuracy: 0.8756 - lr: 0.0010\n",
      "Epoch 19/30\n",
      "88/88 [==============================] - ETA: 0s - loss: 0.3370 - accuracy: 0.8849\n",
      "Epoch 19: accuracy improved from 0.87989 to 0.88486, saving model to /tmp/CMS1_LSTM_CheckPoint.h5\n",
      "88/88 [==============================] - 7s 78ms/step - loss: 0.3370 - accuracy: 0.8849 - lr: 0.0010\n",
      "Epoch 20/30\n",
      "88/88 [==============================] - ETA: 0s - loss: 0.3413 - accuracy: 0.8788\n",
      "Epoch 20: accuracy did not improve from 0.88486\n",
      "88/88 [==============================] - 7s 78ms/step - loss: 0.3413 - accuracy: 0.8788 - lr: 0.0010\n",
      "Epoch 21/30\n",
      "88/88 [==============================] - ETA: 0s - loss: 0.3415 - accuracy: 0.8827\n",
      "Epoch 21: accuracy did not improve from 0.88486\n",
      "88/88 [==============================] - 7s 77ms/step - loss: 0.3415 - accuracy: 0.8827 - lr: 0.0010\n",
      "Epoch 22/30\n",
      "88/88 [==============================] - ETA: 0s - loss: 0.3531 - accuracy: 0.8746\n",
      "Epoch 22: accuracy did not improve from 0.88486\n",
      "88/88 [==============================] - 7s 77ms/step - loss: 0.3531 - accuracy: 0.8746 - lr: 0.0010\n",
      "Epoch 23/30\n",
      "88/88 [==============================] - ETA: 0s - loss: 0.3376 - accuracy: 0.8834\n",
      "Epoch 23: accuracy did not improve from 0.88486\n",
      "88/88 [==============================] - 7s 77ms/step - loss: 0.3376 - accuracy: 0.8834 - lr: 0.0010\n",
      "Epoch 24/30\n",
      "88/88 [==============================] - ETA: 0s - loss: 0.3420 - accuracy: 0.8817\n",
      "Epoch 24: accuracy did not improve from 0.88486\n",
      "88/88 [==============================] - 7s 77ms/step - loss: 0.3420 - accuracy: 0.8817 - lr: 0.0010\n",
      "Epoch 25/30\n",
      "88/88 [==============================] - ETA: 0s - loss: 0.2451 - accuracy: 0.9119\n",
      "Epoch 25: accuracy improved from 0.88486 to 0.91187, saving model to /tmp/CMS1_LSTM_CheckPoint.h5\n",
      "88/88 [==============================] - 7s 78ms/step - loss: 0.2451 - accuracy: 0.9119 - lr: 5.0000e-04\n",
      "Epoch 26/30\n",
      "88/88 [==============================] - ETA: 0s - loss: 0.2201 - accuracy: 0.9279\n",
      "Epoch 26: accuracy improved from 0.91187 to 0.92786, saving model to /tmp/CMS1_LSTM_CheckPoint.h5\n",
      "88/88 [==============================] - 7s 78ms/step - loss: 0.2201 - accuracy: 0.9279 - lr: 5.0000e-04\n",
      "Epoch 27/30\n",
      "88/88 [==============================] - ETA: 0s - loss: 0.2020 - accuracy: 0.9357\n",
      "Epoch 27: accuracy improved from 0.92786 to 0.93568, saving model to /tmp/CMS1_LSTM_CheckPoint.h5\n",
      "88/88 [==============================] - 7s 78ms/step - loss: 0.2020 - accuracy: 0.9357 - lr: 5.0000e-04\n",
      "Epoch 28/30\n",
      "88/88 [==============================] - ETA: 0s - loss: 0.1845 - accuracy: 0.9442\n",
      "Epoch 28: accuracy improved from 0.93568 to 0.94421, saving model to /tmp/CMS1_LSTM_CheckPoint.h5\n",
      "88/88 [==============================] - 7s 78ms/step - loss: 0.1845 - accuracy: 0.9442 - lr: 5.0000e-04\n",
      "Epoch 29/30\n",
      "88/88 [==============================] - ETA: 0s - loss: 0.1712 - accuracy: 0.9499\n",
      "Epoch 29: accuracy improved from 0.94421 to 0.94989, saving model to /tmp/CMS1_LSTM_CheckPoint.h5\n",
      "88/88 [==============================] - 7s 78ms/step - loss: 0.1712 - accuracy: 0.9499 - lr: 5.0000e-04\n",
      "Epoch 30/30\n",
      "88/88 [==============================] - ETA: 0s - loss: 0.1931 - accuracy: 0.9371\n",
      "Epoch 30: accuracy did not improve from 0.94989\n",
      "88/88 [==============================] - 7s 77ms/step - loss: 0.1931 - accuracy: 0.9371 - lr: 5.0000e-04\n"
     ]
    },
    {
     "data": {
      "text/plain": [
       "<keras.src.callbacks.History at 0x7fcfc864f610>"
      ]
     },
     "execution_count": 10,
     "metadata": {},
     "output_type": "execute_result"
    }
   ],
   "source": [
    "model.fit(X_train, y_train, epochs=30, batch_size=32, callbacks=[reduce_lr, checkpoint])"
   ]
  },
  {
   "cell_type": "markdown",
   "metadata": {},
   "source": [
    "# Load Best CheckPoint"
   ]
  },
  {
   "cell_type": "code",
   "execution_count": 11,
   "metadata": {},
   "outputs": [
    {
     "name": "stdout",
     "output_type": "stream",
     "text": [
      "2/2 [==============================] - 1s 42ms/step - loss: 0.1736 - accuracy: 0.9353\n"
     ]
    },
    {
     "data": {
      "text/plain": [
       "[0.17363925278186798, 0.9353233575820923]"
      ]
     },
     "execution_count": 11,
     "metadata": {},
     "output_type": "execute_result"
    }
   ],
   "source": [
    "cp_model = load_model('/tmp/CMS1_LSTM_CheckPoint.h5')\n",
    "cp_model.evaluate(X_test, y_test, batch_size=1000)"
   ]
  },
  {
   "cell_type": "markdown",
   "metadata": {},
   "source": [
    "# Evaluate"
   ]
  },
  {
   "cell_type": "code",
   "execution_count": 12,
   "metadata": {},
   "outputs": [
    {
     "name": "stdout",
     "output_type": "stream",
     "text": [
      "38/38 [==============================] - 2s 30ms/step\n"
     ]
    }
   ],
   "source": [
    "y_pred = cp_model.predict(X_test)"
   ]
  },
  {
   "cell_type": "code",
   "execution_count": 13,
   "metadata": {},
   "outputs": [],
   "source": [
    "preds_single = CLASSES[np.argmax(y_pred, axis = -1)]\n",
    "actual_single = CLASSES[np.argmax(y_test, axis = -1)]"
   ]
  },
  {
   "cell_type": "markdown",
   "metadata": {},
   "source": [
    "# Classification Results"
   ]
  },
  {
   "cell_type": "code",
   "execution_count": 14,
   "metadata": {},
   "outputs": [
    {
     "name": "stdout",
     "output_type": "stream",
     "text": [
      "              precision    recall  f1-score   support\n",
      "\n",
      "           0       0.94      0.93      0.94       622\n",
      "           1       0.93      0.94      0.93       584\n",
      "\n",
      "    accuracy                           0.94      1206\n",
      "   macro avg       0.94      0.94      0.94      1206\n",
      "weighted avg       0.94      0.94      0.94      1206\n",
      "\n"
     ]
    }
   ],
   "source": [
    "y_pred_classes = tf.argmax(y_pred, axis=1)\n",
    "y_test_classes = tf.argmax(y_test, axis=1)\n",
    "\n",
    "print(classification_report(y_test_classes, y_pred_classes))"
   ]
  },
  {
   "cell_type": "markdown",
   "metadata": {},
   "source": [
    "# Confusion MatriX"
   ]
  },
  {
   "cell_type": "code",
   "execution_count": 15,
   "metadata": {},
   "outputs": [
    {
     "name": "stdout",
     "output_type": "stream",
     "text": [
      "Confusion Matrix:\n",
      "            Legitimate  Suspicious\n",
      "Legitimate         581          41\n",
      "Suspicious          37         547\n"
     ]
    }
   ],
   "source": [
    "conf_matrix = confusion_matrix(y_test_classes, y_pred_classes)\n",
    "\n",
    "class_labels = ['Legitimate', 'Suspicious']\n",
    "\n",
    "conf_matrix_df = pd.DataFrame(conf_matrix, index=class_labels, columns=class_labels)\n",
    "\n",
    "print(\"Confusion Matrix:\")\n",
    "print(conf_matrix_df)"
   ]
  },
  {
   "cell_type": "code",
   "execution_count": null,
   "metadata": {},
   "outputs": [],
   "source": []
  }
 ],
 "metadata": {
  "kernelspec": {
   "display_name": "Python 3.10 (NGC 24.01 / TensorFlow 2.14) on Backend.AI",
   "language": "python",
   "name": "python3"
  },
  "language_info": {
   "codemirror_mode": {
    "name": "ipython",
    "version": 3
   },
   "file_extension": ".py",
   "mimetype": "text/x-python",
   "name": "python",
   "nbconvert_exporter": "python",
   "pygments_lexer": "ipython3",
   "version": "3.10.12"
  }
 },
 "nbformat": 4,
 "nbformat_minor": 4
}
