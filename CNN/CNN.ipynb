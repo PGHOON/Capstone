{
 "cells": [
  {
   "cell_type": "code",
   "execution_count": 59,
   "metadata": {},
   "outputs": [],
   "source": [
    "import os\n",
    "import pandas as pd\n",
    "import numpy as np\n",
    "import tensorflow as tf\n",
    "\n",
    "import matplotlib.pyplot as plt\n",
    "\n",
    "from keras.models import Model\n",
    "from keras.optimizers import Adam\n",
    "from keras.utils import to_categorical\n",
    "from keras.layers import Input, Flatten, Dense, Conv2D\n",
    "from keras.layers import  BatchNormalization, LeakyReLU, Dropout, Activation\n",
    "\n",
    "from sklearn.preprocessing import LabelEncoder\n",
    "from sklearn.metrics import classification_report\n",
    "from sklearn.model_selection import train_test_split"
   ]
  },
  {
   "cell_type": "markdown",
   "metadata": {},
   "source": [
    "## Loading CSV from Desktop"
   ]
  },
  {
   "cell_type": "code",
   "execution_count": 60,
   "metadata": {},
   "outputs": [],
   "source": [
    "NUM_CLASSES = 2\n",
    "CLASSES = np.array(['benign', 'malware'])\n",
    "DATASET_DIR = \"dataset/\"\n",
    "WIDTH = 256\n",
    "HEIGHT = 256\n",
    "SHAPE = (WIDTH, HEIGHT)\n",
    "SIZE = WIDTH * HEIGHT * 1\n",
    "\n",
    "def csvToimage(file_path):\n",
    "    data = pd.read_csv(file_path)\n",
    "    data_encoded = LabelEncoder().fit_transform(data['SYSTEM_CALL'])\n",
    "    image = np.zeros(SHAPE, dtype=np.uint8)\n",
    "    syscall_nums = min(len(data_encoded), SIZE)\n",
    "    image.flat[:syscall_nums] = data_encoded[:syscall_nums]\n",
    "\n",
    "    return image\n",
    "\n",
    "def load_data(dataset_dir):\n",
    "    x = []\n",
    "    y = []\n",
    "\n",
    "    classes = [class_name for class_name in os.listdir(dataset_dir) if os.path.isdir(os.path.join(dataset_dir, class_name))]\n",
    "    for class_idx, class_name in enumerate(classes):\n",
    "        class_dir = os.path.join(dataset_dir, class_name)\n",
    "        for file_name in os.listdir(class_dir):\n",
    "            if file_name.endswith('.csv'):\n",
    "                file_path = os.path.join(class_dir, file_name)\n",
    "                image = csvToimage(file_path)\n",
    "                x.append(image)\n",
    "                y.append(class_idx)\n",
    "                \n",
    "    x = np.array(x).reshape(-1, WIDTH, HEIGHT, 1)\n",
    "    y = np.array(y)\n",
    "    return x, y"
   ]
  },
  {
   "cell_type": "code",
   "execution_count": 61,
   "metadata": {},
   "outputs": [],
   "source": [
    "DATASET_DIR = \"dataset/\"\n",
    "X, y = load_data(DATASET_DIR)"
   ]
  },
  {
   "cell_type": "markdown",
   "metadata": {},
   "source": [
    "# Image Plotting"
   ]
  },
  {
   "cell_type": "code",
   "execution_count": 62,
   "metadata": {},
   "outputs": [
    {
     "data": {
      "image/png": "[encoded data removed]",
      "text/plain": [
       "<Figure size 640x480 with 1 Axes>"
      ]
     },
     "metadata": {},
     "output_type": "display_data"
    }
   ],
   "source": [
    "n = 2\n",
    "nth_image = X[n].reshape(256, 256)\n",
    "\n",
    "plt.imshow(nth_image, cmap='gray')\n",
    "plt.title(f'${n}^{{th}}$ Image in Dataset')\n",
    "plt.axis('off')\n",
    "plt.show()\n"
   ]
  },
  {
   "cell_type": "markdown",
   "metadata": {},
   "source": [
    "## Split and Nomalize Data"
   ]
  },
  {
   "cell_type": "code",
   "execution_count": 63,
   "metadata": {},
   "outputs": [],
   "source": [
    "X_train, X_test, y_train, y_test= train_test_split(X, y, test_size=0.3, random_state=42)\n",
    "\n",
    "X_train = X_train / 255.0\n",
    "X_test = X_test / 255.0\n",
    "\n",
    "y_train = to_categorical(y_train, NUM_CLASSES)\n",
    "y_test = to_categorical(y_test, NUM_CLASSES)"
   ]
  },
  {
   "cell_type": "markdown",
   "metadata": {},
   "source": [
    "## Shape of Train, Test set"
   ]
  },
  {
   "cell_type": "code",
   "execution_count": 64,
   "metadata": {},
   "outputs": [
    {
     "name": "stdout",
     "output_type": "stream",
     "text": [
      "(5, 256, 256, 1)\n",
      "(3, 256, 256, 1)\n",
      "(5, 2)\n",
      "(3, 2)\n"
     ]
    }
   ],
   "source": [
    "print(X_train.shape)\n",
    "print(X_test.shape)\n",
    "print(y_train.shape)\n",
    "print(y_test.shape)"
   ]
  },
  {
   "cell_type": "markdown",
   "metadata": {},
   "source": [
    "## A Basic CNN Architecture"
   ]
  },
  {
   "cell_type": "code",
   "execution_count": 65,
   "metadata": {},
   "outputs": [],
   "source": [
    "input_layer = Input((WIDTH, HEIGHT, 1))\n",
    "\n",
    "x = Conv2D(filters = 32, kernel_size = 3, strides = 1, padding = 'same')(input_layer)\n",
    "x = BatchNormalization()(x)\n",
    "x = LeakyReLU()(x)\n",
    "\n",
    "\n",
    "x = Conv2D(filters = 32, kernel_size = 3, strides = 2, padding = 'same')(x)\n",
    "x = BatchNormalization()(x)\n",
    "x = LeakyReLU()(x)\n",
    "\n",
    "\n",
    "x = Conv2D(filters = 64, kernel_size = 3, strides = 1, padding = 'same')(x)\n",
    "x = BatchNormalization()(x)\n",
    "x = LeakyReLU()(x)\n",
    "\n",
    "\n",
    "x = Conv2D(filters = 64, kernel_size = 3, strides = 2, padding = 'same')(x)\n",
    "x = BatchNormalization()(x)\n",
    "x = LeakyReLU()(x)\n",
    "\n",
    "\n",
    "x = Flatten()(x)\n",
    "\n",
    "x = Dense(128)(x)\n",
    "x = BatchNormalization()(x)\n",
    "x = LeakyReLU()(x)\n",
    "x = Dropout(rate = 0.5)(x)\n",
    "\n",
    "x = Dense(NUM_CLASSES)(x)\n",
    "output_layer = Activation('softmax')(x)\n",
    "\n",
    "model = Model(input_layer, output_layer)\n",
    "\n",
    "opt = Adam(learning_rate=0.0005)\n",
    "model.compile(loss='categorical_crossentropy', optimizer=opt, metrics=['accuracy'])"
   ]
  },
  {
   "cell_type": "markdown",
   "metadata": {},
   "source": [
    "## model summary"
   ]
  },
  {
   "cell_type": "code",
   "execution_count": 66,
   "metadata": {},
   "outputs": [
    {
     "name": "stdout",
     "output_type": "stream",
     "text": [
      "Model: \"model_4\"\n",
      "_________________________________________________________________\n",
      " Layer (type)                Output Shape              Param #   \n",
      "=================================================================\n",
      " input_5 (InputLayer)        [(None, 256, 256, 1)]     0         \n",
      "                                                                 \n",
      " conv2d_16 (Conv2D)          (None, 256, 256, 32)      320       \n",
      "                                                                 \n",
      " batch_normalization_20 (Bat  (None, 256, 256, 32)     128       \n",
      " chNormalization)                                                \n",
      "                                                                 \n",
      " leaky_re_lu_20 (LeakyReLU)  (None, 256, 256, 32)      0         \n",
      "                                                                 \n",
      " conv2d_17 (Conv2D)          (None, 128, 128, 32)      9248      \n",
      "                                                                 \n",
      " batch_normalization_21 (Bat  (None, 128, 128, 32)     128       \n",
      " chNormalization)                                                \n",
      "                                                                 \n",
      " leaky_re_lu_21 (LeakyReLU)  (None, 128, 128, 32)      0         \n",
      "                                                                 \n",
      " conv2d_18 (Conv2D)          (None, 128, 128, 64)      18496     \n",
      "                                                                 \n",
      " batch_normalization_22 (Bat  (None, 128, 128, 64)     256       \n",
      " chNormalization)                                                \n",
      "                                                                 \n",
      " leaky_re_lu_22 (LeakyReLU)  (None, 128, 128, 64)      0         \n",
      "                                                                 \n",
      " conv2d_19 (Conv2D)          (None, 64, 64, 64)        36928     \n",
      "                                                                 \n",
      " batch_normalization_23 (Bat  (None, 64, 64, 64)       256       \n",
      " chNormalization)                                                \n",
      "                                                                 \n",
      " leaky_re_lu_23 (LeakyReLU)  (None, 64, 64, 64)        0         \n",
      "                                                                 \n",
      " flatten_4 (Flatten)         (None, 262144)            0         \n",
      "                                                                 \n",
      " dense_8 (Dense)             (None, 128)               33554560  \n",
      "                                                                 \n",
      " batch_normalization_24 (Bat  (None, 128)              512       \n",
      " chNormalization)                                                \n",
      "                                                                 \n",
      " leaky_re_lu_24 (LeakyReLU)  (None, 128)               0         \n",
      "                                                                 \n",
      " dropout_4 (Dropout)         (None, 128)               0         \n",
      "                                                                 \n",
      " dense_9 (Dense)             (None, 2)                 258       \n",
      "                                                                 \n",
      " activation_4 (Activation)   (None, 2)                 0         \n",
      "                                                                 \n",
      "=================================================================\n",
      "Total params: 33,621,090\n",
      "Trainable params: 33,620,450\n",
      "Non-trainable params: 640\n",
      "_________________________________________________________________\n"
     ]
    }
   ],
   "source": [
    "model.summary()"
   ]
  },
  {
   "cell_type": "markdown",
   "metadata": {},
   "source": [
    "## model train"
   ]
  },
  {
   "cell_type": "code",
   "execution_count": 67,
   "metadata": {},
   "outputs": [
    {
     "name": "stdout",
     "output_type": "stream",
     "text": [
      "Epoch 1/100\n",
      "1/1 [==============================] - 1s 1s/step - loss: 1.1701 - accuracy: 0.6000\n",
      "Epoch 2/100\n",
      "1/1 [==============================] - 0s 91ms/step - loss: 1.9512 - accuracy: 0.4000\n",
      "Epoch 3/100\n",
      "1/1 [==============================] - 0s 90ms/step - loss: 1.1878 - accuracy: 0.6000\n",
      "Epoch 4/100\n",
      "1/1 [==============================] - 0s 90ms/step - loss: 1.1480 - accuracy: 0.6000\n",
      "Epoch 5/100\n",
      "1/1 [==============================] - 0s 88ms/step - loss: 0.8504 - accuracy: 0.4000\n",
      "Epoch 6/100\n",
      "1/1 [==============================] - 0s 108ms/step - loss: 0.5733 - accuracy: 0.8000\n",
      "Epoch 7/100\n",
      "1/1 [==============================] - 0s 121ms/step - loss: 0.5936 - accuracy: 0.6000\n",
      "Epoch 8/100\n",
      "1/1 [==============================] - 0s 191ms/step - loss: 1.6796 - accuracy: 0.4000\n",
      "Epoch 9/100\n",
      "1/1 [==============================] - 0s 177ms/step - loss: 1.1083 - accuracy: 0.8000\n",
      "Epoch 10/100\n",
      "1/1 [==============================] - 0s 146ms/step - loss: 1.2500 - accuracy: 0.4000\n",
      "Epoch 11/100\n",
      "1/1 [==============================] - 0s 160ms/step - loss: 0.7089 - accuracy: 0.6000\n",
      "Epoch 12/100\n",
      "1/1 [==============================] - 0s 248ms/step - loss: 0.6413 - accuracy: 0.6000\n",
      "Epoch 13/100\n",
      "1/1 [==============================] - 0s 165ms/step - loss: 1.5065 - accuracy: 0.6000\n",
      "Epoch 14/100\n",
      "1/1 [==============================] - 0s 164ms/step - loss: 1.0619 - accuracy: 0.4000\n",
      "Epoch 15/100\n",
      "1/1 [==============================] - 0s 171ms/step - loss: 0.8314 - accuracy: 0.6000\n",
      "Epoch 16/100\n",
      "1/1 [==============================] - 0s 142ms/step - loss: 1.0308 - accuracy: 0.2000\n",
      "Epoch 17/100\n",
      "1/1 [==============================] - 0s 132ms/step - loss: 0.8747 - accuracy: 0.4000\n",
      "Epoch 18/100\n",
      "1/1 [==============================] - 0s 131ms/step - loss: 0.4187 - accuracy: 1.0000\n",
      "Epoch 19/100\n",
      "1/1 [==============================] - 0s 128ms/step - loss: 1.3346 - accuracy: 0.4000\n",
      "Epoch 20/100\n",
      "1/1 [==============================] - 0s 129ms/step - loss: 0.4731 - accuracy: 0.8000\n",
      "Epoch 21/100\n",
      "1/1 [==============================] - 0s 146ms/step - loss: 0.4600 - accuracy: 0.8000\n",
      "Epoch 22/100\n",
      "1/1 [==============================] - 0s 375ms/step - loss: 0.4138 - accuracy: 0.8000\n",
      "Epoch 23/100\n",
      "1/1 [==============================] - 0s 193ms/step - loss: 1.2584 - accuracy: 0.6000\n",
      "Epoch 24/100\n",
      "1/1 [==============================] - 0s 256ms/step - loss: 0.8288 - accuracy: 0.6000\n",
      "Epoch 25/100\n",
      "1/1 [==============================] - 0s 130ms/step - loss: 0.3670 - accuracy: 1.0000\n",
      "Epoch 26/100\n",
      "1/1 [==============================] - 0s 165ms/step - loss: 0.5871 - accuracy: 0.6000\n",
      "Epoch 27/100\n",
      "1/1 [==============================] - 0s 166ms/step - loss: 0.7281 - accuracy: 0.8000\n",
      "Epoch 28/100\n",
      "1/1 [==============================] - 0s 192ms/step - loss: 0.6451 - accuracy: 0.6000\n",
      "Epoch 29/100\n",
      "1/1 [==============================] - 0s 244ms/step - loss: 0.3221 - accuracy: 1.0000\n",
      "Epoch 30/100\n",
      "1/1 [==============================] - 0s 134ms/step - loss: 0.7059 - accuracy: 0.8000\n",
      "Epoch 31/100\n",
      "1/1 [==============================] - 0s 127ms/step - loss: 0.5719 - accuracy: 0.8000\n",
      "Epoch 32/100\n",
      "1/1 [==============================] - 0s 129ms/step - loss: 0.6156 - accuracy: 0.8000\n",
      "Epoch 33/100\n",
      "1/1 [==============================] - 0s 148ms/step - loss: 0.4432 - accuracy: 0.8000\n",
      "Epoch 34/100\n",
      "1/1 [==============================] - 0s 268ms/step - loss: 0.4817 - accuracy: 0.8000\n",
      "Epoch 35/100\n",
      "1/1 [==============================] - 0s 184ms/step - loss: 0.5738 - accuracy: 0.8000\n",
      "Epoch 36/100\n",
      "1/1 [==============================] - 0s 145ms/step - loss: 0.2893 - accuracy: 1.0000\n",
      "Epoch 37/100\n",
      "1/1 [==============================] - 0s 129ms/step - loss: 0.9728 - accuracy: 0.8000\n",
      "Epoch 38/100\n",
      "1/1 [==============================] - 0s 127ms/step - loss: 0.4338 - accuracy: 1.0000\n",
      "Epoch 39/100\n",
      "1/1 [==============================] - 0s 138ms/step - loss: 0.2889 - accuracy: 1.0000\n",
      "Epoch 40/100\n",
      "1/1 [==============================] - 0s 141ms/step - loss: 0.2754 - accuracy: 1.0000\n",
      "Epoch 41/100\n",
      "1/1 [==============================] - 0s 156ms/step - loss: 0.4978 - accuracy: 0.8000\n",
      "Epoch 42/100\n",
      "1/1 [==============================] - 0s 186ms/step - loss: 0.5105 - accuracy: 0.8000\n",
      "Epoch 43/100\n",
      "1/1 [==============================] - 0s 169ms/step - loss: 0.8749 - accuracy: 0.8000\n",
      "Epoch 44/100\n",
      "1/1 [==============================] - 0s 157ms/step - loss: 0.4272 - accuracy: 0.8000\n",
      "Epoch 45/100\n",
      "1/1 [==============================] - 0s 142ms/step - loss: 0.2352 - accuracy: 1.0000\n",
      "Epoch 46/100\n",
      "1/1 [==============================] - 0s 134ms/step - loss: 0.3778 - accuracy: 1.0000\n",
      "Epoch 47/100\n",
      "1/1 [==============================] - 0s 129ms/step - loss: 0.4229 - accuracy: 1.0000\n",
      "Epoch 48/100\n",
      "1/1 [==============================] - 0s 127ms/step - loss: 0.2631 - accuracy: 1.0000\n",
      "Epoch 49/100\n",
      "1/1 [==============================] - 0s 129ms/step - loss: 0.4499 - accuracy: 0.8000\n",
      "Epoch 50/100\n",
      "1/1 [==============================] - 0s 127ms/step - loss: 0.2523 - accuracy: 1.0000\n",
      "Epoch 51/100\n",
      "1/1 [==============================] - 0s 129ms/step - loss: 0.7343 - accuracy: 0.8000\n",
      "Epoch 52/100\n",
      "1/1 [==============================] - 0s 131ms/step - loss: 0.7327 - accuracy: 0.8000\n",
      "Epoch 53/100\n",
      "1/1 [==============================] - 0s 129ms/step - loss: 0.3157 - accuracy: 1.0000\n",
      "Epoch 54/100\n",
      "1/1 [==============================] - 0s 135ms/step - loss: 0.5837 - accuracy: 0.8000\n",
      "Epoch 55/100\n",
      "1/1 [==============================] - 0s 136ms/step - loss: 0.2996 - accuracy: 1.0000\n",
      "Epoch 56/100\n",
      "1/1 [==============================] - 0s 136ms/step - loss: 0.3141 - accuracy: 1.0000\n",
      "Epoch 57/100\n",
      "1/1 [==============================] - 0s 133ms/step - loss: 0.2304 - accuracy: 1.0000\n",
      "Epoch 58/100\n",
      "1/1 [==============================] - 0s 130ms/step - loss: 0.2878 - accuracy: 1.0000\n",
      "Epoch 59/100\n",
      "1/1 [==============================] - 0s 136ms/step - loss: 0.2897 - accuracy: 1.0000\n",
      "Epoch 60/100\n",
      "1/1 [==============================] - 0s 154ms/step - loss: 0.2685 - accuracy: 1.0000\n",
      "Epoch 61/100\n",
      "1/1 [==============================] - 0s 147ms/step - loss: 0.2499 - accuracy: 1.0000\n",
      "Epoch 62/100\n",
      "1/1 [==============================] - 0s 135ms/step - loss: 0.2814 - accuracy: 1.0000\n",
      "Epoch 63/100\n",
      "1/1 [==============================] - 0s 129ms/step - loss: 0.3673 - accuracy: 1.0000\n",
      "Epoch 64/100\n",
      "1/1 [==============================] - 0s 126ms/step - loss: 0.2276 - accuracy: 1.0000\n",
      "Epoch 65/100\n",
      "1/1 [==============================] - 0s 126ms/step - loss: 0.4406 - accuracy: 0.8000\n",
      "Epoch 66/100\n",
      "1/1 [==============================] - 0s 131ms/step - loss: 0.3319 - accuracy: 1.0000\n",
      "Epoch 67/100\n",
      "1/1 [==============================] - 0s 134ms/step - loss: 0.3215 - accuracy: 1.0000\n",
      "Epoch 68/100\n",
      "1/1 [==============================] - 0s 132ms/step - loss: 0.4223 - accuracy: 0.8000\n",
      "Epoch 69/100\n",
      "1/1 [==============================] - 0s 130ms/step - loss: 0.2320 - accuracy: 1.0000\n",
      "Epoch 70/100\n",
      "1/1 [==============================] - 0s 128ms/step - loss: 0.2225 - accuracy: 1.0000\n",
      "Epoch 71/100\n",
      "1/1 [==============================] - 0s 127ms/step - loss: 0.1844 - accuracy: 1.0000\n",
      "Epoch 72/100\n",
      "1/1 [==============================] - 0s 127ms/step - loss: 0.2393 - accuracy: 1.0000\n",
      "Epoch 73/100\n",
      "1/1 [==============================] - 0s 128ms/step - loss: 0.2898 - accuracy: 1.0000\n",
      "Epoch 74/100\n",
      "1/1 [==============================] - 0s 129ms/step - loss: 0.2064 - accuracy: 1.0000\n",
      "Epoch 75/100\n",
      "1/1 [==============================] - 0s 130ms/step - loss: 0.3725 - accuracy: 0.8000\n",
      "Epoch 76/100\n",
      "1/1 [==============================] - 0s 129ms/step - loss: 0.3408 - accuracy: 0.8000\n",
      "Epoch 77/100\n",
      "1/1 [==============================] - 0s 127ms/step - loss: 0.1594 - accuracy: 1.0000\n",
      "Epoch 78/100\n",
      "1/1 [==============================] - 0s 128ms/step - loss: 0.1669 - accuracy: 1.0000\n",
      "Epoch 79/100\n",
      "1/1 [==============================] - 0s 130ms/step - loss: 0.2611 - accuracy: 1.0000\n",
      "Epoch 80/100\n",
      "1/1 [==============================] - 0s 128ms/step - loss: 0.1939 - accuracy: 1.0000\n",
      "Epoch 81/100\n",
      "1/1 [==============================] - 0s 130ms/step - loss: 0.2441 - accuracy: 1.0000\n",
      "Epoch 82/100\n",
      "1/1 [==============================] - 0s 131ms/step - loss: 0.1858 - accuracy: 1.0000\n",
      "Epoch 83/100\n",
      "1/1 [==============================] - 0s 129ms/step - loss: 0.1911 - accuracy: 1.0000\n",
      "Epoch 84/100\n",
      "1/1 [==============================] - 0s 128ms/step - loss: 0.3011 - accuracy: 0.8000\n",
      "Epoch 85/100\n",
      "1/1 [==============================] - 0s 143ms/step - loss: 0.1606 - accuracy: 1.0000\n",
      "Epoch 86/100\n",
      "1/1 [==============================] - 0s 157ms/step - loss: 0.1723 - accuracy: 1.0000\n",
      "Epoch 87/100\n",
      "1/1 [==============================] - 0s 147ms/step - loss: 0.1808 - accuracy: 1.0000\n",
      "Epoch 88/100\n",
      "1/1 [==============================] - 0s 141ms/step - loss: 0.1644 - accuracy: 1.0000\n",
      "Epoch 89/100\n",
      "1/1 [==============================] - 0s 134ms/step - loss: 0.2217 - accuracy: 1.0000\n",
      "Epoch 90/100\n",
      "1/1 [==============================] - 0s 136ms/step - loss: 0.1669 - accuracy: 1.0000\n",
      "Epoch 91/100\n",
      "1/1 [==============================] - 0s 147ms/step - loss: 0.1497 - accuracy: 1.0000\n",
      "Epoch 92/100\n",
      "1/1 [==============================] - 0s 146ms/step - loss: 0.2110 - accuracy: 1.0000\n",
      "Epoch 93/100\n",
      "1/1 [==============================] - 0s 135ms/step - loss: 0.2630 - accuracy: 0.8000\n",
      "Epoch 94/100\n",
      "1/1 [==============================] - 0s 130ms/step - loss: 0.1497 - accuracy: 1.0000\n",
      "Epoch 95/100\n",
      "1/1 [==============================] - 0s 127ms/step - loss: 0.1383 - accuracy: 1.0000\n",
      "Epoch 96/100\n",
      "1/1 [==============================] - 0s 128ms/step - loss: 0.1519 - accuracy: 1.0000\n",
      "Epoch 97/100\n",
      "1/1 [==============================] - 0s 127ms/step - loss: 0.1203 - accuracy: 1.0000\n",
      "Epoch 98/100\n",
      "1/1 [==============================] - 0s 128ms/step - loss: 0.2238 - accuracy: 1.0000\n",
      "Epoch 99/100\n",
      "1/1 [==============================] - 0s 129ms/step - loss: 0.1602 - accuracy: 1.0000\n",
      "Epoch 100/100\n",
      "1/1 [==============================] - 0s 129ms/step - loss: 0.1149 - accuracy: 1.0000\n"
     ]
    },
    {
     "data": {
      "text/plain": [
       "<keras.callbacks.History at 0x29dde4190>"
      ]
     },
     "execution_count": 67,
     "metadata": {},
     "output_type": "execute_result"
    }
   ],
   "source": [
    "model.fit(X_train, \n",
    "          y_train,\n",
    "          batch_size=32, \n",
    "          epochs=100, \n",
    "          shuffle=True\n",
    ")"
   ]
  },
  {
   "cell_type": "markdown",
   "metadata": {},
   "source": [
    "## Evaluate"
   ]
  },
  {
   "cell_type": "code",
   "execution_count": 68,
   "metadata": {},
   "outputs": [
    {
     "name": "stdout",
     "output_type": "stream",
     "text": [
      "1/1 [==============================] - 0s 243ms/step - loss: 0.9543 - accuracy: 0.3333\n"
     ]
    },
    {
     "data": {
      "text/plain": [
       "[0.9543108940124512, 0.3333333432674408]"
      ]
     },
     "execution_count": 68,
     "metadata": {},
     "output_type": "execute_result"
    }
   ],
   "source": [
    "model.evaluate(X_test, y_test, batch_size=1000)"
   ]
  },
  {
   "cell_type": "code",
   "execution_count": 69,
   "metadata": {},
   "outputs": [
    {
     "name": "stdout",
     "output_type": "stream",
     "text": [
      "1/1 [==============================] - 0s 167ms/step\n"
     ]
    }
   ],
   "source": [
    "y_pred = model.predict(X_test)"
   ]
  },
  {
   "cell_type": "code",
   "execution_count": 70,
   "metadata": {},
   "outputs": [],
   "source": [
    "preds_single = CLASSES[np.argmax(y_pred, axis = -1)]\n",
    "actual_single = CLASSES[np.argmax(y_test, axis = -1)]"
   ]
  },
  {
   "cell_type": "code",
   "execution_count": 71,
   "metadata": {},
   "outputs": [
    {
     "data": {
      "image/png": "[encoded data removed]",
      "text/plain": [
       "<Figure size 1500x300 with 10 Axes>"
      ]
     },
     "metadata": {},
     "output_type": "display_data"
    }
   ],
   "source": [
    "n_to_show = 10\n",
    "indices = np.random.choice(range(len(X_test)), n_to_show)\n",
    "\n",
    "fig = plt.figure(figsize=(15, 3))\n",
    "fig.subplots_adjust(hspace=0.4, wspace=0.4)\n",
    "\n",
    "for i, idx in enumerate(indices):\n",
    "    img = X_test[idx]\n",
    "    ax = fig.add_subplot(1, n_to_show, i+1)\n",
    "    ax.axis('off')\n",
    "    ax.text(0.5, -0.35, 'pred = ' + str(preds_single[idx]), fontsize=10, ha='center', transform=ax.transAxes) \n",
    "    ax.text(0.5, -0.7, 'act = ' + str(actual_single[idx]), fontsize=10, ha='center', transform=ax.transAxes)\n",
    "    ax.imshow(img)"
   ]
  },
  {
   "cell_type": "markdown",
   "metadata": {},
   "source": [
    "## Score"
   ]
  },
  {
   "cell_type": "code",
   "execution_count": 72,
   "metadata": {},
   "outputs": [
    {
     "name": "stdout",
     "output_type": "stream",
     "text": [
      "              precision    recall  f1-score   support\n",
      "\n",
      "           0       0.00      0.00      0.00         2\n",
      "           1       0.33      1.00      0.50         1\n",
      "\n",
      "    accuracy                           0.33         3\n",
      "   macro avg       0.17      0.50      0.25         3\n",
      "weighted avg       0.11      0.33      0.17         3\n",
      "\n"
     ]
    },
    {
     "name": "stderr",
     "output_type": "stream",
     "text": [
      "/Users/gyeonghoon_park/miniforge3/envs/TF/lib/python3.8/site-packages/sklearn/metrics/_classification.py:1344: UndefinedMetricWarning: Precision and F-score are ill-defined and being set to 0.0 in labels with no predicted samples. Use `zero_division` parameter to control this behavior.\n",
      "  _warn_prf(average, modifier, msg_start, len(result))\n",
      "/Users/gyeonghoon_park/miniforge3/envs/TF/lib/python3.8/site-packages/sklearn/metrics/_classification.py:1344: UndefinedMetricWarning: Precision and F-score are ill-defined and being set to 0.0 in labels with no predicted samples. Use `zero_division` parameter to control this behavior.\n",
      "  _warn_prf(average, modifier, msg_start, len(result))\n",
      "/Users/gyeonghoon_park/miniforge3/envs/TF/lib/python3.8/site-packages/sklearn/metrics/_classification.py:1344: UndefinedMetricWarning: Precision and F-score are ill-defined and being set to 0.0 in labels with no predicted samples. Use `zero_division` parameter to control this behavior.\n",
      "  _warn_prf(average, modifier, msg_start, len(result))\n"
     ]
    }
   ],
   "source": [
    "y_pred_classes = tf.argmax(y_pred, axis=1)\n",
    "y_test_classes = tf.argmax(y_test, axis=1)\n",
    "\n",
    "print(classification_report(y_test_classes, y_pred_classes))"
   ]
  }
 ],
 "metadata": {
  "kernelspec": {
   "display_name": "TF",
   "language": "python",
   "name": "python3"
  },
  "language_info": {
   "codemirror_mode": {
    "name": "ipython",
    "version": 3
   },
   "file_extension": ".py",
   "mimetype": "text/x-python",
   "name": "python",
   "nbconvert_exporter": "python",
   "pygments_lexer": "ipython3",
   "version": "3.8.16"
  }
 },
 "nbformat": 4,
 "nbformat_minor": 2
}
