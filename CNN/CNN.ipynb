{
 "cells": [
  {
   "cell_type": "code",
   "execution_count": 1,
   "metadata": {},
   "outputs": [],
   "source": [
    "import os\n",
    "import pandas as pd\n",
    "import numpy as np\n",
    "import tensorflow as tf\n",
    "\n",
    "import matplotlib.pyplot as plt\n",
    "\n",
    "from keras.models import Model\n",
    "from keras.optimizers import Adam\n",
    "from keras.utils import to_categorical\n",
    "from keras.layers import Input, Flatten, Dense, Conv2D, MaxPooling2D\n",
    "from keras.layers import  BatchNormalization, LeakyReLU, Dropout, Activation\n",
    "\n",
    "from sklearn.preprocessing import LabelEncoder\n",
    "from sklearn.metrics import classification_report\n",
    "from sklearn.model_selection import train_test_split"
   ]
  },
  {
   "cell_type": "markdown",
   "metadata": {},
   "source": [
    "## System Calls List"
   ]
  },
  {
   "cell_type": "code",
   "execution_count": 2,
   "metadata": {},
   "outputs": [],
   "source": [
    "syscalls = [\n",
    "    \"sys_enter_setgroups\",\n",
    "    \"sys_enter_sethostname\",\n",
    "    \"sys_enter_accept\",\n",
    "    \"sys_enter_lseek\",\n",
    "    \"sys_enter_setitimer\",\n",
    "    \"sys_enter_accept4\",\n",
    "    \"sys_enter_setns\",\n",
    "    \"sys_enter_acct\",\n",
    "    \"sys_enter_madvise\",\n",
    "    \"sys_enter_setpgid\",\n",
    "    \"sys_enter_add_key\",\n",
    "    \"sys_enter_mbind\",\n",
    "    \"sys_enter_setpriority\",\n",
    "    \"sys_enter_adjtimex\",\n",
    "    \"sys_enter_membarrier\",\n",
    "    \"sys_enter_setregid\",\n",
    "    \"sys_enter_arm64_personality\",\n",
    "    \"sys_enter_memfd_create\",\n",
    "    \"sys_enter_setresgid\",\n",
    "    \"sys_enter_bind\",\n",
    "    \"sys_enter_memfd_secret\",\n",
    "    \"sys_enter_setresuid\",\n",
    "    \"sys_enter_bpf\",\n",
    "    \"sys_enter_setreuid\",\n",
    "    \"sys_enter_brk\",\n",
    "    \"sys_enter_mincore\",\n",
    "    \"sys_enter_setrlimit\",\n",
    "    \"sys_enter_capget\",\n",
    "    \"sys_enter_mkdirat\",\n",
    "    \"sys_enter_setsid\",\n",
    "    \"sys_enter_capset\",\n",
    "    \"sys_enter_mknodat\",\n",
    "    \"sys_enter_setsockopt\",\n",
    "    \"sys_enter_chdir\",\n",
    "    \"sys_enter_mlock\",\n",
    "    \"sys_enter_settimeofday\",\n",
    "    \"sys_enter_chroot\",\n",
    "    \"sys_enter_setuid\",\n",
    "    \"sys_enter_clock_adjtime\",\n",
    "    \"sys_enter_mlockall\",\n",
    "    \"sys_enter_setxattr\",\n",
    "    \"sys_enter_clock_getres\",\n",
    "    \"sys_enter_mmap\",\n",
    "    \"sys_enter_shmat\",\n",
    "    \"sys_enter_clock_gettime\",\n",
    "    \"sys_enter_mount\",\n",
    "    \"sys_enter_shmctl\",\n",
    "    \"sys_enter_clock_nanosleep\",\n",
    "    \"sys_enter_shmdt\",\n",
    "    \"sys_enter_clock_settime\",\n",
    "    \"sys_enter_shmget\",\n",
    "    \"sys_enter_clone\",\n",
    "    \"sys_enter_move_pages\",\n",
    "    \"sys_enter_shutdown\",\n",
    "    \"sys_enter_clone3\",\n",
    "    \"sys_enter_mprotect\",\n",
    "    \"sys_enter_sigaltstack\",\n",
    "    \"sys_enter_close\",\n",
    "    \"sys_enter_mq_getsetattr\",\n",
    "    \"sys_enter_signalfd4\",\n",
    "    \"sys_enter_close_range\",\n",
    "    \"sys_enter_mq_notify\",\n",
    "    \"sys_enter_socket\",\n",
    "    \"sys_enter_connect\",\n",
    "    \"sys_enter_mq_open\",\n",
    "    \"sys_enter_socketpair\",\n",
    "    \"sys_enter_copy_file_range\",\n",
    "    \"sys_enter_mq_timedreceive\",\n",
    "    \"sys_enter_splice\",\n",
    "    \"sys_enter_delete_module\",\n",
    "    \"sys_enter_mq_timedsend\",\n",
    "    \"sys_enter_statfs\",\n",
    "    \"sys_enter_dup\",\n",
    "    \"sys_enter_mq_unlink\",\n",
    "    \"sys_enter_statx\",\n",
    "    \"sys_enter_dup3\",\n",
    "    \"sys_enter_mremap\",\n",
    "    \"sys_enter_swapoff\",\n",
    "    \"sys_enter_epoll_create1\",\n",
    "    \"sys_enter_msgctl\",\n",
    "    \"sys_enter_swapon\",\n",
    "    \"sys_enter_epoll_ctl\",\n",
    "    \"sys_enter_msgget\",\n",
    "    \"sys_enter_symlinkat\",\n",
    "    \"sys_enter_epoll_pwait\",\n",
    "    \"sys_enter_msgrcv\",\n",
    "    \"sys_enter_sync\",\n",
    "    \"sys_enter_epoll_pwait2\",\n",
    "    \"sys_enter_msgsnd\",\n",
    "    \"sys_enter_sync_file_range\",\n",
    "    \"sys_enter_eventfd2\",\n",
    "    \"sys_enter_msync\",\n",
    "    \"sys_enter_syncfs\",\n",
    "    \"sys_enter_execve\",\n",
    "    \"sys_enter_munlock\",\n",
    "    \"sys_enter_sysinfo\",\n",
    "    \"sys_enter_execveat\",\n",
    "    \"sys_enter_munlockall\",\n",
    "    \"sys_enter_syslog\",\n",
    "    \"sys_enter_exit\",\n",
    "    \"sys_enter_munmap\",\n",
    "    \"sys_enter_tee\",\n",
    "    \"sys_enter_exit_group\",\n",
    "    \"sys_enter_tgkill\",\n",
    "    \"sys_enter_faccessat\",\n",
    "    \"sys_enter_nanosleep\",\n",
    "    \"sys_enter_timer_create\",\n",
    "    \"sys_enter_faccessat2\",\n",
    "    \"sys_enter_newfstat\",\n",
    "    \"sys_enter_timer_delete\",\n",
    "    \"sys_enter_fadvise64_64\",\n",
    "    \"sys_enter_newfstatat\",\n",
    "    \"sys_enter_timer_getoverrun\",\n",
    "    \"sys_enter_fallocate\",\n",
    "    \"sys_enter_newuname\",\n",
    "    \"sys_enter_timer_gettime\",\n",
    "    \"sys_enter_fanotify_init\",\n",
    "    \"sys_enter_timer_settime\",\n",
    "    \"sys_enter_fanotify_mark\",\n",
    "    \"sys_enter_timerfd_create\",\n",
    "    \"sys_enter_fchdir\",\n",
    "    \"sys_enter_openat\",\n",
    "    \"sys_enter_timerfd_gettime\",\n",
    "    \"sys_enter_fchmod\",\n",
    "    \"sys_enter_openat2\",\n",
    "    \"sys_enter_timerfd_settime\",\n",
    "    \"sys_enter_fchmodat\",\n",
    "    \"sys_enter_times\",\n",
    "    \"sys_enter_fchown\",\n",
    "    \"sys_enter_tkill\",\n",
    "    \"sys_enter_fchownat\",\n",
    "    \"sys_enter_truncate\",\n",
    "    \"sys_enter_fcntl\",\n",
    "    \"sys_enter_umask\",\n",
    "    \"sys_enter_fdatasync\",\n",
    "    \"sys_enter_pipe2\",\n",
    "    \"sys_enter_umount\",\n",
    "    \"sys_enter_fgetxattr\",\n",
    "    \"sys_enter_unlinkat\",\n",
    "    \"sys_enter_finit_module\",\n",
    "    \"sys_enter_unshare\",\n",
    "    \"sys_enter_flistxattr\",\n",
    "    \"sys_enter_prctl\",\n",
    "    \"sys_enter_flock\",\n",
    "    \"sys_enter_pread64\",\n",
    "    \"sys_enter_utimensat\",\n",
    "    \"sys_enter_fremovexattr\",\n",
    "    \"sys_enter_preadv\",\n",
    "    \"sys_enter_vhangup\",\n",
    "    \"sys_enter_fsconfig\",\n",
    "    \"sys_enter_preadv2\",\n",
    "    \"sys_enter_vmsplice\",\n",
    "    \"sys_enter_fsetxattr\",\n",
    "    \"sys_enter_prlimit64\",\n",
    "    \"sys_enter_wait4\",\n",
    "    \"sys_enter_fsmount\",\n",
    "    \"sys_enter_waitid\",\n",
    "    \"sys_enter_fsopen\",\n",
    "    \"sys_enter_fspick\",\n",
    "    \"sys_enter_writev\",\n",
    "    \"sys_enter_fstatfs\",\n",
    "    \"sys_enter_fsync\",\n",
    "    \"sys_enter_pselect6\",\n",
    "    \"sys_enter_ftruncate\",\n",
    "    \"sys_enter_ptrace\",\n",
    "    \"sys_enter_futex\",\n",
    "    \"sys_enter_pwrite64\",\n",
    "    \"sys_enter_get_mempolicy\",\n",
    "    \"sys_enter_pwritev\",\n",
    "    \"sys_enter_get_robust_list\",\n",
    "    \"sys_enter_pwritev2\",\n",
    "    \"sys_enter_getcpu\",\n",
    "    \"sys_enter_quotactl\",\n",
    "    \"sys_enter_getcwd\",\n",
    "    \"sys_enter_quotactl_fd\",\n",
    "    \"sys_enter_getdents64\",\n",
    "    \"sys_enter_getegid\",\n",
    "    \"sys_enter_readahead\",\n",
    "    \"sys_enter_geteuid\",\n",
    "    \"sys_enter_readlinkat\",\n",
    "    \"sys_enter_getgid\",\n",
    "    \"sys_enter_readv\",\n",
    "    \"sys_enter_getgroups\",\n",
    "    \"sys_enter_reboot\",\n",
    "    \"sys_enter_getitimer\",\n",
    "    \"sys_enter_recvfrom\",\n",
    "    \"sys_enter_getpeername\",\n",
    "    \"sys_enter_recvmmsg\",\n",
    "    \"sys_enter_getpgid\",\n",
    "    \"sys_enter_remap_file_pages\",\n",
    "    \"sys_enter_getppid\",\n",
    "    \"sys_enter_removexattr\",\n",
    "    \"sys_enter_getpriority\",\n",
    "    \"sys_enter_renameat\",\n",
    "    \"sys_enter_getrandom\",\n",
    "    \"sys_enter_renameat2\",\n",
    "    \"sys_enter_getresgid\",\n",
    "    \"sys_enter_request_key\",\n",
    "    \"sys_enter_getresuid\",\n",
    "    \"sys_enter_restart_syscall\",\n",
    "    \"sys_enter_getrlimit\",\n",
    "    \"sys_enter_rseq\",\n",
    "    \"sys_enter_getrusage\",\n",
    "    \"sys_enter_getsid\",\n",
    "    \"sys_enter_rt_sigpending\",\n",
    "    \"sys_enter_getsockname\",\n",
    "    \"sys_enter_getsockopt\",\n",
    "    \"sys_enter_rt_sigqueueinfo\",\n",
    "    \"sys_enter_gettid\",\n",
    "    \"sys_enter_rt_sigreturn\",\n",
    "    \"sys_enter_gettimeofday\",\n",
    "    \"sys_enter_rt_sigsuspend\",\n",
    "    \"sys_enter_getuid\",\n",
    "    \"sys_enter_rt_sigtimedwait\",\n",
    "    \"sys_enter_getxattr\",\n",
    "    \"sys_enter_rt_tgsigqueueinfo\",\n",
    "    \"sys_enter_init_module\",\n",
    "    \"sys_enter_sched_get_priority_max\",\n",
    "    \"sys_enter_inotify_add_watch\",\n",
    "    \"sys_enter_sched_get_priority_min\",\n",
    "    \"sys_enter_inotify_init1\",\n",
    "    \"sys_enter_sched_getaffinity\",\n",
    "    \"sys_enter_inotify_rm_watch\",\n",
    "    \"sys_enter_sched_getattr\",\n",
    "    \"sys_enter_sched_getparam\",\n",
    "    \"sys_enter_sched_getscheduler\",\n",
    "    \"sys_enter_sched_rr_get_interval\",\n",
    "    \"sys_enter_sched_setaffinity\",\n",
    "    \"sys_enter_sched_setattr\",\n",
    "    \"sys_enter_sched_setparam\",\n",
    "    \"sys_enter_sched_setscheduler\",\n",
    "    \"sys_enter_sched_yield\",\n",
    "    \"sys_enter_seccomp\",\n",
    "    \"sys_enter_semctl\",\n",
    "    \"sys_enter_ioprio_get\",\n",
    "    \"sys_enter_semget\",\n",
    "    \"sys_enter_ioprio_set\",\n",
    "    \"sys_enter_semop\",\n",
    "    \"sys_enter_kcmp\",\n",
    "    \"sys_enter_semtimedop\",\n",
    "    \"sys_enter_sendfile64\",\n",
    "    \"sys_enter_sendmmsg\",\n",
    "    \"sys_enter_keyctl\",\n",
    "    \"sys_enter_kill\",\n",
    "    \"sys_enter_sendto\",\n",
    "    \"sys_enter_set_mempolicy\",\n",
    "    \"sys_enter_set_robust_list\",\n",
    "    \"sys_enter_set_tid_address\",\n",
    "    \"sys_enter_setdomainname\",\n",
    "    \"sys_enter_linkat\",\n",
    "    \"sys_enter_setfsgid\",\n",
    "    \"sys_enter_listen\",\n",
    "    \"sys_enter_setfsuid\",\n",
    "    \"sys_enter_listxattr\",\n",
    "    \"sys_enter_setgid\",\n",
    "]"
   ]
  },
  {
   "cell_type": "markdown",
   "metadata": {},
   "source": [
    "## Loading CSV from Desktop"
   ]
  },
  {
   "cell_type": "code",
   "execution_count": 2,
   "metadata": {},
   "outputs": [],
   "source": [
    "NUM_CLASSES = 2\n",
    "CLASSES = np.array(['benign', 'malware'])\n",
    "DATASET_DIR = \"dataset/\"\n",
    "WIDTH = 256\n",
    "HEIGHT = 256\n",
    "SHAPE = (WIDTH, HEIGHT)\n",
    "SIZE = WIDTH * HEIGHT * 1\n",
    "\n",
    "label_encoder = LabelEncoder()\n",
    "label_encoder.fit(syscalls)\n",
    "\n",
    "def csvToimage(file_path):\n",
    "    data = pd.read_csv(file_path)\n",
    "    data_encoded = label_encoder.fit_transform(data['SYSTEM_CALL'])\n",
    "    image = np.zeros(SHAPE, dtype=np.uint8)\n",
    "    syscall_nums = min(len(data_encoded), SIZE)\n",
    "    image.flat[:syscall_nums] = data_encoded[:syscall_nums]\n",
    "\n",
    "    return image\n",
    "\n",
    "def load_data(dataset_dir):\n",
    "    x = []\n",
    "    y = []\n",
    "\n",
    "    classes = [class_name for class_name in os.listdir(dataset_dir) if os.path.isdir(os.path.join(dataset_dir, class_name))]\n",
    "    for class_idx, class_name in enumerate(classes):\n",
    "        class_dir = os.path.join(dataset_dir, class_name)\n",
    "        for file_name in os.listdir(class_dir):\n",
    "            if file_name.endswith('.csv'):\n",
    "                file_path = os.path.join(class_dir, file_name)\n",
    "                image = csvToimage(file_path)\n",
    "                x.append(image)\n",
    "                y.append(class_idx)\n",
    "                \n",
    "    x = np.array(x).reshape(-1, WIDTH, HEIGHT, 1)\n",
    "    y = np.array(y)\n",
    "    return x, y"
   ]
  },
  {
   "cell_type": "code",
   "execution_count": 3,
   "metadata": {},
   "outputs": [],
   "source": [
    "X, y = load_data(DATASET_DIR)"
   ]
  },
  {
   "cell_type": "markdown",
   "metadata": {},
   "source": [
    "# Image Plotting"
   ]
  },
  {
   "cell_type": "code",
   "execution_count": 4,
   "metadata": {},
   "outputs": [
    {
     "data": {
      "text/plain": [
       "\"\\nn = 10\\nnth_image = X[n].reshape(256, 256)\\n\\nplt.imshow(nth_image, cmap='gray')\\nplt.title(f'${n}^{{th}}$ Image in Dataset')\\nplt.axis('off')\\nplt.show()\\n\""
      ]
     },
     "execution_count": 4,
     "metadata": {},
     "output_type": "execute_result"
    }
   ],
   "source": [
    "\"\"\"\n",
    "n = 10\n",
    "nth_image = X[n].reshape(256, 256)\n",
    "\n",
    "plt.imshow(nth_image, cmap='gray')\n",
    "plt.title(f'${n}^{{th}}$ Image in Dataset')\n",
    "plt.axis('off')\n",
    "plt.show()\n",
    "\"\"\"\n"
   ]
  },
  {
   "cell_type": "markdown",
   "metadata": {},
   "source": [
    "## Split and Nomalize Data"
   ]
  },
  {
   "cell_type": "code",
   "execution_count": 5,
   "metadata": {},
   "outputs": [],
   "source": [
    "X_train, X_test, y_train, y_test= train_test_split(X, y, test_size=0.3, random_state=42)\n",
    "\n",
    "X_train, X_val, y_train, y_val = train_test_split(X_train, y_train, test_size=0.2, random_state=42)\n",
    "\n",
    "X_train = X_train / 255.0\n",
    "X_val = X_val / 255.0\n",
    "X_test = X_test / 255.0\n",
    "\n",
    "y_train = to_categorical(y_train, NUM_CLASSES)\n",
    "y_val = to_categorical(y_val, NUM_CLASSES)\n",
    "y_test = to_categorical(y_test, NUM_CLASSES)"
   ]
  },
  {
   "cell_type": "markdown",
   "metadata": {},
   "source": [
    "## Shape of Train, Test set"
   ]
  },
  {
   "cell_type": "code",
   "execution_count": 6,
   "metadata": {},
   "outputs": [
    {
     "name": "stdout",
     "output_type": "stream",
     "text": [
      "(220, 256, 256, 1)\n",
      "(119, 256, 256, 1)\n",
      "(220, 2)\n",
      "(119, 2)\n"
     ]
    }
   ],
   "source": [
    "print(X_train.shape)\n",
    "print(X_test.shape)\n",
    "print(y_train.shape)\n",
    "print(y_test.shape)"
   ]
  },
  {
   "cell_type": "markdown",
   "metadata": {},
   "source": [
    "## A Basic CNN Architecture"
   ]
  },
  {
   "cell_type": "code",
   "execution_count": 20,
   "metadata": {},
   "outputs": [],
   "source": [
    "input_layer = Input((WIDTH, HEIGHT, 1))\n",
    "\n",
    "x = Conv2D(filters=32, kernel_size=3, padding='same')(input_layer)\n",
    "x = BatchNormalization()(x)\n",
    "x = LeakyReLU()(x)\n",
    "x = MaxPooling2D(pool_size=(2, 2))(x)\n",
    "\n",
    "x = Conv2D(filters=64, kernel_size=3, padding='same')(x)\n",
    "x = BatchNormalization()(x)\n",
    "x = LeakyReLU()(x)\n",
    "x = MaxPooling2D(pool_size=(2, 2))(x)\n",
    "\n",
    "x = Conv2D(filters=128, kernel_size=1, padding='same')(x)\n",
    "x = BatchNormalization()(x)\n",
    "x = LeakyReLU()(x)\n",
    "\n",
    "x = Flatten()(x)\n",
    "\n",
    "x = Dense(256)(x)\n",
    "x = BatchNormalization()(x)\n",
    "x = LeakyReLU()(x)\n",
    "x = Dropout(rate=0.5)(x)\n",
    "\n",
    "x = Dense(NUM_CLASSES)(x)\n",
    "output_layer = Activation('softmax')(x)\n",
    "\n",
    "model = Model(input_layer, output_layer)\n",
    "\n",
    "opt = Adam(learning_rate=0.0005)\n",
    "model.compile(loss='categorical_crossentropy', optimizer=opt, metrics=['accuracy'])"
   ]
  },
  {
   "cell_type": "markdown",
   "metadata": {},
   "source": [
    "## model summary"
   ]
  },
  {
   "cell_type": "code",
   "execution_count": 21,
   "metadata": {},
   "outputs": [
    {
     "name": "stdout",
     "output_type": "stream",
     "text": [
      "Model: \"model_5\"\n",
      "_________________________________________________________________\n",
      " Layer (type)                Output Shape              Param #   \n",
      "=================================================================\n",
      " input_6 (InputLayer)        [(None, 256, 256, 1)]     0         \n",
      "                                                                 \n",
      " conv2d_17 (Conv2D)          (None, 256, 256, 32)      320       \n",
      "                                                                 \n",
      " batch_normalization_22 (Bat  (None, 256, 256, 32)     128       \n",
      " chNormalization)                                                \n",
      "                                                                 \n",
      " leaky_re_lu_22 (LeakyReLU)  (None, 256, 256, 32)      0         \n",
      "                                                                 \n",
      " max_pooling2d_12 (MaxPoolin  (None, 128, 128, 32)     0         \n",
      " g2D)                                                            \n",
      "                                                                 \n",
      " conv2d_18 (Conv2D)          (None, 128, 128, 64)      51264     \n",
      "                                                                 \n",
      " batch_normalization_23 (Bat  (None, 128, 128, 64)     256       \n",
      " chNormalization)                                                \n",
      "                                                                 \n",
      " leaky_re_lu_23 (LeakyReLU)  (None, 128, 128, 64)      0         \n",
      "                                                                 \n",
      " max_pooling2d_13 (MaxPoolin  (None, 64, 64, 64)       0         \n",
      " g2D)                                                            \n",
      "                                                                 \n",
      " conv2d_19 (Conv2D)          (None, 64, 64, 64)        36928     \n",
      "                                                                 \n",
      " batch_normalization_24 (Bat  (None, 64, 64, 64)       256       \n",
      " chNormalization)                                                \n",
      "                                                                 \n",
      " leaky_re_lu_24 (LeakyReLU)  (None, 64, 64, 64)        0         \n",
      "                                                                 \n",
      " max_pooling2d_14 (MaxPoolin  (None, 32, 32, 64)       0         \n",
      " g2D)                                                            \n",
      "                                                                 \n",
      " conv2d_20 (Conv2D)          (None, 32, 32, 128)       8320      \n",
      "                                                                 \n",
      " batch_normalization_25 (Bat  (None, 32, 32, 128)      512       \n",
      " chNormalization)                                                \n",
      "                                                                 \n",
      " leaky_re_lu_25 (LeakyReLU)  (None, 32, 32, 128)       0         \n",
      "                                                                 \n",
      " flatten_5 (Flatten)         (None, 131072)            0         \n",
      "                                                                 \n",
      " dense_10 (Dense)            (None, 256)               33554688  \n",
      "                                                                 \n",
      " batch_normalization_26 (Bat  (None, 256)              1024      \n",
      " chNormalization)                                                \n",
      "                                                                 \n",
      " leaky_re_lu_26 (LeakyReLU)  (None, 256)               0         \n",
      "                                                                 \n",
      " dropout_5 (Dropout)         (None, 256)               0         \n",
      "                                                                 \n",
      " dense_11 (Dense)            (None, 2)                 514       \n",
      "                                                                 \n",
      " activation_5 (Activation)   (None, 2)                 0         \n",
      "                                                                 \n",
      "=================================================================\n",
      "Total params: 33,654,210\n",
      "Trainable params: 33,653,122\n",
      "Non-trainable params: 1,088\n",
      "_________________________________________________________________\n"
     ]
    }
   ],
   "source": [
    "model.summary()"
   ]
  },
  {
   "cell_type": "markdown",
   "metadata": {},
   "source": [
    "## model train"
   ]
  },
  {
   "cell_type": "code",
   "execution_count": 22,
   "metadata": {},
   "outputs": [
    {
     "name": "stdout",
     "output_type": "stream",
     "text": [
      "Epoch 1/100\n",
      "7/7 [==============================] - 7s 830ms/step - loss: 0.6679 - accuracy: 0.8455 - val_loss: 1.4263 - val_accuracy: 0.5536\n",
      "Epoch 2/100\n",
      "7/7 [==============================] - 5s 716ms/step - loss: 0.3591 - accuracy: 0.9364 - val_loss: 1.6849 - val_accuracy: 0.5536\n",
      "Epoch 3/100\n",
      "7/7 [==============================] - 5s 683ms/step - loss: 0.3522 - accuracy: 0.9500 - val_loss: 1.7300 - val_accuracy: 0.5536\n",
      "Epoch 4/100\n",
      "7/7 [==============================] - 5s 688ms/step - loss: 0.2203 - accuracy: 0.9591 - val_loss: 1.7016 - val_accuracy: 0.5536\n",
      "Epoch 5/100\n",
      "7/7 [==============================] - 5s 673ms/step - loss: 0.1934 - accuracy: 0.9636 - val_loss: 1.6249 - val_accuracy: 0.5536\n",
      "Epoch 6/100\n",
      "3/7 [===========>..................] - ETA: 2s - loss: 0.2166 - accuracy: 0.9688"
     ]
    },
    {
     "ename": "KeyboardInterrupt",
     "evalue": "",
     "output_type": "error",
     "traceback": [
      "\u001b[0;31m---------------------------------------------------------------------------\u001b[0m",
      "\u001b[0;31mKeyboardInterrupt\u001b[0m                         Traceback (most recent call last)",
      "\u001b[1;32m/Users/gyeonghoon_park/CryptoGuard/CNN/CNN.ipynb Cell 16\u001b[0m line \u001b[0;36m1\n\u001b[0;32m----> <a href='vscode-notebook-cell:/Users/gyeonghoon_park/CryptoGuard/CNN/CNN.ipynb#X21sZmlsZQ%3D%3D?line=0'>1</a>\u001b[0m model\u001b[39m.\u001b[39;49mfit(X_train, \n\u001b[1;32m      <a href='vscode-notebook-cell:/Users/gyeonghoon_park/CryptoGuard/CNN/CNN.ipynb#X21sZmlsZQ%3D%3D?line=1'>2</a>\u001b[0m           y_train,\n\u001b[1;32m      <a href='vscode-notebook-cell:/Users/gyeonghoon_park/CryptoGuard/CNN/CNN.ipynb#X21sZmlsZQ%3D%3D?line=2'>3</a>\u001b[0m           validation_data\u001b[39m=\u001b[39;49m(X_val, y_val),\n\u001b[1;32m      <a href='vscode-notebook-cell:/Users/gyeonghoon_park/CryptoGuard/CNN/CNN.ipynb#X21sZmlsZQ%3D%3D?line=3'>4</a>\u001b[0m           batch_size\u001b[39m=\u001b[39;49m\u001b[39m32\u001b[39;49m, \n\u001b[1;32m      <a href='vscode-notebook-cell:/Users/gyeonghoon_park/CryptoGuard/CNN/CNN.ipynb#X21sZmlsZQ%3D%3D?line=4'>5</a>\u001b[0m           epochs\u001b[39m=\u001b[39;49m\u001b[39m100\u001b[39;49m, \n\u001b[1;32m      <a href='vscode-notebook-cell:/Users/gyeonghoon_park/CryptoGuard/CNN/CNN.ipynb#X21sZmlsZQ%3D%3D?line=5'>6</a>\u001b[0m           shuffle\u001b[39m=\u001b[39;49m\u001b[39mTrue\u001b[39;49;00m\n\u001b[1;32m      <a href='vscode-notebook-cell:/Users/gyeonghoon_park/CryptoGuard/CNN/CNN.ipynb#X21sZmlsZQ%3D%3D?line=6'>7</a>\u001b[0m )\n",
      "File \u001b[0;32m~/miniforge3/envs/TF/lib/python3.8/site-packages/keras/utils/traceback_utils.py:65\u001b[0m, in \u001b[0;36mfilter_traceback.<locals>.error_handler\u001b[0;34m(*args, **kwargs)\u001b[0m\n\u001b[1;32m     63\u001b[0m filtered_tb \u001b[39m=\u001b[39m \u001b[39mNone\u001b[39;00m\n\u001b[1;32m     64\u001b[0m \u001b[39mtry\u001b[39;00m:\n\u001b[0;32m---> 65\u001b[0m     \u001b[39mreturn\u001b[39;00m fn(\u001b[39m*\u001b[39;49margs, \u001b[39m*\u001b[39;49m\u001b[39m*\u001b[39;49mkwargs)\n\u001b[1;32m     66\u001b[0m \u001b[39mexcept\u001b[39;00m \u001b[39mException\u001b[39;00m \u001b[39mas\u001b[39;00m e:\n\u001b[1;32m     67\u001b[0m     filtered_tb \u001b[39m=\u001b[39m _process_traceback_frames(e\u001b[39m.\u001b[39m__traceback__)\n",
      "File \u001b[0;32m~/miniforge3/envs/TF/lib/python3.8/site-packages/keras/engine/training.py:1685\u001b[0m, in \u001b[0;36mModel.fit\u001b[0;34m(self, x, y, batch_size, epochs, verbose, callbacks, validation_split, validation_data, shuffle, class_weight, sample_weight, initial_epoch, steps_per_epoch, validation_steps, validation_batch_size, validation_freq, max_queue_size, workers, use_multiprocessing)\u001b[0m\n\u001b[1;32m   1677\u001b[0m \u001b[39mwith\u001b[39;00m tf\u001b[39m.\u001b[39mprofiler\u001b[39m.\u001b[39mexperimental\u001b[39m.\u001b[39mTrace(\n\u001b[1;32m   1678\u001b[0m     \u001b[39m\"\u001b[39m\u001b[39mtrain\u001b[39m\u001b[39m\"\u001b[39m,\n\u001b[1;32m   1679\u001b[0m     epoch_num\u001b[39m=\u001b[39mepoch,\n\u001b[0;32m   (...)\u001b[0m\n\u001b[1;32m   1682\u001b[0m     _r\u001b[39m=\u001b[39m\u001b[39m1\u001b[39m,\n\u001b[1;32m   1683\u001b[0m ):\n\u001b[1;32m   1684\u001b[0m     callbacks\u001b[39m.\u001b[39mon_train_batch_begin(step)\n\u001b[0;32m-> 1685\u001b[0m     tmp_logs \u001b[39m=\u001b[39m \u001b[39mself\u001b[39;49m\u001b[39m.\u001b[39;49mtrain_function(iterator)\n\u001b[1;32m   1686\u001b[0m     \u001b[39mif\u001b[39;00m data_handler\u001b[39m.\u001b[39mshould_sync:\n\u001b[1;32m   1687\u001b[0m         context\u001b[39m.\u001b[39masync_wait()\n",
      "File \u001b[0;32m~/miniforge3/envs/TF/lib/python3.8/site-packages/tensorflow/python/util/traceback_utils.py:150\u001b[0m, in \u001b[0;36mfilter_traceback.<locals>.error_handler\u001b[0;34m(*args, **kwargs)\u001b[0m\n\u001b[1;32m    148\u001b[0m filtered_tb \u001b[39m=\u001b[39m \u001b[39mNone\u001b[39;00m\n\u001b[1;32m    149\u001b[0m \u001b[39mtry\u001b[39;00m:\n\u001b[0;32m--> 150\u001b[0m   \u001b[39mreturn\u001b[39;00m fn(\u001b[39m*\u001b[39;49margs, \u001b[39m*\u001b[39;49m\u001b[39m*\u001b[39;49mkwargs)\n\u001b[1;32m    151\u001b[0m \u001b[39mexcept\u001b[39;00m \u001b[39mException\u001b[39;00m \u001b[39mas\u001b[39;00m e:\n\u001b[1;32m    152\u001b[0m   filtered_tb \u001b[39m=\u001b[39m _process_traceback_frames(e\u001b[39m.\u001b[39m__traceback__)\n",
      "File \u001b[0;32m~/miniforge3/envs/TF/lib/python3.8/site-packages/tensorflow/python/eager/polymorphic_function/polymorphic_function.py:894\u001b[0m, in \u001b[0;36mFunction.__call__\u001b[0;34m(self, *args, **kwds)\u001b[0m\n\u001b[1;32m    891\u001b[0m compiler \u001b[39m=\u001b[39m \u001b[39m\"\u001b[39m\u001b[39mxla\u001b[39m\u001b[39m\"\u001b[39m \u001b[39mif\u001b[39;00m \u001b[39mself\u001b[39m\u001b[39m.\u001b[39m_jit_compile \u001b[39melse\u001b[39;00m \u001b[39m\"\u001b[39m\u001b[39mnonXla\u001b[39m\u001b[39m\"\u001b[39m\n\u001b[1;32m    893\u001b[0m \u001b[39mwith\u001b[39;00m OptionalXlaContext(\u001b[39mself\u001b[39m\u001b[39m.\u001b[39m_jit_compile):\n\u001b[0;32m--> 894\u001b[0m   result \u001b[39m=\u001b[39m \u001b[39mself\u001b[39;49m\u001b[39m.\u001b[39;49m_call(\u001b[39m*\u001b[39;49margs, \u001b[39m*\u001b[39;49m\u001b[39m*\u001b[39;49mkwds)\n\u001b[1;32m    896\u001b[0m new_tracing_count \u001b[39m=\u001b[39m \u001b[39mself\u001b[39m\u001b[39m.\u001b[39mexperimental_get_tracing_count()\n\u001b[1;32m    897\u001b[0m without_tracing \u001b[39m=\u001b[39m (tracing_count \u001b[39m==\u001b[39m new_tracing_count)\n",
      "File \u001b[0;32m~/miniforge3/envs/TF/lib/python3.8/site-packages/tensorflow/python/eager/polymorphic_function/polymorphic_function.py:926\u001b[0m, in \u001b[0;36mFunction._call\u001b[0;34m(self, *args, **kwds)\u001b[0m\n\u001b[1;32m    923\u001b[0m   \u001b[39mself\u001b[39m\u001b[39m.\u001b[39m_lock\u001b[39m.\u001b[39mrelease()\n\u001b[1;32m    924\u001b[0m   \u001b[39m# In this case we have created variables on the first call, so we run the\u001b[39;00m\n\u001b[1;32m    925\u001b[0m   \u001b[39m# defunned version which is guaranteed to never create variables.\u001b[39;00m\n\u001b[0;32m--> 926\u001b[0m   \u001b[39mreturn\u001b[39;00m \u001b[39mself\u001b[39;49m\u001b[39m.\u001b[39;49m_no_variable_creation_fn(\u001b[39m*\u001b[39;49margs, \u001b[39m*\u001b[39;49m\u001b[39m*\u001b[39;49mkwds)  \u001b[39m# pylint: disable=not-callable\u001b[39;00m\n\u001b[1;32m    927\u001b[0m \u001b[39melif\u001b[39;00m \u001b[39mself\u001b[39m\u001b[39m.\u001b[39m_variable_creation_fn \u001b[39mis\u001b[39;00m \u001b[39mnot\u001b[39;00m \u001b[39mNone\u001b[39;00m:\n\u001b[1;32m    928\u001b[0m   \u001b[39m# Release the lock early so that multiple threads can perform the call\u001b[39;00m\n\u001b[1;32m    929\u001b[0m   \u001b[39m# in parallel.\u001b[39;00m\n\u001b[1;32m    930\u001b[0m   \u001b[39mself\u001b[39m\u001b[39m.\u001b[39m_lock\u001b[39m.\u001b[39mrelease()\n",
      "File \u001b[0;32m~/miniforge3/envs/TF/lib/python3.8/site-packages/tensorflow/python/eager/polymorphic_function/tracing_compiler.py:143\u001b[0m, in \u001b[0;36mTracingCompiler.__call__\u001b[0;34m(self, *args, **kwargs)\u001b[0m\n\u001b[1;32m    140\u001b[0m \u001b[39mwith\u001b[39;00m \u001b[39mself\u001b[39m\u001b[39m.\u001b[39m_lock:\n\u001b[1;32m    141\u001b[0m   (concrete_function,\n\u001b[1;32m    142\u001b[0m    filtered_flat_args) \u001b[39m=\u001b[39m \u001b[39mself\u001b[39m\u001b[39m.\u001b[39m_maybe_define_function(args, kwargs)\n\u001b[0;32m--> 143\u001b[0m \u001b[39mreturn\u001b[39;00m concrete_function\u001b[39m.\u001b[39;49m_call_flat(\n\u001b[1;32m    144\u001b[0m     filtered_flat_args, captured_inputs\u001b[39m=\u001b[39;49mconcrete_function\u001b[39m.\u001b[39;49mcaptured_inputs)\n",
      "File \u001b[0;32m~/miniforge3/envs/TF/lib/python3.8/site-packages/tensorflow/python/eager/polymorphic_function/monomorphic_function.py:1757\u001b[0m, in \u001b[0;36mConcreteFunction._call_flat\u001b[0;34m(self, args, captured_inputs, cancellation_manager)\u001b[0m\n\u001b[1;32m   1753\u001b[0m possible_gradient_type \u001b[39m=\u001b[39m gradients_util\u001b[39m.\u001b[39mPossibleTapeGradientTypes(args)\n\u001b[1;32m   1754\u001b[0m \u001b[39mif\u001b[39;00m (possible_gradient_type \u001b[39m==\u001b[39m gradients_util\u001b[39m.\u001b[39mPOSSIBLE_GRADIENT_TYPES_NONE\n\u001b[1;32m   1755\u001b[0m     \u001b[39mand\u001b[39;00m executing_eagerly):\n\u001b[1;32m   1756\u001b[0m   \u001b[39m# No tape is watching; skip to running the function.\u001b[39;00m\n\u001b[0;32m-> 1757\u001b[0m   \u001b[39mreturn\u001b[39;00m \u001b[39mself\u001b[39m\u001b[39m.\u001b[39m_build_call_outputs(\u001b[39mself\u001b[39;49m\u001b[39m.\u001b[39;49m_inference_function\u001b[39m.\u001b[39;49mcall(\n\u001b[1;32m   1758\u001b[0m       ctx, args, cancellation_manager\u001b[39m=\u001b[39;49mcancellation_manager))\n\u001b[1;32m   1759\u001b[0m forward_backward \u001b[39m=\u001b[39m \u001b[39mself\u001b[39m\u001b[39m.\u001b[39m_select_forward_and_backward_functions(\n\u001b[1;32m   1760\u001b[0m     args,\n\u001b[1;32m   1761\u001b[0m     possible_gradient_type,\n\u001b[1;32m   1762\u001b[0m     executing_eagerly)\n\u001b[1;32m   1763\u001b[0m forward_function, args_with_tangents \u001b[39m=\u001b[39m forward_backward\u001b[39m.\u001b[39mforward()\n",
      "File \u001b[0;32m~/miniforge3/envs/TF/lib/python3.8/site-packages/tensorflow/python/eager/polymorphic_function/monomorphic_function.py:381\u001b[0m, in \u001b[0;36m_EagerDefinedFunction.call\u001b[0;34m(self, ctx, args, cancellation_manager)\u001b[0m\n\u001b[1;32m    379\u001b[0m \u001b[39mwith\u001b[39;00m _InterpolateFunctionError(\u001b[39mself\u001b[39m):\n\u001b[1;32m    380\u001b[0m   \u001b[39mif\u001b[39;00m cancellation_manager \u001b[39mis\u001b[39;00m \u001b[39mNone\u001b[39;00m:\n\u001b[0;32m--> 381\u001b[0m     outputs \u001b[39m=\u001b[39m execute\u001b[39m.\u001b[39;49mexecute(\n\u001b[1;32m    382\u001b[0m         \u001b[39mstr\u001b[39;49m(\u001b[39mself\u001b[39;49m\u001b[39m.\u001b[39;49msignature\u001b[39m.\u001b[39;49mname),\n\u001b[1;32m    383\u001b[0m         num_outputs\u001b[39m=\u001b[39;49m\u001b[39mself\u001b[39;49m\u001b[39m.\u001b[39;49m_num_outputs,\n\u001b[1;32m    384\u001b[0m         inputs\u001b[39m=\u001b[39;49margs,\n\u001b[1;32m    385\u001b[0m         attrs\u001b[39m=\u001b[39;49mattrs,\n\u001b[1;32m    386\u001b[0m         ctx\u001b[39m=\u001b[39;49mctx)\n\u001b[1;32m    387\u001b[0m   \u001b[39melse\u001b[39;00m:\n\u001b[1;32m    388\u001b[0m     outputs \u001b[39m=\u001b[39m execute\u001b[39m.\u001b[39mexecute_with_cancellation(\n\u001b[1;32m    389\u001b[0m         \u001b[39mstr\u001b[39m(\u001b[39mself\u001b[39m\u001b[39m.\u001b[39msignature\u001b[39m.\u001b[39mname),\n\u001b[1;32m    390\u001b[0m         num_outputs\u001b[39m=\u001b[39m\u001b[39mself\u001b[39m\u001b[39m.\u001b[39m_num_outputs,\n\u001b[0;32m   (...)\u001b[0m\n\u001b[1;32m    393\u001b[0m         ctx\u001b[39m=\u001b[39mctx,\n\u001b[1;32m    394\u001b[0m         cancellation_manager\u001b[39m=\u001b[39mcancellation_manager)\n",
      "File \u001b[0;32m~/miniforge3/envs/TF/lib/python3.8/site-packages/tensorflow/python/eager/execute.py:52\u001b[0m, in \u001b[0;36mquick_execute\u001b[0;34m(op_name, num_outputs, inputs, attrs, ctx, name)\u001b[0m\n\u001b[1;32m     50\u001b[0m \u001b[39mtry\u001b[39;00m:\n\u001b[1;32m     51\u001b[0m   ctx\u001b[39m.\u001b[39mensure_initialized()\n\u001b[0;32m---> 52\u001b[0m   tensors \u001b[39m=\u001b[39m pywrap_tfe\u001b[39m.\u001b[39;49mTFE_Py_Execute(ctx\u001b[39m.\u001b[39;49m_handle, device_name, op_name,\n\u001b[1;32m     53\u001b[0m                                       inputs, attrs, num_outputs)\n\u001b[1;32m     54\u001b[0m \u001b[39mexcept\u001b[39;00m core\u001b[39m.\u001b[39m_NotOkStatusException \u001b[39mas\u001b[39;00m e:\n\u001b[1;32m     55\u001b[0m   \u001b[39mif\u001b[39;00m name \u001b[39mis\u001b[39;00m \u001b[39mnot\u001b[39;00m \u001b[39mNone\u001b[39;00m:\n",
      "\u001b[0;31mKeyboardInterrupt\u001b[0m: "
     ]
    }
   ],
   "source": [
    "model.fit(X_train, \n",
    "          y_train,\n",
    "          validation_data=(X_val, y_val),\n",
    "          batch_size=32, \n",
    "          epochs=100, \n",
    "          shuffle=True\n",
    ")"
   ]
  },
  {
   "cell_type": "markdown",
   "metadata": {},
   "source": [
    "## Evaluate"
   ]
  },
  {
   "cell_type": "code",
   "execution_count": null,
   "metadata": {},
   "outputs": [
    {
     "name": "stdout",
     "output_type": "stream",
     "text": [
      "1/1 [==============================] - 1s 1s/step - loss: 1.7335 - accuracy: 0.5798\n"
     ]
    },
    {
     "data": {
      "text/plain": [
       "[1.7335110902786255, 0.5798319578170776]"
      ]
     },
     "execution_count": 24,
     "metadata": {},
     "output_type": "execute_result"
    }
   ],
   "source": [
    "model.evaluate(X_test, y_test, batch_size=1000)"
   ]
  },
  {
   "cell_type": "code",
   "execution_count": null,
   "metadata": {},
   "outputs": [
    {
     "name": "stdout",
     "output_type": "stream",
     "text": [
      "4/4 [==============================] - 1s 228ms/step\n"
     ]
    }
   ],
   "source": [
    "y_pred = model.predict(X_test)"
   ]
  },
  {
   "cell_type": "code",
   "execution_count": null,
   "metadata": {},
   "outputs": [],
   "source": [
    "preds_single = CLASSES[np.argmax(y_pred, axis = -1)]\n",
    "actual_single = CLASSES[np.argmax(y_test, axis = -1)]"
   ]
  },
  {
   "cell_type": "code",
   "execution_count": null,
   "metadata": {},
   "outputs": [
    {
     "data": {
      "image/png": "[encoded data removed]",
      "text/plain": [
       "<Figure size 1500x300 with 10 Axes>"
      ]
     },
     "metadata": {},
     "output_type": "display_data"
    }
   ],
   "source": [
    "n_to_show = 10\n",
    "indices = np.random.choice(range(len(X_test)), n_to_show)\n",
    "\n",
    "fig = plt.figure(figsize=(15, 3))\n",
    "fig.subplots_adjust(hspace=0.4, wspace=0.4)\n",
    "\n",
    "for i, idx in enumerate(indices):\n",
    "    img = X_test[idx]\n",
    "    ax = fig.add_subplot(1, n_to_show, i+1)\n",
    "    ax.axis('off')\n",
    "    ax.text(0.5, -0.35, 'pred = ' + str(preds_single[idx]), fontsize=10, ha='center', transform=ax.transAxes) \n",
    "    ax.text(0.5, -0.7, 'act = ' + str(actual_single[idx]), fontsize=10, ha='center', transform=ax.transAxes)\n",
    "    ax.imshow(img)"
   ]
  },
  {
   "cell_type": "markdown",
   "metadata": {},
   "source": [
    "## Score"
   ]
  },
  {
   "cell_type": "code",
   "execution_count": null,
   "metadata": {},
   "outputs": [
    {
     "name": "stdout",
     "output_type": "stream",
     "text": [
      "              precision    recall  f1-score   support\n",
      "\n",
      "           0       0.58      1.00      0.73        69\n",
      "           1       0.00      0.00      0.00        50\n",
      "\n",
      "    accuracy                           0.58       119\n",
      "   macro avg       0.29      0.50      0.37       119\n",
      "weighted avg       0.34      0.58      0.43       119\n",
      "\n"
     ]
    },
    {
     "name": "stderr",
     "output_type": "stream",
     "text": [
      "/Users/gyeonghoon_park/miniforge3/envs/TF/lib/python3.8/site-packages/sklearn/metrics/_classification.py:1344: UndefinedMetricWarning: Precision and F-score are ill-defined and being set to 0.0 in labels with no predicted samples. Use `zero_division` parameter to control this behavior.\n",
      "  _warn_prf(average, modifier, msg_start, len(result))\n",
      "/Users/gyeonghoon_park/miniforge3/envs/TF/lib/python3.8/site-packages/sklearn/metrics/_classification.py:1344: UndefinedMetricWarning: Precision and F-score are ill-defined and being set to 0.0 in labels with no predicted samples. Use `zero_division` parameter to control this behavior.\n",
      "  _warn_prf(average, modifier, msg_start, len(result))\n",
      "/Users/gyeonghoon_park/miniforge3/envs/TF/lib/python3.8/site-packages/sklearn/metrics/_classification.py:1344: UndefinedMetricWarning: Precision and F-score are ill-defined and being set to 0.0 in labels with no predicted samples. Use `zero_division` parameter to control this behavior.\n",
      "  _warn_prf(average, modifier, msg_start, len(result))\n"
     ]
    }
   ],
   "source": [
    "y_pred_classes = tf.argmax(y_pred, axis=1)\n",
    "y_test_classes = tf.argmax(y_test, axis=1)\n",
    "\n",
    "print(classification_report(y_test_classes, y_pred_classes))"
   ]
  },
  {
   "cell_type": "markdown",
   "metadata": {},
   "source": [
    "## Save model"
   ]
  },
  {
   "cell_type": "code",
   "execution_count": null,
   "metadata": {},
   "outputs": [],
   "source": [
    "\"\"\"\n",
    "model.save(\"model_001.h5\")\n",
    "\"\"\""
   ]
  }
 ],
 "metadata": {
  "kernelspec": {
   "display_name": "TF",
   "language": "python",
   "name": "python3"
  },
  "language_info": {
   "codemirror_mode": {
    "name": "ipython",
    "version": 3
   },
   "file_extension": ".py",
   "mimetype": "text/x-python",
   "name": "python",
   "nbconvert_exporter": "python",
   "pygments_lexer": "ipython3",
   "version": "3.8.16"
  }
 },
 "nbformat": 4,
 "nbformat_minor": 2
}
