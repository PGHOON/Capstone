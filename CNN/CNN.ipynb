{
 "cells": [
  {
   "cell_type": "code",
   "execution_count": 1,
   "metadata": {},
   "outputs": [],
   "source": [
    "import os\n",
    "import pandas as pd\n",
    "import numpy as np\n",
    "import tensorflow as tf\n",
    "\n",
    "import matplotlib.pyplot as plt\n",
    "\n",
    "from keras.models import Model\n",
    "from keras.optimizers import Adam\n",
    "from keras.utils import to_categorical\n",
    "from keras.layers import Input, Flatten, Dense, Conv2D\n",
    "from keras.layers import  BatchNormalization, LeakyReLU, Dropout, Activation\n",
    "\n",
    "from sklearn.preprocessing import LabelEncoder\n",
    "from sklearn.metrics import classification_report\n",
    "from sklearn.model_selection import train_test_split"
   ]
  },
  {
   "cell_type": "markdown",
   "metadata": {},
   "source": [
    "## Loading CSV from Desktop"
   ]
  },
  {
   "cell_type": "code",
   "execution_count": 2,
   "metadata": {},
   "outputs": [],
   "source": [
    "NUM_CLASSES = 2\n",
    "CLASSES = np.array(['benign', 'malware'])\n",
    "DATASET_DIR = \"dataset/\"\n",
    "WIDTH = 256\n",
    "HEIGHT = 256\n",
    "SHAPE = (WIDTH, HEIGHT)\n",
    "SIZE = WIDTH * HEIGHT * 1\n",
    "\n",
    "def csvToimage(file_path):\n",
    "    data = pd.read_csv(file_path)\n",
    "    data_encoded = LabelEncoder().fit_transform(data['SYSTEM_CALL'])\n",
    "    image = np.zeros(SHAPE, dtype=np.uint8)\n",
    "    syscall_nums = min(len(data_encoded), SIZE)\n",
    "    image.flat[:syscall_nums] = data_encoded[:syscall_nums]\n",
    "\n",
    "    return image\n",
    "\n",
    "def load_data(dataset_dir):\n",
    "    x = []\n",
    "    y = []\n",
    "\n",
    "    classes = [class_name for class_name in os.listdir(dataset_dir) if os.path.isdir(os.path.join(dataset_dir, class_name))]\n",
    "    for class_idx, class_name in enumerate(classes):\n",
    "        class_dir = os.path.join(dataset_dir, class_name)\n",
    "        for file_name in os.listdir(class_dir):\n",
    "            if file_name.endswith('.csv'):\n",
    "                file_path = os.path.join(class_dir, file_name)\n",
    "                image = csvToimage(file_path)\n",
    "                x.append(image)\n",
    "                y.append(class_idx)\n",
    "                \n",
    "    x = np.array(x).reshape(-1, WIDTH, HEIGHT, 1)\n",
    "    y = np.array(y)\n",
    "    return x, y"
   ]
  },
  {
   "cell_type": "code",
   "execution_count": 3,
   "metadata": {},
   "outputs": [],
   "source": [
    "X, y = load_data(DATASET_DIR)"
   ]
  },
  {
   "cell_type": "markdown",
   "metadata": {},
   "source": [
    "# Image Plotting"
   ]
  },
  {
   "cell_type": "code",
   "execution_count": 4,
   "metadata": {},
   "outputs": [
    {
     "data": {
      "image/png": "[encoded data removed]",
      "text/plain": [
       "<Figure size 640x480 with 1 Axes>"
      ]
     },
     "metadata": {},
     "output_type": "display_data"
    }
   ],
   "source": [
    "n = 10\n",
    "nth_image = X[n].reshape(256, 256)\n",
    "\n",
    "plt.imshow(nth_image, cmap='gray')\n",
    "plt.title(f'${n}^{{th}}$ Image in Dataset')\n",
    "plt.axis('off')\n",
    "plt.show()\n"
   ]
  },
  {
   "cell_type": "markdown",
   "metadata": {},
   "source": [
    "## Split and Nomalize Data"
   ]
  },
  {
   "cell_type": "code",
   "execution_count": 5,
   "metadata": {},
   "outputs": [],
   "source": [
    "X_train, X_test, y_train, y_test= train_test_split(X, y, test_size=0.3, random_state=42)\n",
    "\n",
    "X_train = X_train / 255.0\n",
    "X_test = X_test / 255.0\n",
    "\n",
    "y_train = to_categorical(y_train, NUM_CLASSES)\n",
    "y_test = to_categorical(y_test, NUM_CLASSES)"
   ]
  },
  {
   "cell_type": "markdown",
   "metadata": {},
   "source": [
    "## Shape of Train, Test set"
   ]
  },
  {
   "cell_type": "code",
   "execution_count": 6,
   "metadata": {},
   "outputs": [
    {
     "name": "stdout",
     "output_type": "stream",
     "text": [
      "(307, 256, 256, 1)\n",
      "(132, 256, 256, 1)\n",
      "(307, 2)\n",
      "(132, 2)\n"
     ]
    }
   ],
   "source": [
    "print(X_train.shape)\n",
    "print(X_test.shape)\n",
    "print(y_train.shape)\n",
    "print(y_test.shape)"
   ]
  },
  {
   "cell_type": "markdown",
   "metadata": {},
   "source": [
    "## A Basic CNN Architecture"
   ]
  },
  {
   "cell_type": "code",
   "execution_count": 7,
   "metadata": {},
   "outputs": [
    {
     "name": "stdout",
     "output_type": "stream",
     "text": [
      "Metal device set to: Apple M2\n",
      "\n",
      "systemMemory: 8.00 GB\n",
      "maxCacheSize: 2.67 GB\n",
      "\n"
     ]
    }
   ],
   "source": [
    "input_layer = Input((WIDTH, HEIGHT, 1))\n",
    "\n",
    "x = Conv2D(filters = 32, kernel_size = 3, strides = 1, padding = 'same')(input_layer)\n",
    "x = BatchNormalization()(x)\n",
    "x = LeakyReLU()(x)\n",
    "\n",
    "\n",
    "x = Conv2D(filters = 32, kernel_size = 3, strides = 2, padding = 'same')(x)\n",
    "x = BatchNormalization()(x)\n",
    "x = LeakyReLU()(x)\n",
    "\n",
    "\n",
    "x = Conv2D(filters = 64, kernel_size = 3, strides = 1, padding = 'same')(x)\n",
    "x = BatchNormalization()(x)\n",
    "x = LeakyReLU()(x)\n",
    "\n",
    "\n",
    "x = Conv2D(filters = 64, kernel_size = 3, strides = 2, padding = 'same')(x)\n",
    "x = BatchNormalization()(x)\n",
    "x = LeakyReLU()(x)\n",
    "\n",
    "\n",
    "x = Flatten()(x)\n",
    "\n",
    "x = Dense(128)(x)\n",
    "x = BatchNormalization()(x)\n",
    "x = LeakyReLU()(x)\n",
    "x = Dropout(rate = 0.5)(x)\n",
    "\n",
    "x = Dense(NUM_CLASSES)(x)\n",
    "output_layer = Activation('softmax')(x)\n",
    "\n",
    "model = Model(input_layer, output_layer)\n",
    "\n",
    "opt = Adam(learning_rate=0.0005)\n",
    "model.compile(loss='categorical_crossentropy', optimizer=opt, metrics=['accuracy'])"
   ]
  },
  {
   "cell_type": "markdown",
   "metadata": {},
   "source": [
    "## model summary"
   ]
  },
  {
   "cell_type": "code",
   "execution_count": 8,
   "metadata": {},
   "outputs": [
    {
     "name": "stdout",
     "output_type": "stream",
     "text": [
      "Model: \"model\"\n",
      "_________________________________________________________________\n",
      " Layer (type)                Output Shape              Param #   \n",
      "=================================================================\n",
      " input_1 (InputLayer)        [(None, 256, 256, 1)]     0         \n",
      "                                                                 \n",
      " conv2d (Conv2D)             (None, 256, 256, 32)      320       \n",
      "                                                                 \n",
      " batch_normalization (BatchN  (None, 256, 256, 32)     128       \n",
      " ormalization)                                                   \n",
      "                                                                 \n",
      " leaky_re_lu (LeakyReLU)     (None, 256, 256, 32)      0         \n",
      "                                                                 \n",
      " conv2d_1 (Conv2D)           (None, 128, 128, 32)      9248      \n",
      "                                                                 \n",
      " batch_normalization_1 (Batc  (None, 128, 128, 32)     128       \n",
      " hNormalization)                                                 \n",
      "                                                                 \n",
      " leaky_re_lu_1 (LeakyReLU)   (None, 128, 128, 32)      0         \n",
      "                                                                 \n",
      " conv2d_2 (Conv2D)           (None, 128, 128, 64)      18496     \n",
      "                                                                 \n",
      " batch_normalization_2 (Batc  (None, 128, 128, 64)     256       \n",
      " hNormalization)                                                 \n",
      "                                                                 \n",
      " leaky_re_lu_2 (LeakyReLU)   (None, 128, 128, 64)      0         \n",
      "                                                                 \n",
      " conv2d_3 (Conv2D)           (None, 64, 64, 64)        36928     \n",
      "                                                                 \n",
      " batch_normalization_3 (Batc  (None, 64, 64, 64)       256       \n",
      " hNormalization)                                                 \n",
      "                                                                 \n",
      " leaky_re_lu_3 (LeakyReLU)   (None, 64, 64, 64)        0         \n",
      "                                                                 \n",
      " flatten (Flatten)           (None, 262144)            0         \n",
      "                                                                 \n",
      " dense (Dense)               (None, 128)               33554560  \n",
      "                                                                 \n",
      " batch_normalization_4 (Batc  (None, 128)              512       \n",
      " hNormalization)                                                 \n",
      "                                                                 \n",
      " leaky_re_lu_4 (LeakyReLU)   (None, 128)               0         \n",
      "                                                                 \n",
      " dropout (Dropout)           (None, 128)               0         \n",
      "                                                                 \n",
      " dense_1 (Dense)             (None, 2)                 258       \n",
      "                                                                 \n",
      " activation (Activation)     (None, 2)                 0         \n",
      "                                                                 \n",
      "=================================================================\n",
      "Total params: 33,621,090\n",
      "Trainable params: 33,620,450\n",
      "Non-trainable params: 640\n",
      "_________________________________________________________________\n"
     ]
    }
   ],
   "source": [
    "model.summary()"
   ]
  },
  {
   "cell_type": "markdown",
   "metadata": {},
   "source": [
    "## model train"
   ]
  },
  {
   "cell_type": "code",
   "execution_count": 9,
   "metadata": {},
   "outputs": [
    {
     "name": "stdout",
     "output_type": "stream",
     "text": [
      "Epoch 1/100\n"
     ]
    },
    {
     "name": "stderr",
     "output_type": "stream",
     "text": [
      "2023-12-05 02:50:29.728508: W tensorflow/tsl/platform/profile_utils/cpu_utils.cc:128] Failed to get CPU frequency: 0 Hz\n"
     ]
    },
    {
     "name": "stdout",
     "output_type": "stream",
     "text": [
      "10/10 [==============================] - 12s 954ms/step - loss: 0.7233 - accuracy: 0.8306\n",
      "Epoch 2/100\n",
      "10/10 [==============================] - 7s 648ms/step - loss: 0.3565 - accuracy: 0.8632\n",
      "Epoch 3/100\n",
      "10/10 [==============================] - 6s 630ms/step - loss: 0.2948 - accuracy: 0.8893\n",
      "Epoch 4/100\n",
      "10/10 [==============================] - 6s 613ms/step - loss: 0.2596 - accuracy: 0.8893\n",
      "Epoch 5/100\n",
      "10/10 [==============================] - 7s 695ms/step - loss: 0.2456 - accuracy: 0.9055\n",
      "Epoch 6/100\n",
      "10/10 [==============================] - 7s 722ms/step - loss: 0.2213 - accuracy: 0.9251\n",
      "Epoch 7/100\n",
      "10/10 [==============================] - 7s 658ms/step - loss: 0.2130 - accuracy: 0.9218\n",
      "Epoch 8/100\n",
      "10/10 [==============================] - 7s 674ms/step - loss: 0.2021 - accuracy: 0.9446\n",
      "Epoch 9/100\n",
      "10/10 [==============================] - 7s 662ms/step - loss: 0.2067 - accuracy: 0.9283\n",
      "Epoch 10/100\n",
      "10/10 [==============================] - 7s 709ms/step - loss: 0.2028 - accuracy: 0.9381\n",
      "Epoch 11/100\n",
      "10/10 [==============================] - 7s 694ms/step - loss: 0.1926 - accuracy: 0.9414\n",
      "Epoch 12/100\n",
      "10/10 [==============================] - 8s 765ms/step - loss: 0.1771 - accuracy: 0.9544\n",
      "Epoch 13/100\n",
      "10/10 [==============================] - 6s 636ms/step - loss: 0.1899 - accuracy: 0.9511\n",
      "Epoch 14/100\n",
      "10/10 [==============================] - 6s 609ms/step - loss: 0.1727 - accuracy: 0.9577\n",
      "Epoch 15/100\n",
      "10/10 [==============================] - 7s 703ms/step - loss: 0.1685 - accuracy: 0.9544\n",
      "Epoch 16/100\n",
      "10/10 [==============================] - 6s 635ms/step - loss: 0.1891 - accuracy: 0.9511\n",
      "Epoch 17/100\n",
      "10/10 [==============================] - 9s 966ms/step - loss: 0.1732 - accuracy: 0.9544\n",
      "Epoch 18/100\n",
      "10/10 [==============================] - 7s 661ms/step - loss: 0.1869 - accuracy: 0.9349\n",
      "Epoch 19/100\n",
      "10/10 [==============================] - 7s 663ms/step - loss: 0.1492 - accuracy: 0.9577\n",
      "Epoch 20/100\n",
      "10/10 [==============================] - 7s 712ms/step - loss: 0.2051 - accuracy: 0.9446\n",
      "Epoch 21/100\n",
      "10/10 [==============================] - 7s 700ms/step - loss: 0.1751 - accuracy: 0.9381\n",
      "Epoch 22/100\n",
      "10/10 [==============================] - 8s 789ms/step - loss: 0.1736 - accuracy: 0.9446\n",
      "Epoch 23/100\n",
      "10/10 [==============================] - 7s 700ms/step - loss: 0.1700 - accuracy: 0.9446\n",
      "Epoch 24/100\n",
      "10/10 [==============================] - 7s 643ms/step - loss: 0.1896 - accuracy: 0.9511\n",
      "Epoch 25/100\n",
      "10/10 [==============================] - 7s 714ms/step - loss: 0.1498 - accuracy: 0.9511\n",
      "Epoch 26/100\n",
      "10/10 [==============================] - 7s 675ms/step - loss: 0.1403 - accuracy: 0.9642\n",
      "Epoch 27/100\n",
      "10/10 [==============================] - 6s 557ms/step - loss: 0.1380 - accuracy: 0.9577\n",
      "Epoch 28/100\n",
      "10/10 [==============================] - 6s 600ms/step - loss: 0.1312 - accuracy: 0.9739\n",
      "Epoch 29/100\n",
      "10/10 [==============================] - 7s 744ms/step - loss: 0.1368 - accuracy: 0.9577\n",
      "Epoch 30/100\n",
      "10/10 [==============================] - 7s 725ms/step - loss: 0.1461 - accuracy: 0.9577\n",
      "Epoch 31/100\n",
      "10/10 [==============================] - 7s 696ms/step - loss: 0.1136 - accuracy: 0.9674\n",
      "Epoch 32/100\n",
      "10/10 [==============================] - 7s 653ms/step - loss: 0.1560 - accuracy: 0.9609\n",
      "Epoch 33/100\n",
      "10/10 [==============================] - 6s 618ms/step - loss: 0.1393 - accuracy: 0.9544\n",
      "Epoch 34/100\n",
      "10/10 [==============================] - 6s 567ms/step - loss: 0.1415 - accuracy: 0.9707\n",
      "Epoch 35/100\n",
      "10/10 [==============================] - 6s 540ms/step - loss: 0.1104 - accuracy: 0.9674\n",
      "Epoch 36/100\n",
      "10/10 [==============================] - 7s 673ms/step - loss: 0.1126 - accuracy: 0.9674\n",
      "Epoch 37/100\n",
      "10/10 [==============================] - 5s 514ms/step - loss: 0.1101 - accuracy: 0.9707\n",
      "Epoch 38/100\n",
      "10/10 [==============================] - 6s 630ms/step - loss: 0.0978 - accuracy: 0.9772\n",
      "Epoch 39/100\n",
      "10/10 [==============================] - 5s 521ms/step - loss: 0.1210 - accuracy: 0.9772\n",
      "Epoch 40/100\n",
      "10/10 [==============================] - 6s 586ms/step - loss: 0.1240 - accuracy: 0.9707\n",
      "Epoch 41/100\n",
      "10/10 [==============================] - 6s 587ms/step - loss: 0.1227 - accuracy: 0.9674\n",
      "Epoch 42/100\n",
      "10/10 [==============================] - 7s 655ms/step - loss: 0.1514 - accuracy: 0.9479\n",
      "Epoch 43/100\n",
      "10/10 [==============================] - 6s 588ms/step - loss: 0.1350 - accuracy: 0.9642\n",
      "Epoch 44/100\n",
      "10/10 [==============================] - 6s 575ms/step - loss: 0.1154 - accuracy: 0.9707\n",
      "Epoch 45/100\n",
      "10/10 [==============================] - 6s 624ms/step - loss: 0.1360 - accuracy: 0.9707\n",
      "Epoch 46/100\n",
      "10/10 [==============================] - 5s 540ms/step - loss: 0.1115 - accuracy: 0.9707\n",
      "Epoch 47/100\n",
      "10/10 [==============================] - 6s 569ms/step - loss: 0.1119 - accuracy: 0.9739\n",
      "Epoch 48/100\n",
      "10/10 [==============================] - 6s 621ms/step - loss: 0.1116 - accuracy: 0.9739\n",
      "Epoch 49/100\n",
      "10/10 [==============================] - 6s 556ms/step - loss: 0.1060 - accuracy: 0.9772\n",
      "Epoch 50/100\n",
      "10/10 [==============================] - 5s 519ms/step - loss: 0.1127 - accuracy: 0.9739\n",
      "Epoch 51/100\n",
      "10/10 [==============================] - 5s 543ms/step - loss: 0.1096 - accuracy: 0.9674\n",
      "Epoch 52/100\n",
      "10/10 [==============================] - 6s 572ms/step - loss: 0.1270 - accuracy: 0.9739\n",
      "Epoch 53/100\n",
      "10/10 [==============================] - 5s 525ms/step - loss: 0.1232 - accuracy: 0.9707\n",
      "Epoch 54/100\n",
      "10/10 [==============================] - 6s 641ms/step - loss: 0.0897 - accuracy: 0.9739\n",
      "Epoch 55/100\n",
      "10/10 [==============================] - 6s 636ms/step - loss: 0.1020 - accuracy: 0.9739\n",
      "Epoch 56/100\n",
      "10/10 [==============================] - 6s 557ms/step - loss: 0.0980 - accuracy: 0.9739\n",
      "Epoch 57/100\n",
      "10/10 [==============================] - 5s 511ms/step - loss: 0.0947 - accuracy: 0.9739\n",
      "Epoch 58/100\n",
      "10/10 [==============================] - 6s 601ms/step - loss: 0.1005 - accuracy: 0.9772\n",
      "Epoch 59/100\n",
      "10/10 [==============================] - 6s 595ms/step - loss: 0.1179 - accuracy: 0.9674\n",
      "Epoch 60/100\n",
      "10/10 [==============================] - 6s 550ms/step - loss: 0.1014 - accuracy: 0.9739\n",
      "Epoch 61/100\n",
      "10/10 [==============================] - 5s 498ms/step - loss: 0.1058 - accuracy: 0.9772\n",
      "Epoch 62/100\n",
      "10/10 [==============================] - 6s 596ms/step - loss: 0.0881 - accuracy: 0.9739\n",
      "Epoch 63/100\n",
      "10/10 [==============================] - 5s 525ms/step - loss: 0.1103 - accuracy: 0.9739\n",
      "Epoch 64/100\n",
      "10/10 [==============================] - 6s 628ms/step - loss: 0.0906 - accuracy: 0.9772\n",
      "Epoch 65/100\n",
      "10/10 [==============================] - 7s 711ms/step - loss: 0.0812 - accuracy: 0.9772\n",
      "Epoch 66/100\n",
      "10/10 [==============================] - 7s 709ms/step - loss: 0.0958 - accuracy: 0.9739\n",
      "Epoch 67/100\n",
      "10/10 [==============================] - 7s 668ms/step - loss: 0.0803 - accuracy: 0.9772\n",
      "Epoch 68/100\n",
      "10/10 [==============================] - 6s 642ms/step - loss: 0.0786 - accuracy: 0.9805\n",
      "Epoch 69/100\n",
      "10/10 [==============================] - 7s 680ms/step - loss: 0.0721 - accuracy: 0.9772\n",
      "Epoch 70/100\n",
      "10/10 [==============================] - 7s 671ms/step - loss: 0.0851 - accuracy: 0.9739\n",
      "Epoch 71/100\n",
      "10/10 [==============================] - 8s 824ms/step - loss: 0.0909 - accuracy: 0.9772\n",
      "Epoch 72/100\n",
      "10/10 [==============================] - 6s 554ms/step - loss: 0.1082 - accuracy: 0.9772\n",
      "Epoch 73/100\n",
      "10/10 [==============================] - 6s 583ms/step - loss: 0.0887 - accuracy: 0.9772\n",
      "Epoch 74/100\n",
      "10/10 [==============================] - 6s 574ms/step - loss: 0.0754 - accuracy: 0.9772\n",
      "Epoch 75/100\n",
      "10/10 [==============================] - 5s 503ms/step - loss: 0.0985 - accuracy: 0.9739\n",
      "Epoch 76/100\n",
      "10/10 [==============================] - 5s 516ms/step - loss: 0.0831 - accuracy: 0.9772\n",
      "Epoch 77/100\n",
      "10/10 [==============================] - 6s 557ms/step - loss: 0.0863 - accuracy: 0.9772\n",
      "Epoch 78/100\n",
      "10/10 [==============================] - 5s 534ms/step - loss: 0.0899 - accuracy: 0.9772\n",
      "Epoch 79/100\n",
      "10/10 [==============================] - 5s 523ms/step - loss: 0.0676 - accuracy: 0.9772\n",
      "Epoch 80/100\n",
      "10/10 [==============================] - 5s 519ms/step - loss: 0.0620 - accuracy: 0.9772\n",
      "Epoch 81/100\n",
      "10/10 [==============================] - 6s 604ms/step - loss: 0.1121 - accuracy: 0.9739\n",
      "Epoch 82/100\n",
      "10/10 [==============================] - 6s 563ms/step - loss: 0.0830 - accuracy: 0.9772\n",
      "Epoch 83/100\n",
      "10/10 [==============================] - 7s 681ms/step - loss: 0.0848 - accuracy: 0.9707\n",
      "Epoch 84/100\n",
      "10/10 [==============================] - 6s 612ms/step - loss: 0.0839 - accuracy: 0.9739\n",
      "Epoch 85/100\n",
      "10/10 [==============================] - 6s 624ms/step - loss: 0.0671 - accuracy: 0.9772\n",
      "Epoch 86/100\n",
      "10/10 [==============================] - 6s 546ms/step - loss: 0.0724 - accuracy: 0.9707\n",
      "Epoch 87/100\n",
      "10/10 [==============================] - 6s 586ms/step - loss: 0.0820 - accuracy: 0.9739\n",
      "Epoch 88/100\n",
      "10/10 [==============================] - 6s 546ms/step - loss: 0.0752 - accuracy: 0.9772\n",
      "Epoch 89/100\n",
      "10/10 [==============================] - 6s 548ms/step - loss: 0.0929 - accuracy: 0.9772\n",
      "Epoch 90/100\n",
      "10/10 [==============================] - 5s 531ms/step - loss: 0.0556 - accuracy: 0.9805\n",
      "Epoch 91/100\n",
      "10/10 [==============================] - 5s 541ms/step - loss: 0.0649 - accuracy: 0.9772\n",
      "Epoch 92/100\n",
      "10/10 [==============================] - 7s 692ms/step - loss: 0.0802 - accuracy: 0.9739\n",
      "Epoch 93/100\n",
      "10/10 [==============================] - 6s 612ms/step - loss: 0.0798 - accuracy: 0.9805\n",
      "Epoch 94/100\n",
      "10/10 [==============================] - 6s 557ms/step - loss: 0.0923 - accuracy: 0.9739\n",
      "Epoch 95/100\n",
      "10/10 [==============================] - 6s 564ms/step - loss: 0.0695 - accuracy: 0.9739\n",
      "Epoch 96/100\n",
      "10/10 [==============================] - 7s 646ms/step - loss: 0.0724 - accuracy: 0.9772\n",
      "Epoch 97/100\n",
      "10/10 [==============================] - 6s 612ms/step - loss: 0.0786 - accuracy: 0.9772\n",
      "Epoch 98/100\n",
      "10/10 [==============================] - 6s 567ms/step - loss: 0.0729 - accuracy: 0.9739\n",
      "Epoch 99/100\n",
      "10/10 [==============================] - 5s 543ms/step - loss: 0.0759 - accuracy: 0.9739\n",
      "Epoch 100/100\n",
      "10/10 [==============================] - 6s 567ms/step - loss: 0.0689 - accuracy: 0.9707\n"
     ]
    },
    {
     "data": {
      "text/plain": [
       "<keras.callbacks.History at 0x2d18522b0>"
      ]
     },
     "execution_count": 9,
     "metadata": {},
     "output_type": "execute_result"
    }
   ],
   "source": [
    "model.fit(X_train, \n",
    "          y_train,\n",
    "          batch_size=32, \n",
    "          epochs=100, \n",
    "          shuffle=True\n",
    ")"
   ]
  },
  {
   "cell_type": "markdown",
   "metadata": {},
   "source": [
    "## Evaluate"
   ]
  },
  {
   "cell_type": "code",
   "execution_count": 10,
   "metadata": {},
   "outputs": [
    {
     "name": "stdout",
     "output_type": "stream",
     "text": [
      "1/1 [==============================] - 1s 1s/step - loss: 8.2262 - accuracy: 0.4621\n"
     ]
    },
    {
     "data": {
      "text/plain": [
       "[8.226216316223145, 0.46212121844291687]"
      ]
     },
     "execution_count": 10,
     "metadata": {},
     "output_type": "execute_result"
    }
   ],
   "source": [
    "model.evaluate(X_test, y_test, batch_size=1000)"
   ]
  },
  {
   "cell_type": "code",
   "execution_count": 11,
   "metadata": {},
   "outputs": [
    {
     "name": "stdout",
     "output_type": "stream",
     "text": [
      "5/5 [==============================] - 1s 125ms/step\n"
     ]
    }
   ],
   "source": [
    "y_pred = model.predict(X_test)"
   ]
  },
  {
   "cell_type": "code",
   "execution_count": 12,
   "metadata": {},
   "outputs": [],
   "source": [
    "preds_single = CLASSES[np.argmax(y_pred, axis = -1)]\n",
    "actual_single = CLASSES[np.argmax(y_test, axis = -1)]"
   ]
  },
  {
   "cell_type": "code",
   "execution_count": 13,
   "metadata": {},
   "outputs": [
    {
     "data": {
      "image/png": "[encoded data removed]",
      "text/plain": [
       "<Figure size 1500x300 with 10 Axes>"
      ]
     },
     "metadata": {},
     "output_type": "display_data"
    }
   ],
   "source": [
    "n_to_show = 10\n",
    "indices = np.random.choice(range(len(X_test)), n_to_show)\n",
    "\n",
    "fig = plt.figure(figsize=(15, 3))\n",
    "fig.subplots_adjust(hspace=0.4, wspace=0.4)\n",
    "\n",
    "for i, idx in enumerate(indices):\n",
    "    img = X_test[idx]\n",
    "    ax = fig.add_subplot(1, n_to_show, i+1)\n",
    "    ax.axis('off')\n",
    "    ax.text(0.5, -0.35, 'pred = ' + str(preds_single[idx]), fontsize=10, ha='center', transform=ax.transAxes) \n",
    "    ax.text(0.5, -0.7, 'act = ' + str(actual_single[idx]), fontsize=10, ha='center', transform=ax.transAxes)\n",
    "    ax.imshow(img)"
   ]
  },
  {
   "cell_type": "markdown",
   "metadata": {},
   "source": [
    "## Score"
   ]
  },
  {
   "cell_type": "code",
   "execution_count": 14,
   "metadata": {},
   "outputs": [
    {
     "name": "stdout",
     "output_type": "stream",
     "text": [
      "              precision    recall  f1-score   support\n",
      "\n",
      "           0       0.00      0.00      0.00        71\n",
      "           1       0.46      1.00      0.63        61\n",
      "\n",
      "    accuracy                           0.46       132\n",
      "   macro avg       0.23      0.50      0.32       132\n",
      "weighted avg       0.21      0.46      0.29       132\n",
      "\n"
     ]
    },
    {
     "name": "stderr",
     "output_type": "stream",
     "text": [
      "/Users/gyeonghoon_park/miniforge3/envs/TF/lib/python3.8/site-packages/sklearn/metrics/_classification.py:1344: UndefinedMetricWarning: Precision and F-score are ill-defined and being set to 0.0 in labels with no predicted samples. Use `zero_division` parameter to control this behavior.\n",
      "  _warn_prf(average, modifier, msg_start, len(result))\n",
      "/Users/gyeonghoon_park/miniforge3/envs/TF/lib/python3.8/site-packages/sklearn/metrics/_classification.py:1344: UndefinedMetricWarning: Precision and F-score are ill-defined and being set to 0.0 in labels with no predicted samples. Use `zero_division` parameter to control this behavior.\n",
      "  _warn_prf(average, modifier, msg_start, len(result))\n",
      "/Users/gyeonghoon_park/miniforge3/envs/TF/lib/python3.8/site-packages/sklearn/metrics/_classification.py:1344: UndefinedMetricWarning: Precision and F-score are ill-defined and being set to 0.0 in labels with no predicted samples. Use `zero_division` parameter to control this behavior.\n",
      "  _warn_prf(average, modifier, msg_start, len(result))\n"
     ]
    }
   ],
   "source": [
    "y_pred_classes = tf.argmax(y_pred, axis=1)\n",
    "y_test_classes = tf.argmax(y_test, axis=1)\n",
    "\n",
    "print(classification_report(y_test_classes, y_pred_classes))"
   ]
  }
 ],
 "metadata": {
  "kernelspec": {
   "display_name": "TF",
   "language": "python",
   "name": "python3"
  },
  "language_info": {
   "codemirror_mode": {
    "name": "ipython",
    "version": 3
   },
   "file_extension": ".py",
   "mimetype": "text/x-python",
   "name": "python",
   "nbconvert_exporter": "python",
   "pygments_lexer": "ipython3",
   "version": "3.8.16"
  }
 },
 "nbformat": 4,
 "nbformat_minor": 2
}
