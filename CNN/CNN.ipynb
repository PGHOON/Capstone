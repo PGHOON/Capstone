{
 "cells": [
  {
   "cell_type": "code",
   "execution_count": 114,
   "metadata": {},
   "outputs": [],
   "source": [
    "import os\n",
    "import pandas as pd\n",
    "import numpy as np\n",
    "import tensorflow as tf\n",
    "\n",
    "import matplotlib.pyplot as plt\n",
    "\n",
    "from keras.models import Model\n",
    "from keras.optimizers import Adam\n",
    "from keras.utils import to_categorical\n",
    "from keras.layers import Input, Flatten, Dense, Conv2D, MaxPooling2D\n",
    "from keras.layers import  BatchNormalization, LeakyReLU, Dropout, Activation\n",
    "\n",
    "from sklearn.preprocessing import LabelEncoder\n",
    "from sklearn.metrics import classification_report\n",
    "from sklearn.model_selection import train_test_split"
   ]
  },
  {
   "cell_type": "markdown",
   "metadata": {},
   "source": [
    "## System Calls List"
   ]
  },
  {
   "cell_type": "code",
   "execution_count": 115,
   "metadata": {},
   "outputs": [],
   "source": [
    "syscalls = [\n",
    "    \"sys_enter_setgroups\",\n",
    "    \"sys_enter_sethostname\",\n",
    "    \"sys_enter_accept\",\n",
    "    \"sys_enter_lseek\",\n",
    "    \"sys_enter_setitimer\",\n",
    "    \"sys_enter_accept4\",\n",
    "    \"sys_enter_setns\",\n",
    "    \"sys_enter_acct\",\n",
    "    \"sys_enter_madvise\",\n",
    "    \"sys_enter_setpgid\",\n",
    "    \"sys_enter_add_key\",\n",
    "    \"sys_enter_mbind\",\n",
    "    \"sys_enter_setpriority\",\n",
    "    \"sys_enter_adjtimex\",\n",
    "    \"sys_enter_membarrier\",\n",
    "    \"sys_enter_setregid\",\n",
    "    \"sys_enter_arm64_personality\",\n",
    "    \"sys_enter_memfd_create\",\n",
    "    \"sys_enter_setresgid\",\n",
    "    \"sys_enter_bind\",\n",
    "    \"sys_enter_memfd_secret\",\n",
    "    \"sys_enter_setresuid\",\n",
    "    \"sys_enter_bpf\",\n",
    "    \"sys_enter_setreuid\",\n",
    "    \"sys_enter_brk\",\n",
    "    \"sys_enter_mincore\",\n",
    "    \"sys_enter_setrlimit\",\n",
    "    \"sys_enter_capget\",\n",
    "    \"sys_enter_mkdirat\",\n",
    "    \"sys_enter_setsid\",\n",
    "    \"sys_enter_capset\",\n",
    "    \"sys_enter_mknodat\",\n",
    "    \"sys_enter_setsockopt\",\n",
    "    \"sys_enter_chdir\",\n",
    "    \"sys_enter_mlock\",\n",
    "    \"sys_enter_settimeofday\",\n",
    "    \"sys_enter_chroot\",\n",
    "    \"sys_enter_setuid\",\n",
    "    \"sys_enter_clock_adjtime\",\n",
    "    \"sys_enter_mlockall\",\n",
    "    \"sys_enter_setxattr\",\n",
    "    \"sys_enter_clock_getres\",\n",
    "    \"sys_enter_mmap\",\n",
    "    \"sys_enter_shmat\",\n",
    "    \"sys_enter_clock_gettime\",\n",
    "    \"sys_enter_mount\",\n",
    "    \"sys_enter_shmctl\",\n",
    "    \"sys_enter_clock_nanosleep\",\n",
    "    \"sys_enter_shmdt\",\n",
    "    \"sys_enter_clock_settime\",\n",
    "    \"sys_enter_shmget\",\n",
    "    \"sys_enter_clone\",\n",
    "    \"sys_enter_move_pages\",\n",
    "    \"sys_enter_shutdown\",\n",
    "    \"sys_enter_clone3\",\n",
    "    \"sys_enter_mprotect\",\n",
    "    \"sys_enter_sigaltstack\",\n",
    "    \"sys_enter_close\",\n",
    "    \"sys_enter_mq_getsetattr\",\n",
    "    \"sys_enter_signalfd4\",\n",
    "    \"sys_enter_close_range\",\n",
    "    \"sys_enter_mq_notify\",\n",
    "    \"sys_enter_socket\",\n",
    "    \"sys_enter_connect\",\n",
    "    \"sys_enter_mq_open\",\n",
    "    \"sys_enter_socketpair\",\n",
    "    \"sys_enter_copy_file_range\",\n",
    "    \"sys_enter_mq_timedreceive\",\n",
    "    \"sys_enter_splice\",\n",
    "    \"sys_enter_delete_module\",\n",
    "    \"sys_enter_mq_timedsend\",\n",
    "    \"sys_enter_statfs\",\n",
    "    \"sys_enter_dup\",\n",
    "    \"sys_enter_mq_unlink\",\n",
    "    \"sys_enter_statx\",\n",
    "    \"sys_enter_dup3\",\n",
    "    \"sys_enter_mremap\",\n",
    "    \"sys_enter_swapoff\",\n",
    "    \"sys_enter_epoll_create1\",\n",
    "    \"sys_enter_msgctl\",\n",
    "    \"sys_enter_swapon\",\n",
    "    \"sys_enter_epoll_ctl\",\n",
    "    \"sys_enter_msgget\",\n",
    "    \"sys_enter_symlinkat\",\n",
    "    \"sys_enter_epoll_pwait\",\n",
    "    \"sys_enter_msgrcv\",\n",
    "    \"sys_enter_sync\",\n",
    "    \"sys_enter_epoll_pwait2\",\n",
    "    \"sys_enter_msgsnd\",\n",
    "    \"sys_enter_sync_file_range\",\n",
    "    \"sys_enter_eventfd2\",\n",
    "    \"sys_enter_msync\",\n",
    "    \"sys_enter_syncfs\",\n",
    "    \"sys_enter_execve\",\n",
    "    \"sys_enter_munlock\",\n",
    "    \"sys_enter_sysinfo\",\n",
    "    \"sys_enter_execveat\",\n",
    "    \"sys_enter_munlockall\",\n",
    "    \"sys_enter_syslog\",\n",
    "    \"sys_enter_exit\",\n",
    "    \"sys_enter_munmap\",\n",
    "    \"sys_enter_tee\",\n",
    "    \"sys_enter_exit_group\",\n",
    "    \"sys_enter_tgkill\",\n",
    "    \"sys_enter_faccessat\",\n",
    "    \"sys_enter_nanosleep\",\n",
    "    \"sys_enter_timer_create\",\n",
    "    \"sys_enter_faccessat2\",\n",
    "    \"sys_enter_newfstat\",\n",
    "    \"sys_enter_timer_delete\",\n",
    "    \"sys_enter_fadvise64_64\",\n",
    "    \"sys_enter_newfstatat\",\n",
    "    \"sys_enter_timer_getoverrun\",\n",
    "    \"sys_enter_fallocate\",\n",
    "    \"sys_enter_newuname\",\n",
    "    \"sys_enter_timer_gettime\",\n",
    "    \"sys_enter_fanotify_init\",\n",
    "    \"sys_enter_timer_settime\",\n",
    "    \"sys_enter_fanotify_mark\",\n",
    "    \"sys_enter_timerfd_create\",\n",
    "    \"sys_enter_fchdir\",\n",
    "    \"sys_enter_openat\",\n",
    "    \"sys_enter_timerfd_gettime\",\n",
    "    \"sys_enter_fchmod\",\n",
    "    \"sys_enter_openat2\",\n",
    "    \"sys_enter_timerfd_settime\",\n",
    "    \"sys_enter_fchmodat\",\n",
    "    \"sys_enter_times\",\n",
    "    \"sys_enter_fchown\",\n",
    "    \"sys_enter_tkill\",\n",
    "    \"sys_enter_fchownat\",\n",
    "    \"sys_enter_truncate\",\n",
    "    \"sys_enter_fcntl\",\n",
    "    \"sys_enter_umask\",\n",
    "    \"sys_enter_fdatasync\",\n",
    "    \"sys_enter_pipe2\",\n",
    "    \"sys_enter_umount\",\n",
    "    \"sys_enter_fgetxattr\",\n",
    "    \"sys_enter_unlinkat\",\n",
    "    \"sys_enter_finit_module\",\n",
    "    \"sys_enter_unshare\",\n",
    "    \"sys_enter_flistxattr\",\n",
    "    \"sys_enter_prctl\",\n",
    "    \"sys_enter_flock\",\n",
    "    \"sys_enter_pread64\",\n",
    "    \"sys_enter_utimensat\",\n",
    "    \"sys_enter_fremovexattr\",\n",
    "    \"sys_enter_preadv\",\n",
    "    \"sys_enter_vhangup\",\n",
    "    \"sys_enter_fsconfig\",\n",
    "    \"sys_enter_preadv2\",\n",
    "    \"sys_enter_vmsplice\",\n",
    "    \"sys_enter_fsetxattr\",\n",
    "    \"sys_enter_prlimit64\",\n",
    "    \"sys_enter_wait4\",\n",
    "    \"sys_enter_fsmount\",\n",
    "    \"sys_enter_waitid\",\n",
    "    \"sys_enter_fsopen\",\n",
    "    \"sys_enter_fspick\",\n",
    "    \"sys_enter_writev\",\n",
    "    \"sys_enter_fstatfs\",\n",
    "    \"sys_enter_fsync\",\n",
    "    \"sys_enter_pselect6\",\n",
    "    \"sys_enter_ftruncate\",\n",
    "    \"sys_enter_ptrace\",\n",
    "    \"sys_enter_futex\",\n",
    "    \"sys_enter_pwrite64\",\n",
    "    \"sys_enter_get_mempolicy\",\n",
    "    \"sys_enter_pwritev\",\n",
    "    \"sys_enter_get_robust_list\",\n",
    "    \"sys_enter_pwritev2\",\n",
    "    \"sys_enter_getcpu\",\n",
    "    \"sys_enter_quotactl\",\n",
    "    \"sys_enter_getcwd\",\n",
    "    \"sys_enter_quotactl_fd\",\n",
    "    \"sys_enter_getdents64\",\n",
    "    \"sys_enter_getegid\",\n",
    "    \"sys_enter_readahead\",\n",
    "    \"sys_enter_geteuid\",\n",
    "    \"sys_enter_readlinkat\",\n",
    "    \"sys_enter_getgid\",\n",
    "    \"sys_enter_readv\",\n",
    "    \"sys_enter_getgroups\",\n",
    "    \"sys_enter_reboot\",\n",
    "    \"sys_enter_getitimer\",\n",
    "    \"sys_enter_recvfrom\",\n",
    "    \"sys_enter_getpeername\",\n",
    "    \"sys_enter_recvmmsg\",\n",
    "    \"sys_enter_getpgid\",\n",
    "    \"sys_enter_remap_file_pages\",\n",
    "    \"sys_enter_getppid\",\n",
    "    \"sys_enter_removexattr\",\n",
    "    \"sys_enter_getpriority\",\n",
    "    \"sys_enter_renameat\",\n",
    "    \"sys_enter_getrandom\",\n",
    "    \"sys_enter_renameat2\",\n",
    "    \"sys_enter_getresgid\",\n",
    "    \"sys_enter_request_key\",\n",
    "    \"sys_enter_getresuid\",\n",
    "    \"sys_enter_restart_syscall\",\n",
    "    \"sys_enter_getrlimit\",\n",
    "    \"sys_enter_rseq\",\n",
    "    \"sys_enter_getrusage\",\n",
    "    \"sys_enter_getsid\",\n",
    "    \"sys_enter_rt_sigpending\",\n",
    "    \"sys_enter_getsockname\",\n",
    "    \"sys_enter_getsockopt\",\n",
    "    \"sys_enter_rt_sigqueueinfo\",\n",
    "    \"sys_enter_gettid\",\n",
    "    \"sys_enter_rt_sigreturn\",\n",
    "    \"sys_enter_gettimeofday\",\n",
    "    \"sys_enter_rt_sigsuspend\",\n",
    "    \"sys_enter_getuid\",\n",
    "    \"sys_enter_rt_sigtimedwait\",\n",
    "    \"sys_enter_getxattr\",\n",
    "    \"sys_enter_rt_tgsigqueueinfo\",\n",
    "    \"sys_enter_init_module\",\n",
    "    \"sys_enter_sched_get_priority_max\",\n",
    "    \"sys_enter_inotify_add_watch\",\n",
    "    \"sys_enter_sched_get_priority_min\",\n",
    "    \"sys_enter_inotify_init1\",\n",
    "    \"sys_enter_sched_getaffinity\",\n",
    "    \"sys_enter_inotify_rm_watch\",\n",
    "    \"sys_enter_sched_getattr\",\n",
    "    \"sys_enter_sched_getparam\",\n",
    "    \"sys_enter_sched_getscheduler\",\n",
    "    \"sys_enter_sched_rr_get_interval\",\n",
    "    \"sys_enter_sched_setaffinity\",\n",
    "    \"sys_enter_sched_setattr\",\n",
    "    \"sys_enter_sched_setparam\",\n",
    "    \"sys_enter_sched_setscheduler\",\n",
    "    \"sys_enter_sched_yield\",\n",
    "    \"sys_enter_seccomp\",\n",
    "    \"sys_enter_semctl\",\n",
    "    \"sys_enter_ioprio_get\",\n",
    "    \"sys_enter_semget\",\n",
    "    \"sys_enter_ioprio_set\",\n",
    "    \"sys_enter_semop\",\n",
    "    \"sys_enter_kcmp\",\n",
    "    \"sys_enter_semtimedop\",\n",
    "    \"sys_enter_sendfile64\",\n",
    "    \"sys_enter_sendmmsg\",\n",
    "    \"sys_enter_keyctl\",\n",
    "    \"sys_enter_kill\",\n",
    "    \"sys_enter_sendto\",\n",
    "    \"sys_enter_set_mempolicy\",\n",
    "    \"sys_enter_set_robust_list\",\n",
    "    \"sys_enter_set_tid_address\",\n",
    "    \"sys_enter_setdomainname\",\n",
    "    \"sys_enter_linkat\",\n",
    "    \"sys_enter_setfsgid\",\n",
    "    \"sys_enter_listen\",\n",
    "    \"sys_enter_setfsuid\",\n",
    "    \"sys_enter_listxattr\",\n",
    "    \"sys_enter_setgid\",\n",
    "]"
   ]
  },
  {
   "cell_type": "markdown",
   "metadata": {},
   "source": [
    "## Loading CSV from Desktop"
   ]
  },
  {
   "cell_type": "code",
   "execution_count": 116,
   "metadata": {},
   "outputs": [],
   "source": [
    "NUM_CLASSES = 2\n",
    "CLASSES = np.array(['benign', 'malware'])\n",
    "DATASET_DIR = \"dataset/\"\n",
    "WIDTH = 64\n",
    "HEIGHT = 64\n",
    "SHAPE = (WIDTH, HEIGHT)\n",
    "SIZE = WIDTH * HEIGHT * 1\n",
    "\n",
    "label_encoder = LabelEncoder()\n",
    "label_encoder.fit(syscalls)\n",
    "\n",
    "def csvToimage(file_path):\n",
    "    data = pd.read_csv(file_path)\n",
    "    data_encoded = label_encoder.fit_transform(data['SYSTEM_CALL'])\n",
    "    image = np.zeros(SHAPE, dtype=np.uint8)\n",
    "    syscall_nums = min(len(data_encoded), SIZE)\n",
    "    image.flat[:syscall_nums] = data_encoded[:syscall_nums]\n",
    "\n",
    "    return image\n",
    "\n",
    "def load_data(dataset_dir):\n",
    "    x = []\n",
    "    y = []\n",
    "\n",
    "    classes = [class_name for class_name in os.listdir(dataset_dir) if os.path.isdir(os.path.join(dataset_dir, class_name))]\n",
    "    for class_idx, class_name in enumerate(classes):\n",
    "        class_dir = os.path.join(dataset_dir, class_name)\n",
    "        for file_name in os.listdir(class_dir):\n",
    "            if file_name.endswith('.csv'):\n",
    "                file_path = os.path.join(class_dir, file_name)\n",
    "                image = csvToimage(file_path)\n",
    "                x.append(image)\n",
    "                y.append(class_idx)\n",
    "                \n",
    "    x = np.array(x).reshape(-1, WIDTH, HEIGHT, 1)\n",
    "    y = np.array(y)\n",
    "    return x, y"
   ]
  },
  {
   "cell_type": "code",
   "execution_count": 117,
   "metadata": {},
   "outputs": [],
   "source": [
    "X, y = load_data(DATASET_DIR)"
   ]
  },
  {
   "cell_type": "markdown",
   "metadata": {},
   "source": [
    "# Image Plotting"
   ]
  },
  {
   "cell_type": "code",
   "execution_count": 118,
   "metadata": {},
   "outputs": [
    {
     "data": {
      "image/png": "[encoded data removed]",
      "text/plain": [
       "<Figure size 640x480 with 1 Axes>"
      ]
     },
     "metadata": {},
     "output_type": "display_data"
    }
   ],
   "source": [
    "\n",
    "n = 400\n",
    "nth_image = X[n].reshape(64, 64)\n",
    "\n",
    "plt.imshow(nth_image, cmap='gray')\n",
    "plt.title(f'${n}^{{th}}$ Image in Dataset')\n",
    "plt.axis('off')\n",
    "plt.show()\n",
    "\n"
   ]
  },
  {
   "cell_type": "markdown",
   "metadata": {},
   "source": [
    "## Split and Nomalize Data"
   ]
  },
  {
   "cell_type": "code",
   "execution_count": 119,
   "metadata": {},
   "outputs": [],
   "source": [
    "X_train, X_test, y_train, y_test= train_test_split(X, y, test_size=0.3, random_state=42)\n",
    "\n",
    "X_train, X_val, y_train, y_val = train_test_split(X_train, y_train, test_size=0.2, random_state=42)\n",
    "\n",
    "X_train = X_train / 255.0\n",
    "X_val = X_val / 255.0\n",
    "X_test = X_test / 255.0\n",
    "\n",
    "y_train = to_categorical(y_train, NUM_CLASSES)\n",
    "y_val = to_categorical(y_val, NUM_CLASSES)\n",
    "y_test = to_categorical(y_test, NUM_CLASSES)"
   ]
  },
  {
   "cell_type": "markdown",
   "metadata": {},
   "source": [
    "## Shape of Train, Test set"
   ]
  },
  {
   "cell_type": "code",
   "execution_count": 120,
   "metadata": {},
   "outputs": [
    {
     "name": "stdout",
     "output_type": "stream",
     "text": [
      "(245, 64, 64, 1)\n",
      "(132, 64, 64, 1)\n",
      "(245, 2)\n",
      "(132, 2)\n"
     ]
    }
   ],
   "source": [
    "print(X_train.shape)\n",
    "print(X_test.shape)\n",
    "print(y_train.shape)\n",
    "print(y_test.shape)"
   ]
  },
  {
   "cell_type": "markdown",
   "metadata": {},
   "source": [
    "## A Basic CNN Architecture"
   ]
  },
  {
   "cell_type": "code",
   "execution_count": 121,
   "metadata": {},
   "outputs": [],
   "source": [
    "input_layer = Input((WIDTH, HEIGHT, 1))\n",
    "\n",
    "x = Conv2D(filters=32, kernel_size=5, padding='same')(input_layer)\n",
    "x = BatchNormalization()(x)\n",
    "x = LeakyReLU()(x)\n",
    "x = MaxPooling2D(pool_size=(2, 2))(x)\n",
    "\n",
    "x = Conv2D(filters=32, kernel_size=3, padding='same')(input_layer)\n",
    "x = BatchNormalization()(x)\n",
    "x = LeakyReLU()(x)\n",
    "x = MaxPooling2D(pool_size=(2, 2))(x)\n",
    "\n",
    "x = Conv2D(filters=64, kernel_size=5, padding='same')(x)\n",
    "x = BatchNormalization()(x)\n",
    "x = LeakyReLU()(x)\n",
    "x = MaxPooling2D(pool_size=(2, 2))(x)\n",
    "\n",
    "x = Conv2D(filters=64, kernel_size=3, padding='same')(x)\n",
    "x = BatchNormalization()(x)\n",
    "x = LeakyReLU()(x)\n",
    "x = MaxPooling2D(pool_size=(2, 2))(x)\n",
    "\n",
    "x = Conv2D(filters=128, kernel_size=1, padding='same')(x)\n",
    "x = BatchNormalization()(x)\n",
    "x = LeakyReLU()(x)\n",
    "\n",
    "x = Flatten()(x)\n",
    "\n",
    "x = Dense(256)(x)\n",
    "x = BatchNormalization()(x)\n",
    "x = LeakyReLU()(x)\n",
    "x = Dropout(rate=0.5)(x)\n",
    "\n",
    "x = Dense(NUM_CLASSES)(x)\n",
    "output_layer = Activation('softmax')(x)\n",
    "\n",
    "model = Model(input_layer, output_layer)\n",
    "\n",
    "opt = Adam(learning_rate=0.0005)\n",
    "model.compile(loss='categorical_crossentropy', optimizer=opt, metrics=['accuracy'])"
   ]
  },
  {
   "cell_type": "markdown",
   "metadata": {},
   "source": [
    "## model summary"
   ]
  },
  {
   "cell_type": "code",
   "execution_count": 122,
   "metadata": {},
   "outputs": [
    {
     "name": "stdout",
     "output_type": "stream",
     "text": [
      "Model: \"model_8\"\n",
      "_________________________________________________________________\n",
      " Layer (type)                Output Shape              Param #   \n",
      "=================================================================\n",
      " input_9 (InputLayer)        [(None, 64, 64, 1)]       0         \n",
      "                                                                 \n",
      " conv2d_37 (Conv2D)          (None, 64, 64, 32)        320       \n",
      "                                                                 \n",
      " batch_normalization_45 (Bat  (None, 64, 64, 32)       128       \n",
      " chNormalization)                                                \n",
      "                                                                 \n",
      " leaky_re_lu_31 (LeakyReLU)  (None, 64, 64, 32)        0         \n",
      "                                                                 \n",
      " max_pooling2d_25 (MaxPoolin  (None, 32, 32, 32)       0         \n",
      " g2D)                                                            \n",
      "                                                                 \n",
      " conv2d_38 (Conv2D)          (None, 32, 32, 64)        51264     \n",
      "                                                                 \n",
      " batch_normalization_46 (Bat  (None, 32, 32, 64)       256       \n",
      " chNormalization)                                                \n",
      "                                                                 \n",
      " leaky_re_lu_32 (LeakyReLU)  (None, 32, 32, 64)        0         \n",
      "                                                                 \n",
      " max_pooling2d_26 (MaxPoolin  (None, 16, 16, 64)       0         \n",
      " g2D)                                                            \n",
      "                                                                 \n",
      " conv2d_39 (Conv2D)          (None, 16, 16, 64)        36928     \n",
      "                                                                 \n",
      " batch_normalization_47 (Bat  (None, 16, 16, 64)       256       \n",
      " chNormalization)                                                \n",
      "                                                                 \n",
      " leaky_re_lu_33 (LeakyReLU)  (None, 16, 16, 64)        0         \n",
      "                                                                 \n",
      " max_pooling2d_27 (MaxPoolin  (None, 8, 8, 64)         0         \n",
      " g2D)                                                            \n",
      "                                                                 \n",
      " conv2d_40 (Conv2D)          (None, 8, 8, 128)         8320      \n",
      "                                                                 \n",
      " batch_normalization_48 (Bat  (None, 8, 8, 128)        512       \n",
      " chNormalization)                                                \n",
      "                                                                 \n",
      " leaky_re_lu_34 (LeakyReLU)  (None, 8, 8, 128)         0         \n",
      "                                                                 \n",
      " flatten_8 (Flatten)         (None, 8192)              0         \n",
      "                                                                 \n",
      " dense_16 (Dense)            (None, 256)               2097408   \n",
      "                                                                 \n",
      " batch_normalization_49 (Bat  (None, 256)              1024      \n",
      " chNormalization)                                                \n",
      "                                                                 \n",
      " leaky_re_lu_35 (LeakyReLU)  (None, 256)               0         \n",
      "                                                                 \n",
      " dropout_14 (Dropout)        (None, 256)               0         \n",
      "                                                                 \n",
      " dense_17 (Dense)            (None, 2)                 514       \n",
      "                                                                 \n",
      " activation_6 (Activation)   (None, 2)                 0         \n",
      "                                                                 \n",
      "=================================================================\n",
      "Total params: 2,196,930\n",
      "Trainable params: 2,195,842\n",
      "Non-trainable params: 1,088\n",
      "_________________________________________________________________\n"
     ]
    }
   ],
   "source": [
    "model.summary()"
   ]
  },
  {
   "cell_type": "markdown",
   "metadata": {},
   "source": [
    "## model train"
   ]
  },
  {
   "cell_type": "code",
   "execution_count": 123,
   "metadata": {},
   "outputs": [
    {
     "name": "stdout",
     "output_type": "stream",
     "text": [
      "Epoch 1/10\n",
      "4/4 [==============================] - 3s 381ms/step - loss: 1.1210 - accuracy: 0.7020 - val_loss: 0.7137 - val_accuracy: 0.5000\n",
      "Epoch 2/10\n",
      "4/4 [==============================] - 0s 86ms/step - loss: 0.5758 - accuracy: 0.8735 - val_loss: 0.8576 - val_accuracy: 0.5000\n",
      "Epoch 3/10\n",
      "4/4 [==============================] - 0s 85ms/step - loss: 0.3645 - accuracy: 0.8653 - val_loss: 0.9345 - val_accuracy: 0.5000\n",
      "Epoch 4/10\n",
      "4/4 [==============================] - 0s 92ms/step - loss: 0.2995 - accuracy: 0.8776 - val_loss: 0.9481 - val_accuracy: 0.5000\n",
      "Epoch 5/10\n",
      "4/4 [==============================] - 0s 57ms/step - loss: 0.2811 - accuracy: 0.8898 - val_loss: 0.9253 - val_accuracy: 0.5000\n",
      "Epoch 6/10\n",
      "4/4 [==============================] - 0s 111ms/step - loss: 0.2276 - accuracy: 0.9265 - val_loss: 0.8878 - val_accuracy: 0.5000\n",
      "Epoch 7/10\n",
      "4/4 [==============================] - 0s 138ms/step - loss: 0.2253 - accuracy: 0.9224 - val_loss: 0.8590 - val_accuracy: 0.5000\n",
      "Epoch 8/10\n",
      "4/4 [==============================] - 0s 105ms/step - loss: 0.2262 - accuracy: 0.9306 - val_loss: 0.8112 - val_accuracy: 0.5000\n",
      "Epoch 9/10\n",
      "4/4 [==============================] - 1s 155ms/step - loss: 0.2001 - accuracy: 0.9265 - val_loss: 0.7823 - val_accuracy: 0.5000\n",
      "Epoch 10/10\n",
      "4/4 [==============================] - 0s 80ms/step - loss: 0.2011 - accuracy: 0.9265 - val_loss: 0.7468 - val_accuracy: 0.5000\n"
     ]
    },
    {
     "data": {
      "text/plain": [
       "<keras.callbacks.History at 0x2f9633be0>"
      ]
     },
     "execution_count": 123,
     "metadata": {},
     "output_type": "execute_result"
    }
   ],
   "source": [
    "model.fit(X_train, \n",
    "          y_train,\n",
    "          validation_data=(X_val, y_val),\n",
    "          batch_size=64, \n",
    "          epochs=10, \n",
    "          shuffle=True\n",
    ")"
   ]
  },
  {
   "cell_type": "markdown",
   "metadata": {},
   "source": [
    "## Evaluate"
   ]
  },
  {
   "cell_type": "code",
   "execution_count": 124,
   "metadata": {},
   "outputs": [
    {
     "name": "stdout",
     "output_type": "stream",
     "text": [
      "1/1 [==============================] - 0s 243ms/step - loss: 0.7206 - accuracy: 0.5379\n"
     ]
    },
    {
     "data": {
      "text/plain": [
       "[0.7205974459648132, 0.5378788113594055]"
      ]
     },
     "execution_count": 124,
     "metadata": {},
     "output_type": "execute_result"
    }
   ],
   "source": [
    "model.evaluate(X_test, y_test, batch_size=1000)"
   ]
  },
  {
   "cell_type": "code",
   "execution_count": 125,
   "metadata": {},
   "outputs": [
    {
     "name": "stdout",
     "output_type": "stream",
     "text": [
      "5/5 [==============================] - 0s 35ms/step\n"
     ]
    }
   ],
   "source": [
    "y_pred = model.predict(X_test)"
   ]
  },
  {
   "cell_type": "code",
   "execution_count": 126,
   "metadata": {},
   "outputs": [],
   "source": [
    "preds_single = CLASSES[np.argmax(y_pred, axis = -1)]\n",
    "actual_single = CLASSES[np.argmax(y_test, axis = -1)]"
   ]
  },
  {
   "cell_type": "code",
   "execution_count": 127,
   "metadata": {},
   "outputs": [
    {
     "data": {
      "image/png": "[encoded data removed]",
      "text/plain": [
       "<Figure size 1500x300 with 10 Axes>"
      ]
     },
     "metadata": {},
     "output_type": "display_data"
    }
   ],
   "source": [
    "n_to_show = 10\n",
    "indices = np.random.choice(range(len(X_test)), n_to_show)\n",
    "\n",
    "fig = plt.figure(figsize=(15, 3))\n",
    "fig.subplots_adjust(hspace=0.4, wspace=0.4)\n",
    "\n",
    "for i, idx in enumerate(indices):\n",
    "    img = X_test[idx]\n",
    "    ax = fig.add_subplot(1, n_to_show, i+1)\n",
    "    ax.axis('off')\n",
    "    ax.text(0.5, -0.35, 'pred = ' + str(preds_single[idx]), fontsize=10, ha='center', transform=ax.transAxes) \n",
    "    ax.text(0.5, -0.7, 'act = ' + str(actual_single[idx]), fontsize=10, ha='center', transform=ax.transAxes)\n",
    "    ax.imshow(img)"
   ]
  },
  {
   "cell_type": "markdown",
   "metadata": {},
   "source": [
    "## Score"
   ]
  },
  {
   "cell_type": "code",
   "execution_count": 128,
   "metadata": {},
   "outputs": [
    {
     "name": "stdout",
     "output_type": "stream",
     "text": [
      "              precision    recall  f1-score   support\n",
      "\n",
      "           0       0.54      1.00      0.70        71\n",
      "           1       0.00      0.00      0.00        61\n",
      "\n",
      "    accuracy                           0.54       132\n",
      "   macro avg       0.27      0.50      0.35       132\n",
      "weighted avg       0.29      0.54      0.38       132\n",
      "\n"
     ]
    },
    {
     "name": "stderr",
     "output_type": "stream",
     "text": [
      "/Users/gyeonghoon_park/miniforge3/envs/TF/lib/python3.8/site-packages/sklearn/metrics/_classification.py:1344: UndefinedMetricWarning: Precision and F-score are ill-defined and being set to 0.0 in labels with no predicted samples. Use `zero_division` parameter to control this behavior.\n",
      "  _warn_prf(average, modifier, msg_start, len(result))\n",
      "/Users/gyeonghoon_park/miniforge3/envs/TF/lib/python3.8/site-packages/sklearn/metrics/_classification.py:1344: UndefinedMetricWarning: Precision and F-score are ill-defined and being set to 0.0 in labels with no predicted samples. Use `zero_division` parameter to control this behavior.\n",
      "  _warn_prf(average, modifier, msg_start, len(result))\n",
      "/Users/gyeonghoon_park/miniforge3/envs/TF/lib/python3.8/site-packages/sklearn/metrics/_classification.py:1344: UndefinedMetricWarning: Precision and F-score are ill-defined and being set to 0.0 in labels with no predicted samples. Use `zero_division` parameter to control this behavior.\n",
      "  _warn_prf(average, modifier, msg_start, len(result))\n"
     ]
    }
   ],
   "source": [
    "y_pred_classes = tf.argmax(y_pred, axis=1)\n",
    "y_test_classes = tf.argmax(y_test, axis=1)\n",
    "\n",
    "print(classification_report(y_test_classes, y_pred_classes))"
   ]
  },
  {
   "cell_type": "markdown",
   "metadata": {},
   "source": [
    "## Save model"
   ]
  },
  {
   "cell_type": "code",
   "execution_count": 129,
   "metadata": {},
   "outputs": [
    {
     "data": {
      "text/plain": [
       "'\\nmodel.save(\"model_001.h5\")\\n'"
      ]
     },
     "execution_count": 129,
     "metadata": {},
     "output_type": "execute_result"
    }
   ],
   "source": [
    "\"\"\"\n",
    "model.save(\"model_001.h5\")\n",
    "\"\"\""
   ]
  }
 ],
 "metadata": {
  "kernelspec": {
   "display_name": "TF",
   "language": "python",
   "name": "python3"
  },
  "language_info": {
   "codemirror_mode": {
    "name": "ipython",
    "version": 3
   },
   "file_extension": ".py",
   "mimetype": "text/x-python",
   "name": "python",
   "nbconvert_exporter": "python",
   "pygments_lexer": "ipython3",
   "version": "3.8.16"
  }
 },
 "nbformat": 4,
 "nbformat_minor": 2
}
